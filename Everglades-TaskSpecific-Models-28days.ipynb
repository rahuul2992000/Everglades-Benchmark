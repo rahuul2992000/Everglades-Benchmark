{
 "cells": [
  {
   "cell_type": "code",
   "execution_count": 2,
   "id": "a1493538",
   "metadata": {},
   "outputs": [],
   "source": [
    "import pandas as pd\n",
    "import numpy as np\n",
    "import matplotlib.pyplot as plt"
   ]
  },
  {
   "cell_type": "code",
   "execution_count": null,
   "id": "811e1b10",
   "metadata": {},
   "outputs": [
    {
     "data": {
      "text/html": [
       "<div>\n",
       "<style scoped>\n",
       "    .dataframe tbody tr th:only-of-type {\n",
       "        vertical-align: middle;\n",
       "    }\n",
       "\n",
       "    .dataframe tbody tr th {\n",
       "        vertical-align: top;\n",
       "    }\n",
       "\n",
       "    .dataframe thead th {\n",
       "        text-align: right;\n",
       "    }\n",
       "</style>\n",
       "<table border=\"1\" class=\"dataframe\">\n",
       "  <thead>\n",
       "    <tr style=\"text-align: right;\">\n",
       "      <th></th>\n",
       "      <th>Unnamed: 0</th>\n",
       "      <th>date</th>\n",
       "      <th>S199</th>\n",
       "      <th>S200</th>\n",
       "      <th>S332B</th>\n",
       "      <th>S332BN</th>\n",
       "      <th>S332C</th>\n",
       "      <th>S332D</th>\n",
       "      <th>S332DX1</th>\n",
       "      <th>S12A</th>\n",
       "      <th>...</th>\n",
       "      <th>NP205_rain</th>\n",
       "      <th>NP205_stage</th>\n",
       "      <th>P33_rain</th>\n",
       "      <th>P33_stage</th>\n",
       "      <th>NP205_PET</th>\n",
       "      <th>P33_PET</th>\n",
       "      <th>G620_water_level</th>\n",
       "      <th>SWEVER4_stage</th>\n",
       "      <th>TSH_stage</th>\n",
       "      <th>NP62_stage</th>\n",
       "    </tr>\n",
       "  </thead>\n",
       "  <tbody>\n",
       "    <tr>\n",
       "      <th>0</th>\n",
       "      <td>0</td>\n",
       "      <td>10/16/2020</td>\n",
       "      <td>242.17</td>\n",
       "      <td>279.69</td>\n",
       "      <td>218.42</td>\n",
       "      <td>218.42</td>\n",
       "      <td>445.77</td>\n",
       "      <td>481.38</td>\n",
       "      <td>0.0</td>\n",
       "      <td>460</td>\n",
       "      <td>...</td>\n",
       "      <td>2.28</td>\n",
       "      <td>6.925</td>\n",
       "      <td>0.106</td>\n",
       "      <td>7.133</td>\n",
       "      <td>2.09</td>\n",
       "      <td>2.09</td>\n",
       "      <td>5.92</td>\n",
       "      <td>2.92</td>\n",
       "      <td>3.03</td>\n",
       "      <td>4.04</td>\n",
       "    </tr>\n",
       "    <tr>\n",
       "      <th>1</th>\n",
       "      <td>1</td>\n",
       "      <td>10/17/2020</td>\n",
       "      <td>296.05</td>\n",
       "      <td>294.85</td>\n",
       "      <td>265.13</td>\n",
       "      <td>265.13</td>\n",
       "      <td>587.35</td>\n",
       "      <td>556.24</td>\n",
       "      <td>0.0</td>\n",
       "      <td>490</td>\n",
       "      <td>...</td>\n",
       "      <td>0.01</td>\n",
       "      <td>7.025</td>\n",
       "      <td>0.000</td>\n",
       "      <td>7.133</td>\n",
       "      <td>3.87</td>\n",
       "      <td>3.87</td>\n",
       "      <td>5.97</td>\n",
       "      <td>2.95</td>\n",
       "      <td>3.08</td>\n",
       "      <td>4.05</td>\n",
       "    </tr>\n",
       "    <tr>\n",
       "      <th>2</th>\n",
       "      <td>2</td>\n",
       "      <td>10/18/2020</td>\n",
       "      <td>277.85</td>\n",
       "      <td>294.24</td>\n",
       "      <td>264.23</td>\n",
       "      <td>264.23</td>\n",
       "      <td>514.45</td>\n",
       "      <td>503.14</td>\n",
       "      <td>0.0</td>\n",
       "      <td>472</td>\n",
       "      <td>...</td>\n",
       "      <td>0.00</td>\n",
       "      <td>7.008</td>\n",
       "      <td>0.088</td>\n",
       "      <td>7.138</td>\n",
       "      <td>3.51</td>\n",
       "      <td>3.51</td>\n",
       "      <td>5.98</td>\n",
       "      <td>2.93</td>\n",
       "      <td>3.06</td>\n",
       "      <td>4.05</td>\n",
       "    </tr>\n",
       "    <tr>\n",
       "      <th>3</th>\n",
       "      <td>3</td>\n",
       "      <td>10/19/2020</td>\n",
       "      <td>224.13</td>\n",
       "      <td>294.72</td>\n",
       "      <td>264.39</td>\n",
       "      <td>264.39</td>\n",
       "      <td>491.06</td>\n",
       "      <td>537.91</td>\n",
       "      <td>0.0</td>\n",
       "      <td>466</td>\n",
       "      <td>...</td>\n",
       "      <td>0.11</td>\n",
       "      <td>6.986</td>\n",
       "      <td>0.256</td>\n",
       "      <td>7.167</td>\n",
       "      <td>1.98</td>\n",
       "      <td>1.98</td>\n",
       "      <td>5.98</td>\n",
       "      <td>2.91</td>\n",
       "      <td>3.05</td>\n",
       "      <td>4.06</td>\n",
       "    </tr>\n",
       "    <tr>\n",
       "      <th>4</th>\n",
       "      <td>4</td>\n",
       "      <td>10/20/2020</td>\n",
       "      <td>260.51</td>\n",
       "      <td>295.06</td>\n",
       "      <td>263.38</td>\n",
       "      <td>263.38</td>\n",
       "      <td>489.25</td>\n",
       "      <td>558.77</td>\n",
       "      <td>0.0</td>\n",
       "      <td>472</td>\n",
       "      <td>...</td>\n",
       "      <td>0.37</td>\n",
       "      <td>6.977</td>\n",
       "      <td>0.678</td>\n",
       "      <td>7.195</td>\n",
       "      <td>1.27</td>\n",
       "      <td>1.27</td>\n",
       "      <td>5.99</td>\n",
       "      <td>2.90</td>\n",
       "      <td>3.06</td>\n",
       "      <td>4.11</td>\n",
       "    </tr>\n",
       "    <tr>\n",
       "      <th>...</th>\n",
       "      <td>...</td>\n",
       "      <td>...</td>\n",
       "      <td>...</td>\n",
       "      <td>...</td>\n",
       "      <td>...</td>\n",
       "      <td>...</td>\n",
       "      <td>...</td>\n",
       "      <td>...</td>\n",
       "      <td>...</td>\n",
       "      <td>...</td>\n",
       "      <td>...</td>\n",
       "      <td>...</td>\n",
       "      <td>...</td>\n",
       "      <td>...</td>\n",
       "      <td>...</td>\n",
       "      <td>...</td>\n",
       "      <td>...</td>\n",
       "      <td>...</td>\n",
       "      <td>...</td>\n",
       "      <td>...</td>\n",
       "      <td>...</td>\n",
       "    </tr>\n",
       "    <tr>\n",
       "      <th>1406</th>\n",
       "      <td>1406</td>\n",
       "      <td>8/22/2024</td>\n",
       "      <td>297.72</td>\n",
       "      <td>294.23</td>\n",
       "      <td>0.17</td>\n",
       "      <td>0.17</td>\n",
       "      <td>30.02</td>\n",
       "      <td>559.39</td>\n",
       "      <td>0.0</td>\n",
       "      <td>358</td>\n",
       "      <td>...</td>\n",
       "      <td>1.72</td>\n",
       "      <td>7.289</td>\n",
       "      <td>0.050</td>\n",
       "      <td>7.466</td>\n",
       "      <td>2.75</td>\n",
       "      <td>2.75</td>\n",
       "      <td>6.13</td>\n",
       "      <td>2.85</td>\n",
       "      <td>2.78</td>\n",
       "      <td>3.88</td>\n",
       "    </tr>\n",
       "    <tr>\n",
       "      <th>1407</th>\n",
       "      <td>1407</td>\n",
       "      <td>8/23/2024</td>\n",
       "      <td>240.47</td>\n",
       "      <td>293.74</td>\n",
       "      <td>0.45</td>\n",
       "      <td>0.45</td>\n",
       "      <td>0.29</td>\n",
       "      <td>491.92</td>\n",
       "      <td>0.0</td>\n",
       "      <td>375</td>\n",
       "      <td>...</td>\n",
       "      <td>0.04</td>\n",
       "      <td>7.360</td>\n",
       "      <td>0.000</td>\n",
       "      <td>7.447</td>\n",
       "      <td>2.75</td>\n",
       "      <td>2.75</td>\n",
       "      <td>6.18</td>\n",
       "      <td>2.90</td>\n",
       "      <td>2.81</td>\n",
       "      <td>3.88</td>\n",
       "    </tr>\n",
       "    <tr>\n",
       "      <th>1408</th>\n",
       "      <td>1408</td>\n",
       "      <td>8/24/2024</td>\n",
       "      <td>242.45</td>\n",
       "      <td>293.75</td>\n",
       "      <td>0.00</td>\n",
       "      <td>0.00</td>\n",
       "      <td>0.00</td>\n",
       "      <td>439.40</td>\n",
       "      <td>0.0</td>\n",
       "      <td>377</td>\n",
       "      <td>...</td>\n",
       "      <td>0.00</td>\n",
       "      <td>7.360</td>\n",
       "      <td>0.010</td>\n",
       "      <td>7.435</td>\n",
       "      <td>2.75</td>\n",
       "      <td>2.75</td>\n",
       "      <td>6.20</td>\n",
       "      <td>2.88</td>\n",
       "      <td>2.80</td>\n",
       "      <td>3.88</td>\n",
       "    </tr>\n",
       "    <tr>\n",
       "      <th>1409</th>\n",
       "      <td>1409</td>\n",
       "      <td>8/25/2024</td>\n",
       "      <td>286.80</td>\n",
       "      <td>294.24</td>\n",
       "      <td>0.00</td>\n",
       "      <td>0.00</td>\n",
       "      <td>0.00</td>\n",
       "      <td>470.49</td>\n",
       "      <td>0.0</td>\n",
       "      <td>380</td>\n",
       "      <td>...</td>\n",
       "      <td>0.00</td>\n",
       "      <td>7.345</td>\n",
       "      <td>0.270</td>\n",
       "      <td>7.440</td>\n",
       "      <td>2.75</td>\n",
       "      <td>2.75</td>\n",
       "      <td>6.19</td>\n",
       "      <td>2.86</td>\n",
       "      <td>2.80</td>\n",
       "      <td>3.98</td>\n",
       "    </tr>\n",
       "    <tr>\n",
       "      <th>1410</th>\n",
       "      <td>1410</td>\n",
       "      <td>8/26/2024</td>\n",
       "      <td>298.19</td>\n",
       "      <td>295.13</td>\n",
       "      <td>0.36</td>\n",
       "      <td>0.36</td>\n",
       "      <td>0.00</td>\n",
       "      <td>527.05</td>\n",
       "      <td>0.0</td>\n",
       "      <td>387</td>\n",
       "      <td>...</td>\n",
       "      <td>0.00</td>\n",
       "      <td>7.320</td>\n",
       "      <td>0.660</td>\n",
       "      <td>7.470</td>\n",
       "      <td>2.75</td>\n",
       "      <td>2.75</td>\n",
       "      <td>6.20</td>\n",
       "      <td>2.85</td>\n",
       "      <td>2.80</td>\n",
       "      <td>4.03</td>\n",
       "    </tr>\n",
       "  </tbody>\n",
       "</table>\n",
       "<p>1411 rows × 39 columns</p>\n",
       "</div>"
      ],
      "text/plain": [
       "      Unnamed: 0        date    S199    S200   S332B  S332BN   S332C   S332D  \\\n",
       "0              0  10/16/2020  242.17  279.69  218.42  218.42  445.77  481.38   \n",
       "1              1  10/17/2020  296.05  294.85  265.13  265.13  587.35  556.24   \n",
       "2              2  10/18/2020  277.85  294.24  264.23  264.23  514.45  503.14   \n",
       "3              3  10/19/2020  224.13  294.72  264.39  264.39  491.06  537.91   \n",
       "4              4  10/20/2020  260.51  295.06  263.38  263.38  489.25  558.77   \n",
       "...          ...         ...     ...     ...     ...     ...     ...     ...   \n",
       "1406        1406   8/22/2024  297.72  294.23    0.17    0.17   30.02  559.39   \n",
       "1407        1407   8/23/2024  240.47  293.74    0.45    0.45    0.29  491.92   \n",
       "1408        1408   8/24/2024  242.45  293.75    0.00    0.00    0.00  439.40   \n",
       "1409        1409   8/25/2024  286.80  294.24    0.00    0.00    0.00  470.49   \n",
       "1410        1410   8/26/2024  298.19  295.13    0.36    0.36    0.00  527.05   \n",
       "\n",
       "      S332DX1  S12A  ...  NP205_rain  NP205_stage  P33_rain  P33_stage  \\\n",
       "0         0.0   460  ...        2.28        6.925     0.106      7.133   \n",
       "1         0.0   490  ...        0.01        7.025     0.000      7.133   \n",
       "2         0.0   472  ...        0.00        7.008     0.088      7.138   \n",
       "3         0.0   466  ...        0.11        6.986     0.256      7.167   \n",
       "4         0.0   472  ...        0.37        6.977     0.678      7.195   \n",
       "...       ...   ...  ...         ...          ...       ...        ...   \n",
       "1406      0.0   358  ...        1.72        7.289     0.050      7.466   \n",
       "1407      0.0   375  ...        0.04        7.360     0.000      7.447   \n",
       "1408      0.0   377  ...        0.00        7.360     0.010      7.435   \n",
       "1409      0.0   380  ...        0.00        7.345     0.270      7.440   \n",
       "1410      0.0   387  ...        0.00        7.320     0.660      7.470   \n",
       "\n",
       "      NP205_PET  P33_PET  G620_water_level  SWEVER4_stage  TSH_stage  \\\n",
       "0          2.09     2.09              5.92           2.92       3.03   \n",
       "1          3.87     3.87              5.97           2.95       3.08   \n",
       "2          3.51     3.51              5.98           2.93       3.06   \n",
       "3          1.98     1.98              5.98           2.91       3.05   \n",
       "4          1.27     1.27              5.99           2.90       3.06   \n",
       "...         ...      ...               ...            ...        ...   \n",
       "1406       2.75     2.75              6.13           2.85       2.78   \n",
       "1407       2.75     2.75              6.18           2.90       2.81   \n",
       "1408       2.75     2.75              6.20           2.88       2.80   \n",
       "1409       2.75     2.75              6.19           2.86       2.80   \n",
       "1410       2.75     2.75              6.20           2.85       2.80   \n",
       "\n",
       "      NP62_stage  \n",
       "0           4.04  \n",
       "1           4.05  \n",
       "2           4.05  \n",
       "3           4.06  \n",
       "4           4.11  \n",
       "...          ...  \n",
       "1406        3.88  \n",
       "1407        3.88  \n",
       "1408        3.88  \n",
       "1409        3.98  \n",
       "1410        4.03  \n",
       "\n",
       "[1411 rows x 39 columns]"
      ]
     },
     "execution_count": 3,
     "metadata": {},
     "output_type": "execute_result"
    }
   ],
   "source": [
    "data= pd.read_csv(\"data/final_concatenated_data.csv\")\n",
    "data"
   ]
  },
  {
   "cell_type": "code",
   "execution_count": 4,
   "id": "7ed6a8fc",
   "metadata": {},
   "outputs": [
    {
     "name": "stdout",
     "output_type": "stream",
     "text": [
      "<class 'pandas.core.frame.DataFrame'>\n",
      "RangeIndex: 1411 entries, 0 to 1410\n",
      "Data columns (total 39 columns):\n",
      " #   Column            Non-Null Count  Dtype         \n",
      "---  ------            --------------  -----         \n",
      " 0   Unnamed: 0        1411 non-null   int64         \n",
      " 1   date              1411 non-null   datetime64[ns]\n",
      " 2   S199              1411 non-null   float64       \n",
      " 3   S200              1411 non-null   float64       \n",
      " 4   S332B             1411 non-null   float64       \n",
      " 5   S332BN            1411 non-null   float64       \n",
      " 6   S332C             1411 non-null   float64       \n",
      " 7   S332D             1411 non-null   float64       \n",
      " 8   S332DX1           1411 non-null   float64       \n",
      " 9   S12A              1411 non-null   int64         \n",
      " 10  S12B              1411 non-null   int64         \n",
      " 11  S12C              1411 non-null   int64         \n",
      " 12  S12D              1411 non-null   int64         \n",
      " 13  S333              1411 non-null   float64       \n",
      " 14  S333N             1411 non-null   float64       \n",
      " 15  S334              1411 non-null   float64       \n",
      " 16  S343A             1411 non-null   float64       \n",
      " 17  S343B             1411 non-null   float64       \n",
      " 18  S344              1411 non-null   float64       \n",
      " 19  S356              1411 non-null   float64       \n",
      " 20  S18C_S            1411 non-null   float64       \n",
      " 21  S12A_T            1411 non-null   float64       \n",
      " 22  S12C_T            1411 non-null   float64       \n",
      " 23  S12D_T            1411 non-null   float64       \n",
      " 24  S12B_T            1411 non-null   float64       \n",
      " 25  S333_T            1411 non-null   float64       \n",
      " 26  S334_H            1411 non-null   float64       \n",
      " 27  NESRS1            1411 non-null   float64       \n",
      " 28  NESRS2            1411 non-null   float64       \n",
      " 29  NP205_rain        1411 non-null   float64       \n",
      " 30  NP205_stage       1411 non-null   float64       \n",
      " 31  P33_rain          1411 non-null   float64       \n",
      " 32  P33_stage         1411 non-null   float64       \n",
      " 33  NP205_PET         1411 non-null   float64       \n",
      " 34  P33_PET           1411 non-null   float64       \n",
      " 35  G620_water_level  1411 non-null   float64       \n",
      " 36  SWEVER4_stage     1411 non-null   float64       \n",
      " 37  TSH_stage         1411 non-null   float64       \n",
      " 38  NP62_stage        1411 non-null   float64       \n",
      "dtypes: datetime64[ns](1), float64(33), int64(5)\n",
      "memory usage: 430.0 KB\n",
      "None\n",
      "           date formatted_date\n",
      "0    2020-10-16     10/16/2020\n",
      "1    2020-10-17     10/17/2020\n",
      "2    2020-10-18     10/18/2020\n",
      "3    2020-10-19     10/19/2020\n",
      "4    2020-10-20     10/20/2020\n",
      "...         ...            ...\n",
      "1406 2024-08-22     08/22/2024\n",
      "1407 2024-08-23     08/23/2024\n",
      "1408 2024-08-24     08/24/2024\n",
      "1409 2024-08-25     08/25/2024\n",
      "1410 2024-08-26     08/26/2024\n",
      "\n",
      "[1411 rows x 2 columns]\n"
     ]
    }
   ],
   "source": [
    "# Convert 'date' column to proper datetime format\n",
    "data['date'] = pd.to_datetime(data['date'])\n",
    "\n",
    "# Verify the column types to confirm the 'date' is now datetime\n",
    "print(data.info())\n",
    "\n",
    "# When displaying or exporting, you can format the date as MM/DD/YYYY\n",
    "data['formatted_date'] = data['date'].dt.strftime('%m/%d/%Y')\n",
    "\n",
    "# Print the first few rows to see the formatted date\n",
    "print(data[['date', 'formatted_date']])"
   ]
  },
  {
   "cell_type": "code",
   "execution_count": 5,
   "id": "508ff435",
   "metadata": {},
   "outputs": [
    {
     "data": {
      "text/html": [
       "<div>\n",
       "<style scoped>\n",
       "    .dataframe tbody tr th:only-of-type {\n",
       "        vertical-align: middle;\n",
       "    }\n",
       "\n",
       "    .dataframe tbody tr th {\n",
       "        vertical-align: top;\n",
       "    }\n",
       "\n",
       "    .dataframe thead th {\n",
       "        text-align: right;\n",
       "    }\n",
       "</style>\n",
       "<table border=\"1\" class=\"dataframe\">\n",
       "  <thead>\n",
       "    <tr style=\"text-align: right;\">\n",
       "      <th></th>\n",
       "      <th>date</th>\n",
       "      <th>S199</th>\n",
       "      <th>S200</th>\n",
       "      <th>S332B</th>\n",
       "      <th>S332BN</th>\n",
       "      <th>S332C</th>\n",
       "      <th>S332D</th>\n",
       "      <th>S332DX1</th>\n",
       "      <th>S12A</th>\n",
       "      <th>S12B</th>\n",
       "      <th>...</th>\n",
       "      <th>NP205_rain</th>\n",
       "      <th>NP205_stage</th>\n",
       "      <th>P33_rain</th>\n",
       "      <th>P33_stage</th>\n",
       "      <th>NP205_PET</th>\n",
       "      <th>P33_PET</th>\n",
       "      <th>G620_water_level</th>\n",
       "      <th>SWEVER4_stage</th>\n",
       "      <th>TSH_stage</th>\n",
       "      <th>NP62_stage</th>\n",
       "    </tr>\n",
       "  </thead>\n",
       "  <tbody>\n",
       "    <tr>\n",
       "      <th>0</th>\n",
       "      <td>10/16/2020</td>\n",
       "      <td>242.17</td>\n",
       "      <td>279.69</td>\n",
       "      <td>218.42</td>\n",
       "      <td>218.42</td>\n",
       "      <td>445.77</td>\n",
       "      <td>481.38</td>\n",
       "      <td>0.0</td>\n",
       "      <td>460</td>\n",
       "      <td>382</td>\n",
       "      <td>...</td>\n",
       "      <td>2.28</td>\n",
       "      <td>6.925</td>\n",
       "      <td>0.106</td>\n",
       "      <td>7.133</td>\n",
       "      <td>2.09</td>\n",
       "      <td>2.09</td>\n",
       "      <td>5.92</td>\n",
       "      <td>2.92</td>\n",
       "      <td>3.03</td>\n",
       "      <td>4.04</td>\n",
       "    </tr>\n",
       "    <tr>\n",
       "      <th>1</th>\n",
       "      <td>10/17/2020</td>\n",
       "      <td>296.05</td>\n",
       "      <td>294.85</td>\n",
       "      <td>265.13</td>\n",
       "      <td>265.13</td>\n",
       "      <td>587.35</td>\n",
       "      <td>556.24</td>\n",
       "      <td>0.0</td>\n",
       "      <td>490</td>\n",
       "      <td>405</td>\n",
       "      <td>...</td>\n",
       "      <td>0.01</td>\n",
       "      <td>7.025</td>\n",
       "      <td>0.000</td>\n",
       "      <td>7.133</td>\n",
       "      <td>3.87</td>\n",
       "      <td>3.87</td>\n",
       "      <td>5.97</td>\n",
       "      <td>2.95</td>\n",
       "      <td>3.08</td>\n",
       "      <td>4.05</td>\n",
       "    </tr>\n",
       "    <tr>\n",
       "      <th>2</th>\n",
       "      <td>10/18/2020</td>\n",
       "      <td>277.85</td>\n",
       "      <td>294.24</td>\n",
       "      <td>264.23</td>\n",
       "      <td>264.23</td>\n",
       "      <td>514.45</td>\n",
       "      <td>503.14</td>\n",
       "      <td>0.0</td>\n",
       "      <td>472</td>\n",
       "      <td>394</td>\n",
       "      <td>...</td>\n",
       "      <td>0.00</td>\n",
       "      <td>7.008</td>\n",
       "      <td>0.088</td>\n",
       "      <td>7.138</td>\n",
       "      <td>3.51</td>\n",
       "      <td>3.51</td>\n",
       "      <td>5.98</td>\n",
       "      <td>2.93</td>\n",
       "      <td>3.06</td>\n",
       "      <td>4.05</td>\n",
       "    </tr>\n",
       "    <tr>\n",
       "      <th>3</th>\n",
       "      <td>10/19/2020</td>\n",
       "      <td>224.13</td>\n",
       "      <td>294.72</td>\n",
       "      <td>264.39</td>\n",
       "      <td>264.39</td>\n",
       "      <td>491.06</td>\n",
       "      <td>537.91</td>\n",
       "      <td>0.0</td>\n",
       "      <td>466</td>\n",
       "      <td>392</td>\n",
       "      <td>...</td>\n",
       "      <td>0.11</td>\n",
       "      <td>6.986</td>\n",
       "      <td>0.256</td>\n",
       "      <td>7.167</td>\n",
       "      <td>1.98</td>\n",
       "      <td>1.98</td>\n",
       "      <td>5.98</td>\n",
       "      <td>2.91</td>\n",
       "      <td>3.05</td>\n",
       "      <td>4.06</td>\n",
       "    </tr>\n",
       "    <tr>\n",
       "      <th>4</th>\n",
       "      <td>10/20/2020</td>\n",
       "      <td>260.51</td>\n",
       "      <td>295.06</td>\n",
       "      <td>263.38</td>\n",
       "      <td>263.38</td>\n",
       "      <td>489.25</td>\n",
       "      <td>558.77</td>\n",
       "      <td>0.0</td>\n",
       "      <td>472</td>\n",
       "      <td>399</td>\n",
       "      <td>...</td>\n",
       "      <td>0.37</td>\n",
       "      <td>6.977</td>\n",
       "      <td>0.678</td>\n",
       "      <td>7.195</td>\n",
       "      <td>1.27</td>\n",
       "      <td>1.27</td>\n",
       "      <td>5.99</td>\n",
       "      <td>2.90</td>\n",
       "      <td>3.06</td>\n",
       "      <td>4.11</td>\n",
       "    </tr>\n",
       "    <tr>\n",
       "      <th>...</th>\n",
       "      <td>...</td>\n",
       "      <td>...</td>\n",
       "      <td>...</td>\n",
       "      <td>...</td>\n",
       "      <td>...</td>\n",
       "      <td>...</td>\n",
       "      <td>...</td>\n",
       "      <td>...</td>\n",
       "      <td>...</td>\n",
       "      <td>...</td>\n",
       "      <td>...</td>\n",
       "      <td>...</td>\n",
       "      <td>...</td>\n",
       "      <td>...</td>\n",
       "      <td>...</td>\n",
       "      <td>...</td>\n",
       "      <td>...</td>\n",
       "      <td>...</td>\n",
       "      <td>...</td>\n",
       "      <td>...</td>\n",
       "      <td>...</td>\n",
       "    </tr>\n",
       "    <tr>\n",
       "      <th>1406</th>\n",
       "      <td>08/22/2024</td>\n",
       "      <td>297.72</td>\n",
       "      <td>294.23</td>\n",
       "      <td>0.17</td>\n",
       "      <td>0.17</td>\n",
       "      <td>30.02</td>\n",
       "      <td>559.39</td>\n",
       "      <td>0.0</td>\n",
       "      <td>358</td>\n",
       "      <td>250</td>\n",
       "      <td>...</td>\n",
       "      <td>1.72</td>\n",
       "      <td>7.289</td>\n",
       "      <td>0.050</td>\n",
       "      <td>7.466</td>\n",
       "      <td>2.75</td>\n",
       "      <td>2.75</td>\n",
       "      <td>6.13</td>\n",
       "      <td>2.85</td>\n",
       "      <td>2.78</td>\n",
       "      <td>3.88</td>\n",
       "    </tr>\n",
       "    <tr>\n",
       "      <th>1407</th>\n",
       "      <td>08/23/2024</td>\n",
       "      <td>240.47</td>\n",
       "      <td>293.74</td>\n",
       "      <td>0.45</td>\n",
       "      <td>0.45</td>\n",
       "      <td>0.29</td>\n",
       "      <td>491.92</td>\n",
       "      <td>0.0</td>\n",
       "      <td>375</td>\n",
       "      <td>265</td>\n",
       "      <td>...</td>\n",
       "      <td>0.04</td>\n",
       "      <td>7.360</td>\n",
       "      <td>0.000</td>\n",
       "      <td>7.447</td>\n",
       "      <td>2.75</td>\n",
       "      <td>2.75</td>\n",
       "      <td>6.18</td>\n",
       "      <td>2.90</td>\n",
       "      <td>2.81</td>\n",
       "      <td>3.88</td>\n",
       "    </tr>\n",
       "    <tr>\n",
       "      <th>1408</th>\n",
       "      <td>08/24/2024</td>\n",
       "      <td>242.45</td>\n",
       "      <td>293.75</td>\n",
       "      <td>0.00</td>\n",
       "      <td>0.00</td>\n",
       "      <td>0.00</td>\n",
       "      <td>439.40</td>\n",
       "      <td>0.0</td>\n",
       "      <td>377</td>\n",
       "      <td>268</td>\n",
       "      <td>...</td>\n",
       "      <td>0.00</td>\n",
       "      <td>7.360</td>\n",
       "      <td>0.010</td>\n",
       "      <td>7.435</td>\n",
       "      <td>2.75</td>\n",
       "      <td>2.75</td>\n",
       "      <td>6.20</td>\n",
       "      <td>2.88</td>\n",
       "      <td>2.80</td>\n",
       "      <td>3.88</td>\n",
       "    </tr>\n",
       "    <tr>\n",
       "      <th>1409</th>\n",
       "      <td>08/25/2024</td>\n",
       "      <td>286.80</td>\n",
       "      <td>294.24</td>\n",
       "      <td>0.00</td>\n",
       "      <td>0.00</td>\n",
       "      <td>0.00</td>\n",
       "      <td>470.49</td>\n",
       "      <td>0.0</td>\n",
       "      <td>380</td>\n",
       "      <td>272</td>\n",
       "      <td>...</td>\n",
       "      <td>0.00</td>\n",
       "      <td>7.345</td>\n",
       "      <td>0.270</td>\n",
       "      <td>7.440</td>\n",
       "      <td>2.75</td>\n",
       "      <td>2.75</td>\n",
       "      <td>6.19</td>\n",
       "      <td>2.86</td>\n",
       "      <td>2.80</td>\n",
       "      <td>3.98</td>\n",
       "    </tr>\n",
       "    <tr>\n",
       "      <th>1410</th>\n",
       "      <td>08/26/2024</td>\n",
       "      <td>298.19</td>\n",
       "      <td>295.13</td>\n",
       "      <td>0.36</td>\n",
       "      <td>0.36</td>\n",
       "      <td>0.00</td>\n",
       "      <td>527.05</td>\n",
       "      <td>0.0</td>\n",
       "      <td>387</td>\n",
       "      <td>277</td>\n",
       "      <td>...</td>\n",
       "      <td>0.00</td>\n",
       "      <td>7.320</td>\n",
       "      <td>0.660</td>\n",
       "      <td>7.470</td>\n",
       "      <td>2.75</td>\n",
       "      <td>2.75</td>\n",
       "      <td>6.20</td>\n",
       "      <td>2.85</td>\n",
       "      <td>2.80</td>\n",
       "      <td>4.03</td>\n",
       "    </tr>\n",
       "  </tbody>\n",
       "</table>\n",
       "<p>1411 rows × 38 columns</p>\n",
       "</div>"
      ],
      "text/plain": [
       "            date    S199    S200   S332B  S332BN   S332C   S332D  S332DX1  \\\n",
       "0     10/16/2020  242.17  279.69  218.42  218.42  445.77  481.38      0.0   \n",
       "1     10/17/2020  296.05  294.85  265.13  265.13  587.35  556.24      0.0   \n",
       "2     10/18/2020  277.85  294.24  264.23  264.23  514.45  503.14      0.0   \n",
       "3     10/19/2020  224.13  294.72  264.39  264.39  491.06  537.91      0.0   \n",
       "4     10/20/2020  260.51  295.06  263.38  263.38  489.25  558.77      0.0   \n",
       "...          ...     ...     ...     ...     ...     ...     ...      ...   \n",
       "1406  08/22/2024  297.72  294.23    0.17    0.17   30.02  559.39      0.0   \n",
       "1407  08/23/2024  240.47  293.74    0.45    0.45    0.29  491.92      0.0   \n",
       "1408  08/24/2024  242.45  293.75    0.00    0.00    0.00  439.40      0.0   \n",
       "1409  08/25/2024  286.80  294.24    0.00    0.00    0.00  470.49      0.0   \n",
       "1410  08/26/2024  298.19  295.13    0.36    0.36    0.00  527.05      0.0   \n",
       "\n",
       "      S12A  S12B  ...  NP205_rain  NP205_stage  P33_rain  P33_stage  \\\n",
       "0      460   382  ...        2.28        6.925     0.106      7.133   \n",
       "1      490   405  ...        0.01        7.025     0.000      7.133   \n",
       "2      472   394  ...        0.00        7.008     0.088      7.138   \n",
       "3      466   392  ...        0.11        6.986     0.256      7.167   \n",
       "4      472   399  ...        0.37        6.977     0.678      7.195   \n",
       "...    ...   ...  ...         ...          ...       ...        ...   \n",
       "1406   358   250  ...        1.72        7.289     0.050      7.466   \n",
       "1407   375   265  ...        0.04        7.360     0.000      7.447   \n",
       "1408   377   268  ...        0.00        7.360     0.010      7.435   \n",
       "1409   380   272  ...        0.00        7.345     0.270      7.440   \n",
       "1410   387   277  ...        0.00        7.320     0.660      7.470   \n",
       "\n",
       "      NP205_PET  P33_PET  G620_water_level  SWEVER4_stage  TSH_stage  \\\n",
       "0          2.09     2.09              5.92           2.92       3.03   \n",
       "1          3.87     3.87              5.97           2.95       3.08   \n",
       "2          3.51     3.51              5.98           2.93       3.06   \n",
       "3          1.98     1.98              5.98           2.91       3.05   \n",
       "4          1.27     1.27              5.99           2.90       3.06   \n",
       "...         ...      ...               ...            ...        ...   \n",
       "1406       2.75     2.75              6.13           2.85       2.78   \n",
       "1407       2.75     2.75              6.18           2.90       2.81   \n",
       "1408       2.75     2.75              6.20           2.88       2.80   \n",
       "1409       2.75     2.75              6.19           2.86       2.80   \n",
       "1410       2.75     2.75              6.20           2.85       2.80   \n",
       "\n",
       "      NP62_stage  \n",
       "0           4.04  \n",
       "1           4.05  \n",
       "2           4.05  \n",
       "3           4.06  \n",
       "4           4.11  \n",
       "...          ...  \n",
       "1406        3.88  \n",
       "1407        3.88  \n",
       "1408        3.88  \n",
       "1409        3.98  \n",
       "1410        4.03  \n",
       "\n",
       "[1411 rows x 38 columns]"
      ]
     },
     "execution_count": 5,
     "metadata": {},
     "output_type": "execute_result"
    }
   ],
   "source": [
    "# Drop the 'formatted_date' column if not needed\n",
    "data = data.drop(columns=['Unnamed: 0','formatted_date'])\n",
    "\n",
    "data['date'] = data['date'].dt.strftime('%m/%d/%Y')\n",
    "\n",
    "# Check the data to confirm the index\n",
    "data"
   ]
  },
  {
   "cell_type": "code",
   "execution_count": 6,
   "id": "dbf74548",
   "metadata": {},
   "outputs": [
    {
     "data": {
      "text/html": [
       "<div>\n",
       "<style scoped>\n",
       "    .dataframe tbody tr th:only-of-type {\n",
       "        vertical-align: middle;\n",
       "    }\n",
       "\n",
       "    .dataframe tbody tr th {\n",
       "        vertical-align: top;\n",
       "    }\n",
       "\n",
       "    .dataframe thead th {\n",
       "        text-align: right;\n",
       "    }\n",
       "</style>\n",
       "<table border=\"1\" class=\"dataframe\">\n",
       "  <thead>\n",
       "    <tr style=\"text-align: right;\">\n",
       "      <th></th>\n",
       "      <th>date</th>\n",
       "      <th>S199</th>\n",
       "      <th>S200</th>\n",
       "      <th>S332B</th>\n",
       "      <th>S332BN</th>\n",
       "      <th>S332C</th>\n",
       "      <th>S332D</th>\n",
       "      <th>S332DX1</th>\n",
       "      <th>S12A</th>\n",
       "      <th>S12B</th>\n",
       "      <th>...</th>\n",
       "      <th>NP205_rain</th>\n",
       "      <th>P33_rain</th>\n",
       "      <th>NP205_PET</th>\n",
       "      <th>P33_PET</th>\n",
       "      <th>G620_water_level</th>\n",
       "      <th>SWEVER4_stage</th>\n",
       "      <th>TSH_stage</th>\n",
       "      <th>NP62_stage</th>\n",
       "      <th>P33_stage</th>\n",
       "      <th>NP205_stage</th>\n",
       "    </tr>\n",
       "  </thead>\n",
       "  <tbody>\n",
       "    <tr>\n",
       "      <th>0</th>\n",
       "      <td>10/16/2020</td>\n",
       "      <td>242.17</td>\n",
       "      <td>279.69</td>\n",
       "      <td>218.42</td>\n",
       "      <td>218.42</td>\n",
       "      <td>445.77</td>\n",
       "      <td>481.38</td>\n",
       "      <td>0.0</td>\n",
       "      <td>460</td>\n",
       "      <td>382</td>\n",
       "      <td>...</td>\n",
       "      <td>2.28</td>\n",
       "      <td>0.106</td>\n",
       "      <td>2.09</td>\n",
       "      <td>2.09</td>\n",
       "      <td>5.92</td>\n",
       "      <td>2.92</td>\n",
       "      <td>3.03</td>\n",
       "      <td>4.04</td>\n",
       "      <td>7.133</td>\n",
       "      <td>6.925</td>\n",
       "    </tr>\n",
       "    <tr>\n",
       "      <th>1</th>\n",
       "      <td>10/17/2020</td>\n",
       "      <td>296.05</td>\n",
       "      <td>294.85</td>\n",
       "      <td>265.13</td>\n",
       "      <td>265.13</td>\n",
       "      <td>587.35</td>\n",
       "      <td>556.24</td>\n",
       "      <td>0.0</td>\n",
       "      <td>490</td>\n",
       "      <td>405</td>\n",
       "      <td>...</td>\n",
       "      <td>0.01</td>\n",
       "      <td>0.000</td>\n",
       "      <td>3.87</td>\n",
       "      <td>3.87</td>\n",
       "      <td>5.97</td>\n",
       "      <td>2.95</td>\n",
       "      <td>3.08</td>\n",
       "      <td>4.05</td>\n",
       "      <td>7.133</td>\n",
       "      <td>7.025</td>\n",
       "    </tr>\n",
       "    <tr>\n",
       "      <th>2</th>\n",
       "      <td>10/18/2020</td>\n",
       "      <td>277.85</td>\n",
       "      <td>294.24</td>\n",
       "      <td>264.23</td>\n",
       "      <td>264.23</td>\n",
       "      <td>514.45</td>\n",
       "      <td>503.14</td>\n",
       "      <td>0.0</td>\n",
       "      <td>472</td>\n",
       "      <td>394</td>\n",
       "      <td>...</td>\n",
       "      <td>0.00</td>\n",
       "      <td>0.088</td>\n",
       "      <td>3.51</td>\n",
       "      <td>3.51</td>\n",
       "      <td>5.98</td>\n",
       "      <td>2.93</td>\n",
       "      <td>3.06</td>\n",
       "      <td>4.05</td>\n",
       "      <td>7.138</td>\n",
       "      <td>7.008</td>\n",
       "    </tr>\n",
       "    <tr>\n",
       "      <th>3</th>\n",
       "      <td>10/19/2020</td>\n",
       "      <td>224.13</td>\n",
       "      <td>294.72</td>\n",
       "      <td>264.39</td>\n",
       "      <td>264.39</td>\n",
       "      <td>491.06</td>\n",
       "      <td>537.91</td>\n",
       "      <td>0.0</td>\n",
       "      <td>466</td>\n",
       "      <td>392</td>\n",
       "      <td>...</td>\n",
       "      <td>0.11</td>\n",
       "      <td>0.256</td>\n",
       "      <td>1.98</td>\n",
       "      <td>1.98</td>\n",
       "      <td>5.98</td>\n",
       "      <td>2.91</td>\n",
       "      <td>3.05</td>\n",
       "      <td>4.06</td>\n",
       "      <td>7.167</td>\n",
       "      <td>6.986</td>\n",
       "    </tr>\n",
       "    <tr>\n",
       "      <th>4</th>\n",
       "      <td>10/20/2020</td>\n",
       "      <td>260.51</td>\n",
       "      <td>295.06</td>\n",
       "      <td>263.38</td>\n",
       "      <td>263.38</td>\n",
       "      <td>489.25</td>\n",
       "      <td>558.77</td>\n",
       "      <td>0.0</td>\n",
       "      <td>472</td>\n",
       "      <td>399</td>\n",
       "      <td>...</td>\n",
       "      <td>0.37</td>\n",
       "      <td>0.678</td>\n",
       "      <td>1.27</td>\n",
       "      <td>1.27</td>\n",
       "      <td>5.99</td>\n",
       "      <td>2.90</td>\n",
       "      <td>3.06</td>\n",
       "      <td>4.11</td>\n",
       "      <td>7.195</td>\n",
       "      <td>6.977</td>\n",
       "    </tr>\n",
       "    <tr>\n",
       "      <th>...</th>\n",
       "      <td>...</td>\n",
       "      <td>...</td>\n",
       "      <td>...</td>\n",
       "      <td>...</td>\n",
       "      <td>...</td>\n",
       "      <td>...</td>\n",
       "      <td>...</td>\n",
       "      <td>...</td>\n",
       "      <td>...</td>\n",
       "      <td>...</td>\n",
       "      <td>...</td>\n",
       "      <td>...</td>\n",
       "      <td>...</td>\n",
       "      <td>...</td>\n",
       "      <td>...</td>\n",
       "      <td>...</td>\n",
       "      <td>...</td>\n",
       "      <td>...</td>\n",
       "      <td>...</td>\n",
       "      <td>...</td>\n",
       "      <td>...</td>\n",
       "    </tr>\n",
       "    <tr>\n",
       "      <th>1406</th>\n",
       "      <td>08/22/2024</td>\n",
       "      <td>297.72</td>\n",
       "      <td>294.23</td>\n",
       "      <td>0.17</td>\n",
       "      <td>0.17</td>\n",
       "      <td>30.02</td>\n",
       "      <td>559.39</td>\n",
       "      <td>0.0</td>\n",
       "      <td>358</td>\n",
       "      <td>250</td>\n",
       "      <td>...</td>\n",
       "      <td>1.72</td>\n",
       "      <td>0.050</td>\n",
       "      <td>2.75</td>\n",
       "      <td>2.75</td>\n",
       "      <td>6.13</td>\n",
       "      <td>2.85</td>\n",
       "      <td>2.78</td>\n",
       "      <td>3.88</td>\n",
       "      <td>7.466</td>\n",
       "      <td>7.289</td>\n",
       "    </tr>\n",
       "    <tr>\n",
       "      <th>1407</th>\n",
       "      <td>08/23/2024</td>\n",
       "      <td>240.47</td>\n",
       "      <td>293.74</td>\n",
       "      <td>0.45</td>\n",
       "      <td>0.45</td>\n",
       "      <td>0.29</td>\n",
       "      <td>491.92</td>\n",
       "      <td>0.0</td>\n",
       "      <td>375</td>\n",
       "      <td>265</td>\n",
       "      <td>...</td>\n",
       "      <td>0.04</td>\n",
       "      <td>0.000</td>\n",
       "      <td>2.75</td>\n",
       "      <td>2.75</td>\n",
       "      <td>6.18</td>\n",
       "      <td>2.90</td>\n",
       "      <td>2.81</td>\n",
       "      <td>3.88</td>\n",
       "      <td>7.447</td>\n",
       "      <td>7.360</td>\n",
       "    </tr>\n",
       "    <tr>\n",
       "      <th>1408</th>\n",
       "      <td>08/24/2024</td>\n",
       "      <td>242.45</td>\n",
       "      <td>293.75</td>\n",
       "      <td>0.00</td>\n",
       "      <td>0.00</td>\n",
       "      <td>0.00</td>\n",
       "      <td>439.40</td>\n",
       "      <td>0.0</td>\n",
       "      <td>377</td>\n",
       "      <td>268</td>\n",
       "      <td>...</td>\n",
       "      <td>0.00</td>\n",
       "      <td>0.010</td>\n",
       "      <td>2.75</td>\n",
       "      <td>2.75</td>\n",
       "      <td>6.20</td>\n",
       "      <td>2.88</td>\n",
       "      <td>2.80</td>\n",
       "      <td>3.88</td>\n",
       "      <td>7.435</td>\n",
       "      <td>7.360</td>\n",
       "    </tr>\n",
       "    <tr>\n",
       "      <th>1409</th>\n",
       "      <td>08/25/2024</td>\n",
       "      <td>286.80</td>\n",
       "      <td>294.24</td>\n",
       "      <td>0.00</td>\n",
       "      <td>0.00</td>\n",
       "      <td>0.00</td>\n",
       "      <td>470.49</td>\n",
       "      <td>0.0</td>\n",
       "      <td>380</td>\n",
       "      <td>272</td>\n",
       "      <td>...</td>\n",
       "      <td>0.00</td>\n",
       "      <td>0.270</td>\n",
       "      <td>2.75</td>\n",
       "      <td>2.75</td>\n",
       "      <td>6.19</td>\n",
       "      <td>2.86</td>\n",
       "      <td>2.80</td>\n",
       "      <td>3.98</td>\n",
       "      <td>7.440</td>\n",
       "      <td>7.345</td>\n",
       "    </tr>\n",
       "    <tr>\n",
       "      <th>1410</th>\n",
       "      <td>08/26/2024</td>\n",
       "      <td>298.19</td>\n",
       "      <td>295.13</td>\n",
       "      <td>0.36</td>\n",
       "      <td>0.36</td>\n",
       "      <td>0.00</td>\n",
       "      <td>527.05</td>\n",
       "      <td>0.0</td>\n",
       "      <td>387</td>\n",
       "      <td>277</td>\n",
       "      <td>...</td>\n",
       "      <td>0.00</td>\n",
       "      <td>0.660</td>\n",
       "      <td>2.75</td>\n",
       "      <td>2.75</td>\n",
       "      <td>6.20</td>\n",
       "      <td>2.85</td>\n",
       "      <td>2.80</td>\n",
       "      <td>4.03</td>\n",
       "      <td>7.470</td>\n",
       "      <td>7.320</td>\n",
       "    </tr>\n",
       "  </tbody>\n",
       "</table>\n",
       "<p>1411 rows × 38 columns</p>\n",
       "</div>"
      ],
      "text/plain": [
       "            date    S199    S200   S332B  S332BN   S332C   S332D  S332DX1  \\\n",
       "0     10/16/2020  242.17  279.69  218.42  218.42  445.77  481.38      0.0   \n",
       "1     10/17/2020  296.05  294.85  265.13  265.13  587.35  556.24      0.0   \n",
       "2     10/18/2020  277.85  294.24  264.23  264.23  514.45  503.14      0.0   \n",
       "3     10/19/2020  224.13  294.72  264.39  264.39  491.06  537.91      0.0   \n",
       "4     10/20/2020  260.51  295.06  263.38  263.38  489.25  558.77      0.0   \n",
       "...          ...     ...     ...     ...     ...     ...     ...      ...   \n",
       "1406  08/22/2024  297.72  294.23    0.17    0.17   30.02  559.39      0.0   \n",
       "1407  08/23/2024  240.47  293.74    0.45    0.45    0.29  491.92      0.0   \n",
       "1408  08/24/2024  242.45  293.75    0.00    0.00    0.00  439.40      0.0   \n",
       "1409  08/25/2024  286.80  294.24    0.00    0.00    0.00  470.49      0.0   \n",
       "1410  08/26/2024  298.19  295.13    0.36    0.36    0.00  527.05      0.0   \n",
       "\n",
       "      S12A  S12B  ...  NP205_rain  P33_rain  NP205_PET  P33_PET  \\\n",
       "0      460   382  ...        2.28     0.106       2.09     2.09   \n",
       "1      490   405  ...        0.01     0.000       3.87     3.87   \n",
       "2      472   394  ...        0.00     0.088       3.51     3.51   \n",
       "3      466   392  ...        0.11     0.256       1.98     1.98   \n",
       "4      472   399  ...        0.37     0.678       1.27     1.27   \n",
       "...    ...   ...  ...         ...       ...        ...      ...   \n",
       "1406   358   250  ...        1.72     0.050       2.75     2.75   \n",
       "1407   375   265  ...        0.04     0.000       2.75     2.75   \n",
       "1408   377   268  ...        0.00     0.010       2.75     2.75   \n",
       "1409   380   272  ...        0.00     0.270       2.75     2.75   \n",
       "1410   387   277  ...        0.00     0.660       2.75     2.75   \n",
       "\n",
       "      G620_water_level  SWEVER4_stage  TSH_stage  NP62_stage  P33_stage  \\\n",
       "0                 5.92           2.92       3.03        4.04      7.133   \n",
       "1                 5.97           2.95       3.08        4.05      7.133   \n",
       "2                 5.98           2.93       3.06        4.05      7.138   \n",
       "3                 5.98           2.91       3.05        4.06      7.167   \n",
       "4                 5.99           2.90       3.06        4.11      7.195   \n",
       "...                ...            ...        ...         ...        ...   \n",
       "1406              6.13           2.85       2.78        3.88      7.466   \n",
       "1407              6.18           2.90       2.81        3.88      7.447   \n",
       "1408              6.20           2.88       2.80        3.88      7.435   \n",
       "1409              6.19           2.86       2.80        3.98      7.440   \n",
       "1410              6.20           2.85       2.80        4.03      7.470   \n",
       "\n",
       "      NP205_stage  \n",
       "0           6.925  \n",
       "1           7.025  \n",
       "2           7.008  \n",
       "3           6.986  \n",
       "4           6.977  \n",
       "...           ...  \n",
       "1406        7.289  \n",
       "1407        7.360  \n",
       "1408        7.360  \n",
       "1409        7.345  \n",
       "1410        7.320  \n",
       "\n",
       "[1411 rows x 38 columns]"
      ]
     },
     "execution_count": 6,
     "metadata": {},
     "output_type": "execute_result"
    }
   ],
   "source": [
    "# Replace with your actual DataFrame\n",
    "df = pd.DataFrame(data)\n",
    "\n",
    "# Move NP205_stage to the end of the DataFrame\n",
    "# Create a list of the columns\n",
    "columns = df.columns.tolist()\n",
    "\n",
    "# Remove both columns from their current position\n",
    "columns.remove('P33_stage')\n",
    "columns.remove('NP205_stage')\n",
    "\n",
    "# Append both columns to the end of the list\n",
    "columns.append('P33_stage')\n",
    "columns.append('NP205_stage')\n",
    "\n",
    "# Reorder the DataFrame according to the new columns list\n",
    "df = df[columns]\n",
    "df"
   ]
  },
  {
   "cell_type": "code",
   "execution_count": 7,
   "id": "2c4e5bae",
   "metadata": {},
   "outputs": [
    {
     "name": "stdout",
     "output_type": "stream",
     "text": [
      "              ds    unique_id        y\n",
      "0     2020-10-16         S199  242.170\n",
      "1     2020-10-17         S199  296.050\n",
      "2     2020-10-18         S199  277.850\n",
      "3     2020-10-19         S199  224.130\n",
      "4     2020-10-20         S199  260.510\n",
      "...          ...          ...      ...\n",
      "52202 2024-08-22  NP205_stage    7.289\n",
      "52203 2024-08-23  NP205_stage    7.360\n",
      "52204 2024-08-24  NP205_stage    7.360\n",
      "52205 2024-08-25  NP205_stage    7.345\n",
      "52206 2024-08-26  NP205_stage    7.320\n",
      "\n",
      "[52207 rows x 3 columns]\n"
     ]
    }
   ],
   "source": [
    "#Convert 'date' to datetime format if not \n",
    "df['date'] = pd.to_datetime(df['date'])\n",
    "\n",
    "#Melt the DataFrame to long format\n",
    "long_df = pd.melt(df, id_vars=['date'], \n",
    "                  value_vars=[col for col in df.columns if col != 'date'], \n",
    "                  var_name='unique_id', \n",
    "                  value_name='y')\n",
    "\n",
    "#Rename the date column to 'ds'\n",
    "long_df.rename(columns={'date': 'ds'}, inplace=True)\n",
    "\n",
    "# Display the resulting long format DataFrame\n",
    "print(long_df)"
   ]
  },
  {
   "cell_type": "code",
   "execution_count": 8,
   "id": "20bddb19",
   "metadata": {},
   "outputs": [
    {
     "data": {
      "text/html": [
       "<div>\n",
       "<style scoped>\n",
       "    .dataframe tbody tr th:only-of-type {\n",
       "        vertical-align: middle;\n",
       "    }\n",
       "\n",
       "    .dataframe tbody tr th {\n",
       "        vertical-align: top;\n",
       "    }\n",
       "\n",
       "    .dataframe thead th {\n",
       "        text-align: right;\n",
       "    }\n",
       "</style>\n",
       "<table border=\"1\" class=\"dataframe\">\n",
       "  <thead>\n",
       "    <tr style=\"text-align: right;\">\n",
       "      <th></th>\n",
       "      <th>unique_id</th>\n",
       "      <th>ds</th>\n",
       "      <th>y</th>\n",
       "    </tr>\n",
       "  </thead>\n",
       "  <tbody>\n",
       "    <tr>\n",
       "      <th>0</th>\n",
       "      <td>S199</td>\n",
       "      <td>2020-10-16</td>\n",
       "      <td>242.170</td>\n",
       "    </tr>\n",
       "    <tr>\n",
       "      <th>1</th>\n",
       "      <td>S199</td>\n",
       "      <td>2020-10-17</td>\n",
       "      <td>296.050</td>\n",
       "    </tr>\n",
       "    <tr>\n",
       "      <th>2</th>\n",
       "      <td>S199</td>\n",
       "      <td>2020-10-18</td>\n",
       "      <td>277.850</td>\n",
       "    </tr>\n",
       "    <tr>\n",
       "      <th>3</th>\n",
       "      <td>S199</td>\n",
       "      <td>2020-10-19</td>\n",
       "      <td>224.130</td>\n",
       "    </tr>\n",
       "    <tr>\n",
       "      <th>4</th>\n",
       "      <td>S199</td>\n",
       "      <td>2020-10-20</td>\n",
       "      <td>260.510</td>\n",
       "    </tr>\n",
       "    <tr>\n",
       "      <th>...</th>\n",
       "      <td>...</td>\n",
       "      <td>...</td>\n",
       "      <td>...</td>\n",
       "    </tr>\n",
       "    <tr>\n",
       "      <th>52202</th>\n",
       "      <td>NP205_stage</td>\n",
       "      <td>2024-08-22</td>\n",
       "      <td>7.289</td>\n",
       "    </tr>\n",
       "    <tr>\n",
       "      <th>52203</th>\n",
       "      <td>NP205_stage</td>\n",
       "      <td>2024-08-23</td>\n",
       "      <td>7.360</td>\n",
       "    </tr>\n",
       "    <tr>\n",
       "      <th>52204</th>\n",
       "      <td>NP205_stage</td>\n",
       "      <td>2024-08-24</td>\n",
       "      <td>7.360</td>\n",
       "    </tr>\n",
       "    <tr>\n",
       "      <th>52205</th>\n",
       "      <td>NP205_stage</td>\n",
       "      <td>2024-08-25</td>\n",
       "      <td>7.345</td>\n",
       "    </tr>\n",
       "    <tr>\n",
       "      <th>52206</th>\n",
       "      <td>NP205_stage</td>\n",
       "      <td>2024-08-26</td>\n",
       "      <td>7.320</td>\n",
       "    </tr>\n",
       "  </tbody>\n",
       "</table>\n",
       "<p>52207 rows × 3 columns</p>\n",
       "</div>"
      ],
      "text/plain": [
       "         unique_id         ds        y\n",
       "0             S199 2020-10-16  242.170\n",
       "1             S199 2020-10-17  296.050\n",
       "2             S199 2020-10-18  277.850\n",
       "3             S199 2020-10-19  224.130\n",
       "4             S199 2020-10-20  260.510\n",
       "...            ...        ...      ...\n",
       "52202  NP205_stage 2024-08-22    7.289\n",
       "52203  NP205_stage 2024-08-23    7.360\n",
       "52204  NP205_stage 2024-08-24    7.360\n",
       "52205  NP205_stage 2024-08-25    7.345\n",
       "52206  NP205_stage 2024-08-26    7.320\n",
       "\n",
       "[52207 rows x 3 columns]"
      ]
     },
     "execution_count": 8,
     "metadata": {},
     "output_type": "execute_result"
    }
   ],
   "source": [
    "# Reorder columns\n",
    "long_df = long_df[['unique_id', 'ds', 'y']]\n",
    "\n",
    "long_df"
   ]
  },
  {
   "cell_type": "code",
   "execution_count": 9,
   "id": "ad48729d",
   "metadata": {},
   "outputs": [
    {
     "data": {
      "text/html": [
       "<div>\n",
       "<style scoped>\n",
       "    .dataframe tbody tr th:only-of-type {\n",
       "        vertical-align: middle;\n",
       "    }\n",
       "\n",
       "    .dataframe tbody tr th {\n",
       "        vertical-align: top;\n",
       "    }\n",
       "\n",
       "    .dataframe thead th {\n",
       "        text-align: right;\n",
       "    }\n",
       "</style>\n",
       "<table border=\"1\" class=\"dataframe\">\n",
       "  <thead>\n",
       "    <tr style=\"text-align: right;\">\n",
       "      <th></th>\n",
       "      <th>unique_id</th>\n",
       "      <th>ds</th>\n",
       "      <th>y</th>\n",
       "    </tr>\n",
       "  </thead>\n",
       "  <tbody>\n",
       "    <tr>\n",
       "      <th>0</th>\n",
       "      <td>S199</td>\n",
       "      <td>2020-10-16</td>\n",
       "      <td>242.170</td>\n",
       "    </tr>\n",
       "    <tr>\n",
       "      <th>1</th>\n",
       "      <td>S199</td>\n",
       "      <td>2020-10-17</td>\n",
       "      <td>296.050</td>\n",
       "    </tr>\n",
       "    <tr>\n",
       "      <th>2</th>\n",
       "      <td>S199</td>\n",
       "      <td>2020-10-18</td>\n",
       "      <td>277.850</td>\n",
       "    </tr>\n",
       "    <tr>\n",
       "      <th>3</th>\n",
       "      <td>S199</td>\n",
       "      <td>2020-10-19</td>\n",
       "      <td>224.130</td>\n",
       "    </tr>\n",
       "    <tr>\n",
       "      <th>4</th>\n",
       "      <td>S199</td>\n",
       "      <td>2020-10-20</td>\n",
       "      <td>260.510</td>\n",
       "    </tr>\n",
       "    <tr>\n",
       "      <th>...</th>\n",
       "      <td>...</td>\n",
       "      <td>...</td>\n",
       "      <td>...</td>\n",
       "    </tr>\n",
       "    <tr>\n",
       "      <th>52202</th>\n",
       "      <td>NP205_stage</td>\n",
       "      <td>2024-08-22</td>\n",
       "      <td>7.289</td>\n",
       "    </tr>\n",
       "    <tr>\n",
       "      <th>52203</th>\n",
       "      <td>NP205_stage</td>\n",
       "      <td>2024-08-23</td>\n",
       "      <td>7.360</td>\n",
       "    </tr>\n",
       "    <tr>\n",
       "      <th>52204</th>\n",
       "      <td>NP205_stage</td>\n",
       "      <td>2024-08-24</td>\n",
       "      <td>7.360</td>\n",
       "    </tr>\n",
       "    <tr>\n",
       "      <th>52205</th>\n",
       "      <td>NP205_stage</td>\n",
       "      <td>2024-08-25</td>\n",
       "      <td>7.345</td>\n",
       "    </tr>\n",
       "    <tr>\n",
       "      <th>52206</th>\n",
       "      <td>NP205_stage</td>\n",
       "      <td>2024-08-26</td>\n",
       "      <td>7.320</td>\n",
       "    </tr>\n",
       "  </tbody>\n",
       "</table>\n",
       "<p>52207 rows × 3 columns</p>\n",
       "</div>"
      ],
      "text/plain": [
       "         unique_id         ds        y\n",
       "0             S199 2020-10-16  242.170\n",
       "1             S199 2020-10-17  296.050\n",
       "2             S199 2020-10-18  277.850\n",
       "3             S199 2020-10-19  224.130\n",
       "4             S199 2020-10-20  260.510\n",
       "...            ...        ...      ...\n",
       "52202  NP205_stage 2024-08-22    7.289\n",
       "52203  NP205_stage 2024-08-23    7.360\n",
       "52204  NP205_stage 2024-08-24    7.360\n",
       "52205  NP205_stage 2024-08-25    7.345\n",
       "52206  NP205_stage 2024-08-26    7.320\n",
       "\n",
       "[52207 rows x 3 columns]"
      ]
     },
     "execution_count": 9,
     "metadata": {},
     "output_type": "execute_result"
    }
   ],
   "source": [
    "Y_df = long_df[['unique_id', 'ds', 'y']]\n",
    "Y_df"
   ]
  },
  {
   "cell_type": "code",
   "execution_count": 10,
   "id": "f1c9ff9c",
   "metadata": {},
   "outputs": [
    {
     "name": "stdout",
     "output_type": "stream",
     "text": [
      "S199                1411\n",
      "S12A_T              1411\n",
      "S12D_T              1411\n",
      "S12B_T              1411\n",
      "S333_T              1411\n",
      "S334_H              1411\n",
      "NESRS1              1411\n",
      "NESRS2              1411\n",
      "NP205_rain          1411\n",
      "P33_rain            1411\n",
      "NP205_PET           1411\n",
      "P33_PET             1411\n",
      "G620_water_level    1411\n",
      "SWEVER4_stage       1411\n",
      "TSH_stage           1411\n",
      "NP62_stage          1411\n",
      "P33_stage           1411\n",
      "S12C_T              1411\n",
      "S18C_S              1411\n",
      "S200                1411\n",
      "S356                1411\n",
      "S332B               1411\n",
      "S332BN              1411\n",
      "S332C               1411\n",
      "S332D               1411\n",
      "S332DX1             1411\n",
      "S12A                1411\n",
      "S12B                1411\n",
      "S12C                1411\n",
      "S12D                1411\n",
      "S333                1411\n",
      "S333N               1411\n",
      "S334                1411\n",
      "S343A               1411\n",
      "S343B               1411\n",
      "S344                1411\n",
      "NP205_stage         1411\n",
      "Name: unique_id, dtype: int64\n"
     ]
    }
   ],
   "source": [
    "# Count occurrences of each unique ID\n",
    "unique_id_counts = Y_df['unique_id'].value_counts()\n",
    "\n",
    "# Display the result\n",
    "print(unique_id_counts)"
   ]
  },
  {
   "cell_type": "code",
   "execution_count": 11,
   "id": "fbfea44a",
   "metadata": {},
   "outputs": [],
   "source": [
    "n_time = len(Y_df.ds.unique())\n",
    "val_size = int(0.15 * n_time)\n",
    "test_size = int(0.15 * n_time)"
   ]
  },
  {
   "cell_type": "code",
   "execution_count": 12,
   "id": "c814a600",
   "metadata": {},
   "outputs": [
    {
     "name": "stdout",
     "output_type": "stream",
     "text": [
      "n_time= 1411\n",
      "val_size 211\n",
      "test_size 211\n"
     ]
    }
   ],
   "source": [
    "print('n_time=', n_time)\n",
    "print('val_size', val_size)\n",
    "print('test_size', test_size)"
   ]
  },
  {
   "cell_type": "code",
   "execution_count": 13,
   "id": "8516dac0",
   "metadata": {},
   "outputs": [],
   "source": [
    "#For the .fit method, model to be trained on provided dataset\n",
    "Y_train_df = Y_df[Y_df['ds'] < Y_df['ds'].values[-422]]  # Training set\n",
    "Y_val_df = Y_df[(Y_df['ds'] >= Y_df['ds'].values[-422]) & (Y_df['ds'] < Y_df['ds'].values[-211])]  # Validation set\n",
    "Y_test_df = Y_df[Y_df['ds'] >= Y_df['ds'].values[-211]].reset_index(drop=True)"
   ]
  },
  {
   "cell_type": "code",
   "execution_count": 14,
   "id": "016c98ec",
   "metadata": {},
   "outputs": [
    {
     "data": {
      "text/html": [
       "<div>\n",
       "<style scoped>\n",
       "    .dataframe tbody tr th:only-of-type {\n",
       "        vertical-align: middle;\n",
       "    }\n",
       "\n",
       "    .dataframe tbody tr th {\n",
       "        vertical-align: top;\n",
       "    }\n",
       "\n",
       "    .dataframe thead th {\n",
       "        text-align: right;\n",
       "    }\n",
       "</style>\n",
       "<table border=\"1\" class=\"dataframe\">\n",
       "  <thead>\n",
       "    <tr style=\"text-align: right;\">\n",
       "      <th></th>\n",
       "      <th>unique_id</th>\n",
       "      <th>ds</th>\n",
       "      <th>y</th>\n",
       "    </tr>\n",
       "  </thead>\n",
       "  <tbody>\n",
       "    <tr>\n",
       "      <th>0</th>\n",
       "      <td>S199</td>\n",
       "      <td>2020-10-16</td>\n",
       "      <td>242.170</td>\n",
       "    </tr>\n",
       "    <tr>\n",
       "      <th>1</th>\n",
       "      <td>S199</td>\n",
       "      <td>2020-10-17</td>\n",
       "      <td>296.050</td>\n",
       "    </tr>\n",
       "    <tr>\n",
       "      <th>2</th>\n",
       "      <td>S199</td>\n",
       "      <td>2020-10-18</td>\n",
       "      <td>277.850</td>\n",
       "    </tr>\n",
       "    <tr>\n",
       "      <th>3</th>\n",
       "      <td>S199</td>\n",
       "      <td>2020-10-19</td>\n",
       "      <td>224.130</td>\n",
       "    </tr>\n",
       "    <tr>\n",
       "      <th>4</th>\n",
       "      <td>S199</td>\n",
       "      <td>2020-10-20</td>\n",
       "      <td>260.510</td>\n",
       "    </tr>\n",
       "    <tr>\n",
       "      <th>...</th>\n",
       "      <td>...</td>\n",
       "      <td>...</td>\n",
       "      <td>...</td>\n",
       "    </tr>\n",
       "    <tr>\n",
       "      <th>44395</th>\n",
       "      <td>NP205_stage</td>\n",
       "      <td>2024-01-24</td>\n",
       "      <td>7.160</td>\n",
       "    </tr>\n",
       "    <tr>\n",
       "      <th>44396</th>\n",
       "      <td>NP205_stage</td>\n",
       "      <td>2024-01-25</td>\n",
       "      <td>7.160</td>\n",
       "    </tr>\n",
       "    <tr>\n",
       "      <th>44397</th>\n",
       "      <td>NP205_stage</td>\n",
       "      <td>2024-01-26</td>\n",
       "      <td>7.160</td>\n",
       "    </tr>\n",
       "    <tr>\n",
       "      <th>44398</th>\n",
       "      <td>NP205_stage</td>\n",
       "      <td>2024-01-27</td>\n",
       "      <td>7.157</td>\n",
       "    </tr>\n",
       "    <tr>\n",
       "      <th>44399</th>\n",
       "      <td>NP205_stage</td>\n",
       "      <td>2024-01-28</td>\n",
       "      <td>7.140</td>\n",
       "    </tr>\n",
       "  </tbody>\n",
       "</table>\n",
       "<p>44400 rows × 3 columns</p>\n",
       "</div>"
      ],
      "text/plain": [
       "         unique_id         ds        y\n",
       "0             S199 2020-10-16  242.170\n",
       "1             S199 2020-10-17  296.050\n",
       "2             S199 2020-10-18  277.850\n",
       "3             S199 2020-10-19  224.130\n",
       "4             S199 2020-10-20  260.510\n",
       "...            ...        ...      ...\n",
       "44395  NP205_stage 2024-01-24    7.160\n",
       "44396  NP205_stage 2024-01-25    7.160\n",
       "44397  NP205_stage 2024-01-26    7.160\n",
       "44398  NP205_stage 2024-01-27    7.157\n",
       "44399  NP205_stage 2024-01-28    7.140\n",
       "\n",
       "[44400 rows x 3 columns]"
      ]
     },
     "execution_count": 14,
     "metadata": {},
     "output_type": "execute_result"
    }
   ],
   "source": [
    "#For .fit method\n",
    "Y_train_df = pd.concat([Y_train_df, Y_val_df]).reset_index(drop=True)\n",
    "#combining train and val sets as test_size is not a parameter in .fit method\n",
    "\n",
    "Y_train_df"
   ]
  },
  {
   "cell_type": "code",
   "execution_count": 15,
   "id": "e6859ded",
   "metadata": {},
   "outputs": [
    {
     "name": "stdout",
     "output_type": "stream",
     "text": [
      "S199                1200\n",
      "S12A_T              1200\n",
      "S12D_T              1200\n",
      "S12B_T              1200\n",
      "S333_T              1200\n",
      "S334_H              1200\n",
      "NESRS1              1200\n",
      "NESRS2              1200\n",
      "NP205_rain          1200\n",
      "P33_rain            1200\n",
      "NP205_PET           1200\n",
      "P33_PET             1200\n",
      "G620_water_level    1200\n",
      "SWEVER4_stage       1200\n",
      "TSH_stage           1200\n",
      "NP62_stage          1200\n",
      "P33_stage           1200\n",
      "S12C_T              1200\n",
      "S18C_S              1200\n",
      "S200                1200\n",
      "S356                1200\n",
      "S332B               1200\n",
      "S332BN              1200\n",
      "S332C               1200\n",
      "S332D               1200\n",
      "S332DX1             1200\n",
      "S12A                1200\n",
      "S12B                1200\n",
      "S12C                1200\n",
      "S12D                1200\n",
      "S333                1200\n",
      "S333N               1200\n",
      "S334                1200\n",
      "S343A               1200\n",
      "S343B               1200\n",
      "S344                1200\n",
      "NP205_stage         1200\n",
      "Name: unique_id, dtype: int64\n"
     ]
    }
   ],
   "source": [
    "#rechecking Unique IDs\n",
    "unique_id_counts_train = Y_train_df['unique_id'].value_counts()\n",
    "print(unique_id_counts_train)\n",
    "\n",
    "#1200 days for each variable and 211 remaining days (1411) is test\n",
    "#now can be used in .fit()"
   ]
  },
  {
   "cell_type": "code",
   "execution_count": 16,
   "id": "ee259ce5",
   "metadata": {},
   "outputs": [],
   "source": [
    "horizon=28"
   ]
  },
  {
   "cell_type": "code",
   "execution_count": 21,
   "id": "8bded9a1",
   "metadata": {},
   "outputs": [
    {
     "name": "stderr",
     "output_type": "stream",
     "text": [
      "Seed set to 1\n"
     ]
    }
   ],
   "source": [
    "from neuralforecast.models import NBEATS\n",
    "#learning rate = 0.001 default\n",
    "#optimizer is adam by default\n",
    "model = NBEATS(h=horizon,\n",
    "               input_size=100,\n",
    "               max_steps=1000,\n",
    "               val_check_steps=100,\n",
    "               early_stop_patience_steps=50)"
   ]
  },
  {
   "cell_type": "code",
   "execution_count": 22,
   "id": "f5e94625",
   "metadata": {},
   "outputs": [
    {
     "name": "stderr",
     "output_type": "stream",
     "text": [
      "GPU available: False, used: False\n",
      "TPU available: False, using: 0 TPU cores\n",
      "HPU available: False, using: 0 HPUs\n",
      "\n",
      "  | Name         | Type          | Params | Mode \n",
      "-------------------------------------------------------\n",
      "0 | loss         | MAE           | 0      | train\n",
      "1 | padder_train | ConstantPad1d | 0      | train\n",
      "2 | scaler       | TemporalNorm  | 0      | train\n",
      "3 | blocks       | ModuleList    | 2.7 M  | train\n",
      "-------------------------------------------------------\n",
      "2.6 M     Trainable params\n",
      "7.3 K     Non-trainable params\n",
      "2.7 M     Total params\n",
      "10.602    Total estimated model params size (MB)\n",
      "31        Modules in train mode\n",
      "0         Modules in eval mode\n"
     ]
    },
    {
     "data": {
      "application/vnd.jupyter.widget-view+json": {
       "model_id": "",
       "version_major": 2,
       "version_minor": 0
      },
      "text/plain": [
       "Sanity Checking: |                                                                               | 0/? [00:00<…"
      ]
     },
     "metadata": {},
     "output_type": "display_data"
    },
    {
     "data": {
      "application/vnd.jupyter.widget-view+json": {
       "model_id": "9db6d039847048c4bd1900de864f9194",
       "version_major": 2,
       "version_minor": 0
      },
      "text/plain": [
       "Training: |                                                                                      | 0/? [00:00<…"
      ]
     },
     "metadata": {},
     "output_type": "display_data"
    },
    {
     "data": {
      "application/vnd.jupyter.widget-view+json": {
       "model_id": "",
       "version_major": 2,
       "version_minor": 0
      },
      "text/plain": [
       "Validation: |                                                                                    | 0/? [00:00<…"
      ]
     },
     "metadata": {},
     "output_type": "display_data"
    },
    {
     "data": {
      "application/vnd.jupyter.widget-view+json": {
       "model_id": "",
       "version_major": 2,
       "version_minor": 0
      },
      "text/plain": [
       "Validation: |                                                                                    | 0/? [00:00<…"
      ]
     },
     "metadata": {},
     "output_type": "display_data"
    },
    {
     "data": {
      "application/vnd.jupyter.widget-view+json": {
       "model_id": "",
       "version_major": 2,
       "version_minor": 0
      },
      "text/plain": [
       "Validation: |                                                                                    | 0/? [00:00<…"
      ]
     },
     "metadata": {},
     "output_type": "display_data"
    },
    {
     "data": {
      "application/vnd.jupyter.widget-view+json": {
       "model_id": "",
       "version_major": 2,
       "version_minor": 0
      },
      "text/plain": [
       "Validation: |                                                                                    | 0/? [00:00<…"
      ]
     },
     "metadata": {},
     "output_type": "display_data"
    },
    {
     "data": {
      "application/vnd.jupyter.widget-view+json": {
       "model_id": "",
       "version_major": 2,
       "version_minor": 0
      },
      "text/plain": [
       "Validation: |                                                                                    | 0/? [00:00<…"
      ]
     },
     "metadata": {},
     "output_type": "display_data"
    },
    {
     "data": {
      "application/vnd.jupyter.widget-view+json": {
       "model_id": "",
       "version_major": 2,
       "version_minor": 0
      },
      "text/plain": [
       "Validation: |                                                                                    | 0/? [00:00<…"
      ]
     },
     "metadata": {},
     "output_type": "display_data"
    },
    {
     "data": {
      "application/vnd.jupyter.widget-view+json": {
       "model_id": "",
       "version_major": 2,
       "version_minor": 0
      },
      "text/plain": [
       "Validation: |                                                                                    | 0/? [00:00<…"
      ]
     },
     "metadata": {},
     "output_type": "display_data"
    },
    {
     "data": {
      "application/vnd.jupyter.widget-view+json": {
       "model_id": "",
       "version_major": 2,
       "version_minor": 0
      },
      "text/plain": [
       "Validation: |                                                                                    | 0/? [00:00<…"
      ]
     },
     "metadata": {},
     "output_type": "display_data"
    },
    {
     "data": {
      "application/vnd.jupyter.widget-view+json": {
       "model_id": "",
       "version_major": 2,
       "version_minor": 0
      },
      "text/plain": [
       "Validation: |                                                                                    | 0/? [00:00<…"
      ]
     },
     "metadata": {},
     "output_type": "display_data"
    },
    {
     "data": {
      "application/vnd.jupyter.widget-view+json": {
       "model_id": "",
       "version_major": 2,
       "version_minor": 0
      },
      "text/plain": [
       "Validation: |                                                                                    | 0/? [00:00<…"
      ]
     },
     "metadata": {},
     "output_type": "display_data"
    },
    {
     "name": "stderr",
     "output_type": "stream",
     "text": [
      "`Trainer.fit` stopped: `max_steps=1000` reached.\n"
     ]
    },
    {
     "name": "stdout",
     "output_type": "stream",
     "text": [
      "CPU times: total: 7min 15s\n",
      "Wall time: 2min 36s\n"
     ]
    }
   ],
   "source": [
    "%%time\n",
    "\n",
    "from neuralforecast import NeuralForecast\n",
    "\n",
    "# Assuming you have already defined your model\n",
    "nf = NeuralForecast(models=[model], freq='D')  # Adjusting 'freq' to 'D' for daily data\n",
    "\n",
    "# Fit the model using the training data\n",
    "nf.fit(df=Y_train_df, val_size=val_size) "
   ]
  },
  {
   "cell_type": "code",
   "execution_count": 23,
   "id": "7021dee9",
   "metadata": {
    "scrolled": true
   },
   "outputs": [
    {
     "name": "stderr",
     "output_type": "stream",
     "text": [
      "Trainer already configured with model summary callbacks: [<class 'pytorch_lightning.callbacks.model_summary.ModelSummary'>]. Skipping setting a default `ModelSummary` callback.\n",
      "GPU available: False, used: False\n",
      "TPU available: False, using: 0 TPU cores\n",
      "HPU available: False, using: 0 HPUs\n",
      "\n",
      "  | Name         | Type          | Params | Mode \n",
      "-------------------------------------------------------\n",
      "0 | loss         | MAE           | 0      | train\n",
      "1 | padder_train | ConstantPad1d | 0      | train\n",
      "2 | scaler       | TemporalNorm  | 0      | train\n",
      "3 | blocks       | ModuleList    | 2.7 M  | train\n",
      "-------------------------------------------------------\n",
      "2.6 M     Trainable params\n",
      "7.3 K     Non-trainable params\n",
      "2.7 M     Total params\n",
      "10.602    Total estimated model params size (MB)\n",
      "31        Modules in train mode\n",
      "0         Modules in eval mode\n"
     ]
    },
    {
     "data": {
      "application/vnd.jupyter.widget-view+json": {
       "model_id": "",
       "version_major": 2,
       "version_minor": 0
      },
      "text/plain": [
       "Sanity Checking: |                                                                               | 0/? [00:00<…"
      ]
     },
     "metadata": {},
     "output_type": "display_data"
    },
    {
     "data": {
      "application/vnd.jupyter.widget-view+json": {
       "model_id": "818c72ddc622445791b113e2f15caac7",
       "version_major": 2,
       "version_minor": 0
      },
      "text/plain": [
       "Training: |                                                                                      | 0/? [00:00<…"
      ]
     },
     "metadata": {},
     "output_type": "display_data"
    },
    {
     "data": {
      "application/vnd.jupyter.widget-view+json": {
       "model_id": "",
       "version_major": 2,
       "version_minor": 0
      },
      "text/plain": [
       "Validation: |                                                                                    | 0/? [00:00<…"
      ]
     },
     "metadata": {},
     "output_type": "display_data"
    },
    {
     "data": {
      "application/vnd.jupyter.widget-view+json": {
       "model_id": "",
       "version_major": 2,
       "version_minor": 0
      },
      "text/plain": [
       "Validation: |                                                                                    | 0/? [00:00<…"
      ]
     },
     "metadata": {},
     "output_type": "display_data"
    },
    {
     "data": {
      "application/vnd.jupyter.widget-view+json": {
       "model_id": "",
       "version_major": 2,
       "version_minor": 0
      },
      "text/plain": [
       "Validation: |                                                                                    | 0/? [00:00<…"
      ]
     },
     "metadata": {},
     "output_type": "display_data"
    },
    {
     "data": {
      "application/vnd.jupyter.widget-view+json": {
       "model_id": "",
       "version_major": 2,
       "version_minor": 0
      },
      "text/plain": [
       "Validation: |                                                                                    | 0/? [00:00<…"
      ]
     },
     "metadata": {},
     "output_type": "display_data"
    },
    {
     "data": {
      "application/vnd.jupyter.widget-view+json": {
       "model_id": "",
       "version_major": 2,
       "version_minor": 0
      },
      "text/plain": [
       "Validation: |                                                                                    | 0/? [00:00<…"
      ]
     },
     "metadata": {},
     "output_type": "display_data"
    },
    {
     "data": {
      "application/vnd.jupyter.widget-view+json": {
       "model_id": "",
       "version_major": 2,
       "version_minor": 0
      },
      "text/plain": [
       "Validation: |                                                                                    | 0/? [00:00<…"
      ]
     },
     "metadata": {},
     "output_type": "display_data"
    },
    {
     "data": {
      "application/vnd.jupyter.widget-view+json": {
       "model_id": "",
       "version_major": 2,
       "version_minor": 0
      },
      "text/plain": [
       "Validation: |                                                                                    | 0/? [00:00<…"
      ]
     },
     "metadata": {},
     "output_type": "display_data"
    },
    {
     "data": {
      "application/vnd.jupyter.widget-view+json": {
       "model_id": "",
       "version_major": 2,
       "version_minor": 0
      },
      "text/plain": [
       "Validation: |                                                                                    | 0/? [00:00<…"
      ]
     },
     "metadata": {},
     "output_type": "display_data"
    },
    {
     "data": {
      "application/vnd.jupyter.widget-view+json": {
       "model_id": "",
       "version_major": 2,
       "version_minor": 0
      },
      "text/plain": [
       "Validation: |                                                                                    | 0/? [00:00<…"
      ]
     },
     "metadata": {},
     "output_type": "display_data"
    },
    {
     "data": {
      "application/vnd.jupyter.widget-view+json": {
       "model_id": "",
       "version_major": 2,
       "version_minor": 0
      },
      "text/plain": [
       "Validation: |                                                                                    | 0/? [00:00<…"
      ]
     },
     "metadata": {},
     "output_type": "display_data"
    },
    {
     "name": "stderr",
     "output_type": "stream",
     "text": [
      "`Trainer.fit` stopped: `max_steps=1000` reached.\n",
      "Trainer already configured with model summary callbacks: [<class 'pytorch_lightning.callbacks.model_summary.ModelSummary'>]. Skipping setting a default `ModelSummary` callback.\n",
      "GPU available: False, used: False\n",
      "TPU available: False, using: 0 TPU cores\n",
      "HPU available: False, using: 0 HPUs\n"
     ]
    },
    {
     "data": {
      "application/vnd.jupyter.widget-view+json": {
       "model_id": "0399fce39dfc4cdc8a78f9e7bf015c28",
       "version_major": 2,
       "version_minor": 0
      },
      "text/plain": [
       "Predicting: |                                                                                    | 0/? [00:00<…"
      ]
     },
     "metadata": {},
     "output_type": "display_data"
    },
    {
     "name": "stdout",
     "output_type": "stream",
     "text": [
      "CPU times: total: 7min 36s\n",
      "Wall time: 2min 38s\n"
     ]
    },
    {
     "name": "stderr",
     "output_type": "stream",
     "text": [
      "C:\\Users\\rahuu\\anaconda3\\lib\\site-packages\\neuralforecast\\core.py:214: FutureWarning: In a future version the predictions will have the id as a column. You can set the `NIXTLA_ID_AS_COL` environment variable to adopt the new behavior and to suppress this warning.\n",
      "  warnings.warn(\n"
     ]
    }
   ],
   "source": [
    "%%time\n",
    "Y_hat_df = nf.cross_validation(df=Y_df,\n",
    "                               val_size=val_size,\n",
    "                               test_size=test_size,\n",
    "                               n_windows=None)"
   ]
  },
  {
   "cell_type": "code",
   "execution_count": 24,
   "id": "ce806942",
   "metadata": {},
   "outputs": [
    {
     "data": {
      "text/html": [
       "<div>\n",
       "<style scoped>\n",
       "    .dataframe tbody tr th:only-of-type {\n",
       "        vertical-align: middle;\n",
       "    }\n",
       "\n",
       "    .dataframe tbody tr th {\n",
       "        vertical-align: top;\n",
       "    }\n",
       "\n",
       "    .dataframe thead th {\n",
       "        text-align: right;\n",
       "    }\n",
       "</style>\n",
       "<table border=\"1\" class=\"dataframe\">\n",
       "  <thead>\n",
       "    <tr style=\"text-align: right;\">\n",
       "      <th></th>\n",
       "      <th>ds</th>\n",
       "      <th>cutoff</th>\n",
       "      <th>NBEATS</th>\n",
       "      <th>y</th>\n",
       "    </tr>\n",
       "    <tr>\n",
       "      <th>unique_id</th>\n",
       "      <th></th>\n",
       "      <th></th>\n",
       "      <th></th>\n",
       "      <th></th>\n",
       "    </tr>\n",
       "  </thead>\n",
       "  <tbody>\n",
       "    <tr>\n",
       "      <th>G620_water_level</th>\n",
       "      <td>2024-01-29</td>\n",
       "      <td>2024-01-28</td>\n",
       "      <td>5.990283</td>\n",
       "      <td>5.99</td>\n",
       "    </tr>\n",
       "    <tr>\n",
       "      <th>G620_water_level</th>\n",
       "      <td>2024-01-30</td>\n",
       "      <td>2024-01-28</td>\n",
       "      <td>5.982627</td>\n",
       "      <td>5.97</td>\n",
       "    </tr>\n",
       "    <tr>\n",
       "      <th>G620_water_level</th>\n",
       "      <td>2024-01-31</td>\n",
       "      <td>2024-01-28</td>\n",
       "      <td>5.986104</td>\n",
       "      <td>5.96</td>\n",
       "    </tr>\n",
       "    <tr>\n",
       "      <th>G620_water_level</th>\n",
       "      <td>2024-02-01</td>\n",
       "      <td>2024-01-28</td>\n",
       "      <td>6.011614</td>\n",
       "      <td>5.95</td>\n",
       "    </tr>\n",
       "    <tr>\n",
       "      <th>G620_water_level</th>\n",
       "      <td>2024-02-02</td>\n",
       "      <td>2024-01-28</td>\n",
       "      <td>5.999203</td>\n",
       "      <td>5.94</td>\n",
       "    </tr>\n",
       "    <tr>\n",
       "      <th>...</th>\n",
       "      <td>...</td>\n",
       "      <td>...</td>\n",
       "      <td>...</td>\n",
       "      <td>...</td>\n",
       "    </tr>\n",
       "    <tr>\n",
       "      <th>TSH_stage</th>\n",
       "      <td>2024-08-22</td>\n",
       "      <td>2024-07-29</td>\n",
       "      <td>2.726345</td>\n",
       "      <td>2.78</td>\n",
       "    </tr>\n",
       "    <tr>\n",
       "      <th>TSH_stage</th>\n",
       "      <td>2024-08-23</td>\n",
       "      <td>2024-07-29</td>\n",
       "      <td>2.718622</td>\n",
       "      <td>2.81</td>\n",
       "    </tr>\n",
       "    <tr>\n",
       "      <th>TSH_stage</th>\n",
       "      <td>2024-08-24</td>\n",
       "      <td>2024-07-29</td>\n",
       "      <td>2.658602</td>\n",
       "      <td>2.80</td>\n",
       "    </tr>\n",
       "    <tr>\n",
       "      <th>TSH_stage</th>\n",
       "      <td>2024-08-25</td>\n",
       "      <td>2024-07-29</td>\n",
       "      <td>2.648925</td>\n",
       "      <td>2.80</td>\n",
       "    </tr>\n",
       "    <tr>\n",
       "      <th>TSH_stage</th>\n",
       "      <td>2024-08-26</td>\n",
       "      <td>2024-07-29</td>\n",
       "      <td>2.670222</td>\n",
       "      <td>2.80</td>\n",
       "    </tr>\n",
       "  </tbody>\n",
       "</table>\n",
       "<p>190624 rows × 4 columns</p>\n",
       "</div>"
      ],
      "text/plain": [
       "                         ds     cutoff    NBEATS     y\n",
       "unique_id                                             \n",
       "G620_water_level 2024-01-29 2024-01-28  5.990283  5.99\n",
       "G620_water_level 2024-01-30 2024-01-28  5.982627  5.97\n",
       "G620_water_level 2024-01-31 2024-01-28  5.986104  5.96\n",
       "G620_water_level 2024-02-01 2024-01-28  6.011614  5.95\n",
       "G620_water_level 2024-02-02 2024-01-28  5.999203  5.94\n",
       "...                     ...        ...       ...   ...\n",
       "TSH_stage        2024-08-22 2024-07-29  2.726345  2.78\n",
       "TSH_stage        2024-08-23 2024-07-29  2.718622  2.81\n",
       "TSH_stage        2024-08-24 2024-07-29  2.658602  2.80\n",
       "TSH_stage        2024-08-25 2024-07-29  2.648925  2.80\n",
       "TSH_stage        2024-08-26 2024-07-29  2.670222  2.80\n",
       "\n",
       "[190624 rows x 4 columns]"
      ]
     },
     "execution_count": 24,
     "metadata": {},
     "output_type": "execute_result"
    }
   ],
   "source": [
    "Y_hat_df"
   ]
  },
  {
   "cell_type": "code",
   "execution_count": 25,
   "id": "201bb404",
   "metadata": {},
   "outputs": [
    {
     "name": "stdout",
     "output_type": "stream",
     "text": [
      "G620_water_level    5152\n",
      "S199                5152\n",
      "S332B               5152\n",
      "S332BN              5152\n",
      "S332C               5152\n",
      "S332D               5152\n",
      "S332DX1             5152\n",
      "S333                5152\n",
      "S333N               5152\n",
      "S333_T              5152\n",
      "S334                5152\n",
      "S334_H              5152\n",
      "S343A               5152\n",
      "S343B               5152\n",
      "S344                5152\n",
      "S356                5152\n",
      "SWEVER4_stage       5152\n",
      "S200                5152\n",
      "S18C_S              5152\n",
      "NESRS1              5152\n",
      "S12D_T              5152\n",
      "NESRS2              5152\n",
      "NP205_PET           5152\n",
      "NP205_rain          5152\n",
      "NP205_stage         5152\n",
      "NP62_stage          5152\n",
      "P33_PET             5152\n",
      "P33_rain            5152\n",
      "P33_stage           5152\n",
      "S12A                5152\n",
      "S12A_T              5152\n",
      "S12B                5152\n",
      "S12B_T              5152\n",
      "S12C                5152\n",
      "S12C_T              5152\n",
      "S12D                5152\n",
      "TSH_stage           5152\n",
      "Name: unique_id, dtype: int64\n"
     ]
    }
   ],
   "source": [
    "# Reset the index of Y_hat_df to convert 'unique_id' and 'ds' into columns\n",
    "Y_hat_df = Y_hat_df.reset_index()\n",
    "\n",
    "#rechecking Unique IDs\n",
    "unique_id_counts = Y_hat_df['unique_id'].value_counts()\n",
    "print(unique_id_counts)"
   ]
  },
  {
   "cell_type": "code",
   "execution_count": 26,
   "id": "fa046a74",
   "metadata": {
    "scrolled": true
   },
   "outputs": [
    {
     "data": {
      "text/html": [
       "<div>\n",
       "<style scoped>\n",
       "    .dataframe tbody tr th:only-of-type {\n",
       "        vertical-align: middle;\n",
       "    }\n",
       "\n",
       "    .dataframe tbody tr th {\n",
       "        vertical-align: top;\n",
       "    }\n",
       "\n",
       "    .dataframe thead th {\n",
       "        text-align: right;\n",
       "    }\n",
       "</style>\n",
       "<table border=\"1\" class=\"dataframe\">\n",
       "  <thead>\n",
       "    <tr style=\"text-align: right;\">\n",
       "      <th></th>\n",
       "      <th>unique_id</th>\n",
       "      <th>ds</th>\n",
       "      <th>NBEATS</th>\n",
       "      <th>y</th>\n",
       "    </tr>\n",
       "  </thead>\n",
       "  <tbody>\n",
       "    <tr>\n",
       "      <th>0</th>\n",
       "      <td>G620_water_level</td>\n",
       "      <td>2024-01-29</td>\n",
       "      <td>5.990283</td>\n",
       "      <td>5.99</td>\n",
       "    </tr>\n",
       "    <tr>\n",
       "      <th>1</th>\n",
       "      <td>G620_water_level</td>\n",
       "      <td>2024-01-30</td>\n",
       "      <td>5.980088</td>\n",
       "      <td>5.97</td>\n",
       "    </tr>\n",
       "    <tr>\n",
       "      <th>2</th>\n",
       "      <td>G620_water_level</td>\n",
       "      <td>2024-01-31</td>\n",
       "      <td>5.970243</td>\n",
       "      <td>5.96</td>\n",
       "    </tr>\n",
       "    <tr>\n",
       "      <th>3</th>\n",
       "      <td>G620_water_level</td>\n",
       "      <td>2024-02-01</td>\n",
       "      <td>5.970322</td>\n",
       "      <td>5.95</td>\n",
       "    </tr>\n",
       "    <tr>\n",
       "      <th>4</th>\n",
       "      <td>G620_water_level</td>\n",
       "      <td>2024-02-02</td>\n",
       "      <td>5.967651</td>\n",
       "      <td>5.94</td>\n",
       "    </tr>\n",
       "    <tr>\n",
       "      <th>...</th>\n",
       "      <td>...</td>\n",
       "      <td>...</td>\n",
       "      <td>...</td>\n",
       "      <td>...</td>\n",
       "    </tr>\n",
       "    <tr>\n",
       "      <th>7802</th>\n",
       "      <td>TSH_stage</td>\n",
       "      <td>2024-08-22</td>\n",
       "      <td>2.705861</td>\n",
       "      <td>2.78</td>\n",
       "    </tr>\n",
       "    <tr>\n",
       "      <th>7803</th>\n",
       "      <td>TSH_stage</td>\n",
       "      <td>2024-08-23</td>\n",
       "      <td>2.686831</td>\n",
       "      <td>2.81</td>\n",
       "    </tr>\n",
       "    <tr>\n",
       "      <th>7804</th>\n",
       "      <td>TSH_stage</td>\n",
       "      <td>2024-08-24</td>\n",
       "      <td>2.663762</td>\n",
       "      <td>2.80</td>\n",
       "    </tr>\n",
       "    <tr>\n",
       "      <th>7805</th>\n",
       "      <td>TSH_stage</td>\n",
       "      <td>2024-08-25</td>\n",
       "      <td>2.652651</td>\n",
       "      <td>2.80</td>\n",
       "    </tr>\n",
       "    <tr>\n",
       "      <th>7806</th>\n",
       "      <td>TSH_stage</td>\n",
       "      <td>2024-08-26</td>\n",
       "      <td>2.670222</td>\n",
       "      <td>2.80</td>\n",
       "    </tr>\n",
       "  </tbody>\n",
       "</table>\n",
       "<p>7807 rows × 4 columns</p>\n",
       "</div>"
      ],
      "text/plain": [
       "             unique_id         ds    NBEATS     y\n",
       "0     G620_water_level 2024-01-29  5.990283  5.99\n",
       "1     G620_water_level 2024-01-30  5.980088  5.97\n",
       "2     G620_water_level 2024-01-31  5.970243  5.96\n",
       "3     G620_water_level 2024-02-01  5.970322  5.95\n",
       "4     G620_water_level 2024-02-02  5.967651  5.94\n",
       "...                ...        ...       ...   ...\n",
       "7802         TSH_stage 2024-08-22  2.705861  2.78\n",
       "7803         TSH_stage 2024-08-23  2.686831  2.81\n",
       "7804         TSH_stage 2024-08-24  2.663762  2.80\n",
       "7805         TSH_stage 2024-08-25  2.652651  2.80\n",
       "7806         TSH_stage 2024-08-26  2.670222  2.80\n",
       "\n",
       "[7807 rows x 4 columns]"
      ]
     },
     "execution_count": 26,
     "metadata": {},
     "output_type": "execute_result"
    }
   ],
   "source": [
    "Y_hat_df_agg = Y_hat_df.groupby(['unique_id', 'ds']).agg({'NBEATS': 'mean', 'y': 'mean'}).reset_index()\n",
    "Y_hat_df_agg"
   ]
  },
  {
   "cell_type": "code",
   "execution_count": 27,
   "id": "0d4d23aa",
   "metadata": {},
   "outputs": [
    {
     "name": "stderr",
     "output_type": "stream",
     "text": [
      "Trainer already configured with model summary callbacks: [<class 'pytorch_lightning.callbacks.model_summary.ModelSummary'>]. Skipping setting a default `ModelSummary` callback.\n",
      "GPU available: False, used: False\n",
      "TPU available: False, using: 0 TPU cores\n",
      "HPU available: False, using: 0 HPUs\n"
     ]
    },
    {
     "data": {
      "application/vnd.jupyter.widget-view+json": {
       "model_id": "6a4163dbe0fd4924860dde7f95564408",
       "version_major": 2,
       "version_minor": 0
      },
      "text/plain": [
       "Predicting: |                                                                                    | 0/? [00:00<…"
      ]
     },
     "metadata": {},
     "output_type": "display_data"
    },
    {
     "name": "stderr",
     "output_type": "stream",
     "text": [
      "C:\\Users\\rahuu\\anaconda3\\lib\\site-packages\\neuralforecast\\core.py:214: FutureWarning: In a future version the predictions will have the id as a column. You can set the `NIXTLA_ID_AS_COL` environment variable to adopt the new behavior and to suppress this warning.\n",
      "  warnings.warn(\n"
     ]
    },
    {
     "name": "stdout",
     "output_type": "stream",
     "text": [
      "CPU times: total: 453 ms\n",
      "Wall time: 345 ms\n"
     ]
    }
   ],
   "source": [
    "%%time\n",
    "forecasts = nf.predict(df=Y_df, test_size=test_size)"
   ]
  },
  {
   "cell_type": "code",
   "execution_count": 28,
   "id": "2bc02ee9",
   "metadata": {
    "scrolled": true
   },
   "outputs": [
    {
     "data": {
      "text/html": [
       "<div>\n",
       "<style scoped>\n",
       "    .dataframe tbody tr th:only-of-type {\n",
       "        vertical-align: middle;\n",
       "    }\n",
       "\n",
       "    .dataframe tbody tr th {\n",
       "        vertical-align: top;\n",
       "    }\n",
       "\n",
       "    .dataframe thead th {\n",
       "        text-align: right;\n",
       "    }\n",
       "</style>\n",
       "<table border=\"1\" class=\"dataframe\">\n",
       "  <thead>\n",
       "    <tr style=\"text-align: right;\">\n",
       "      <th></th>\n",
       "      <th>ds</th>\n",
       "      <th>NBEATS</th>\n",
       "    </tr>\n",
       "    <tr>\n",
       "      <th>unique_id</th>\n",
       "      <th></th>\n",
       "      <th></th>\n",
       "    </tr>\n",
       "  </thead>\n",
       "  <tbody>\n",
       "    <tr>\n",
       "      <th>G620_water_level</th>\n",
       "      <td>2024-08-27</td>\n",
       "      <td>6.195810</td>\n",
       "    </tr>\n",
       "    <tr>\n",
       "      <th>G620_water_level</th>\n",
       "      <td>2024-08-28</td>\n",
       "      <td>6.200572</td>\n",
       "    </tr>\n",
       "    <tr>\n",
       "      <th>G620_water_level</th>\n",
       "      <td>2024-08-29</td>\n",
       "      <td>6.183681</td>\n",
       "    </tr>\n",
       "    <tr>\n",
       "      <th>G620_water_level</th>\n",
       "      <td>2024-08-30</td>\n",
       "      <td>6.185258</td>\n",
       "    </tr>\n",
       "    <tr>\n",
       "      <th>G620_water_level</th>\n",
       "      <td>2024-08-31</td>\n",
       "      <td>6.180033</td>\n",
       "    </tr>\n",
       "    <tr>\n",
       "      <th>...</th>\n",
       "      <td>...</td>\n",
       "      <td>...</td>\n",
       "    </tr>\n",
       "    <tr>\n",
       "      <th>TSH_stage</th>\n",
       "      <td>2024-09-19</td>\n",
       "      <td>2.913281</td>\n",
       "    </tr>\n",
       "    <tr>\n",
       "      <th>TSH_stage</th>\n",
       "      <td>2024-09-20</td>\n",
       "      <td>2.898770</td>\n",
       "    </tr>\n",
       "    <tr>\n",
       "      <th>TSH_stage</th>\n",
       "      <td>2024-09-21</td>\n",
       "      <td>2.837719</td>\n",
       "    </tr>\n",
       "    <tr>\n",
       "      <th>TSH_stage</th>\n",
       "      <td>2024-09-22</td>\n",
       "      <td>2.804840</td>\n",
       "    </tr>\n",
       "    <tr>\n",
       "      <th>TSH_stage</th>\n",
       "      <td>2024-09-23</td>\n",
       "      <td>2.808660</td>\n",
       "    </tr>\n",
       "  </tbody>\n",
       "</table>\n",
       "<p>1036 rows × 2 columns</p>\n",
       "</div>"
      ],
      "text/plain": [
       "                         ds    NBEATS\n",
       "unique_id                            \n",
       "G620_water_level 2024-08-27  6.195810\n",
       "G620_water_level 2024-08-28  6.200572\n",
       "G620_water_level 2024-08-29  6.183681\n",
       "G620_water_level 2024-08-30  6.185258\n",
       "G620_water_level 2024-08-31  6.180033\n",
       "...                     ...       ...\n",
       "TSH_stage        2024-09-19  2.913281\n",
       "TSH_stage        2024-09-20  2.898770\n",
       "TSH_stage        2024-09-21  2.837719\n",
       "TSH_stage        2024-09-22  2.804840\n",
       "TSH_stage        2024-09-23  2.808660\n",
       "\n",
       "[1036 rows x 2 columns]"
      ]
     },
     "execution_count": 28,
     "metadata": {},
     "output_type": "execute_result"
    }
   ],
   "source": [
    "forecasts"
   ]
  },
  {
   "cell_type": "code",
   "execution_count": 29,
   "id": "ecf7ba56",
   "metadata": {},
   "outputs": [],
   "source": [
    "# Reset the index of Y_hat_df to convert 'unique_id' and 'ds' into columns\n",
    "forecasts = forecasts.reset_index()"
   ]
  },
  {
   "cell_type": "code",
   "execution_count": 30,
   "id": "7f68ae48",
   "metadata": {},
   "outputs": [
    {
     "data": {
      "text/html": [
       "<div>\n",
       "<style scoped>\n",
       "    .dataframe tbody tr th:only-of-type {\n",
       "        vertical-align: middle;\n",
       "    }\n",
       "\n",
       "    .dataframe tbody tr th {\n",
       "        vertical-align: top;\n",
       "    }\n",
       "\n",
       "    .dataframe thead th {\n",
       "        text-align: right;\n",
       "    }\n",
       "</style>\n",
       "<table border=\"1\" class=\"dataframe\">\n",
       "  <thead>\n",
       "    <tr style=\"text-align: right;\">\n",
       "      <th></th>\n",
       "      <th>unique_id</th>\n",
       "      <th>ds</th>\n",
       "      <th>NBEATS</th>\n",
       "    </tr>\n",
       "  </thead>\n",
       "  <tbody>\n",
       "    <tr>\n",
       "      <th>0</th>\n",
       "      <td>G620_water_level</td>\n",
       "      <td>2024-08-27</td>\n",
       "      <td>6.195810</td>\n",
       "    </tr>\n",
       "    <tr>\n",
       "      <th>1</th>\n",
       "      <td>G620_water_level</td>\n",
       "      <td>2024-08-28</td>\n",
       "      <td>6.200572</td>\n",
       "    </tr>\n",
       "    <tr>\n",
       "      <th>2</th>\n",
       "      <td>G620_water_level</td>\n",
       "      <td>2024-08-29</td>\n",
       "      <td>6.183681</td>\n",
       "    </tr>\n",
       "    <tr>\n",
       "      <th>3</th>\n",
       "      <td>G620_water_level</td>\n",
       "      <td>2024-08-30</td>\n",
       "      <td>6.185258</td>\n",
       "    </tr>\n",
       "    <tr>\n",
       "      <th>4</th>\n",
       "      <td>G620_water_level</td>\n",
       "      <td>2024-08-31</td>\n",
       "      <td>6.180033</td>\n",
       "    </tr>\n",
       "    <tr>\n",
       "      <th>...</th>\n",
       "      <td>...</td>\n",
       "      <td>...</td>\n",
       "      <td>...</td>\n",
       "    </tr>\n",
       "    <tr>\n",
       "      <th>1031</th>\n",
       "      <td>TSH_stage</td>\n",
       "      <td>2024-09-19</td>\n",
       "      <td>2.913281</td>\n",
       "    </tr>\n",
       "    <tr>\n",
       "      <th>1032</th>\n",
       "      <td>TSH_stage</td>\n",
       "      <td>2024-09-20</td>\n",
       "      <td>2.898770</td>\n",
       "    </tr>\n",
       "    <tr>\n",
       "      <th>1033</th>\n",
       "      <td>TSH_stage</td>\n",
       "      <td>2024-09-21</td>\n",
       "      <td>2.837719</td>\n",
       "    </tr>\n",
       "    <tr>\n",
       "      <th>1034</th>\n",
       "      <td>TSH_stage</td>\n",
       "      <td>2024-09-22</td>\n",
       "      <td>2.804840</td>\n",
       "    </tr>\n",
       "    <tr>\n",
       "      <th>1035</th>\n",
       "      <td>TSH_stage</td>\n",
       "      <td>2024-09-23</td>\n",
       "      <td>2.808660</td>\n",
       "    </tr>\n",
       "  </tbody>\n",
       "</table>\n",
       "<p>1036 rows × 3 columns</p>\n",
       "</div>"
      ],
      "text/plain": [
       "             unique_id         ds    NBEATS\n",
       "0     G620_water_level 2024-08-27  6.195810\n",
       "1     G620_water_level 2024-08-28  6.200572\n",
       "2     G620_water_level 2024-08-29  6.183681\n",
       "3     G620_water_level 2024-08-30  6.185258\n",
       "4     G620_water_level 2024-08-31  6.180033\n",
       "...                ...        ...       ...\n",
       "1031         TSH_stage 2024-09-19  2.913281\n",
       "1032         TSH_stage 2024-09-20  2.898770\n",
       "1033         TSH_stage 2024-09-21  2.837719\n",
       "1034         TSH_stage 2024-09-22  2.804840\n",
       "1035         TSH_stage 2024-09-23  2.808660\n",
       "\n",
       "[1036 rows x 3 columns]"
      ]
     },
     "execution_count": 30,
     "metadata": {},
     "output_type": "execute_result"
    }
   ],
   "source": [
    "forecasts"
   ]
  },
  {
   "cell_type": "code",
   "execution_count": null,
   "id": "319300ff",
   "metadata": {},
   "outputs": [],
   "source": [
    "# Saving the trained model\n",
    "nf.save(\"Output/NBEATS-trained\")"
   ]
  },
  {
   "cell_type": "code",
   "execution_count": null,
   "id": "8cd4a955",
   "metadata": {},
   "outputs": [],
   "source": [
    "Y_hat_df_agg.to_csv(\"Output/NBEATS_results.csv\", index=True)"
   ]
  },
  {
   "cell_type": "code",
   "execution_count": null,
   "id": "fe583141",
   "metadata": {},
   "outputs": [],
   "source": [
    "forecasts.to_csv(\"Output/NBEATS_predictions.csv\", index=True)"
   ]
  },
  {
   "cell_type": "code",
   "execution_count": 34,
   "id": "25454adf",
   "metadata": {},
   "outputs": [
    {
     "name": "stdout",
     "output_type": "stream",
     "text": [
      "======== NP205_stage ========\n",
      "MAE = 0.319229\n",
      "RMSE = 0.468099\n",
      "\n",
      "======== P33_stage ========\n",
      "MAE = 0.139480\n",
      "RMSE = 0.197575\n",
      "\n"
     ]
    }
   ],
   "source": [
    "from sklearn.metrics import mean_absolute_error as mae, mean_squared_error as mse\n",
    "# List of stages to evaluate\n",
    "stages = ['NP205_stage', 'P33_stage']\n",
    "\n",
    "for stage in stages:\n",
    "    # Filter the data for the specific stage\n",
    "    stage_data = Y_hat_df_agg[Y_hat_df_agg['unique_id'] == stage]\n",
    "    print(f\"======== {stage} ========\")\n",
    "    \n",
    "    # Extract the actual and predicted values\n",
    "    true = stage_data['y'].values\n",
    "    pred = stage_data['NBEATS'].values\n",
    "    \n",
    "    # Calculate MAE and RMSE\n",
    "    mae_value = mae(true, pred)\n",
    "    rmse_value = np.sqrt(mse(true, pred))\n",
    "    \n",
    "    # Print the results\n",
    "    print(f'MAE = {mae_value:.6f}')\n",
    "    print(f'RMSE = {rmse_value:.6f}\\n')"
   ]
  },
  {
   "cell_type": "code",
   "execution_count": 36,
   "id": "e1d8691b",
   "metadata": {},
   "outputs": [
    {
     "name": "stderr",
     "output_type": "stream",
     "text": [
      "Seed set to 1\n",
      "Seed set to 1\n",
      "Seed set to 1\n"
     ]
    }
   ],
   "source": [
    "from neuralforecast.models import Informer, Autoformer, PatchTST\n",
    "\n",
    "models_all = [Informer(h=horizon,                 # Forecasting horizon\n",
    "                input_size=100,           # Input size\n",
    "                max_steps=1000,               # Number of training iterations\n",
    "                val_check_steps=100,          # Compute validation loss every 100 steps\n",
    "                early_stop_patience_steps=50), # Stop training if validation loss does not improve\n",
    "          Autoformer(h=horizon,\n",
    "                input_size=100,\n",
    "                max_steps=1000,\n",
    "                val_check_steps=100,\n",
    "                early_stop_patience_steps=50),\n",
    "          PatchTST(h=horizon,\n",
    "                input_size=100,\n",
    "                max_steps=1000,\n",
    "                val_check_steps=100,\n",
    "                early_stop_patience_steps=50),\n",
    "         ]"
   ]
  },
  {
   "cell_type": "code",
   "execution_count": 37,
   "id": "98aa9878",
   "metadata": {},
   "outputs": [],
   "source": [
    "nf_all = NeuralForecast(models=models_all, freq='D')"
   ]
  },
  {
   "cell_type": "code",
   "execution_count": 38,
   "id": "8c629516",
   "metadata": {},
   "outputs": [
    {
     "name": "stderr",
     "output_type": "stream",
     "text": [
      "GPU available: False, used: False\n",
      "TPU available: False, using: 0 TPU cores\n",
      "HPU available: False, using: 0 HPUs\n",
      "\n",
      "  | Name          | Type          | Params | Mode \n",
      "--------------------------------------------------------\n",
      "0 | loss          | MAE           | 0      | train\n",
      "1 | padder_train  | ConstantPad1d | 0      | train\n",
      "2 | scaler        | TemporalNorm  | 0      | train\n",
      "3 | enc_embedding | DataEmbedding | 384    | train\n",
      "4 | dec_embedding | DataEmbedding | 384    | train\n",
      "5 | encoder       | TransEncoder  | 199 K  | train\n",
      "6 | decoder       | TransDecoder  | 141 K  | train\n",
      "--------------------------------------------------------\n",
      "341 K     Trainable params\n",
      "0         Non-trainable params\n",
      "341 K     Total params\n",
      "1.368     Total estimated model params size (MB)\n",
      "73        Modules in train mode\n",
      "0         Modules in eval mode\n"
     ]
    },
    {
     "data": {
      "application/vnd.jupyter.widget-view+json": {
       "model_id": "",
       "version_major": 2,
       "version_minor": 0
      },
      "text/plain": [
       "Sanity Checking: |                                                                               | 0/? [00:00<…"
      ]
     },
     "metadata": {},
     "output_type": "display_data"
    },
    {
     "data": {
      "application/vnd.jupyter.widget-view+json": {
       "model_id": "7f75558405f441799a5662d887753e7c",
       "version_major": 2,
       "version_minor": 0
      },
      "text/plain": [
       "Training: |                                                                                      | 0/? [00:00<…"
      ]
     },
     "metadata": {},
     "output_type": "display_data"
    },
    {
     "data": {
      "application/vnd.jupyter.widget-view+json": {
       "model_id": "",
       "version_major": 2,
       "version_minor": 0
      },
      "text/plain": [
       "Validation: |                                                                                    | 0/? [00:00<…"
      ]
     },
     "metadata": {},
     "output_type": "display_data"
    },
    {
     "data": {
      "application/vnd.jupyter.widget-view+json": {
       "model_id": "",
       "version_major": 2,
       "version_minor": 0
      },
      "text/plain": [
       "Validation: |                                                                                    | 0/? [00:00<…"
      ]
     },
     "metadata": {},
     "output_type": "display_data"
    },
    {
     "data": {
      "application/vnd.jupyter.widget-view+json": {
       "model_id": "",
       "version_major": 2,
       "version_minor": 0
      },
      "text/plain": [
       "Validation: |                                                                                    | 0/? [00:00<…"
      ]
     },
     "metadata": {},
     "output_type": "display_data"
    },
    {
     "data": {
      "application/vnd.jupyter.widget-view+json": {
       "model_id": "",
       "version_major": 2,
       "version_minor": 0
      },
      "text/plain": [
       "Validation: |                                                                                    | 0/? [00:00<…"
      ]
     },
     "metadata": {},
     "output_type": "display_data"
    },
    {
     "data": {
      "application/vnd.jupyter.widget-view+json": {
       "model_id": "",
       "version_major": 2,
       "version_minor": 0
      },
      "text/plain": [
       "Validation: |                                                                                    | 0/? [00:00<…"
      ]
     },
     "metadata": {},
     "output_type": "display_data"
    },
    {
     "data": {
      "application/vnd.jupyter.widget-view+json": {
       "model_id": "",
       "version_major": 2,
       "version_minor": 0
      },
      "text/plain": [
       "Validation: |                                                                                    | 0/? [00:00<…"
      ]
     },
     "metadata": {},
     "output_type": "display_data"
    },
    {
     "data": {
      "application/vnd.jupyter.widget-view+json": {
       "model_id": "",
       "version_major": 2,
       "version_minor": 0
      },
      "text/plain": [
       "Validation: |                                                                                    | 0/? [00:00<…"
      ]
     },
     "metadata": {},
     "output_type": "display_data"
    },
    {
     "data": {
      "application/vnd.jupyter.widget-view+json": {
       "model_id": "",
       "version_major": 2,
       "version_minor": 0
      },
      "text/plain": [
       "Validation: |                                                                                    | 0/? [00:00<…"
      ]
     },
     "metadata": {},
     "output_type": "display_data"
    },
    {
     "data": {
      "application/vnd.jupyter.widget-view+json": {
       "model_id": "",
       "version_major": 2,
       "version_minor": 0
      },
      "text/plain": [
       "Validation: |                                                                                    | 0/? [00:00<…"
      ]
     },
     "metadata": {},
     "output_type": "display_data"
    },
    {
     "data": {
      "application/vnd.jupyter.widget-view+json": {
       "model_id": "",
       "version_major": 2,
       "version_minor": 0
      },
      "text/plain": [
       "Validation: |                                                                                    | 0/? [00:00<…"
      ]
     },
     "metadata": {},
     "output_type": "display_data"
    },
    {
     "name": "stderr",
     "output_type": "stream",
     "text": [
      "`Trainer.fit` stopped: `max_steps=1000` reached.\n",
      "GPU available: False, used: False\n",
      "TPU available: False, using: 0 TPU cores\n",
      "HPU available: False, using: 0 HPUs\n",
      "\n",
      "  | Name          | Type          | Params | Mode \n",
      "--------------------------------------------------------\n",
      "0 | loss          | MAE           | 0      | train\n",
      "1 | padder_train  | ConstantPad1d | 0      | train\n",
      "2 | scaler        | TemporalNorm  | 0      | train\n",
      "3 | decomp        | SeriesDecomp  | 0      | train\n",
      "4 | enc_embedding | DataEmbedding | 384    | train\n",
      "5 | dec_embedding | DataEmbedding | 384    | train\n",
      "6 | encoder       | Encoder       | 148 K  | train\n",
      "7 | decoder       | Decoder       | 141 K  | train\n",
      "--------------------------------------------------------\n",
      "290 K     Trainable params\n",
      "0         Non-trainable params\n",
      "290 K     Total params\n",
      "1.162     Total estimated model params size (MB)\n",
      "85        Modules in train mode\n",
      "0         Modules in eval mode\n"
     ]
    },
    {
     "data": {
      "application/vnd.jupyter.widget-view+json": {
       "model_id": "",
       "version_major": 2,
       "version_minor": 0
      },
      "text/plain": [
       "Sanity Checking: |                                                                               | 0/? [00:00<…"
      ]
     },
     "metadata": {},
     "output_type": "display_data"
    },
    {
     "data": {
      "application/vnd.jupyter.widget-view+json": {
       "model_id": "7421d7db359b4b889f8dbb2ed3494d16",
       "version_major": 2,
       "version_minor": 0
      },
      "text/plain": [
       "Training: |                                                                                      | 0/? [00:00<…"
      ]
     },
     "metadata": {},
     "output_type": "display_data"
    },
    {
     "data": {
      "application/vnd.jupyter.widget-view+json": {
       "model_id": "",
       "version_major": 2,
       "version_minor": 0
      },
      "text/plain": [
       "Validation: |                                                                                    | 0/? [00:00<…"
      ]
     },
     "metadata": {},
     "output_type": "display_data"
    },
    {
     "data": {
      "application/vnd.jupyter.widget-view+json": {
       "model_id": "",
       "version_major": 2,
       "version_minor": 0
      },
      "text/plain": [
       "Validation: |                                                                                    | 0/? [00:00<…"
      ]
     },
     "metadata": {},
     "output_type": "display_data"
    },
    {
     "data": {
      "application/vnd.jupyter.widget-view+json": {
       "model_id": "",
       "version_major": 2,
       "version_minor": 0
      },
      "text/plain": [
       "Validation: |                                                                                    | 0/? [00:00<…"
      ]
     },
     "metadata": {},
     "output_type": "display_data"
    },
    {
     "data": {
      "application/vnd.jupyter.widget-view+json": {
       "model_id": "",
       "version_major": 2,
       "version_minor": 0
      },
      "text/plain": [
       "Validation: |                                                                                    | 0/? [00:00<…"
      ]
     },
     "metadata": {},
     "output_type": "display_data"
    },
    {
     "data": {
      "application/vnd.jupyter.widget-view+json": {
       "model_id": "",
       "version_major": 2,
       "version_minor": 0
      },
      "text/plain": [
       "Validation: |                                                                                    | 0/? [00:00<…"
      ]
     },
     "metadata": {},
     "output_type": "display_data"
    },
    {
     "data": {
      "application/vnd.jupyter.widget-view+json": {
       "model_id": "",
       "version_major": 2,
       "version_minor": 0
      },
      "text/plain": [
       "Validation: |                                                                                    | 0/? [00:00<…"
      ]
     },
     "metadata": {},
     "output_type": "display_data"
    },
    {
     "data": {
      "application/vnd.jupyter.widget-view+json": {
       "model_id": "",
       "version_major": 2,
       "version_minor": 0
      },
      "text/plain": [
       "Validation: |                                                                                    | 0/? [00:00<…"
      ]
     },
     "metadata": {},
     "output_type": "display_data"
    },
    {
     "data": {
      "application/vnd.jupyter.widget-view+json": {
       "model_id": "",
       "version_major": 2,
       "version_minor": 0
      },
      "text/plain": [
       "Validation: |                                                                                    | 0/? [00:00<…"
      ]
     },
     "metadata": {},
     "output_type": "display_data"
    },
    {
     "data": {
      "application/vnd.jupyter.widget-view+json": {
       "model_id": "",
       "version_major": 2,
       "version_minor": 0
      },
      "text/plain": [
       "Validation: |                                                                                    | 0/? [00:00<…"
      ]
     },
     "metadata": {},
     "output_type": "display_data"
    },
    {
     "data": {
      "application/vnd.jupyter.widget-view+json": {
       "model_id": "",
       "version_major": 2,
       "version_minor": 0
      },
      "text/plain": [
       "Validation: |                                                                                    | 0/? [00:00<…"
      ]
     },
     "metadata": {},
     "output_type": "display_data"
    },
    {
     "name": "stderr",
     "output_type": "stream",
     "text": [
      "`Trainer.fit` stopped: `max_steps=1000` reached.\n",
      "GPU available: False, used: False\n",
      "TPU available: False, using: 0 TPU cores\n",
      "HPU available: False, using: 0 HPUs\n",
      "\n",
      "  | Name         | Type              | Params | Mode \n",
      "-----------------------------------------------------------\n",
      "0 | loss         | MAE               | 0      | train\n",
      "1 | padder_train | ConstantPad1d     | 0      | train\n",
      "2 | scaler       | TemporalNorm      | 0      | train\n",
      "3 | model        | PatchTST_backbone | 444 K  | train\n",
      "-----------------------------------------------------------\n",
      "444 K     Trainable params\n",
      "3         Non-trainable params\n",
      "444 K     Total params\n",
      "1.777     Total estimated model params size (MB)\n",
      "90        Modules in train mode\n",
      "0         Modules in eval mode\n"
     ]
    },
    {
     "data": {
      "application/vnd.jupyter.widget-view+json": {
       "model_id": "",
       "version_major": 2,
       "version_minor": 0
      },
      "text/plain": [
       "Sanity Checking: |                                                                               | 0/? [00:00<…"
      ]
     },
     "metadata": {},
     "output_type": "display_data"
    },
    {
     "data": {
      "application/vnd.jupyter.widget-view+json": {
       "model_id": "7eb07cecbd2d4027a9e7a05df0989e25",
       "version_major": 2,
       "version_minor": 0
      },
      "text/plain": [
       "Training: |                                                                                      | 0/? [00:00<…"
      ]
     },
     "metadata": {},
     "output_type": "display_data"
    },
    {
     "data": {
      "application/vnd.jupyter.widget-view+json": {
       "model_id": "",
       "version_major": 2,
       "version_minor": 0
      },
      "text/plain": [
       "Validation: |                                                                                    | 0/? [00:00<…"
      ]
     },
     "metadata": {},
     "output_type": "display_data"
    },
    {
     "data": {
      "application/vnd.jupyter.widget-view+json": {
       "model_id": "",
       "version_major": 2,
       "version_minor": 0
      },
      "text/plain": [
       "Validation: |                                                                                    | 0/? [00:00<…"
      ]
     },
     "metadata": {},
     "output_type": "display_data"
    },
    {
     "data": {
      "application/vnd.jupyter.widget-view+json": {
       "model_id": "",
       "version_major": 2,
       "version_minor": 0
      },
      "text/plain": [
       "Validation: |                                                                                    | 0/? [00:00<…"
      ]
     },
     "metadata": {},
     "output_type": "display_data"
    },
    {
     "data": {
      "application/vnd.jupyter.widget-view+json": {
       "model_id": "",
       "version_major": 2,
       "version_minor": 0
      },
      "text/plain": [
       "Validation: |                                                                                    | 0/? [00:00<…"
      ]
     },
     "metadata": {},
     "output_type": "display_data"
    },
    {
     "data": {
      "application/vnd.jupyter.widget-view+json": {
       "model_id": "",
       "version_major": 2,
       "version_minor": 0
      },
      "text/plain": [
       "Validation: |                                                                                    | 0/? [00:00<…"
      ]
     },
     "metadata": {},
     "output_type": "display_data"
    },
    {
     "data": {
      "application/vnd.jupyter.widget-view+json": {
       "model_id": "",
       "version_major": 2,
       "version_minor": 0
      },
      "text/plain": [
       "Validation: |                                                                                    | 0/? [00:00<…"
      ]
     },
     "metadata": {},
     "output_type": "display_data"
    },
    {
     "data": {
      "application/vnd.jupyter.widget-view+json": {
       "model_id": "",
       "version_major": 2,
       "version_minor": 0
      },
      "text/plain": [
       "Validation: |                                                                                    | 0/? [00:00<…"
      ]
     },
     "metadata": {},
     "output_type": "display_data"
    },
    {
     "data": {
      "application/vnd.jupyter.widget-view+json": {
       "model_id": "",
       "version_major": 2,
       "version_minor": 0
      },
      "text/plain": [
       "Validation: |                                                                                    | 0/? [00:00<…"
      ]
     },
     "metadata": {},
     "output_type": "display_data"
    },
    {
     "data": {
      "application/vnd.jupyter.widget-view+json": {
       "model_id": "",
       "version_major": 2,
       "version_minor": 0
      },
      "text/plain": [
       "Validation: |                                                                                    | 0/? [00:00<…"
      ]
     },
     "metadata": {},
     "output_type": "display_data"
    },
    {
     "data": {
      "application/vnd.jupyter.widget-view+json": {
       "model_id": "",
       "version_major": 2,
       "version_minor": 0
      },
      "text/plain": [
       "Validation: |                                                                                    | 0/? [00:00<…"
      ]
     },
     "metadata": {},
     "output_type": "display_data"
    },
    {
     "name": "stderr",
     "output_type": "stream",
     "text": [
      "`Trainer.fit` stopped: `max_steps=1000` reached.\n"
     ]
    },
    {
     "name": "stdout",
     "output_type": "stream",
     "text": [
      "CPU times: total: 14h 30min 28s\n",
      "Wall time: 4h 43min 47s\n"
     ]
    }
   ],
   "source": [
    "%%time\n",
    "# Fit the model using the training data\n",
    "nf_all.fit(df=Y_train_df, val_size=val_size) "
   ]
  },
  {
   "cell_type": "code",
   "execution_count": 39,
   "id": "ebe706c9",
   "metadata": {},
   "outputs": [
    {
     "name": "stderr",
     "output_type": "stream",
     "text": [
      "Trainer already configured with model summary callbacks: [<class 'pytorch_lightning.callbacks.model_summary.ModelSummary'>]. Skipping setting a default `ModelSummary` callback.\n",
      "GPU available: False, used: False\n",
      "TPU available: False, using: 0 TPU cores\n",
      "HPU available: False, using: 0 HPUs\n"
     ]
    },
    {
     "data": {
      "application/vnd.jupyter.widget-view+json": {
       "model_id": "9f725ca0a2a24e868aa36e37d4c926b4",
       "version_major": 2,
       "version_minor": 0
      },
      "text/plain": [
       "Predicting: |                                                                                    | 0/? [00:00<…"
      ]
     },
     "metadata": {},
     "output_type": "display_data"
    },
    {
     "name": "stderr",
     "output_type": "stream",
     "text": [
      "Trainer already configured with model summary callbacks: [<class 'pytorch_lightning.callbacks.model_summary.ModelSummary'>]. Skipping setting a default `ModelSummary` callback.\n",
      "GPU available: False, used: False\n",
      "TPU available: False, using: 0 TPU cores\n",
      "HPU available: False, using: 0 HPUs\n"
     ]
    },
    {
     "data": {
      "application/vnd.jupyter.widget-view+json": {
       "model_id": "8fc8aed64e7c40a98436ed343ac62f95",
       "version_major": 2,
       "version_minor": 0
      },
      "text/plain": [
       "Predicting: |                                                                                    | 0/? [00:00<…"
      ]
     },
     "metadata": {},
     "output_type": "display_data"
    },
    {
     "name": "stderr",
     "output_type": "stream",
     "text": [
      "Trainer already configured with model summary callbacks: [<class 'pytorch_lightning.callbacks.model_summary.ModelSummary'>]. Skipping setting a default `ModelSummary` callback.\n",
      "GPU available: False, used: False\n",
      "TPU available: False, using: 0 TPU cores\n",
      "HPU available: False, using: 0 HPUs\n"
     ]
    },
    {
     "data": {
      "application/vnd.jupyter.widget-view+json": {
       "model_id": "1696f237fdc74b7292b109419550ad29",
       "version_major": 2,
       "version_minor": 0
      },
      "text/plain": [
       "Predicting: |                                                                                    | 0/? [00:00<…"
      ]
     },
     "metadata": {},
     "output_type": "display_data"
    },
    {
     "name": "stdout",
     "output_type": "stream",
     "text": [
      "CPU times: total: 2.19 s\n",
      "Wall time: 1.65 s\n"
     ]
    },
    {
     "name": "stderr",
     "output_type": "stream",
     "text": [
      "C:\\Users\\rahuu\\anaconda3\\lib\\site-packages\\neuralforecast\\core.py:214: FutureWarning: In a future version the predictions will have the id as a column. You can set the `NIXTLA_ID_AS_COL` environment variable to adopt the new behavior and to suppress this warning.\n",
      "  warnings.warn(\n"
     ]
    },
    {
     "data": {
      "text/html": [
       "<div>\n",
       "<style scoped>\n",
       "    .dataframe tbody tr th:only-of-type {\n",
       "        vertical-align: middle;\n",
       "    }\n",
       "\n",
       "    .dataframe tbody tr th {\n",
       "        vertical-align: top;\n",
       "    }\n",
       "\n",
       "    .dataframe thead th {\n",
       "        text-align: right;\n",
       "    }\n",
       "</style>\n",
       "<table border=\"1\" class=\"dataframe\">\n",
       "  <thead>\n",
       "    <tr style=\"text-align: right;\">\n",
       "      <th></th>\n",
       "      <th>ds</th>\n",
       "      <th>Informer</th>\n",
       "      <th>Autoformer</th>\n",
       "      <th>PatchTST</th>\n",
       "    </tr>\n",
       "    <tr>\n",
       "      <th>unique_id</th>\n",
       "      <th></th>\n",
       "      <th></th>\n",
       "      <th></th>\n",
       "      <th></th>\n",
       "    </tr>\n",
       "  </thead>\n",
       "  <tbody>\n",
       "    <tr>\n",
       "      <th>G620_water_level</th>\n",
       "      <td>2024-08-27</td>\n",
       "      <td>5.493279</td>\n",
       "      <td>5.781908</td>\n",
       "      <td>6.190532</td>\n",
       "    </tr>\n",
       "    <tr>\n",
       "      <th>G620_water_level</th>\n",
       "      <td>2024-08-28</td>\n",
       "      <td>5.265290</td>\n",
       "      <td>5.359826</td>\n",
       "      <td>6.180435</td>\n",
       "    </tr>\n",
       "    <tr>\n",
       "      <th>G620_water_level</th>\n",
       "      <td>2024-08-29</td>\n",
       "      <td>5.594887</td>\n",
       "      <td>5.521747</td>\n",
       "      <td>6.172442</td>\n",
       "    </tr>\n",
       "    <tr>\n",
       "      <th>G620_water_level</th>\n",
       "      <td>2024-08-30</td>\n",
       "      <td>5.797547</td>\n",
       "      <td>6.167787</td>\n",
       "      <td>6.170376</td>\n",
       "    </tr>\n",
       "    <tr>\n",
       "      <th>G620_water_level</th>\n",
       "      <td>2024-08-31</td>\n",
       "      <td>6.029754</td>\n",
       "      <td>6.613928</td>\n",
       "      <td>6.166689</td>\n",
       "    </tr>\n",
       "    <tr>\n",
       "      <th>...</th>\n",
       "      <td>...</td>\n",
       "      <td>...</td>\n",
       "      <td>...</td>\n",
       "      <td>...</td>\n",
       "    </tr>\n",
       "    <tr>\n",
       "      <th>TSH_stage</th>\n",
       "      <td>2024-09-19</td>\n",
       "      <td>2.398250</td>\n",
       "      <td>4.588840</td>\n",
       "      <td>2.686022</td>\n",
       "    </tr>\n",
       "    <tr>\n",
       "      <th>TSH_stage</th>\n",
       "      <td>2024-09-20</td>\n",
       "      <td>2.354739</td>\n",
       "      <td>4.972497</td>\n",
       "      <td>2.703275</td>\n",
       "    </tr>\n",
       "    <tr>\n",
       "      <th>TSH_stage</th>\n",
       "      <td>2024-09-21</td>\n",
       "      <td>2.313205</td>\n",
       "      <td>5.702601</td>\n",
       "      <td>2.691549</td>\n",
       "    </tr>\n",
       "    <tr>\n",
       "      <th>TSH_stage</th>\n",
       "      <td>2024-09-22</td>\n",
       "      <td>2.276785</td>\n",
       "      <td>7.097682</td>\n",
       "      <td>2.692910</td>\n",
       "    </tr>\n",
       "    <tr>\n",
       "      <th>TSH_stage</th>\n",
       "      <td>2024-09-23</td>\n",
       "      <td>2.240457</td>\n",
       "      <td>7.546854</td>\n",
       "      <td>2.676486</td>\n",
       "    </tr>\n",
       "  </tbody>\n",
       "</table>\n",
       "<p>1036 rows × 4 columns</p>\n",
       "</div>"
      ],
      "text/plain": [
       "                         ds  Informer  Autoformer  PatchTST\n",
       "unique_id                                                  \n",
       "G620_water_level 2024-08-27  5.493279    5.781908  6.190532\n",
       "G620_water_level 2024-08-28  5.265290    5.359826  6.180435\n",
       "G620_water_level 2024-08-29  5.594887    5.521747  6.172442\n",
       "G620_water_level 2024-08-30  5.797547    6.167787  6.170376\n",
       "G620_water_level 2024-08-31  6.029754    6.613928  6.166689\n",
       "...                     ...       ...         ...       ...\n",
       "TSH_stage        2024-09-19  2.398250    4.588840  2.686022\n",
       "TSH_stage        2024-09-20  2.354739    4.972497  2.703275\n",
       "TSH_stage        2024-09-21  2.313205    5.702601  2.691549\n",
       "TSH_stage        2024-09-22  2.276785    7.097682  2.692910\n",
       "TSH_stage        2024-09-23  2.240457    7.546854  2.676486\n",
       "\n",
       "[1036 rows x 4 columns]"
      ]
     },
     "execution_count": 39,
     "metadata": {},
     "output_type": "execute_result"
    }
   ],
   "source": [
    "%%time\n",
    "forecasts_all = nf_all.predict(df=Y_df, test_size=test_size)\n",
    "forecasts_all"
   ]
  },
  {
   "cell_type": "code",
   "execution_count": 40,
   "id": "70c9ba6b",
   "metadata": {},
   "outputs": [
    {
     "data": {
      "text/html": [
       "<div>\n",
       "<style scoped>\n",
       "    .dataframe tbody tr th:only-of-type {\n",
       "        vertical-align: middle;\n",
       "    }\n",
       "\n",
       "    .dataframe tbody tr th {\n",
       "        vertical-align: top;\n",
       "    }\n",
       "\n",
       "    .dataframe thead th {\n",
       "        text-align: right;\n",
       "    }\n",
       "</style>\n",
       "<table border=\"1\" class=\"dataframe\">\n",
       "  <thead>\n",
       "    <tr style=\"text-align: right;\">\n",
       "      <th></th>\n",
       "      <th>unique_id</th>\n",
       "      <th>ds</th>\n",
       "      <th>Informer</th>\n",
       "      <th>Autoformer</th>\n",
       "      <th>PatchTST</th>\n",
       "    </tr>\n",
       "  </thead>\n",
       "  <tbody>\n",
       "    <tr>\n",
       "      <th>0</th>\n",
       "      <td>G620_water_level</td>\n",
       "      <td>2024-08-27</td>\n",
       "      <td>5.493279</td>\n",
       "      <td>5.781908</td>\n",
       "      <td>6.190532</td>\n",
       "    </tr>\n",
       "    <tr>\n",
       "      <th>1</th>\n",
       "      <td>G620_water_level</td>\n",
       "      <td>2024-08-28</td>\n",
       "      <td>5.265290</td>\n",
       "      <td>5.359826</td>\n",
       "      <td>6.180435</td>\n",
       "    </tr>\n",
       "    <tr>\n",
       "      <th>2</th>\n",
       "      <td>G620_water_level</td>\n",
       "      <td>2024-08-29</td>\n",
       "      <td>5.594887</td>\n",
       "      <td>5.521747</td>\n",
       "      <td>6.172442</td>\n",
       "    </tr>\n",
       "    <tr>\n",
       "      <th>3</th>\n",
       "      <td>G620_water_level</td>\n",
       "      <td>2024-08-30</td>\n",
       "      <td>5.797547</td>\n",
       "      <td>6.167787</td>\n",
       "      <td>6.170376</td>\n",
       "    </tr>\n",
       "    <tr>\n",
       "      <th>4</th>\n",
       "      <td>G620_water_level</td>\n",
       "      <td>2024-08-31</td>\n",
       "      <td>6.029754</td>\n",
       "      <td>6.613928</td>\n",
       "      <td>6.166689</td>\n",
       "    </tr>\n",
       "    <tr>\n",
       "      <th>...</th>\n",
       "      <td>...</td>\n",
       "      <td>...</td>\n",
       "      <td>...</td>\n",
       "      <td>...</td>\n",
       "      <td>...</td>\n",
       "    </tr>\n",
       "    <tr>\n",
       "      <th>1031</th>\n",
       "      <td>TSH_stage</td>\n",
       "      <td>2024-09-19</td>\n",
       "      <td>2.398250</td>\n",
       "      <td>4.588840</td>\n",
       "      <td>2.686022</td>\n",
       "    </tr>\n",
       "    <tr>\n",
       "      <th>1032</th>\n",
       "      <td>TSH_stage</td>\n",
       "      <td>2024-09-20</td>\n",
       "      <td>2.354739</td>\n",
       "      <td>4.972497</td>\n",
       "      <td>2.703275</td>\n",
       "    </tr>\n",
       "    <tr>\n",
       "      <th>1033</th>\n",
       "      <td>TSH_stage</td>\n",
       "      <td>2024-09-21</td>\n",
       "      <td>2.313205</td>\n",
       "      <td>5.702601</td>\n",
       "      <td>2.691549</td>\n",
       "    </tr>\n",
       "    <tr>\n",
       "      <th>1034</th>\n",
       "      <td>TSH_stage</td>\n",
       "      <td>2024-09-22</td>\n",
       "      <td>2.276785</td>\n",
       "      <td>7.097682</td>\n",
       "      <td>2.692910</td>\n",
       "    </tr>\n",
       "    <tr>\n",
       "      <th>1035</th>\n",
       "      <td>TSH_stage</td>\n",
       "      <td>2024-09-23</td>\n",
       "      <td>2.240457</td>\n",
       "      <td>7.546854</td>\n",
       "      <td>2.676486</td>\n",
       "    </tr>\n",
       "  </tbody>\n",
       "</table>\n",
       "<p>1036 rows × 5 columns</p>\n",
       "</div>"
      ],
      "text/plain": [
       "             unique_id         ds  Informer  Autoformer  PatchTST\n",
       "0     G620_water_level 2024-08-27  5.493279    5.781908  6.190532\n",
       "1     G620_water_level 2024-08-28  5.265290    5.359826  6.180435\n",
       "2     G620_water_level 2024-08-29  5.594887    5.521747  6.172442\n",
       "3     G620_water_level 2024-08-30  5.797547    6.167787  6.170376\n",
       "4     G620_water_level 2024-08-31  6.029754    6.613928  6.166689\n",
       "...                ...        ...       ...         ...       ...\n",
       "1031         TSH_stage 2024-09-19  2.398250    4.588840  2.686022\n",
       "1032         TSH_stage 2024-09-20  2.354739    4.972497  2.703275\n",
       "1033         TSH_stage 2024-09-21  2.313205    5.702601  2.691549\n",
       "1034         TSH_stage 2024-09-22  2.276785    7.097682  2.692910\n",
       "1035         TSH_stage 2024-09-23  2.240457    7.546854  2.676486\n",
       "\n",
       "[1036 rows x 5 columns]"
      ]
     },
     "execution_count": 40,
     "metadata": {},
     "output_type": "execute_result"
    }
   ],
   "source": [
    "# Reset the index of Y_hat_df to convert 'unique_id' and 'ds' into columns\n",
    "forecasts_all = forecasts_all.reset_index()\n",
    "forecasts_all"
   ]
  },
  {
   "cell_type": "code",
   "execution_count": 41,
   "id": "da709071",
   "metadata": {},
   "outputs": [
    {
     "name": "stderr",
     "output_type": "stream",
     "text": [
      "Trainer already configured with model summary callbacks: [<class 'pytorch_lightning.callbacks.model_summary.ModelSummary'>]. Skipping setting a default `ModelSummary` callback.\n",
      "GPU available: False, used: False\n",
      "TPU available: False, using: 0 TPU cores\n",
      "HPU available: False, using: 0 HPUs\n",
      "\n",
      "  | Name          | Type          | Params | Mode \n",
      "--------------------------------------------------------\n",
      "0 | loss          | MAE           | 0      | train\n",
      "1 | padder_train  | ConstantPad1d | 0      | train\n",
      "2 | scaler        | TemporalNorm  | 0      | train\n",
      "3 | enc_embedding | DataEmbedding | 384    | train\n",
      "4 | dec_embedding | DataEmbedding | 384    | train\n",
      "5 | encoder       | TransEncoder  | 199 K  | train\n",
      "6 | decoder       | TransDecoder  | 141 K  | train\n",
      "--------------------------------------------------------\n",
      "341 K     Trainable params\n",
      "0         Non-trainable params\n",
      "341 K     Total params\n",
      "1.368     Total estimated model params size (MB)\n",
      "73        Modules in train mode\n",
      "0         Modules in eval mode\n"
     ]
    },
    {
     "data": {
      "application/vnd.jupyter.widget-view+json": {
       "model_id": "",
       "version_major": 2,
       "version_minor": 0
      },
      "text/plain": [
       "Sanity Checking: |                                                                               | 0/? [00:00<…"
      ]
     },
     "metadata": {},
     "output_type": "display_data"
    },
    {
     "data": {
      "application/vnd.jupyter.widget-view+json": {
       "model_id": "5cb2c58ea3804b35bc30995779ca7bc8",
       "version_major": 2,
       "version_minor": 0
      },
      "text/plain": [
       "Training: |                                                                                      | 0/? [00:00<…"
      ]
     },
     "metadata": {},
     "output_type": "display_data"
    },
    {
     "data": {
      "application/vnd.jupyter.widget-view+json": {
       "model_id": "",
       "version_major": 2,
       "version_minor": 0
      },
      "text/plain": [
       "Validation: |                                                                                    | 0/? [00:00<…"
      ]
     },
     "metadata": {},
     "output_type": "display_data"
    },
    {
     "data": {
      "application/vnd.jupyter.widget-view+json": {
       "model_id": "",
       "version_major": 2,
       "version_minor": 0
      },
      "text/plain": [
       "Validation: |                                                                                    | 0/? [00:00<…"
      ]
     },
     "metadata": {},
     "output_type": "display_data"
    },
    {
     "data": {
      "application/vnd.jupyter.widget-view+json": {
       "model_id": "",
       "version_major": 2,
       "version_minor": 0
      },
      "text/plain": [
       "Validation: |                                                                                    | 0/? [00:00<…"
      ]
     },
     "metadata": {},
     "output_type": "display_data"
    },
    {
     "data": {
      "application/vnd.jupyter.widget-view+json": {
       "model_id": "",
       "version_major": 2,
       "version_minor": 0
      },
      "text/plain": [
       "Validation: |                                                                                    | 0/? [00:00<…"
      ]
     },
     "metadata": {},
     "output_type": "display_data"
    },
    {
     "data": {
      "application/vnd.jupyter.widget-view+json": {
       "model_id": "",
       "version_major": 2,
       "version_minor": 0
      },
      "text/plain": [
       "Validation: |                                                                                    | 0/? [00:00<…"
      ]
     },
     "metadata": {},
     "output_type": "display_data"
    },
    {
     "data": {
      "application/vnd.jupyter.widget-view+json": {
       "model_id": "",
       "version_major": 2,
       "version_minor": 0
      },
      "text/plain": [
       "Validation: |                                                                                    | 0/? [00:00<…"
      ]
     },
     "metadata": {},
     "output_type": "display_data"
    },
    {
     "data": {
      "application/vnd.jupyter.widget-view+json": {
       "model_id": "",
       "version_major": 2,
       "version_minor": 0
      },
      "text/plain": [
       "Validation: |                                                                                    | 0/? [00:00<…"
      ]
     },
     "metadata": {},
     "output_type": "display_data"
    },
    {
     "data": {
      "application/vnd.jupyter.widget-view+json": {
       "model_id": "",
       "version_major": 2,
       "version_minor": 0
      },
      "text/plain": [
       "Validation: |                                                                                    | 0/? [00:00<…"
      ]
     },
     "metadata": {},
     "output_type": "display_data"
    },
    {
     "data": {
      "application/vnd.jupyter.widget-view+json": {
       "model_id": "",
       "version_major": 2,
       "version_minor": 0
      },
      "text/plain": [
       "Validation: |                                                                                    | 0/? [00:00<…"
      ]
     },
     "metadata": {},
     "output_type": "display_data"
    },
    {
     "data": {
      "application/vnd.jupyter.widget-view+json": {
       "model_id": "",
       "version_major": 2,
       "version_minor": 0
      },
      "text/plain": [
       "Validation: |                                                                                    | 0/? [00:00<…"
      ]
     },
     "metadata": {},
     "output_type": "display_data"
    },
    {
     "name": "stderr",
     "output_type": "stream",
     "text": [
      "`Trainer.fit` stopped: `max_steps=1000` reached.\n",
      "Trainer already configured with model summary callbacks: [<class 'pytorch_lightning.callbacks.model_summary.ModelSummary'>]. Skipping setting a default `ModelSummary` callback.\n",
      "GPU available: False, used: False\n",
      "TPU available: False, using: 0 TPU cores\n",
      "HPU available: False, using: 0 HPUs\n"
     ]
    },
    {
     "data": {
      "application/vnd.jupyter.widget-view+json": {
       "model_id": "b5dffb73ad0244f9b04605e9596672b3",
       "version_major": 2,
       "version_minor": 0
      },
      "text/plain": [
       "Predicting: |                                                                                    | 0/? [00:00<…"
      ]
     },
     "metadata": {},
     "output_type": "display_data"
    },
    {
     "name": "stderr",
     "output_type": "stream",
     "text": [
      "Trainer already configured with model summary callbacks: [<class 'pytorch_lightning.callbacks.model_summary.ModelSummary'>]. Skipping setting a default `ModelSummary` callback.\n",
      "GPU available: False, used: False\n",
      "TPU available: False, using: 0 TPU cores\n",
      "HPU available: False, using: 0 HPUs\n",
      "\n",
      "  | Name          | Type          | Params | Mode \n",
      "--------------------------------------------------------\n",
      "0 | loss          | MAE           | 0      | train\n",
      "1 | padder_train  | ConstantPad1d | 0      | train\n",
      "2 | scaler        | TemporalNorm  | 0      | train\n",
      "3 | decomp        | SeriesDecomp  | 0      | train\n",
      "4 | enc_embedding | DataEmbedding | 384    | train\n",
      "5 | dec_embedding | DataEmbedding | 384    | train\n",
      "6 | encoder       | Encoder       | 148 K  | train\n",
      "7 | decoder       | Decoder       | 141 K  | train\n",
      "--------------------------------------------------------\n",
      "290 K     Trainable params\n",
      "0         Non-trainable params\n",
      "290 K     Total params\n",
      "1.162     Total estimated model params size (MB)\n",
      "85        Modules in train mode\n",
      "0         Modules in eval mode\n"
     ]
    },
    {
     "data": {
      "application/vnd.jupyter.widget-view+json": {
       "model_id": "",
       "version_major": 2,
       "version_minor": 0
      },
      "text/plain": [
       "Sanity Checking: |                                                                               | 0/? [00:00<…"
      ]
     },
     "metadata": {},
     "output_type": "display_data"
    },
    {
     "data": {
      "application/vnd.jupyter.widget-view+json": {
       "model_id": "224c0629de5743d48ef11b3b04b39e54",
       "version_major": 2,
       "version_minor": 0
      },
      "text/plain": [
       "Training: |                                                                                      | 0/? [00:00<…"
      ]
     },
     "metadata": {},
     "output_type": "display_data"
    },
    {
     "data": {
      "application/vnd.jupyter.widget-view+json": {
       "model_id": "",
       "version_major": 2,
       "version_minor": 0
      },
      "text/plain": [
       "Validation: |                                                                                    | 0/? [00:00<…"
      ]
     },
     "metadata": {},
     "output_type": "display_data"
    },
    {
     "data": {
      "application/vnd.jupyter.widget-view+json": {
       "model_id": "",
       "version_major": 2,
       "version_minor": 0
      },
      "text/plain": [
       "Validation: |                                                                                    | 0/? [00:00<…"
      ]
     },
     "metadata": {},
     "output_type": "display_data"
    },
    {
     "data": {
      "application/vnd.jupyter.widget-view+json": {
       "model_id": "",
       "version_major": 2,
       "version_minor": 0
      },
      "text/plain": [
       "Validation: |                                                                                    | 0/? [00:00<…"
      ]
     },
     "metadata": {},
     "output_type": "display_data"
    },
    {
     "data": {
      "application/vnd.jupyter.widget-view+json": {
       "model_id": "",
       "version_major": 2,
       "version_minor": 0
      },
      "text/plain": [
       "Validation: |                                                                                    | 0/? [00:00<…"
      ]
     },
     "metadata": {},
     "output_type": "display_data"
    },
    {
     "data": {
      "application/vnd.jupyter.widget-view+json": {
       "model_id": "",
       "version_major": 2,
       "version_minor": 0
      },
      "text/plain": [
       "Validation: |                                                                                    | 0/? [00:00<…"
      ]
     },
     "metadata": {},
     "output_type": "display_data"
    },
    {
     "data": {
      "application/vnd.jupyter.widget-view+json": {
       "model_id": "",
       "version_major": 2,
       "version_minor": 0
      },
      "text/plain": [
       "Validation: |                                                                                    | 0/? [00:00<…"
      ]
     },
     "metadata": {},
     "output_type": "display_data"
    },
    {
     "data": {
      "application/vnd.jupyter.widget-view+json": {
       "model_id": "",
       "version_major": 2,
       "version_minor": 0
      },
      "text/plain": [
       "Validation: |                                                                                    | 0/? [00:00<…"
      ]
     },
     "metadata": {},
     "output_type": "display_data"
    },
    {
     "data": {
      "application/vnd.jupyter.widget-view+json": {
       "model_id": "",
       "version_major": 2,
       "version_minor": 0
      },
      "text/plain": [
       "Validation: |                                                                                    | 0/? [00:00<…"
      ]
     },
     "metadata": {},
     "output_type": "display_data"
    },
    {
     "data": {
      "application/vnd.jupyter.widget-view+json": {
       "model_id": "",
       "version_major": 2,
       "version_minor": 0
      },
      "text/plain": [
       "Validation: |                                                                                    | 0/? [00:00<…"
      ]
     },
     "metadata": {},
     "output_type": "display_data"
    },
    {
     "data": {
      "application/vnd.jupyter.widget-view+json": {
       "model_id": "",
       "version_major": 2,
       "version_minor": 0
      },
      "text/plain": [
       "Validation: |                                                                                    | 0/? [00:00<…"
      ]
     },
     "metadata": {},
     "output_type": "display_data"
    },
    {
     "name": "stderr",
     "output_type": "stream",
     "text": [
      "`Trainer.fit` stopped: `max_steps=1000` reached.\n",
      "Trainer already configured with model summary callbacks: [<class 'pytorch_lightning.callbacks.model_summary.ModelSummary'>]. Skipping setting a default `ModelSummary` callback.\n",
      "GPU available: False, used: False\n",
      "TPU available: False, using: 0 TPU cores\n",
      "HPU available: False, using: 0 HPUs\n"
     ]
    },
    {
     "data": {
      "application/vnd.jupyter.widget-view+json": {
       "model_id": "8f6b39461a404bbea9e6a7fa16a31104",
       "version_major": 2,
       "version_minor": 0
      },
      "text/plain": [
       "Predicting: |                                                                                    | 0/? [00:00<…"
      ]
     },
     "metadata": {},
     "output_type": "display_data"
    },
    {
     "name": "stderr",
     "output_type": "stream",
     "text": [
      "Trainer already configured with model summary callbacks: [<class 'pytorch_lightning.callbacks.model_summary.ModelSummary'>]. Skipping setting a default `ModelSummary` callback.\n",
      "GPU available: False, used: False\n",
      "TPU available: False, using: 0 TPU cores\n",
      "HPU available: False, using: 0 HPUs\n",
      "\n",
      "  | Name         | Type              | Params | Mode \n",
      "-----------------------------------------------------------\n",
      "0 | loss         | MAE               | 0      | train\n",
      "1 | padder_train | ConstantPad1d     | 0      | train\n",
      "2 | scaler       | TemporalNorm      | 0      | train\n",
      "3 | model        | PatchTST_backbone | 444 K  | train\n",
      "-----------------------------------------------------------\n",
      "444 K     Trainable params\n",
      "3         Non-trainable params\n",
      "444 K     Total params\n",
      "1.777     Total estimated model params size (MB)\n",
      "90        Modules in train mode\n",
      "0         Modules in eval mode\n"
     ]
    },
    {
     "data": {
      "application/vnd.jupyter.widget-view+json": {
       "model_id": "",
       "version_major": 2,
       "version_minor": 0
      },
      "text/plain": [
       "Sanity Checking: |                                                                               | 0/? [00:00<…"
      ]
     },
     "metadata": {},
     "output_type": "display_data"
    },
    {
     "data": {
      "application/vnd.jupyter.widget-view+json": {
       "model_id": "22c70b45dbbe47c983d4e37c112e12bf",
       "version_major": 2,
       "version_minor": 0
      },
      "text/plain": [
       "Training: |                                                                                      | 0/? [00:00<…"
      ]
     },
     "metadata": {},
     "output_type": "display_data"
    },
    {
     "data": {
      "application/vnd.jupyter.widget-view+json": {
       "model_id": "",
       "version_major": 2,
       "version_minor": 0
      },
      "text/plain": [
       "Validation: |                                                                                    | 0/? [00:00<…"
      ]
     },
     "metadata": {},
     "output_type": "display_data"
    },
    {
     "data": {
      "application/vnd.jupyter.widget-view+json": {
       "model_id": "",
       "version_major": 2,
       "version_minor": 0
      },
      "text/plain": [
       "Validation: |                                                                                    | 0/? [00:00<…"
      ]
     },
     "metadata": {},
     "output_type": "display_data"
    },
    {
     "data": {
      "application/vnd.jupyter.widget-view+json": {
       "model_id": "",
       "version_major": 2,
       "version_minor": 0
      },
      "text/plain": [
       "Validation: |                                                                                    | 0/? [00:00<…"
      ]
     },
     "metadata": {},
     "output_type": "display_data"
    },
    {
     "data": {
      "application/vnd.jupyter.widget-view+json": {
       "model_id": "",
       "version_major": 2,
       "version_minor": 0
      },
      "text/plain": [
       "Validation: |                                                                                    | 0/? [00:00<…"
      ]
     },
     "metadata": {},
     "output_type": "display_data"
    },
    {
     "data": {
      "application/vnd.jupyter.widget-view+json": {
       "model_id": "",
       "version_major": 2,
       "version_minor": 0
      },
      "text/plain": [
       "Validation: |                                                                                    | 0/? [00:00<…"
      ]
     },
     "metadata": {},
     "output_type": "display_data"
    },
    {
     "data": {
      "application/vnd.jupyter.widget-view+json": {
       "model_id": "",
       "version_major": 2,
       "version_minor": 0
      },
      "text/plain": [
       "Validation: |                                                                                    | 0/? [00:00<…"
      ]
     },
     "metadata": {},
     "output_type": "display_data"
    },
    {
     "data": {
      "application/vnd.jupyter.widget-view+json": {
       "model_id": "",
       "version_major": 2,
       "version_minor": 0
      },
      "text/plain": [
       "Validation: |                                                                                    | 0/? [00:00<…"
      ]
     },
     "metadata": {},
     "output_type": "display_data"
    },
    {
     "data": {
      "application/vnd.jupyter.widget-view+json": {
       "model_id": "",
       "version_major": 2,
       "version_minor": 0
      },
      "text/plain": [
       "Validation: |                                                                                    | 0/? [00:00<…"
      ]
     },
     "metadata": {},
     "output_type": "display_data"
    },
    {
     "data": {
      "application/vnd.jupyter.widget-view+json": {
       "model_id": "",
       "version_major": 2,
       "version_minor": 0
      },
      "text/plain": [
       "Validation: |                                                                                    | 0/? [00:00<…"
      ]
     },
     "metadata": {},
     "output_type": "display_data"
    },
    {
     "data": {
      "application/vnd.jupyter.widget-view+json": {
       "model_id": "",
       "version_major": 2,
       "version_minor": 0
      },
      "text/plain": [
       "Validation: |                                                                                    | 0/? [00:00<…"
      ]
     },
     "metadata": {},
     "output_type": "display_data"
    },
    {
     "name": "stderr",
     "output_type": "stream",
     "text": [
      "`Trainer.fit` stopped: `max_steps=1000` reached.\n",
      "Trainer already configured with model summary callbacks: [<class 'pytorch_lightning.callbacks.model_summary.ModelSummary'>]. Skipping setting a default `ModelSummary` callback.\n",
      "GPU available: False, used: False\n",
      "TPU available: False, using: 0 TPU cores\n",
      "HPU available: False, using: 0 HPUs\n"
     ]
    },
    {
     "data": {
      "application/vnd.jupyter.widget-view+json": {
       "model_id": "783d2f4f8d6c4ff5b221576e00212b22",
       "version_major": 2,
       "version_minor": 0
      },
      "text/plain": [
       "Predicting: |                                                                                    | 0/? [00:00<…"
      ]
     },
     "metadata": {},
     "output_type": "display_data"
    },
    {
     "name": "stdout",
     "output_type": "stream",
     "text": [
      "CPU times: total: 13h 21min 37s\n",
      "Wall time: 4h 37min 45s\n"
     ]
    },
    {
     "name": "stderr",
     "output_type": "stream",
     "text": [
      "C:\\Users\\rahuu\\anaconda3\\lib\\site-packages\\neuralforecast\\core.py:214: FutureWarning: In a future version the predictions will have the id as a column. You can set the `NIXTLA_ID_AS_COL` environment variable to adopt the new behavior and to suppress this warning.\n",
      "  warnings.warn(\n"
     ]
    }
   ],
   "source": [
    "%%time\n",
    "Y_hat_df_all = nf_all.cross_validation(df=Y_df,\n",
    "                               val_size=val_size,\n",
    "                               test_size=test_size,\n",
    "                               n_windows=None)"
   ]
  },
  {
   "cell_type": "code",
   "execution_count": 42,
   "id": "3483f952",
   "metadata": {},
   "outputs": [
    {
     "data": {
      "text/html": [
       "<div>\n",
       "<style scoped>\n",
       "    .dataframe tbody tr th:only-of-type {\n",
       "        vertical-align: middle;\n",
       "    }\n",
       "\n",
       "    .dataframe tbody tr th {\n",
       "        vertical-align: top;\n",
       "    }\n",
       "\n",
       "    .dataframe thead th {\n",
       "        text-align: right;\n",
       "    }\n",
       "</style>\n",
       "<table border=\"1\" class=\"dataframe\">\n",
       "  <thead>\n",
       "    <tr style=\"text-align: right;\">\n",
       "      <th></th>\n",
       "      <th>ds</th>\n",
       "      <th>cutoff</th>\n",
       "      <th>Informer</th>\n",
       "      <th>Autoformer</th>\n",
       "      <th>PatchTST</th>\n",
       "      <th>y</th>\n",
       "    </tr>\n",
       "    <tr>\n",
       "      <th>unique_id</th>\n",
       "      <th></th>\n",
       "      <th></th>\n",
       "      <th></th>\n",
       "      <th></th>\n",
       "      <th></th>\n",
       "      <th></th>\n",
       "    </tr>\n",
       "  </thead>\n",
       "  <tbody>\n",
       "    <tr>\n",
       "      <th>G620_water_level</th>\n",
       "      <td>2024-01-29</td>\n",
       "      <td>2024-01-28</td>\n",
       "      <td>6.289072</td>\n",
       "      <td>10.357516</td>\n",
       "      <td>5.999596</td>\n",
       "      <td>5.99</td>\n",
       "    </tr>\n",
       "    <tr>\n",
       "      <th>G620_water_level</th>\n",
       "      <td>2024-01-30</td>\n",
       "      <td>2024-01-28</td>\n",
       "      <td>6.293415</td>\n",
       "      <td>10.807363</td>\n",
       "      <td>5.996880</td>\n",
       "      <td>5.97</td>\n",
       "    </tr>\n",
       "    <tr>\n",
       "      <th>G620_water_level</th>\n",
       "      <td>2024-01-31</td>\n",
       "      <td>2024-01-28</td>\n",
       "      <td>6.015355</td>\n",
       "      <td>11.208032</td>\n",
       "      <td>5.998991</td>\n",
       "      <td>5.96</td>\n",
       "    </tr>\n",
       "    <tr>\n",
       "      <th>G620_water_level</th>\n",
       "      <td>2024-02-01</td>\n",
       "      <td>2024-01-28</td>\n",
       "      <td>6.166277</td>\n",
       "      <td>11.351369</td>\n",
       "      <td>5.995681</td>\n",
       "      <td>5.95</td>\n",
       "    </tr>\n",
       "    <tr>\n",
       "      <th>G620_water_level</th>\n",
       "      <td>2024-02-02</td>\n",
       "      <td>2024-01-28</td>\n",
       "      <td>5.754074</td>\n",
       "      <td>11.478527</td>\n",
       "      <td>5.994141</td>\n",
       "      <td>5.94</td>\n",
       "    </tr>\n",
       "    <tr>\n",
       "      <th>...</th>\n",
       "      <td>...</td>\n",
       "      <td>...</td>\n",
       "      <td>...</td>\n",
       "      <td>...</td>\n",
       "      <td>...</td>\n",
       "      <td>...</td>\n",
       "    </tr>\n",
       "    <tr>\n",
       "      <th>TSH_stage</th>\n",
       "      <td>2024-08-22</td>\n",
       "      <td>2024-07-29</td>\n",
       "      <td>2.833202</td>\n",
       "      <td>-3.512847</td>\n",
       "      <td>2.632325</td>\n",
       "      <td>2.78</td>\n",
       "    </tr>\n",
       "    <tr>\n",
       "      <th>TSH_stage</th>\n",
       "      <td>2024-08-23</td>\n",
       "      <td>2024-07-29</td>\n",
       "      <td>2.747958</td>\n",
       "      <td>-5.519755</td>\n",
       "      <td>2.633751</td>\n",
       "      <td>2.81</td>\n",
       "    </tr>\n",
       "    <tr>\n",
       "      <th>TSH_stage</th>\n",
       "      <td>2024-08-24</td>\n",
       "      <td>2024-07-29</td>\n",
       "      <td>2.668228</td>\n",
       "      <td>-6.906650</td>\n",
       "      <td>2.620277</td>\n",
       "      <td>2.80</td>\n",
       "    </tr>\n",
       "    <tr>\n",
       "      <th>TSH_stage</th>\n",
       "      <td>2024-08-25</td>\n",
       "      <td>2024-07-29</td>\n",
       "      <td>2.599937</td>\n",
       "      <td>-7.780200</td>\n",
       "      <td>2.624610</td>\n",
       "      <td>2.80</td>\n",
       "    </tr>\n",
       "    <tr>\n",
       "      <th>TSH_stage</th>\n",
       "      <td>2024-08-26</td>\n",
       "      <td>2024-07-29</td>\n",
       "      <td>2.538811</td>\n",
       "      <td>-9.057331</td>\n",
       "      <td>2.617953</td>\n",
       "      <td>2.80</td>\n",
       "    </tr>\n",
       "  </tbody>\n",
       "</table>\n",
       "<p>190624 rows × 6 columns</p>\n",
       "</div>"
      ],
      "text/plain": [
       "                         ds     cutoff  Informer  Autoformer  PatchTST     y\n",
       "unique_id                                                                   \n",
       "G620_water_level 2024-01-29 2024-01-28  6.289072   10.357516  5.999596  5.99\n",
       "G620_water_level 2024-01-30 2024-01-28  6.293415   10.807363  5.996880  5.97\n",
       "G620_water_level 2024-01-31 2024-01-28  6.015355   11.208032  5.998991  5.96\n",
       "G620_water_level 2024-02-01 2024-01-28  6.166277   11.351369  5.995681  5.95\n",
       "G620_water_level 2024-02-02 2024-01-28  5.754074   11.478527  5.994141  5.94\n",
       "...                     ...        ...       ...         ...       ...   ...\n",
       "TSH_stage        2024-08-22 2024-07-29  2.833202   -3.512847  2.632325  2.78\n",
       "TSH_stage        2024-08-23 2024-07-29  2.747958   -5.519755  2.633751  2.81\n",
       "TSH_stage        2024-08-24 2024-07-29  2.668228   -6.906650  2.620277  2.80\n",
       "TSH_stage        2024-08-25 2024-07-29  2.599937   -7.780200  2.624610  2.80\n",
       "TSH_stage        2024-08-26 2024-07-29  2.538811   -9.057331  2.617953  2.80\n",
       "\n",
       "[190624 rows x 6 columns]"
      ]
     },
     "execution_count": 42,
     "metadata": {},
     "output_type": "execute_result"
    }
   ],
   "source": [
    "Y_hat_df_all"
   ]
  },
  {
   "cell_type": "code",
   "execution_count": 43,
   "id": "c06fe29a",
   "metadata": {},
   "outputs": [
    {
     "name": "stdout",
     "output_type": "stream",
     "text": [
      "G620_water_level    5152\n",
      "S199                5152\n",
      "S332B               5152\n",
      "S332BN              5152\n",
      "S332C               5152\n",
      "S332D               5152\n",
      "S332DX1             5152\n",
      "S333                5152\n",
      "S333N               5152\n",
      "S333_T              5152\n",
      "S334                5152\n",
      "S334_H              5152\n",
      "S343A               5152\n",
      "S343B               5152\n",
      "S344                5152\n",
      "S356                5152\n",
      "SWEVER4_stage       5152\n",
      "S200                5152\n",
      "S18C_S              5152\n",
      "NESRS1              5152\n",
      "S12D_T              5152\n",
      "NESRS2              5152\n",
      "NP205_PET           5152\n",
      "NP205_rain          5152\n",
      "NP205_stage         5152\n",
      "NP62_stage          5152\n",
      "P33_PET             5152\n",
      "P33_rain            5152\n",
      "P33_stage           5152\n",
      "S12A                5152\n",
      "S12A_T              5152\n",
      "S12B                5152\n",
      "S12B_T              5152\n",
      "S12C                5152\n",
      "S12C_T              5152\n",
      "S12D                5152\n",
      "TSH_stage           5152\n",
      "Name: unique_id, dtype: int64\n"
     ]
    }
   ],
   "source": [
    "# Reset the index of Y_hat_df to convert 'unique_id' and 'ds' into columns\n",
    "Y_hat_df_all = Y_hat_df_all.reset_index()\n",
    "\n",
    "#rechecking Unique IDs\n",
    "unique_id_counts_all = Y_hat_df_all['unique_id'].value_counts()\n",
    "print(unique_id_counts_all)"
   ]
  },
  {
   "cell_type": "code",
   "execution_count": 44,
   "id": "5287ad44",
   "metadata": {},
   "outputs": [
    {
     "data": {
      "text/html": [
       "<div>\n",
       "<style scoped>\n",
       "    .dataframe tbody tr th:only-of-type {\n",
       "        vertical-align: middle;\n",
       "    }\n",
       "\n",
       "    .dataframe tbody tr th {\n",
       "        vertical-align: top;\n",
       "    }\n",
       "\n",
       "    .dataframe thead th {\n",
       "        text-align: right;\n",
       "    }\n",
       "</style>\n",
       "<table border=\"1\" class=\"dataframe\">\n",
       "  <thead>\n",
       "    <tr style=\"text-align: right;\">\n",
       "      <th></th>\n",
       "      <th>unique_id</th>\n",
       "      <th>ds</th>\n",
       "      <th>Informer</th>\n",
       "      <th>Autoformer</th>\n",
       "      <th>PatchTST</th>\n",
       "      <th>y</th>\n",
       "    </tr>\n",
       "  </thead>\n",
       "  <tbody>\n",
       "    <tr>\n",
       "      <th>0</th>\n",
       "      <td>G620_water_level</td>\n",
       "      <td>2024-01-29</td>\n",
       "      <td>6.289072</td>\n",
       "      <td>10.357516</td>\n",
       "      <td>5.999596</td>\n",
       "      <td>5.99</td>\n",
       "    </tr>\n",
       "    <tr>\n",
       "      <th>1</th>\n",
       "      <td>G620_water_level</td>\n",
       "      <td>2024-01-30</td>\n",
       "      <td>6.299329</td>\n",
       "      <td>11.011190</td>\n",
       "      <td>5.993426</td>\n",
       "      <td>5.97</td>\n",
       "    </tr>\n",
       "    <tr>\n",
       "      <th>2</th>\n",
       "      <td>G620_water_level</td>\n",
       "      <td>2024-01-31</td>\n",
       "      <td>6.206570</td>\n",
       "      <td>11.191124</td>\n",
       "      <td>5.985068</td>\n",
       "      <td>5.96</td>\n",
       "    </tr>\n",
       "    <tr>\n",
       "      <th>3</th>\n",
       "      <td>G620_water_level</td>\n",
       "      <td>2024-02-01</td>\n",
       "      <td>6.193393</td>\n",
       "      <td>10.648573</td>\n",
       "      <td>5.977842</td>\n",
       "      <td>5.95</td>\n",
       "    </tr>\n",
       "    <tr>\n",
       "      <th>4</th>\n",
       "      <td>G620_water_level</td>\n",
       "      <td>2024-02-02</td>\n",
       "      <td>6.069048</td>\n",
       "      <td>9.353334</td>\n",
       "      <td>5.971125</td>\n",
       "      <td>5.94</td>\n",
       "    </tr>\n",
       "    <tr>\n",
       "      <th>...</th>\n",
       "      <td>...</td>\n",
       "      <td>...</td>\n",
       "      <td>...</td>\n",
       "      <td>...</td>\n",
       "      <td>...</td>\n",
       "      <td>...</td>\n",
       "    </tr>\n",
       "    <tr>\n",
       "      <th>7802</th>\n",
       "      <td>TSH_stage</td>\n",
       "      <td>2024-08-22</td>\n",
       "      <td>2.667645</td>\n",
       "      <td>6.848316</td>\n",
       "      <td>2.604910</td>\n",
       "      <td>2.78</td>\n",
       "    </tr>\n",
       "    <tr>\n",
       "      <th>7803</th>\n",
       "      <td>TSH_stage</td>\n",
       "      <td>2024-08-23</td>\n",
       "      <td>2.626756</td>\n",
       "      <td>3.509356</td>\n",
       "      <td>2.603642</td>\n",
       "      <td>2.81</td>\n",
       "    </tr>\n",
       "    <tr>\n",
       "      <th>7804</th>\n",
       "      <td>TSH_stage</td>\n",
       "      <td>2024-08-24</td>\n",
       "      <td>2.590511</td>\n",
       "      <td>-0.471451</td>\n",
       "      <td>2.600448</td>\n",
       "      <td>2.80</td>\n",
       "    </tr>\n",
       "    <tr>\n",
       "      <th>7805</th>\n",
       "      <td>TSH_stage</td>\n",
       "      <td>2024-08-25</td>\n",
       "      <td>2.558795</td>\n",
       "      <td>-5.177432</td>\n",
       "      <td>2.604291</td>\n",
       "      <td>2.80</td>\n",
       "    </tr>\n",
       "    <tr>\n",
       "      <th>7806</th>\n",
       "      <td>TSH_stage</td>\n",
       "      <td>2024-08-26</td>\n",
       "      <td>2.538811</td>\n",
       "      <td>-9.057331</td>\n",
       "      <td>2.617953</td>\n",
       "      <td>2.80</td>\n",
       "    </tr>\n",
       "  </tbody>\n",
       "</table>\n",
       "<p>7807 rows × 6 columns</p>\n",
       "</div>"
      ],
      "text/plain": [
       "             unique_id         ds  Informer  Autoformer  PatchTST     y\n",
       "0     G620_water_level 2024-01-29  6.289072   10.357516  5.999596  5.99\n",
       "1     G620_water_level 2024-01-30  6.299329   11.011190  5.993426  5.97\n",
       "2     G620_water_level 2024-01-31  6.206570   11.191124  5.985068  5.96\n",
       "3     G620_water_level 2024-02-01  6.193393   10.648573  5.977842  5.95\n",
       "4     G620_water_level 2024-02-02  6.069048    9.353334  5.971125  5.94\n",
       "...                ...        ...       ...         ...       ...   ...\n",
       "7802         TSH_stage 2024-08-22  2.667645    6.848316  2.604910  2.78\n",
       "7803         TSH_stage 2024-08-23  2.626756    3.509356  2.603642  2.81\n",
       "7804         TSH_stage 2024-08-24  2.590511   -0.471451  2.600448  2.80\n",
       "7805         TSH_stage 2024-08-25  2.558795   -5.177432  2.604291  2.80\n",
       "7806         TSH_stage 2024-08-26  2.538811   -9.057331  2.617953  2.80\n",
       "\n",
       "[7807 rows x 6 columns]"
      ]
     },
     "execution_count": 44,
     "metadata": {},
     "output_type": "execute_result"
    }
   ],
   "source": [
    "Y_hat_df_agg_all = Y_hat_df_all.groupby(['unique_id', 'ds']).agg({'Informer': 'mean','Autoformer': 'mean','PatchTST': 'mean','y': 'mean'}).reset_index()\n",
    "Y_hat_df_agg_all"
   ]
  },
  {
   "cell_type": "code",
   "execution_count": null,
   "id": "81df3388",
   "metadata": {},
   "outputs": [],
   "source": [
    "Y_hat_df_agg_all.to_csv(\"Output/allModels_results.csv\", index=True)\n",
    "forecasts_all.to_csv(\"Output/allModels_predictions.csv\", index=True)"
   ]
  },
  {
   "cell_type": "code",
   "execution_count": null,
   "id": "2fadeae5",
   "metadata": {},
   "outputs": [],
   "source": [
    "# Saving the trained model\n",
    "nf_all.save(\"Output/allModels_history\")"
   ]
  },
  {
   "cell_type": "code",
   "execution_count": 48,
   "id": "ff024f0a",
   "metadata": {},
   "outputs": [
    {
     "name": "stdout",
     "output_type": "stream",
     "text": [
      "         Stage       Model       MAE      RMSE       MAPE\n",
      "0  NP205_stage    Informer  0.498192  0.587524   7.614668\n",
      "1  NP205_stage  Autoformer  4.290840  5.275458  62.942435\n",
      "2  NP205_stage    PatchTST  0.349869  0.480300   5.470317\n",
      "3    P33_stage    Informer  0.344310  0.410743   4.733577\n",
      "4    P33_stage  Autoformer  3.046323  3.725331  42.329532\n",
      "5    P33_stage    PatchTST  0.155073  0.197019   2.179602\n"
     ]
    }
   ],
   "source": [
    "import numpy as np\n",
    "import pandas as pd\n",
    "from sklearn.metrics import mean_absolute_error as mae, mean_squared_error as mse\n",
    "\n",
    "# List of stages to evaluate\n",
    "stages = ['NP205_stage', 'P33_stage']\n",
    "\n",
    "# Create an empty list to hold the comparison results\n",
    "comparison_results = []\n",
    "\n",
    "# Iterate over the stages\n",
    "for stage in stages:\n",
    "    stage_data = Y_hat_df_agg_all[Y_hat_df_agg_all['unique_id'] == stage]\n",
    "    \n",
    "    # Extract the actual values\n",
    "    true = stage_data['y'].values\n",
    "    \n",
    "    # Define the models to evaluate\n",
    "    models = ['Informer', 'Autoformer', 'PatchTST']\n",
    "    \n",
    "    for model in models:\n",
    "        # Get predictions for each model\n",
    "        if model == 'Informer':\n",
    "            pred = stage_data['Informer'].values\n",
    "        elif model == 'Autoformer':\n",
    "            pred = stage_data['Autoformer'].values\n",
    "        elif model == 'PatchTST':\n",
    "            pred = stage_data['PatchTST'].values\n",
    "\n",
    "        # Calculate MAE and RMSE\n",
    "        mae_value = mae(true, pred)\n",
    "        rmse_value = np.sqrt(mse(true, pred))\n",
    "        \n",
    "        # Calculate MAPE\n",
    "        mape_value = np.mean(np.abs((true - pred) / true)) * 100\n",
    "        \n",
    "        # Store the results in the list\n",
    "        comparison_results.append({\n",
    "            'Stage': stage,\n",
    "            'Model': model,\n",
    "            'MAE': mae_value,\n",
    "            'RMSE': rmse_value,\n",
    "            'MAPE': mape_value\n",
    "        })\n",
    "\n",
    "# Convert the results into a DataFrame\n",
    "comparison_table = pd.DataFrame(comparison_results)\n",
    "\n",
    "# Display the comparison table\n",
    "print(comparison_table)\n"
   ]
  },
  {
   "cell_type": "code",
   "execution_count": 50,
   "id": "16270139",
   "metadata": {},
   "outputs": [
    {
     "name": "stderr",
     "output_type": "stream",
     "text": [
      "Seed set to 1\n"
     ]
    },
    {
     "name": "stdout",
     "output_type": "stream",
     "text": [
      "CPU times: total: 0 ns\n",
      "Wall time: 83 ms\n"
     ]
    }
   ],
   "source": [
    "%%time\n",
    "from neuralforecast import NeuralForecast\n",
    "from neuralforecast.models import TimeMixer\n",
    "\n",
    "#learning rate = 0.001 default\n",
    "#optimizer is adam by default\n",
    "timemixer_model = TimeMixer(h=horizon,input_size=100,n_series=37,max_steps=1000,val_check_steps=100,early_stop_patience_steps=100)\n",
    "#Setting n_series=1 means that you are telling the model to treat the entire dataset as one large multivariate time series, rather than multiple separate series. Essentially, it will predict all variables (stations) as one unified prediction."
   ]
  },
  {
   "cell_type": "code",
   "execution_count": 51,
   "id": "b3bd7e0d",
   "metadata": {},
   "outputs": [
    {
     "name": "stderr",
     "output_type": "stream",
     "text": [
      "GPU available: False, used: False\n",
      "TPU available: False, using: 0 TPU cores\n",
      "HPU available: False, using: 0 HPUs\n",
      "\n",
      "   | Name              | Type                 | Params | Mode \n",
      "--------------------------------------------------------------------\n",
      "0  | loss              | MAE                  | 0      | train\n",
      "1  | padder            | ConstantPad1d        | 0      | train\n",
      "2  | scaler            | TemporalNorm         | 0      | train\n",
      "3  | pdm_blocks        | ModuleList           | 108 K  | train\n",
      "4  | preprocess        | SeriesDecomp         | 0      | train\n",
      "5  | enc_embedding     | DataEmbedding_wo_pos | 6.0 K  | train\n",
      "6  | normalize_layers  | ModuleList           | 148    | train\n",
      "7  | predict_layers    | ModuleList           | 4.3 K  | train\n",
      "8  | projection_layer  | Linear               | 1.2 K  | train\n",
      "9  | out_res_layers    | ModuleList           | 12.7 K | train\n",
      "10 | regression_layers | ModuleList           | 4.3 K  | train\n",
      "--------------------------------------------------------------------\n",
      "134 K     Trainable params\n",
      "2.4 K     Non-trainable params\n",
      "136 K     Total params\n",
      "0.547     Total estimated model params size (MB)\n",
      "138       Modules in train mode\n",
      "0         Modules in eval mode\n"
     ]
    },
    {
     "data": {
      "application/vnd.jupyter.widget-view+json": {
       "model_id": "",
       "version_major": 2,
       "version_minor": 0
      },
      "text/plain": [
       "Sanity Checking: |                                                                               | 0/? [00:00<…"
      ]
     },
     "metadata": {},
     "output_type": "display_data"
    },
    {
     "data": {
      "application/vnd.jupyter.widget-view+json": {
       "model_id": "a7543036ac194fa2b13a162e85993655",
       "version_major": 2,
       "version_minor": 0
      },
      "text/plain": [
       "Training: |                                                                                      | 0/? [00:00<…"
      ]
     },
     "metadata": {},
     "output_type": "display_data"
    },
    {
     "data": {
      "application/vnd.jupyter.widget-view+json": {
       "model_id": "",
       "version_major": 2,
       "version_minor": 0
      },
      "text/plain": [
       "Validation: |                                                                                    | 0/? [00:00<…"
      ]
     },
     "metadata": {},
     "output_type": "display_data"
    },
    {
     "data": {
      "application/vnd.jupyter.widget-view+json": {
       "model_id": "",
       "version_major": 2,
       "version_minor": 0
      },
      "text/plain": [
       "Validation: |                                                                                    | 0/? [00:00<…"
      ]
     },
     "metadata": {},
     "output_type": "display_data"
    },
    {
     "data": {
      "application/vnd.jupyter.widget-view+json": {
       "model_id": "",
       "version_major": 2,
       "version_minor": 0
      },
      "text/plain": [
       "Validation: |                                                                                    | 0/? [00:00<…"
      ]
     },
     "metadata": {},
     "output_type": "display_data"
    },
    {
     "data": {
      "application/vnd.jupyter.widget-view+json": {
       "model_id": "",
       "version_major": 2,
       "version_minor": 0
      },
      "text/plain": [
       "Validation: |                                                                                    | 0/? [00:00<…"
      ]
     },
     "metadata": {},
     "output_type": "display_data"
    },
    {
     "data": {
      "application/vnd.jupyter.widget-view+json": {
       "model_id": "",
       "version_major": 2,
       "version_minor": 0
      },
      "text/plain": [
       "Validation: |                                                                                    | 0/? [00:00<…"
      ]
     },
     "metadata": {},
     "output_type": "display_data"
    },
    {
     "data": {
      "application/vnd.jupyter.widget-view+json": {
       "model_id": "",
       "version_major": 2,
       "version_minor": 0
      },
      "text/plain": [
       "Validation: |                                                                                    | 0/? [00:00<…"
      ]
     },
     "metadata": {},
     "output_type": "display_data"
    },
    {
     "data": {
      "application/vnd.jupyter.widget-view+json": {
       "model_id": "",
       "version_major": 2,
       "version_minor": 0
      },
      "text/plain": [
       "Validation: |                                                                                    | 0/? [00:00<…"
      ]
     },
     "metadata": {},
     "output_type": "display_data"
    },
    {
     "data": {
      "application/vnd.jupyter.widget-view+json": {
       "model_id": "",
       "version_major": 2,
       "version_minor": 0
      },
      "text/plain": [
       "Validation: |                                                                                    | 0/? [00:00<…"
      ]
     },
     "metadata": {},
     "output_type": "display_data"
    },
    {
     "data": {
      "application/vnd.jupyter.widget-view+json": {
       "model_id": "",
       "version_major": 2,
       "version_minor": 0
      },
      "text/plain": [
       "Validation: |                                                                                    | 0/? [00:00<…"
      ]
     },
     "metadata": {},
     "output_type": "display_data"
    },
    {
     "data": {
      "application/vnd.jupyter.widget-view+json": {
       "model_id": "",
       "version_major": 2,
       "version_minor": 0
      },
      "text/plain": [
       "Validation: |                                                                                    | 0/? [00:00<…"
      ]
     },
     "metadata": {},
     "output_type": "display_data"
    },
    {
     "name": "stderr",
     "output_type": "stream",
     "text": [
      "`Trainer.fit` stopped: `max_steps=1000` reached.\n"
     ]
    },
    {
     "name": "stdout",
     "output_type": "stream",
     "text": [
      "CPU times: total: 3min 9s\n",
      "Wall time: 1min 44s\n"
     ]
    }
   ],
   "source": [
    "%%time\n",
    "# Forecasting\n",
    "nf_Timemixer = NeuralForecast(models=[timemixer_model], freq='D')  \n",
    "nf_Timemixer.fit(df=Y_train_df, val_size=val_size)  "
   ]
  },
  {
   "cell_type": "code",
   "execution_count": 52,
   "id": "bfae6a08",
   "metadata": {},
   "outputs": [
    {
     "name": "stderr",
     "output_type": "stream",
     "text": [
      "Trainer already configured with model summary callbacks: [<class 'pytorch_lightning.callbacks.model_summary.ModelSummary'>]. Skipping setting a default `ModelSummary` callback.\n",
      "GPU available: False, used: False\n",
      "TPU available: False, using: 0 TPU cores\n",
      "HPU available: False, using: 0 HPUs\n",
      "\n",
      "   | Name              | Type                 | Params | Mode \n",
      "--------------------------------------------------------------------\n",
      "0  | loss              | MAE                  | 0      | train\n",
      "1  | padder            | ConstantPad1d        | 0      | train\n",
      "2  | scaler            | TemporalNorm         | 0      | train\n",
      "3  | pdm_blocks        | ModuleList           | 108 K  | train\n",
      "4  | preprocess        | SeriesDecomp         | 0      | train\n",
      "5  | enc_embedding     | DataEmbedding_wo_pos | 6.0 K  | train\n",
      "6  | normalize_layers  | ModuleList           | 148    | train\n",
      "7  | predict_layers    | ModuleList           | 4.3 K  | train\n",
      "8  | projection_layer  | Linear               | 1.2 K  | train\n",
      "9  | out_res_layers    | ModuleList           | 12.7 K | train\n",
      "10 | regression_layers | ModuleList           | 4.3 K  | train\n",
      "--------------------------------------------------------------------\n",
      "134 K     Trainable params\n",
      "2.4 K     Non-trainable params\n",
      "136 K     Total params\n",
      "0.547     Total estimated model params size (MB)\n",
      "138       Modules in train mode\n",
      "0         Modules in eval mode\n"
     ]
    },
    {
     "data": {
      "application/vnd.jupyter.widget-view+json": {
       "model_id": "",
       "version_major": 2,
       "version_minor": 0
      },
      "text/plain": [
       "Sanity Checking: |                                                                               | 0/? [00:00<…"
      ]
     },
     "metadata": {},
     "output_type": "display_data"
    },
    {
     "data": {
      "application/vnd.jupyter.widget-view+json": {
       "model_id": "864a36ed003b4d95a3f29eab5f544786",
       "version_major": 2,
       "version_minor": 0
      },
      "text/plain": [
       "Training: |                                                                                      | 0/? [00:00<…"
      ]
     },
     "metadata": {},
     "output_type": "display_data"
    },
    {
     "data": {
      "application/vnd.jupyter.widget-view+json": {
       "model_id": "",
       "version_major": 2,
       "version_minor": 0
      },
      "text/plain": [
       "Validation: |                                                                                    | 0/? [00:00<…"
      ]
     },
     "metadata": {},
     "output_type": "display_data"
    },
    {
     "data": {
      "application/vnd.jupyter.widget-view+json": {
       "model_id": "",
       "version_major": 2,
       "version_minor": 0
      },
      "text/plain": [
       "Validation: |                                                                                    | 0/? [00:00<…"
      ]
     },
     "metadata": {},
     "output_type": "display_data"
    },
    {
     "data": {
      "application/vnd.jupyter.widget-view+json": {
       "model_id": "",
       "version_major": 2,
       "version_minor": 0
      },
      "text/plain": [
       "Validation: |                                                                                    | 0/? [00:00<…"
      ]
     },
     "metadata": {},
     "output_type": "display_data"
    },
    {
     "data": {
      "application/vnd.jupyter.widget-view+json": {
       "model_id": "",
       "version_major": 2,
       "version_minor": 0
      },
      "text/plain": [
       "Validation: |                                                                                    | 0/? [00:00<…"
      ]
     },
     "metadata": {},
     "output_type": "display_data"
    },
    {
     "data": {
      "application/vnd.jupyter.widget-view+json": {
       "model_id": "",
       "version_major": 2,
       "version_minor": 0
      },
      "text/plain": [
       "Validation: |                                                                                    | 0/? [00:00<…"
      ]
     },
     "metadata": {},
     "output_type": "display_data"
    },
    {
     "data": {
      "application/vnd.jupyter.widget-view+json": {
       "model_id": "",
       "version_major": 2,
       "version_minor": 0
      },
      "text/plain": [
       "Validation: |                                                                                    | 0/? [00:00<…"
      ]
     },
     "metadata": {},
     "output_type": "display_data"
    },
    {
     "data": {
      "application/vnd.jupyter.widget-view+json": {
       "model_id": "",
       "version_major": 2,
       "version_minor": 0
      },
      "text/plain": [
       "Validation: |                                                                                    | 0/? [00:00<…"
      ]
     },
     "metadata": {},
     "output_type": "display_data"
    },
    {
     "data": {
      "application/vnd.jupyter.widget-view+json": {
       "model_id": "",
       "version_major": 2,
       "version_minor": 0
      },
      "text/plain": [
       "Validation: |                                                                                    | 0/? [00:00<…"
      ]
     },
     "metadata": {},
     "output_type": "display_data"
    },
    {
     "data": {
      "application/vnd.jupyter.widget-view+json": {
       "model_id": "",
       "version_major": 2,
       "version_minor": 0
      },
      "text/plain": [
       "Validation: |                                                                                    | 0/? [00:00<…"
      ]
     },
     "metadata": {},
     "output_type": "display_data"
    },
    {
     "data": {
      "application/vnd.jupyter.widget-view+json": {
       "model_id": "",
       "version_major": 2,
       "version_minor": 0
      },
      "text/plain": [
       "Validation: |                                                                                    | 0/? [00:00<…"
      ]
     },
     "metadata": {},
     "output_type": "display_data"
    },
    {
     "name": "stderr",
     "output_type": "stream",
     "text": [
      "`Trainer.fit` stopped: `max_steps=1000` reached.\n",
      "Trainer already configured with model summary callbacks: [<class 'pytorch_lightning.callbacks.model_summary.ModelSummary'>]. Skipping setting a default `ModelSummary` callback.\n",
      "GPU available: False, used: False\n",
      "TPU available: False, using: 0 TPU cores\n",
      "HPU available: False, using: 0 HPUs\n"
     ]
    },
    {
     "data": {
      "application/vnd.jupyter.widget-view+json": {
       "model_id": "58f0109b04de497eb39035349114166c",
       "version_major": 2,
       "version_minor": 0
      },
      "text/plain": [
       "Predicting: |                                                                                    | 0/? [00:00<…"
      ]
     },
     "metadata": {},
     "output_type": "display_data"
    },
    {
     "name": "stdout",
     "output_type": "stream",
     "text": [
      "CPU times: total: 3min 6s\n",
      "Wall time: 1min 41s\n"
     ]
    },
    {
     "name": "stderr",
     "output_type": "stream",
     "text": [
      "C:\\Users\\rahuu\\anaconda3\\lib\\site-packages\\neuralforecast\\core.py:214: FutureWarning: In a future version the predictions will have the id as a column. You can set the `NIXTLA_ID_AS_COL` environment variable to adopt the new behavior and to suppress this warning.\n",
      "  warnings.warn(\n"
     ]
    }
   ],
   "source": [
    "%%time\n",
    "Y_hat_df_timemixer = nf_Timemixer.cross_validation(df=Y_df,\n",
    "                               val_size=val_size,\n",
    "                               test_size=test_size,\n",
    "                               n_windows=None)"
   ]
  },
  {
   "cell_type": "code",
   "execution_count": 53,
   "id": "5509bc07",
   "metadata": {},
   "outputs": [
    {
     "data": {
      "text/html": [
       "<div>\n",
       "<style scoped>\n",
       "    .dataframe tbody tr th:only-of-type {\n",
       "        vertical-align: middle;\n",
       "    }\n",
       "\n",
       "    .dataframe tbody tr th {\n",
       "        vertical-align: top;\n",
       "    }\n",
       "\n",
       "    .dataframe thead th {\n",
       "        text-align: right;\n",
       "    }\n",
       "</style>\n",
       "<table border=\"1\" class=\"dataframe\">\n",
       "  <thead>\n",
       "    <tr style=\"text-align: right;\">\n",
       "      <th></th>\n",
       "      <th>ds</th>\n",
       "      <th>cutoff</th>\n",
       "      <th>TimeMixer</th>\n",
       "      <th>y</th>\n",
       "    </tr>\n",
       "    <tr>\n",
       "      <th>unique_id</th>\n",
       "      <th></th>\n",
       "      <th></th>\n",
       "      <th></th>\n",
       "      <th></th>\n",
       "    </tr>\n",
       "  </thead>\n",
       "  <tbody>\n",
       "    <tr>\n",
       "      <th>G620_water_level</th>\n",
       "      <td>2024-01-29</td>\n",
       "      <td>2024-01-28</td>\n",
       "      <td>5.991134</td>\n",
       "      <td>5.99</td>\n",
       "    </tr>\n",
       "    <tr>\n",
       "      <th>G620_water_level</th>\n",
       "      <td>2024-01-30</td>\n",
       "      <td>2024-01-28</td>\n",
       "      <td>5.996099</td>\n",
       "      <td>5.97</td>\n",
       "    </tr>\n",
       "    <tr>\n",
       "      <th>G620_water_level</th>\n",
       "      <td>2024-01-31</td>\n",
       "      <td>2024-01-28</td>\n",
       "      <td>6.018631</td>\n",
       "      <td>5.96</td>\n",
       "    </tr>\n",
       "    <tr>\n",
       "      <th>G620_water_level</th>\n",
       "      <td>2024-02-01</td>\n",
       "      <td>2024-01-28</td>\n",
       "      <td>6.015676</td>\n",
       "      <td>5.95</td>\n",
       "    </tr>\n",
       "    <tr>\n",
       "      <th>G620_water_level</th>\n",
       "      <td>2024-02-02</td>\n",
       "      <td>2024-01-28</td>\n",
       "      <td>6.030210</td>\n",
       "      <td>5.94</td>\n",
       "    </tr>\n",
       "    <tr>\n",
       "      <th>...</th>\n",
       "      <td>...</td>\n",
       "      <td>...</td>\n",
       "      <td>...</td>\n",
       "      <td>...</td>\n",
       "    </tr>\n",
       "    <tr>\n",
       "      <th>TSH_stage</th>\n",
       "      <td>2024-08-22</td>\n",
       "      <td>2024-07-29</td>\n",
       "      <td>2.414834</td>\n",
       "      <td>2.78</td>\n",
       "    </tr>\n",
       "    <tr>\n",
       "      <th>TSH_stage</th>\n",
       "      <td>2024-08-23</td>\n",
       "      <td>2024-07-29</td>\n",
       "      <td>2.392487</td>\n",
       "      <td>2.81</td>\n",
       "    </tr>\n",
       "    <tr>\n",
       "      <th>TSH_stage</th>\n",
       "      <td>2024-08-24</td>\n",
       "      <td>2024-07-29</td>\n",
       "      <td>2.397683</td>\n",
       "      <td>2.80</td>\n",
       "    </tr>\n",
       "    <tr>\n",
       "      <th>TSH_stage</th>\n",
       "      <td>2024-08-25</td>\n",
       "      <td>2024-07-29</td>\n",
       "      <td>2.379497</td>\n",
       "      <td>2.80</td>\n",
       "    </tr>\n",
       "    <tr>\n",
       "      <th>TSH_stage</th>\n",
       "      <td>2024-08-26</td>\n",
       "      <td>2024-07-29</td>\n",
       "      <td>2.394792</td>\n",
       "      <td>2.80</td>\n",
       "    </tr>\n",
       "  </tbody>\n",
       "</table>\n",
       "<p>190624 rows × 4 columns</p>\n",
       "</div>"
      ],
      "text/plain": [
       "                         ds     cutoff  TimeMixer     y\n",
       "unique_id                                              \n",
       "G620_water_level 2024-01-29 2024-01-28   5.991134  5.99\n",
       "G620_water_level 2024-01-30 2024-01-28   5.996099  5.97\n",
       "G620_water_level 2024-01-31 2024-01-28   6.018631  5.96\n",
       "G620_water_level 2024-02-01 2024-01-28   6.015676  5.95\n",
       "G620_water_level 2024-02-02 2024-01-28   6.030210  5.94\n",
       "...                     ...        ...        ...   ...\n",
       "TSH_stage        2024-08-22 2024-07-29   2.414834  2.78\n",
       "TSH_stage        2024-08-23 2024-07-29   2.392487  2.81\n",
       "TSH_stage        2024-08-24 2024-07-29   2.397683  2.80\n",
       "TSH_stage        2024-08-25 2024-07-29   2.379497  2.80\n",
       "TSH_stage        2024-08-26 2024-07-29   2.394792  2.80\n",
       "\n",
       "[190624 rows x 4 columns]"
      ]
     },
     "execution_count": 53,
     "metadata": {},
     "output_type": "execute_result"
    }
   ],
   "source": [
    "Y_hat_df_timemixer"
   ]
  },
  {
   "cell_type": "code",
   "execution_count": 54,
   "id": "60369e56",
   "metadata": {},
   "outputs": [],
   "source": [
    "Y_hat_df_timemixer = Y_hat_df_timemixer.reset_index()"
   ]
  },
  {
   "cell_type": "code",
   "execution_count": 55,
   "id": "620f92b1",
   "metadata": {},
   "outputs": [
    {
     "name": "stdout",
     "output_type": "stream",
     "text": [
      "G620_water_level    5152\n",
      "S199                5152\n",
      "S332B               5152\n",
      "S332BN              5152\n",
      "S332C               5152\n",
      "S332D               5152\n",
      "S332DX1             5152\n",
      "S333                5152\n",
      "S333N               5152\n",
      "S333_T              5152\n",
      "S334                5152\n",
      "S334_H              5152\n",
      "S343A               5152\n",
      "S343B               5152\n",
      "S344                5152\n",
      "S356                5152\n",
      "SWEVER4_stage       5152\n",
      "S200                5152\n",
      "S18C_S              5152\n",
      "NESRS1              5152\n",
      "S12D_T              5152\n",
      "NESRS2              5152\n",
      "NP205_PET           5152\n",
      "NP205_rain          5152\n",
      "NP205_stage         5152\n",
      "NP62_stage          5152\n",
      "P33_PET             5152\n",
      "P33_rain            5152\n",
      "P33_stage           5152\n",
      "S12A                5152\n",
      "S12A_T              5152\n",
      "S12B                5152\n",
      "S12B_T              5152\n",
      "S12C                5152\n",
      "S12C_T              5152\n",
      "S12D                5152\n",
      "TSH_stage           5152\n",
      "Name: unique_id, dtype: int64\n"
     ]
    }
   ],
   "source": [
    "#rechecking Unique IDs\n",
    "unique_id_counts_timemixer = Y_hat_df_timemixer['unique_id'].value_counts()\n",
    "print(unique_id_counts_timemixer)"
   ]
  },
  {
   "cell_type": "code",
   "execution_count": 56,
   "id": "84ebd5d6",
   "metadata": {},
   "outputs": [
    {
     "data": {
      "text/html": [
       "<div>\n",
       "<style scoped>\n",
       "    .dataframe tbody tr th:only-of-type {\n",
       "        vertical-align: middle;\n",
       "    }\n",
       "\n",
       "    .dataframe tbody tr th {\n",
       "        vertical-align: top;\n",
       "    }\n",
       "\n",
       "    .dataframe thead th {\n",
       "        text-align: right;\n",
       "    }\n",
       "</style>\n",
       "<table border=\"1\" class=\"dataframe\">\n",
       "  <thead>\n",
       "    <tr style=\"text-align: right;\">\n",
       "      <th></th>\n",
       "      <th>unique_id</th>\n",
       "      <th>ds</th>\n",
       "      <th>TimeMixer</th>\n",
       "      <th>y</th>\n",
       "    </tr>\n",
       "  </thead>\n",
       "  <tbody>\n",
       "    <tr>\n",
       "      <th>0</th>\n",
       "      <td>G620_water_level</td>\n",
       "      <td>2024-01-29</td>\n",
       "      <td>5.991134</td>\n",
       "      <td>5.99</td>\n",
       "    </tr>\n",
       "    <tr>\n",
       "      <th>1</th>\n",
       "      <td>G620_water_level</td>\n",
       "      <td>2024-01-30</td>\n",
       "      <td>5.986139</td>\n",
       "      <td>5.97</td>\n",
       "    </tr>\n",
       "    <tr>\n",
       "      <th>2</th>\n",
       "      <td>G620_water_level</td>\n",
       "      <td>2024-01-31</td>\n",
       "      <td>5.986710</td>\n",
       "      <td>5.96</td>\n",
       "    </tr>\n",
       "    <tr>\n",
       "      <th>3</th>\n",
       "      <td>G620_water_level</td>\n",
       "      <td>2024-02-01</td>\n",
       "      <td>5.983805</td>\n",
       "      <td>5.95</td>\n",
       "    </tr>\n",
       "    <tr>\n",
       "      <th>4</th>\n",
       "      <td>G620_water_level</td>\n",
       "      <td>2024-02-02</td>\n",
       "      <td>5.985395</td>\n",
       "      <td>5.94</td>\n",
       "    </tr>\n",
       "    <tr>\n",
       "      <th>...</th>\n",
       "      <td>...</td>\n",
       "      <td>...</td>\n",
       "      <td>...</td>\n",
       "      <td>...</td>\n",
       "    </tr>\n",
       "    <tr>\n",
       "      <th>7802</th>\n",
       "      <td>TSH_stage</td>\n",
       "      <td>2024-08-22</td>\n",
       "      <td>2.474700</td>\n",
       "      <td>2.78</td>\n",
       "    </tr>\n",
       "    <tr>\n",
       "      <th>7803</th>\n",
       "      <td>TSH_stage</td>\n",
       "      <td>2024-08-23</td>\n",
       "      <td>2.459051</td>\n",
       "      <td>2.81</td>\n",
       "    </tr>\n",
       "    <tr>\n",
       "      <th>7804</th>\n",
       "      <td>TSH_stage</td>\n",
       "      <td>2024-08-24</td>\n",
       "      <td>2.439607</td>\n",
       "      <td>2.80</td>\n",
       "    </tr>\n",
       "    <tr>\n",
       "      <th>7805</th>\n",
       "      <td>TSH_stage</td>\n",
       "      <td>2024-08-25</td>\n",
       "      <td>2.414936</td>\n",
       "      <td>2.80</td>\n",
       "    </tr>\n",
       "    <tr>\n",
       "      <th>7806</th>\n",
       "      <td>TSH_stage</td>\n",
       "      <td>2024-08-26</td>\n",
       "      <td>2.394792</td>\n",
       "      <td>2.80</td>\n",
       "    </tr>\n",
       "  </tbody>\n",
       "</table>\n",
       "<p>7807 rows × 4 columns</p>\n",
       "</div>"
      ],
      "text/plain": [
       "             unique_id         ds  TimeMixer     y\n",
       "0     G620_water_level 2024-01-29   5.991134  5.99\n",
       "1     G620_water_level 2024-01-30   5.986139  5.97\n",
       "2     G620_water_level 2024-01-31   5.986710  5.96\n",
       "3     G620_water_level 2024-02-01   5.983805  5.95\n",
       "4     G620_water_level 2024-02-02   5.985395  5.94\n",
       "...                ...        ...        ...   ...\n",
       "7802         TSH_stage 2024-08-22   2.474700  2.78\n",
       "7803         TSH_stage 2024-08-23   2.459051  2.81\n",
       "7804         TSH_stage 2024-08-24   2.439607  2.80\n",
       "7805         TSH_stage 2024-08-25   2.414936  2.80\n",
       "7806         TSH_stage 2024-08-26   2.394792  2.80\n",
       "\n",
       "[7807 rows x 4 columns]"
      ]
     },
     "execution_count": 56,
     "metadata": {},
     "output_type": "execute_result"
    }
   ],
   "source": [
    "Y_hat_df_agg_timemixer = Y_hat_df_timemixer.groupby(['unique_id', 'ds']).agg({'TimeMixer': 'mean', 'y': 'mean'}).reset_index()\n",
    "Y_hat_df_agg_timemixer"
   ]
  },
  {
   "cell_type": "code",
   "execution_count": 57,
   "id": "9c2d4a0b",
   "metadata": {},
   "outputs": [
    {
     "name": "stderr",
     "output_type": "stream",
     "text": [
      "Trainer already configured with model summary callbacks: [<class 'pytorch_lightning.callbacks.model_summary.ModelSummary'>]. Skipping setting a default `ModelSummary` callback.\n",
      "GPU available: False, used: False\n",
      "TPU available: False, using: 0 TPU cores\n",
      "HPU available: False, using: 0 HPUs\n"
     ]
    },
    {
     "data": {
      "application/vnd.jupyter.widget-view+json": {
       "model_id": "7c261bc0bdbb4fd3b27daed4332951c4",
       "version_major": 2,
       "version_minor": 0
      },
      "text/plain": [
       "Predicting: |                                                                                    | 0/? [00:00<…"
      ]
     },
     "metadata": {},
     "output_type": "display_data"
    },
    {
     "name": "stdout",
     "output_type": "stream",
     "text": [
      "CPU times: total: 641 ms\n",
      "Wall time: 830 ms\n"
     ]
    },
    {
     "name": "stderr",
     "output_type": "stream",
     "text": [
      "C:\\Users\\rahuu\\anaconda3\\lib\\site-packages\\neuralforecast\\core.py:214: FutureWarning: In a future version the predictions will have the id as a column. You can set the `NIXTLA_ID_AS_COL` environment variable to adopt the new behavior and to suppress this warning.\n",
      "  warnings.warn(\n"
     ]
    },
    {
     "data": {
      "text/html": [
       "<div>\n",
       "<style scoped>\n",
       "    .dataframe tbody tr th:only-of-type {\n",
       "        vertical-align: middle;\n",
       "    }\n",
       "\n",
       "    .dataframe tbody tr th {\n",
       "        vertical-align: top;\n",
       "    }\n",
       "\n",
       "    .dataframe thead th {\n",
       "        text-align: right;\n",
       "    }\n",
       "</style>\n",
       "<table border=\"1\" class=\"dataframe\">\n",
       "  <thead>\n",
       "    <tr style=\"text-align: right;\">\n",
       "      <th></th>\n",
       "      <th>unique_id</th>\n",
       "      <th>ds</th>\n",
       "      <th>TimeMixer</th>\n",
       "    </tr>\n",
       "  </thead>\n",
       "  <tbody>\n",
       "    <tr>\n",
       "      <th>0</th>\n",
       "      <td>G620_water_level</td>\n",
       "      <td>2024-08-27</td>\n",
       "      <td>6.205377</td>\n",
       "    </tr>\n",
       "    <tr>\n",
       "      <th>1</th>\n",
       "      <td>G620_water_level</td>\n",
       "      <td>2024-08-28</td>\n",
       "      <td>6.161774</td>\n",
       "    </tr>\n",
       "    <tr>\n",
       "      <th>2</th>\n",
       "      <td>G620_water_level</td>\n",
       "      <td>2024-08-29</td>\n",
       "      <td>6.101307</td>\n",
       "    </tr>\n",
       "    <tr>\n",
       "      <th>3</th>\n",
       "      <td>G620_water_level</td>\n",
       "      <td>2024-08-30</td>\n",
       "      <td>6.048430</td>\n",
       "    </tr>\n",
       "    <tr>\n",
       "      <th>4</th>\n",
       "      <td>G620_water_level</td>\n",
       "      <td>2024-08-31</td>\n",
       "      <td>6.004264</td>\n",
       "    </tr>\n",
       "    <tr>\n",
       "      <th>...</th>\n",
       "      <td>...</td>\n",
       "      <td>...</td>\n",
       "      <td>...</td>\n",
       "    </tr>\n",
       "    <tr>\n",
       "      <th>1031</th>\n",
       "      <td>TSH_stage</td>\n",
       "      <td>2024-09-19</td>\n",
       "      <td>2.406682</td>\n",
       "    </tr>\n",
       "    <tr>\n",
       "      <th>1032</th>\n",
       "      <td>TSH_stage</td>\n",
       "      <td>2024-09-20</td>\n",
       "      <td>2.404526</td>\n",
       "    </tr>\n",
       "    <tr>\n",
       "      <th>1033</th>\n",
       "      <td>TSH_stage</td>\n",
       "      <td>2024-09-21</td>\n",
       "      <td>2.391650</td>\n",
       "    </tr>\n",
       "    <tr>\n",
       "      <th>1034</th>\n",
       "      <td>TSH_stage</td>\n",
       "      <td>2024-09-22</td>\n",
       "      <td>2.390763</td>\n",
       "    </tr>\n",
       "    <tr>\n",
       "      <th>1035</th>\n",
       "      <td>TSH_stage</td>\n",
       "      <td>2024-09-23</td>\n",
       "      <td>2.393801</td>\n",
       "    </tr>\n",
       "  </tbody>\n",
       "</table>\n",
       "<p>1036 rows × 3 columns</p>\n",
       "</div>"
      ],
      "text/plain": [
       "             unique_id         ds  TimeMixer\n",
       "0     G620_water_level 2024-08-27   6.205377\n",
       "1     G620_water_level 2024-08-28   6.161774\n",
       "2     G620_water_level 2024-08-29   6.101307\n",
       "3     G620_water_level 2024-08-30   6.048430\n",
       "4     G620_water_level 2024-08-31   6.004264\n",
       "...                ...        ...        ...\n",
       "1031         TSH_stage 2024-09-19   2.406682\n",
       "1032         TSH_stage 2024-09-20   2.404526\n",
       "1033         TSH_stage 2024-09-21   2.391650\n",
       "1034         TSH_stage 2024-09-22   2.390763\n",
       "1035         TSH_stage 2024-09-23   2.393801\n",
       "\n",
       "[1036 rows x 3 columns]"
      ]
     },
     "execution_count": 57,
     "metadata": {},
     "output_type": "execute_result"
    }
   ],
   "source": [
    "%%time\n",
    "forecasts_timemixer = nf_Timemixer.predict(df=Y_df, test_size=test_size) # Reset the index of Y_hat_df to convert 'unique_id' and 'ds' into columns\n",
    "forecasts_timemixer = forecasts_timemixer.reset_index()\n",
    "forecasts_timemixer"
   ]
  },
  {
   "cell_type": "code",
   "execution_count": 58,
   "id": "0f54eea2",
   "metadata": {},
   "outputs": [
    {
     "name": "stdout",
     "output_type": "stream",
     "text": [
      "======== NP205_stage ========\n",
      "MAE = 0.622375\n",
      "RMSE = 0.806999\n",
      "\n",
      "======== P33_stage ========\n",
      "MAE = 0.228097\n",
      "RMSE = 0.287007\n",
      "\n"
     ]
    }
   ],
   "source": [
    "#Multivariate forecasting with n_series=37\n",
    "import numpy as np\n",
    "from sklearn.metrics import mean_absolute_error as mae, mean_squared_error as mse\n",
    "\n",
    "# List of stages to evaluate\n",
    "stages = ['NP205_stage', 'P33_stage']\n",
    "\n",
    "for stage in stages:\n",
    "    # Filter the data for the specific stage\n",
    "    stage_data = Y_hat_df_agg_timemixer[Y_hat_df_agg_timemixer['unique_id'] == stage]\n",
    "    print(f\"======== {stage} ========\")\n",
    "    \n",
    "    # Extract the actual and predicted values\n",
    "    true = stage_data['y'].values\n",
    "    pred = stage_data['TimeMixer'].values\n",
    "    \n",
    "    # Calculate MAE and RMSE\n",
    "    mae_value = mae(true, pred)\n",
    "    rmse_value = np.sqrt(mse(true, pred))\n",
    "    \n",
    "    # Print the results\n",
    "    print(f'MAE = {mae_value:.6f}')\n",
    "    print(f'RMSE = {rmse_value:.6f}\\n')"
   ]
  },
  {
   "cell_type": "code",
   "execution_count": null,
   "id": "0e9bdc7c",
   "metadata": {},
   "outputs": [],
   "source": [
    "nf_Timemixer.save(\"Output/TimeMixer-trained-model\")               \n",
    "Y_hat_df_agg_timemixer.to_csv(\"Output/TimeMixer_results.csv\", index=True)                   \n",
    "forecasts_timemixer.to_csv(\"Output/TimeMixer_predictions.csv\", index=True)"
   ]
  },
  {
   "cell_type": "code",
   "execution_count": 62,
   "id": "0b8e6c4b",
   "metadata": {},
   "outputs": [
    {
     "name": "stderr",
     "output_type": "stream",
     "text": [
      "Seed set to 1\n"
     ]
    }
   ],
   "source": [
    "from neuralforecast.models import TSMixer\n",
    "TSMixer_model = TSMixer(h=horizon,\n",
    "                n_series=37,\n",
    "                input_size=100,\n",
    "                max_steps=1000,\n",
    "                val_check_steps=100,\n",
    "                early_stop_patience_steps=100)"
   ]
  },
  {
   "cell_type": "code",
   "execution_count": 63,
   "id": "9cbd2f03",
   "metadata": {},
   "outputs": [
    {
     "name": "stderr",
     "output_type": "stream",
     "text": [
      "GPU available: False, used: False\n",
      "TPU available: False, using: 0 TPU cores\n",
      "HPU available: False, using: 0 HPUs\n",
      "\n",
      "  | Name          | Type                     | Params | Mode \n",
      "-------------------------------------------------------------------\n",
      "0 | loss          | MAE                      | 0      | train\n",
      "1 | padder        | ConstantPad1d            | 0      | train\n",
      "2 | scaler        | TemporalNorm             | 0      | train\n",
      "3 | norm          | ReversibleInstanceNorm1d | 74     | train\n",
      "4 | mixing_layers | Sequential               | 59.5 K | train\n",
      "5 | out           | Linear                   | 2.8 K  | train\n",
      "-------------------------------------------------------------------\n",
      "62.4 K    Trainable params\n",
      "0         Non-trainable params\n",
      "62.4 K    Total params\n",
      "0.250     Total estimated model params size (MB)\n",
      "28        Modules in train mode\n",
      "0         Modules in eval mode\n"
     ]
    },
    {
     "data": {
      "application/vnd.jupyter.widget-view+json": {
       "model_id": "",
       "version_major": 2,
       "version_minor": 0
      },
      "text/plain": [
       "Sanity Checking: |                                                                               | 0/? [00:00<…"
      ]
     },
     "metadata": {},
     "output_type": "display_data"
    },
    {
     "data": {
      "application/vnd.jupyter.widget-view+json": {
       "model_id": "743b95cdf1e34b60ab5a826cfb13298f",
       "version_major": 2,
       "version_minor": 0
      },
      "text/plain": [
       "Training: |                                                                                      | 0/? [00:00<…"
      ]
     },
     "metadata": {},
     "output_type": "display_data"
    },
    {
     "data": {
      "application/vnd.jupyter.widget-view+json": {
       "model_id": "",
       "version_major": 2,
       "version_minor": 0
      },
      "text/plain": [
       "Validation: |                                                                                    | 0/? [00:00<…"
      ]
     },
     "metadata": {},
     "output_type": "display_data"
    },
    {
     "data": {
      "application/vnd.jupyter.widget-view+json": {
       "model_id": "",
       "version_major": 2,
       "version_minor": 0
      },
      "text/plain": [
       "Validation: |                                                                                    | 0/? [00:00<…"
      ]
     },
     "metadata": {},
     "output_type": "display_data"
    },
    {
     "data": {
      "application/vnd.jupyter.widget-view+json": {
       "model_id": "",
       "version_major": 2,
       "version_minor": 0
      },
      "text/plain": [
       "Validation: |                                                                                    | 0/? [00:00<…"
      ]
     },
     "metadata": {},
     "output_type": "display_data"
    },
    {
     "data": {
      "application/vnd.jupyter.widget-view+json": {
       "model_id": "",
       "version_major": 2,
       "version_minor": 0
      },
      "text/plain": [
       "Validation: |                                                                                    | 0/? [00:00<…"
      ]
     },
     "metadata": {},
     "output_type": "display_data"
    },
    {
     "data": {
      "application/vnd.jupyter.widget-view+json": {
       "model_id": "",
       "version_major": 2,
       "version_minor": 0
      },
      "text/plain": [
       "Validation: |                                                                                    | 0/? [00:00<…"
      ]
     },
     "metadata": {},
     "output_type": "display_data"
    },
    {
     "data": {
      "application/vnd.jupyter.widget-view+json": {
       "model_id": "",
       "version_major": 2,
       "version_minor": 0
      },
      "text/plain": [
       "Validation: |                                                                                    | 0/? [00:00<…"
      ]
     },
     "metadata": {},
     "output_type": "display_data"
    },
    {
     "data": {
      "application/vnd.jupyter.widget-view+json": {
       "model_id": "",
       "version_major": 2,
       "version_minor": 0
      },
      "text/plain": [
       "Validation: |                                                                                    | 0/? [00:00<…"
      ]
     },
     "metadata": {},
     "output_type": "display_data"
    },
    {
     "data": {
      "application/vnd.jupyter.widget-view+json": {
       "model_id": "",
       "version_major": 2,
       "version_minor": 0
      },
      "text/plain": [
       "Validation: |                                                                                    | 0/? [00:00<…"
      ]
     },
     "metadata": {},
     "output_type": "display_data"
    },
    {
     "data": {
      "application/vnd.jupyter.widget-view+json": {
       "model_id": "",
       "version_major": 2,
       "version_minor": 0
      },
      "text/plain": [
       "Validation: |                                                                                    | 0/? [00:00<…"
      ]
     },
     "metadata": {},
     "output_type": "display_data"
    },
    {
     "data": {
      "application/vnd.jupyter.widget-view+json": {
       "model_id": "",
       "version_major": 2,
       "version_minor": 0
      },
      "text/plain": [
       "Validation: |                                                                                    | 0/? [00:00<…"
      ]
     },
     "metadata": {},
     "output_type": "display_data"
    },
    {
     "name": "stderr",
     "output_type": "stream",
     "text": [
      "`Trainer.fit` stopped: `max_steps=1000` reached.\n"
     ]
    },
    {
     "name": "stdout",
     "output_type": "stream",
     "text": [
      "CPU times: total: 1min 21s\n",
      "Wall time: 55.5 s\n"
     ]
    }
   ],
   "source": [
    "%%time\n",
    "# Forecasting\n",
    "nf_TSMixer = NeuralForecast(models=[TSMixer_model], freq='D')  \n",
    "nf_TSMixer.fit(df=Y_train_df, val_size=val_size)  "
   ]
  },
  {
   "cell_type": "code",
   "execution_count": 64,
   "id": "6ca3811a",
   "metadata": {},
   "outputs": [
    {
     "name": "stderr",
     "output_type": "stream",
     "text": [
      "Trainer already configured with model summary callbacks: [<class 'pytorch_lightning.callbacks.model_summary.ModelSummary'>]. Skipping setting a default `ModelSummary` callback.\n",
      "GPU available: False, used: False\n",
      "TPU available: False, using: 0 TPU cores\n",
      "HPU available: False, using: 0 HPUs\n",
      "\n",
      "  | Name          | Type                     | Params | Mode \n",
      "-------------------------------------------------------------------\n",
      "0 | loss          | MAE                      | 0      | train\n",
      "1 | padder        | ConstantPad1d            | 0      | train\n",
      "2 | scaler        | TemporalNorm             | 0      | train\n",
      "3 | norm          | ReversibleInstanceNorm1d | 74     | train\n",
      "4 | mixing_layers | Sequential               | 59.5 K | train\n",
      "5 | out           | Linear                   | 2.8 K  | train\n",
      "-------------------------------------------------------------------\n",
      "62.4 K    Trainable params\n",
      "0         Non-trainable params\n",
      "62.4 K    Total params\n",
      "0.250     Total estimated model params size (MB)\n",
      "28        Modules in train mode\n",
      "0         Modules in eval mode\n"
     ]
    },
    {
     "data": {
      "application/vnd.jupyter.widget-view+json": {
       "model_id": "",
       "version_major": 2,
       "version_minor": 0
      },
      "text/plain": [
       "Sanity Checking: |                                                                               | 0/? [00:00<…"
      ]
     },
     "metadata": {},
     "output_type": "display_data"
    },
    {
     "data": {
      "application/vnd.jupyter.widget-view+json": {
       "model_id": "0952a54238d24543953874d8a28ac27d",
       "version_major": 2,
       "version_minor": 0
      },
      "text/plain": [
       "Training: |                                                                                      | 0/? [00:00<…"
      ]
     },
     "metadata": {},
     "output_type": "display_data"
    },
    {
     "data": {
      "application/vnd.jupyter.widget-view+json": {
       "model_id": "",
       "version_major": 2,
       "version_minor": 0
      },
      "text/plain": [
       "Validation: |                                                                                    | 0/? [00:00<…"
      ]
     },
     "metadata": {},
     "output_type": "display_data"
    },
    {
     "data": {
      "application/vnd.jupyter.widget-view+json": {
       "model_id": "",
       "version_major": 2,
       "version_minor": 0
      },
      "text/plain": [
       "Validation: |                                                                                    | 0/? [00:00<…"
      ]
     },
     "metadata": {},
     "output_type": "display_data"
    },
    {
     "data": {
      "application/vnd.jupyter.widget-view+json": {
       "model_id": "",
       "version_major": 2,
       "version_minor": 0
      },
      "text/plain": [
       "Validation: |                                                                                    | 0/? [00:00<…"
      ]
     },
     "metadata": {},
     "output_type": "display_data"
    },
    {
     "data": {
      "application/vnd.jupyter.widget-view+json": {
       "model_id": "",
       "version_major": 2,
       "version_minor": 0
      },
      "text/plain": [
       "Validation: |                                                                                    | 0/? [00:00<…"
      ]
     },
     "metadata": {},
     "output_type": "display_data"
    },
    {
     "data": {
      "application/vnd.jupyter.widget-view+json": {
       "model_id": "",
       "version_major": 2,
       "version_minor": 0
      },
      "text/plain": [
       "Validation: |                                                                                    | 0/? [00:00<…"
      ]
     },
     "metadata": {},
     "output_type": "display_data"
    },
    {
     "data": {
      "application/vnd.jupyter.widget-view+json": {
       "model_id": "",
       "version_major": 2,
       "version_minor": 0
      },
      "text/plain": [
       "Validation: |                                                                                    | 0/? [00:00<…"
      ]
     },
     "metadata": {},
     "output_type": "display_data"
    },
    {
     "data": {
      "application/vnd.jupyter.widget-view+json": {
       "model_id": "",
       "version_major": 2,
       "version_minor": 0
      },
      "text/plain": [
       "Validation: |                                                                                    | 0/? [00:00<…"
      ]
     },
     "metadata": {},
     "output_type": "display_data"
    },
    {
     "data": {
      "application/vnd.jupyter.widget-view+json": {
       "model_id": "",
       "version_major": 2,
       "version_minor": 0
      },
      "text/plain": [
       "Validation: |                                                                                    | 0/? [00:00<…"
      ]
     },
     "metadata": {},
     "output_type": "display_data"
    },
    {
     "data": {
      "application/vnd.jupyter.widget-view+json": {
       "model_id": "",
       "version_major": 2,
       "version_minor": 0
      },
      "text/plain": [
       "Validation: |                                                                                    | 0/? [00:00<…"
      ]
     },
     "metadata": {},
     "output_type": "display_data"
    },
    {
     "data": {
      "application/vnd.jupyter.widget-view+json": {
       "model_id": "",
       "version_major": 2,
       "version_minor": 0
      },
      "text/plain": [
       "Validation: |                                                                                    | 0/? [00:00<…"
      ]
     },
     "metadata": {},
     "output_type": "display_data"
    },
    {
     "name": "stderr",
     "output_type": "stream",
     "text": [
      "`Trainer.fit` stopped: `max_steps=1000` reached.\n",
      "Trainer already configured with model summary callbacks: [<class 'pytorch_lightning.callbacks.model_summary.ModelSummary'>]. Skipping setting a default `ModelSummary` callback.\n",
      "GPU available: False, used: False\n",
      "TPU available: False, using: 0 TPU cores\n",
      "HPU available: False, using: 0 HPUs\n"
     ]
    },
    {
     "data": {
      "application/vnd.jupyter.widget-view+json": {
       "model_id": "cf4e29f8148a4e66a09b5032b7484899",
       "version_major": 2,
       "version_minor": 0
      },
      "text/plain": [
       "Predicting: |                                                                                    | 0/? [00:00<…"
      ]
     },
     "metadata": {},
     "output_type": "display_data"
    },
    {
     "name": "stdout",
     "output_type": "stream",
     "text": [
      "CPU times: total: 1min 13s\n",
      "Wall time: 53.6 s\n"
     ]
    },
    {
     "name": "stderr",
     "output_type": "stream",
     "text": [
      "C:\\Users\\rahuu\\anaconda3\\lib\\site-packages\\neuralforecast\\core.py:214: FutureWarning: In a future version the predictions will have the id as a column. You can set the `NIXTLA_ID_AS_COL` environment variable to adopt the new behavior and to suppress this warning.\n",
      "  warnings.warn(\n"
     ]
    }
   ],
   "source": [
    "%%time\n",
    "Y_hat_df_TSMixer = nf_TSMixer.cross_validation(df=Y_df,\n",
    "                               val_size=val_size,\n",
    "                               test_size=test_size,\n",
    "                               n_windows=None)\n",
    "Y_hat_df_TSMixer = Y_hat_df_TSMixer.reset_index()"
   ]
  },
  {
   "cell_type": "code",
   "execution_count": 65,
   "id": "6d172236",
   "metadata": {},
   "outputs": [
    {
     "name": "stdout",
     "output_type": "stream",
     "text": [
      "               unique_id         ds     cutoff   TSMixer     y\n",
      "0       G620_water_level 2024-01-29 2024-01-28  6.003157  5.99\n",
      "1       G620_water_level 2024-01-30 2024-01-28  6.003738  5.97\n",
      "2       G620_water_level 2024-01-31 2024-01-28  6.007864  5.96\n",
      "3       G620_water_level 2024-02-01 2024-01-28  6.006012  5.95\n",
      "4       G620_water_level 2024-02-02 2024-01-28  6.004685  5.94\n",
      "...                  ...        ...        ...       ...   ...\n",
      "190619         TSH_stage 2024-08-22 2024-07-29  2.639186  2.78\n",
      "190620         TSH_stage 2024-08-23 2024-07-29  2.643946  2.81\n",
      "190621         TSH_stage 2024-08-24 2024-07-29  2.638432  2.80\n",
      "190622         TSH_stage 2024-08-25 2024-07-29  2.642153  2.80\n",
      "190623         TSH_stage 2024-08-26 2024-07-29  2.646476  2.80\n",
      "\n",
      "[190624 rows x 5 columns]\n",
      "G620_water_level    5152\n",
      "S199                5152\n",
      "S332B               5152\n",
      "S332BN              5152\n",
      "S332C               5152\n",
      "S332D               5152\n",
      "S332DX1             5152\n",
      "S333                5152\n",
      "S333N               5152\n",
      "S333_T              5152\n",
      "S334                5152\n",
      "S334_H              5152\n",
      "S343A               5152\n",
      "S343B               5152\n",
      "S344                5152\n",
      "S356                5152\n",
      "SWEVER4_stage       5152\n",
      "S200                5152\n",
      "S18C_S              5152\n",
      "NESRS1              5152\n",
      "S12D_T              5152\n",
      "NESRS2              5152\n",
      "NP205_PET           5152\n",
      "NP205_rain          5152\n",
      "NP205_stage         5152\n",
      "NP62_stage          5152\n",
      "P33_PET             5152\n",
      "P33_rain            5152\n",
      "P33_stage           5152\n",
      "S12A                5152\n",
      "S12A_T              5152\n",
      "S12B                5152\n",
      "S12B_T              5152\n",
      "S12C                5152\n",
      "S12C_T              5152\n",
      "S12D                5152\n",
      "TSH_stage           5152\n",
      "Name: unique_id, dtype: int64\n"
     ]
    }
   ],
   "source": [
    "print(Y_hat_df_TSMixer)\n",
    "#rechecking Unique IDs\n",
    "unique_id_counts_TSMixer= Y_hat_df_TSMixer['unique_id'].value_counts()\n",
    "print(unique_id_counts_TSMixer)"
   ]
  },
  {
   "cell_type": "code",
   "execution_count": 66,
   "id": "a1e4b123",
   "metadata": {},
   "outputs": [
    {
     "data": {
      "text/html": [
       "<div>\n",
       "<style scoped>\n",
       "    .dataframe tbody tr th:only-of-type {\n",
       "        vertical-align: middle;\n",
       "    }\n",
       "\n",
       "    .dataframe tbody tr th {\n",
       "        vertical-align: top;\n",
       "    }\n",
       "\n",
       "    .dataframe thead th {\n",
       "        text-align: right;\n",
       "    }\n",
       "</style>\n",
       "<table border=\"1\" class=\"dataframe\">\n",
       "  <thead>\n",
       "    <tr style=\"text-align: right;\">\n",
       "      <th></th>\n",
       "      <th>unique_id</th>\n",
       "      <th>ds</th>\n",
       "      <th>TSMixer</th>\n",
       "      <th>y</th>\n",
       "    </tr>\n",
       "  </thead>\n",
       "  <tbody>\n",
       "    <tr>\n",
       "      <th>0</th>\n",
       "      <td>G620_water_level</td>\n",
       "      <td>2024-01-29</td>\n",
       "      <td>6.003157</td>\n",
       "      <td>5.99</td>\n",
       "    </tr>\n",
       "    <tr>\n",
       "      <th>1</th>\n",
       "      <td>G620_water_level</td>\n",
       "      <td>2024-01-30</td>\n",
       "      <td>5.998189</td>\n",
       "      <td>5.97</td>\n",
       "    </tr>\n",
       "    <tr>\n",
       "      <th>2</th>\n",
       "      <td>G620_water_level</td>\n",
       "      <td>2024-01-31</td>\n",
       "      <td>5.991814</td>\n",
       "      <td>5.96</td>\n",
       "    </tr>\n",
       "    <tr>\n",
       "      <th>3</th>\n",
       "      <td>G620_water_level</td>\n",
       "      <td>2024-02-01</td>\n",
       "      <td>5.985024</td>\n",
       "      <td>5.95</td>\n",
       "    </tr>\n",
       "    <tr>\n",
       "      <th>4</th>\n",
       "      <td>G620_water_level</td>\n",
       "      <td>2024-02-02</td>\n",
       "      <td>5.978159</td>\n",
       "      <td>5.94</td>\n",
       "    </tr>\n",
       "    <tr>\n",
       "      <th>...</th>\n",
       "      <td>...</td>\n",
       "      <td>...</td>\n",
       "      <td>...</td>\n",
       "      <td>...</td>\n",
       "    </tr>\n",
       "    <tr>\n",
       "      <th>7802</th>\n",
       "      <td>TSH_stage</td>\n",
       "      <td>2024-08-22</td>\n",
       "      <td>2.664950</td>\n",
       "      <td>2.78</td>\n",
       "    </tr>\n",
       "    <tr>\n",
       "      <th>7803</th>\n",
       "      <td>TSH_stage</td>\n",
       "      <td>2024-08-23</td>\n",
       "      <td>2.658326</td>\n",
       "      <td>2.81</td>\n",
       "    </tr>\n",
       "    <tr>\n",
       "      <th>7804</th>\n",
       "      <td>TSH_stage</td>\n",
       "      <td>2024-08-24</td>\n",
       "      <td>2.649858</td>\n",
       "      <td>2.80</td>\n",
       "    </tr>\n",
       "    <tr>\n",
       "      <th>7805</th>\n",
       "      <td>TSH_stage</td>\n",
       "      <td>2024-08-25</td>\n",
       "      <td>2.645275</td>\n",
       "      <td>2.80</td>\n",
       "    </tr>\n",
       "    <tr>\n",
       "      <th>7806</th>\n",
       "      <td>TSH_stage</td>\n",
       "      <td>2024-08-26</td>\n",
       "      <td>2.646476</td>\n",
       "      <td>2.80</td>\n",
       "    </tr>\n",
       "  </tbody>\n",
       "</table>\n",
       "<p>7807 rows × 4 columns</p>\n",
       "</div>"
      ],
      "text/plain": [
       "             unique_id         ds   TSMixer     y\n",
       "0     G620_water_level 2024-01-29  6.003157  5.99\n",
       "1     G620_water_level 2024-01-30  5.998189  5.97\n",
       "2     G620_water_level 2024-01-31  5.991814  5.96\n",
       "3     G620_water_level 2024-02-01  5.985024  5.95\n",
       "4     G620_water_level 2024-02-02  5.978159  5.94\n",
       "...                ...        ...       ...   ...\n",
       "7802         TSH_stage 2024-08-22  2.664950  2.78\n",
       "7803         TSH_stage 2024-08-23  2.658326  2.81\n",
       "7804         TSH_stage 2024-08-24  2.649858  2.80\n",
       "7805         TSH_stage 2024-08-25  2.645275  2.80\n",
       "7806         TSH_stage 2024-08-26  2.646476  2.80\n",
       "\n",
       "[7807 rows x 4 columns]"
      ]
     },
     "execution_count": 66,
     "metadata": {},
     "output_type": "execute_result"
    }
   ],
   "source": [
    "Y_hat_df_agg_TSMixer = Y_hat_df_TSMixer.groupby(['unique_id', 'ds']).agg({'TSMixer': 'mean', 'y': 'mean'}).reset_index()\n",
    "Y_hat_df_agg_TSMixer"
   ]
  },
  {
   "cell_type": "code",
   "execution_count": 67,
   "id": "39b1851f",
   "metadata": {},
   "outputs": [
    {
     "name": "stderr",
     "output_type": "stream",
     "text": [
      "Trainer already configured with model summary callbacks: [<class 'pytorch_lightning.callbacks.model_summary.ModelSummary'>]. Skipping setting a default `ModelSummary` callback.\n",
      "GPU available: False, used: False\n",
      "TPU available: False, using: 0 TPU cores\n",
      "HPU available: False, using: 0 HPUs\n"
     ]
    },
    {
     "data": {
      "application/vnd.jupyter.widget-view+json": {
       "model_id": "67cf61ca89f94665a47104ce019190ec",
       "version_major": 2,
       "version_minor": 0
      },
      "text/plain": [
       "Predicting: |                                                                                    | 0/? [00:00<…"
      ]
     },
     "metadata": {},
     "output_type": "display_data"
    },
    {
     "name": "stdout",
     "output_type": "stream",
     "text": [
      "CPU times: total: 641 ms\n",
      "Wall time: 740 ms\n"
     ]
    },
    {
     "name": "stderr",
     "output_type": "stream",
     "text": [
      "C:\\Users\\rahuu\\anaconda3\\lib\\site-packages\\neuralforecast\\core.py:214: FutureWarning: In a future version the predictions will have the id as a column. You can set the `NIXTLA_ID_AS_COL` environment variable to adopt the new behavior and to suppress this warning.\n",
      "  warnings.warn(\n"
     ]
    },
    {
     "data": {
      "text/html": [
       "<div>\n",
       "<style scoped>\n",
       "    .dataframe tbody tr th:only-of-type {\n",
       "        vertical-align: middle;\n",
       "    }\n",
       "\n",
       "    .dataframe tbody tr th {\n",
       "        vertical-align: top;\n",
       "    }\n",
       "\n",
       "    .dataframe thead th {\n",
       "        text-align: right;\n",
       "    }\n",
       "</style>\n",
       "<table border=\"1\" class=\"dataframe\">\n",
       "  <thead>\n",
       "    <tr style=\"text-align: right;\">\n",
       "      <th></th>\n",
       "      <th>unique_id</th>\n",
       "      <th>ds</th>\n",
       "      <th>TSMixer</th>\n",
       "    </tr>\n",
       "  </thead>\n",
       "  <tbody>\n",
       "    <tr>\n",
       "      <th>0</th>\n",
       "      <td>G620_water_level</td>\n",
       "      <td>2024-08-27</td>\n",
       "      <td>6.204225</td>\n",
       "    </tr>\n",
       "    <tr>\n",
       "      <th>1</th>\n",
       "      <td>G620_water_level</td>\n",
       "      <td>2024-08-28</td>\n",
       "      <td>6.195130</td>\n",
       "    </tr>\n",
       "    <tr>\n",
       "      <th>2</th>\n",
       "      <td>G620_water_level</td>\n",
       "      <td>2024-08-29</td>\n",
       "      <td>6.198924</td>\n",
       "    </tr>\n",
       "    <tr>\n",
       "      <th>3</th>\n",
       "      <td>G620_water_level</td>\n",
       "      <td>2024-08-30</td>\n",
       "      <td>6.201093</td>\n",
       "    </tr>\n",
       "    <tr>\n",
       "      <th>4</th>\n",
       "      <td>G620_water_level</td>\n",
       "      <td>2024-08-31</td>\n",
       "      <td>6.204846</td>\n",
       "    </tr>\n",
       "    <tr>\n",
       "      <th>...</th>\n",
       "      <td>...</td>\n",
       "      <td>...</td>\n",
       "      <td>...</td>\n",
       "    </tr>\n",
       "    <tr>\n",
       "      <th>1031</th>\n",
       "      <td>TSH_stage</td>\n",
       "      <td>2024-09-19</td>\n",
       "      <td>2.754217</td>\n",
       "    </tr>\n",
       "    <tr>\n",
       "      <th>1032</th>\n",
       "      <td>TSH_stage</td>\n",
       "      <td>2024-09-20</td>\n",
       "      <td>2.752247</td>\n",
       "    </tr>\n",
       "    <tr>\n",
       "      <th>1033</th>\n",
       "      <td>TSH_stage</td>\n",
       "      <td>2024-09-21</td>\n",
       "      <td>2.752496</td>\n",
       "    </tr>\n",
       "    <tr>\n",
       "      <th>1034</th>\n",
       "      <td>TSH_stage</td>\n",
       "      <td>2024-09-22</td>\n",
       "      <td>2.750582</td>\n",
       "    </tr>\n",
       "    <tr>\n",
       "      <th>1035</th>\n",
       "      <td>TSH_stage</td>\n",
       "      <td>2024-09-23</td>\n",
       "      <td>2.743391</td>\n",
       "    </tr>\n",
       "  </tbody>\n",
       "</table>\n",
       "<p>1036 rows × 3 columns</p>\n",
       "</div>"
      ],
      "text/plain": [
       "             unique_id         ds   TSMixer\n",
       "0     G620_water_level 2024-08-27  6.204225\n",
       "1     G620_water_level 2024-08-28  6.195130\n",
       "2     G620_water_level 2024-08-29  6.198924\n",
       "3     G620_water_level 2024-08-30  6.201093\n",
       "4     G620_water_level 2024-08-31  6.204846\n",
       "...                ...        ...       ...\n",
       "1031         TSH_stage 2024-09-19  2.754217\n",
       "1032         TSH_stage 2024-09-20  2.752247\n",
       "1033         TSH_stage 2024-09-21  2.752496\n",
       "1034         TSH_stage 2024-09-22  2.750582\n",
       "1035         TSH_stage 2024-09-23  2.743391\n",
       "\n",
       "[1036 rows x 3 columns]"
      ]
     },
     "execution_count": 67,
     "metadata": {},
     "output_type": "execute_result"
    }
   ],
   "source": [
    "%%time\n",
    "forecasts_TSMixer = nf_TSMixer.predict(df=Y_df, test_size=test_size) # Reset the index of Y_hat_df to convert 'unique_id' and 'ds' into columns\n",
    "forecasts_TSMixer = forecasts_TSMixer.reset_index()\n",
    "forecasts_TSMixer"
   ]
  },
  {
   "cell_type": "code",
   "execution_count": 68,
   "id": "0777747a",
   "metadata": {},
   "outputs": [
    {
     "name": "stdout",
     "output_type": "stream",
     "text": [
      "======== NP205_stage ========\n",
      "MAE = 0.338835\n",
      "RMSE = 0.464796\n",
      "\n",
      "======== P33_stage ========\n",
      "MAE = 0.152571\n",
      "RMSE = 0.200399\n",
      "\n"
     ]
    }
   ],
   "source": [
    "#with n_series=37\n",
    "\n",
    "import numpy as np\n",
    "from sklearn.metrics import mean_absolute_error as mae, mean_squared_error as mse\n",
    "\n",
    "# List of stages to evaluate\n",
    "stages = ['NP205_stage', 'P33_stage']\n",
    "\n",
    "for stage in stages:\n",
    "    # Filter the data for the specific stage\n",
    "    stage_data = Y_hat_df_agg_TSMixer[Y_hat_df_agg_TSMixer['unique_id'] == stage]\n",
    "    print(f\"======== {stage} ========\")\n",
    "    \n",
    "    # Extract the actual and predicted values\n",
    "    true = stage_data['y'].values\n",
    "    pred = stage_data['TSMixer'].values\n",
    "    \n",
    "    # Calculate MAE and RMSE\n",
    "    mae_value = mae(true, pred)\n",
    "    rmse_value = np.sqrt(mse(true, pred))\n",
    "    \n",
    "    # Print the results\n",
    "    print(f'MAE = {mae_value:.6f}')\n",
    "    print(f'RMSE = {rmse_value:.6f}\\n')"
   ]
  },
  {
   "cell_type": "code",
   "execution_count": null,
   "id": "c860e2bc",
   "metadata": {},
   "outputs": [],
   "source": [
    "nf_TSMixer.save(\"Output/TSMixer-trained-model\")               \n",
    "Y_hat_df_agg_TSMixer.to_csv(\"Output/TSMixer-results.csv\", index=True)                   \n",
    "forecasts_TSMixer.to_csv(\"Output/TSMixer_predictions.csv\", index=True)"
   ]
  },
  {
   "cell_type": "code",
   "execution_count": 73,
   "id": "c0f686ab",
   "metadata": {},
   "outputs": [],
   "source": [
    "#TSMixerx\n",
    "from neuralforecast.models import TSMixerx"
   ]
  },
  {
   "cell_type": "code",
   "execution_count": 74,
   "id": "187abec2",
   "metadata": {},
   "outputs": [
    {
     "name": "stderr",
     "output_type": "stream",
     "text": [
      "Seed set to 1\n"
     ]
    }
   ],
   "source": [
    "#learning rate = 0.001 default\n",
    "#optimizer is adam by default\n",
    "tsmixerX_model = TSMixerx(h=horizon,input_size=100,n_series=37,max_steps=1000,val_check_steps=100,early_stop_patience_steps=100)\n",
    "#Setting n_series=1 means that you are telling the model to treat the entire dataset as one large multivariate time series, rather than multiple separate series. Essentially, it will predict all variables (stations) as one unified prediction."
   ]
  },
  {
   "cell_type": "code",
   "execution_count": 75,
   "id": "135d14cf",
   "metadata": {},
   "outputs": [
    {
     "name": "stderr",
     "output_type": "stream",
     "text": [
      "GPU available: False, used: False\n",
      "TPU available: False, using: 0 TPU cores\n",
      "HPU available: False, using: 0 HPUs\n",
      "\n",
      "  | Name                | Type                     | Params | Mode \n",
      "-------------------------------------------------------------------------\n",
      "0 | loss                | MAE                      | 0      | train\n",
      "1 | padder              | ConstantPad1d            | 0      | train\n",
      "2 | scaler              | TemporalNorm             | 0      | train\n",
      "3 | norm                | ReversibleInstanceNorm1d | 74     | train\n",
      "4 | temporal_projection | Linear                   | 2.8 K  | train\n",
      "5 | feature_mixer_hist  | FeatureMixing            | 12.6 K | train\n",
      "6 | first_mixing        | MixingLayer              | 16.3 K | train\n",
      "7 | mixing_block        | Sequential               | 32.6 K | train\n",
      "8 | out                 | Linear                   | 2.4 K  | train\n",
      "-------------------------------------------------------------------------\n",
      "66.8 K    Trainable params\n",
      "0         Non-trainable params\n",
      "66.8 K    Total params\n",
      "0.267     Total estimated model params size (MB)\n",
      "47        Modules in train mode\n",
      "0         Modules in eval mode\n"
     ]
    },
    {
     "data": {
      "application/vnd.jupyter.widget-view+json": {
       "model_id": "",
       "version_major": 2,
       "version_minor": 0
      },
      "text/plain": [
       "Sanity Checking: |                                                                               | 0/? [00:00<…"
      ]
     },
     "metadata": {},
     "output_type": "display_data"
    },
    {
     "data": {
      "application/vnd.jupyter.widget-view+json": {
       "model_id": "e78d2518a0ec43ba89b76edf1221b41a",
       "version_major": 2,
       "version_minor": 0
      },
      "text/plain": [
       "Training: |                                                                                      | 0/? [00:00<…"
      ]
     },
     "metadata": {},
     "output_type": "display_data"
    },
    {
     "data": {
      "application/vnd.jupyter.widget-view+json": {
       "model_id": "",
       "version_major": 2,
       "version_minor": 0
      },
      "text/plain": [
       "Validation: |                                                                                    | 0/? [00:00<…"
      ]
     },
     "metadata": {},
     "output_type": "display_data"
    },
    {
     "data": {
      "application/vnd.jupyter.widget-view+json": {
       "model_id": "",
       "version_major": 2,
       "version_minor": 0
      },
      "text/plain": [
       "Validation: |                                                                                    | 0/? [00:00<…"
      ]
     },
     "metadata": {},
     "output_type": "display_data"
    },
    {
     "data": {
      "application/vnd.jupyter.widget-view+json": {
       "model_id": "",
       "version_major": 2,
       "version_minor": 0
      },
      "text/plain": [
       "Validation: |                                                                                    | 0/? [00:00<…"
      ]
     },
     "metadata": {},
     "output_type": "display_data"
    },
    {
     "data": {
      "application/vnd.jupyter.widget-view+json": {
       "model_id": "",
       "version_major": 2,
       "version_minor": 0
      },
      "text/plain": [
       "Validation: |                                                                                    | 0/? [00:00<…"
      ]
     },
     "metadata": {},
     "output_type": "display_data"
    },
    {
     "data": {
      "application/vnd.jupyter.widget-view+json": {
       "model_id": "",
       "version_major": 2,
       "version_minor": 0
      },
      "text/plain": [
       "Validation: |                                                                                    | 0/? [00:00<…"
      ]
     },
     "metadata": {},
     "output_type": "display_data"
    },
    {
     "data": {
      "application/vnd.jupyter.widget-view+json": {
       "model_id": "",
       "version_major": 2,
       "version_minor": 0
      },
      "text/plain": [
       "Validation: |                                                                                    | 0/? [00:00<…"
      ]
     },
     "metadata": {},
     "output_type": "display_data"
    },
    {
     "data": {
      "application/vnd.jupyter.widget-view+json": {
       "model_id": "",
       "version_major": 2,
       "version_minor": 0
      },
      "text/plain": [
       "Validation: |                                                                                    | 0/? [00:00<…"
      ]
     },
     "metadata": {},
     "output_type": "display_data"
    },
    {
     "data": {
      "application/vnd.jupyter.widget-view+json": {
       "model_id": "",
       "version_major": 2,
       "version_minor": 0
      },
      "text/plain": [
       "Validation: |                                                                                    | 0/? [00:00<…"
      ]
     },
     "metadata": {},
     "output_type": "display_data"
    },
    {
     "data": {
      "application/vnd.jupyter.widget-view+json": {
       "model_id": "",
       "version_major": 2,
       "version_minor": 0
      },
      "text/plain": [
       "Validation: |                                                                                    | 0/? [00:00<…"
      ]
     },
     "metadata": {},
     "output_type": "display_data"
    },
    {
     "data": {
      "application/vnd.jupyter.widget-view+json": {
       "model_id": "",
       "version_major": 2,
       "version_minor": 0
      },
      "text/plain": [
       "Validation: |                                                                                    | 0/? [00:00<…"
      ]
     },
     "metadata": {},
     "output_type": "display_data"
    },
    {
     "name": "stderr",
     "output_type": "stream",
     "text": [
      "`Trainer.fit` stopped: `max_steps=1000` reached.\n"
     ]
    },
    {
     "name": "stdout",
     "output_type": "stream",
     "text": [
      "CPU times: total: 1min 13s\n",
      "Wall time: 52.9 s\n"
     ]
    }
   ],
   "source": [
    "%%time\n",
    "# Forecasting\n",
    "nf_TSmixerx = NeuralForecast(models=[tsmixerX_model], freq='D')  \n",
    "nf_TSmixerx.fit(df=Y_train_df, val_size=val_size)  "
   ]
  },
  {
   "cell_type": "code",
   "execution_count": 76,
   "id": "639e9058",
   "metadata": {},
   "outputs": [
    {
     "name": "stderr",
     "output_type": "stream",
     "text": [
      "Trainer already configured with model summary callbacks: [<class 'pytorch_lightning.callbacks.model_summary.ModelSummary'>]. Skipping setting a default `ModelSummary` callback.\n",
      "GPU available: False, used: False\n",
      "TPU available: False, using: 0 TPU cores\n",
      "HPU available: False, using: 0 HPUs\n",
      "\n",
      "  | Name                | Type                     | Params | Mode \n",
      "-------------------------------------------------------------------------\n",
      "0 | loss                | MAE                      | 0      | train\n",
      "1 | padder              | ConstantPad1d            | 0      | train\n",
      "2 | scaler              | TemporalNorm             | 0      | train\n",
      "3 | norm                | ReversibleInstanceNorm1d | 74     | train\n",
      "4 | temporal_projection | Linear                   | 2.8 K  | train\n",
      "5 | feature_mixer_hist  | FeatureMixing            | 12.6 K | train\n",
      "6 | first_mixing        | MixingLayer              | 16.3 K | train\n",
      "7 | mixing_block        | Sequential               | 32.6 K | train\n",
      "8 | out                 | Linear                   | 2.4 K  | train\n",
      "-------------------------------------------------------------------------\n",
      "66.8 K    Trainable params\n",
      "0         Non-trainable params\n",
      "66.8 K    Total params\n",
      "0.267     Total estimated model params size (MB)\n",
      "47        Modules in train mode\n",
      "0         Modules in eval mode\n"
     ]
    },
    {
     "data": {
      "application/vnd.jupyter.widget-view+json": {
       "model_id": "",
       "version_major": 2,
       "version_minor": 0
      },
      "text/plain": [
       "Sanity Checking: |                                                                               | 0/? [00:00<…"
      ]
     },
     "metadata": {},
     "output_type": "display_data"
    },
    {
     "data": {
      "application/vnd.jupyter.widget-view+json": {
       "model_id": "44c65587820747858e13c6499b4deb78",
       "version_major": 2,
       "version_minor": 0
      },
      "text/plain": [
       "Training: |                                                                                      | 0/? [00:00<…"
      ]
     },
     "metadata": {},
     "output_type": "display_data"
    },
    {
     "data": {
      "application/vnd.jupyter.widget-view+json": {
       "model_id": "",
       "version_major": 2,
       "version_minor": 0
      },
      "text/plain": [
       "Validation: |                                                                                    | 0/? [00:00<…"
      ]
     },
     "metadata": {},
     "output_type": "display_data"
    },
    {
     "data": {
      "application/vnd.jupyter.widget-view+json": {
       "model_id": "",
       "version_major": 2,
       "version_minor": 0
      },
      "text/plain": [
       "Validation: |                                                                                    | 0/? [00:00<…"
      ]
     },
     "metadata": {},
     "output_type": "display_data"
    },
    {
     "data": {
      "application/vnd.jupyter.widget-view+json": {
       "model_id": "",
       "version_major": 2,
       "version_minor": 0
      },
      "text/plain": [
       "Validation: |                                                                                    | 0/? [00:00<…"
      ]
     },
     "metadata": {},
     "output_type": "display_data"
    },
    {
     "data": {
      "application/vnd.jupyter.widget-view+json": {
       "model_id": "",
       "version_major": 2,
       "version_minor": 0
      },
      "text/plain": [
       "Validation: |                                                                                    | 0/? [00:00<…"
      ]
     },
     "metadata": {},
     "output_type": "display_data"
    },
    {
     "data": {
      "application/vnd.jupyter.widget-view+json": {
       "model_id": "",
       "version_major": 2,
       "version_minor": 0
      },
      "text/plain": [
       "Validation: |                                                                                    | 0/? [00:00<…"
      ]
     },
     "metadata": {},
     "output_type": "display_data"
    },
    {
     "data": {
      "application/vnd.jupyter.widget-view+json": {
       "model_id": "",
       "version_major": 2,
       "version_minor": 0
      },
      "text/plain": [
       "Validation: |                                                                                    | 0/? [00:00<…"
      ]
     },
     "metadata": {},
     "output_type": "display_data"
    },
    {
     "data": {
      "application/vnd.jupyter.widget-view+json": {
       "model_id": "",
       "version_major": 2,
       "version_minor": 0
      },
      "text/plain": [
       "Validation: |                                                                                    | 0/? [00:00<…"
      ]
     },
     "metadata": {},
     "output_type": "display_data"
    },
    {
     "data": {
      "application/vnd.jupyter.widget-view+json": {
       "model_id": "",
       "version_major": 2,
       "version_minor": 0
      },
      "text/plain": [
       "Validation: |                                                                                    | 0/? [00:00<…"
      ]
     },
     "metadata": {},
     "output_type": "display_data"
    },
    {
     "data": {
      "application/vnd.jupyter.widget-view+json": {
       "model_id": "",
       "version_major": 2,
       "version_minor": 0
      },
      "text/plain": [
       "Validation: |                                                                                    | 0/? [00:00<…"
      ]
     },
     "metadata": {},
     "output_type": "display_data"
    },
    {
     "data": {
      "application/vnd.jupyter.widget-view+json": {
       "model_id": "",
       "version_major": 2,
       "version_minor": 0
      },
      "text/plain": [
       "Validation: |                                                                                    | 0/? [00:00<…"
      ]
     },
     "metadata": {},
     "output_type": "display_data"
    },
    {
     "name": "stderr",
     "output_type": "stream",
     "text": [
      "`Trainer.fit` stopped: `max_steps=1000` reached.\n",
      "Trainer already configured with model summary callbacks: [<class 'pytorch_lightning.callbacks.model_summary.ModelSummary'>]. Skipping setting a default `ModelSummary` callback.\n",
      "GPU available: False, used: False\n",
      "TPU available: False, using: 0 TPU cores\n",
      "HPU available: False, using: 0 HPUs\n"
     ]
    },
    {
     "data": {
      "application/vnd.jupyter.widget-view+json": {
       "model_id": "45e409c18b404781ad38d30cd5f63a20",
       "version_major": 2,
       "version_minor": 0
      },
      "text/plain": [
       "Predicting: |                                                                                    | 0/? [00:00<…"
      ]
     },
     "metadata": {},
     "output_type": "display_data"
    },
    {
     "name": "stdout",
     "output_type": "stream",
     "text": [
      "CPU times: total: 1min 8s\n",
      "Wall time: 52 s\n"
     ]
    },
    {
     "name": "stderr",
     "output_type": "stream",
     "text": [
      "C:\\Users\\rahuu\\anaconda3\\lib\\site-packages\\neuralforecast\\core.py:214: FutureWarning: In a future version the predictions will have the id as a column. You can set the `NIXTLA_ID_AS_COL` environment variable to adopt the new behavior and to suppress this warning.\n",
      "  warnings.warn(\n"
     ]
    },
    {
     "data": {
      "text/html": [
       "<div>\n",
       "<style scoped>\n",
       "    .dataframe tbody tr th:only-of-type {\n",
       "        vertical-align: middle;\n",
       "    }\n",
       "\n",
       "    .dataframe tbody tr th {\n",
       "        vertical-align: top;\n",
       "    }\n",
       "\n",
       "    .dataframe thead th {\n",
       "        text-align: right;\n",
       "    }\n",
       "</style>\n",
       "<table border=\"1\" class=\"dataframe\">\n",
       "  <thead>\n",
       "    <tr style=\"text-align: right;\">\n",
       "      <th></th>\n",
       "      <th>ds</th>\n",
       "      <th>cutoff</th>\n",
       "      <th>TSMixerx</th>\n",
       "      <th>y</th>\n",
       "    </tr>\n",
       "    <tr>\n",
       "      <th>unique_id</th>\n",
       "      <th></th>\n",
       "      <th></th>\n",
       "      <th></th>\n",
       "      <th></th>\n",
       "    </tr>\n",
       "  </thead>\n",
       "  <tbody>\n",
       "    <tr>\n",
       "      <th>G620_water_level</th>\n",
       "      <td>2024-01-29</td>\n",
       "      <td>2024-01-28</td>\n",
       "      <td>6.264428</td>\n",
       "      <td>5.99</td>\n",
       "    </tr>\n",
       "    <tr>\n",
       "      <th>G620_water_level</th>\n",
       "      <td>2024-01-30</td>\n",
       "      <td>2024-01-28</td>\n",
       "      <td>6.229777</td>\n",
       "      <td>5.97</td>\n",
       "    </tr>\n",
       "    <tr>\n",
       "      <th>G620_water_level</th>\n",
       "      <td>2024-01-31</td>\n",
       "      <td>2024-01-28</td>\n",
       "      <td>6.223825</td>\n",
       "      <td>5.96</td>\n",
       "    </tr>\n",
       "    <tr>\n",
       "      <th>G620_water_level</th>\n",
       "      <td>2024-02-01</td>\n",
       "      <td>2024-01-28</td>\n",
       "      <td>6.215346</td>\n",
       "      <td>5.95</td>\n",
       "    </tr>\n",
       "    <tr>\n",
       "      <th>G620_water_level</th>\n",
       "      <td>2024-02-02</td>\n",
       "      <td>2024-01-28</td>\n",
       "      <td>6.193125</td>\n",
       "      <td>5.94</td>\n",
       "    </tr>\n",
       "    <tr>\n",
       "      <th>...</th>\n",
       "      <td>...</td>\n",
       "      <td>...</td>\n",
       "      <td>...</td>\n",
       "      <td>...</td>\n",
       "    </tr>\n",
       "    <tr>\n",
       "      <th>TSH_stage</th>\n",
       "      <td>2024-08-22</td>\n",
       "      <td>2024-07-29</td>\n",
       "      <td>2.725149</td>\n",
       "      <td>2.78</td>\n",
       "    </tr>\n",
       "    <tr>\n",
       "      <th>TSH_stage</th>\n",
       "      <td>2024-08-23</td>\n",
       "      <td>2024-07-29</td>\n",
       "      <td>2.748981</td>\n",
       "      <td>2.81</td>\n",
       "    </tr>\n",
       "    <tr>\n",
       "      <th>TSH_stage</th>\n",
       "      <td>2024-08-24</td>\n",
       "      <td>2024-07-29</td>\n",
       "      <td>2.754287</td>\n",
       "      <td>2.80</td>\n",
       "    </tr>\n",
       "    <tr>\n",
       "      <th>TSH_stage</th>\n",
       "      <td>2024-08-25</td>\n",
       "      <td>2024-07-29</td>\n",
       "      <td>2.718562</td>\n",
       "      <td>2.80</td>\n",
       "    </tr>\n",
       "    <tr>\n",
       "      <th>TSH_stage</th>\n",
       "      <td>2024-08-26</td>\n",
       "      <td>2024-07-29</td>\n",
       "      <td>2.811198</td>\n",
       "      <td>2.80</td>\n",
       "    </tr>\n",
       "  </tbody>\n",
       "</table>\n",
       "<p>190624 rows × 4 columns</p>\n",
       "</div>"
      ],
      "text/plain": [
       "                         ds     cutoff  TSMixerx     y\n",
       "unique_id                                             \n",
       "G620_water_level 2024-01-29 2024-01-28  6.264428  5.99\n",
       "G620_water_level 2024-01-30 2024-01-28  6.229777  5.97\n",
       "G620_water_level 2024-01-31 2024-01-28  6.223825  5.96\n",
       "G620_water_level 2024-02-01 2024-01-28  6.215346  5.95\n",
       "G620_water_level 2024-02-02 2024-01-28  6.193125  5.94\n",
       "...                     ...        ...       ...   ...\n",
       "TSH_stage        2024-08-22 2024-07-29  2.725149  2.78\n",
       "TSH_stage        2024-08-23 2024-07-29  2.748981  2.81\n",
       "TSH_stage        2024-08-24 2024-07-29  2.754287  2.80\n",
       "TSH_stage        2024-08-25 2024-07-29  2.718562  2.80\n",
       "TSH_stage        2024-08-26 2024-07-29  2.811198  2.80\n",
       "\n",
       "[190624 rows x 4 columns]"
      ]
     },
     "execution_count": 76,
     "metadata": {},
     "output_type": "execute_result"
    }
   ],
   "source": [
    "%%time\n",
    "Y_hat_df_TSmixerx = nf_TSmixerx.cross_validation(df=Y_df,\n",
    "                               val_size=val_size,\n",
    "                               test_size=test_size,\n",
    "                               n_windows=None)\n",
    "Y_hat_df_TSmixerx"
   ]
  },
  {
   "cell_type": "code",
   "execution_count": 77,
   "id": "d51a49dc",
   "metadata": {},
   "outputs": [],
   "source": [
    "Y_hat_df_TSmixerx = Y_hat_df_TSmixerx.reset_index()"
   ]
  },
  {
   "cell_type": "code",
   "execution_count": 78,
   "id": "a6336b8b",
   "metadata": {},
   "outputs": [
    {
     "name": "stdout",
     "output_type": "stream",
     "text": [
      "G620_water_level    5152\n",
      "S199                5152\n",
      "S332B               5152\n",
      "S332BN              5152\n",
      "S332C               5152\n",
      "S332D               5152\n",
      "S332DX1             5152\n",
      "S333                5152\n",
      "S333N               5152\n",
      "S333_T              5152\n",
      "S334                5152\n",
      "S334_H              5152\n",
      "S343A               5152\n",
      "S343B               5152\n",
      "S344                5152\n",
      "S356                5152\n",
      "SWEVER4_stage       5152\n",
      "S200                5152\n",
      "S18C_S              5152\n",
      "NESRS1              5152\n",
      "S12D_T              5152\n",
      "NESRS2              5152\n",
      "NP205_PET           5152\n",
      "NP205_rain          5152\n",
      "NP205_stage         5152\n",
      "NP62_stage          5152\n",
      "P33_PET             5152\n",
      "P33_rain            5152\n",
      "P33_stage           5152\n",
      "S12A                5152\n",
      "S12A_T              5152\n",
      "S12B                5152\n",
      "S12B_T              5152\n",
      "S12C                5152\n",
      "S12C_T              5152\n",
      "S12D                5152\n",
      "TSH_stage           5152\n",
      "Name: unique_id, dtype: int64\n"
     ]
    }
   ],
   "source": [
    "#rechecking Unique IDs\n",
    "unique_id_counts_TSmixerx= Y_hat_df_TSmixerx['unique_id'].value_counts()\n",
    "print(unique_id_counts_TSmixerx)"
   ]
  },
  {
   "cell_type": "code",
   "execution_count": 79,
   "id": "20483fff",
   "metadata": {},
   "outputs": [
    {
     "data": {
      "text/html": [
       "<div>\n",
       "<style scoped>\n",
       "    .dataframe tbody tr th:only-of-type {\n",
       "        vertical-align: middle;\n",
       "    }\n",
       "\n",
       "    .dataframe tbody tr th {\n",
       "        vertical-align: top;\n",
       "    }\n",
       "\n",
       "    .dataframe thead th {\n",
       "        text-align: right;\n",
       "    }\n",
       "</style>\n",
       "<table border=\"1\" class=\"dataframe\">\n",
       "  <thead>\n",
       "    <tr style=\"text-align: right;\">\n",
       "      <th></th>\n",
       "      <th>unique_id</th>\n",
       "      <th>ds</th>\n",
       "      <th>TSMixerx</th>\n",
       "      <th>y</th>\n",
       "    </tr>\n",
       "  </thead>\n",
       "  <tbody>\n",
       "    <tr>\n",
       "      <th>0</th>\n",
       "      <td>G620_water_level</td>\n",
       "      <td>2024-01-29</td>\n",
       "      <td>6.264428</td>\n",
       "      <td>5.99</td>\n",
       "    </tr>\n",
       "    <tr>\n",
       "      <th>1</th>\n",
       "      <td>G620_water_level</td>\n",
       "      <td>2024-01-30</td>\n",
       "      <td>6.231063</td>\n",
       "      <td>5.97</td>\n",
       "    </tr>\n",
       "    <tr>\n",
       "      <th>2</th>\n",
       "      <td>G620_water_level</td>\n",
       "      <td>2024-01-31</td>\n",
       "      <td>6.217189</td>\n",
       "      <td>5.96</td>\n",
       "    </tr>\n",
       "    <tr>\n",
       "      <th>3</th>\n",
       "      <td>G620_water_level</td>\n",
       "      <td>2024-02-01</td>\n",
       "      <td>6.204739</td>\n",
       "      <td>5.95</td>\n",
       "    </tr>\n",
       "    <tr>\n",
       "      <th>4</th>\n",
       "      <td>G620_water_level</td>\n",
       "      <td>2024-02-02</td>\n",
       "      <td>6.196633</td>\n",
       "      <td>5.94</td>\n",
       "    </tr>\n",
       "    <tr>\n",
       "      <th>...</th>\n",
       "      <td>...</td>\n",
       "      <td>...</td>\n",
       "      <td>...</td>\n",
       "      <td>...</td>\n",
       "    </tr>\n",
       "    <tr>\n",
       "      <th>7802</th>\n",
       "      <td>TSH_stage</td>\n",
       "      <td>2024-08-22</td>\n",
       "      <td>2.742460</td>\n",
       "      <td>2.78</td>\n",
       "    </tr>\n",
       "    <tr>\n",
       "      <th>7803</th>\n",
       "      <td>TSH_stage</td>\n",
       "      <td>2024-08-23</td>\n",
       "      <td>2.751494</td>\n",
       "      <td>2.81</td>\n",
       "    </tr>\n",
       "    <tr>\n",
       "      <th>7804</th>\n",
       "      <td>TSH_stage</td>\n",
       "      <td>2024-08-24</td>\n",
       "      <td>2.751780</td>\n",
       "      <td>2.80</td>\n",
       "    </tr>\n",
       "    <tr>\n",
       "      <th>7805</th>\n",
       "      <td>TSH_stage</td>\n",
       "      <td>2024-08-25</td>\n",
       "      <td>2.754015</td>\n",
       "      <td>2.80</td>\n",
       "    </tr>\n",
       "    <tr>\n",
       "      <th>7806</th>\n",
       "      <td>TSH_stage</td>\n",
       "      <td>2024-08-26</td>\n",
       "      <td>2.811198</td>\n",
       "      <td>2.80</td>\n",
       "    </tr>\n",
       "  </tbody>\n",
       "</table>\n",
       "<p>7807 rows × 4 columns</p>\n",
       "</div>"
      ],
      "text/plain": [
       "             unique_id         ds  TSMixerx     y\n",
       "0     G620_water_level 2024-01-29  6.264428  5.99\n",
       "1     G620_water_level 2024-01-30  6.231063  5.97\n",
       "2     G620_water_level 2024-01-31  6.217189  5.96\n",
       "3     G620_water_level 2024-02-01  6.204739  5.95\n",
       "4     G620_water_level 2024-02-02  6.196633  5.94\n",
       "...                ...        ...       ...   ...\n",
       "7802         TSH_stage 2024-08-22  2.742460  2.78\n",
       "7803         TSH_stage 2024-08-23  2.751494  2.81\n",
       "7804         TSH_stage 2024-08-24  2.751780  2.80\n",
       "7805         TSH_stage 2024-08-25  2.754015  2.80\n",
       "7806         TSH_stage 2024-08-26  2.811198  2.80\n",
       "\n",
       "[7807 rows x 4 columns]"
      ]
     },
     "execution_count": 79,
     "metadata": {},
     "output_type": "execute_result"
    }
   ],
   "source": [
    "Y_hat_df_agg_TSmixerx = Y_hat_df_TSmixerx.groupby(['unique_id', 'ds']).agg({'TSMixerx': 'mean', 'y': 'mean'}).reset_index()\n",
    "Y_hat_df_agg_TSmixerx"
   ]
  },
  {
   "cell_type": "code",
   "execution_count": 80,
   "id": "d76a5194",
   "metadata": {},
   "outputs": [
    {
     "name": "stderr",
     "output_type": "stream",
     "text": [
      "Trainer already configured with model summary callbacks: [<class 'pytorch_lightning.callbacks.model_summary.ModelSummary'>]. Skipping setting a default `ModelSummary` callback.\n",
      "GPU available: False, used: False\n",
      "TPU available: False, using: 0 TPU cores\n",
      "HPU available: False, using: 0 HPUs\n"
     ]
    },
    {
     "data": {
      "application/vnd.jupyter.widget-view+json": {
       "model_id": "7bc45636fc9442c88cad5f63590f0be0",
       "version_major": 2,
       "version_minor": 0
      },
      "text/plain": [
       "Predicting: |                                                                                    | 0/? [00:00<…"
      ]
     },
     "metadata": {},
     "output_type": "display_data"
    },
    {
     "name": "stdout",
     "output_type": "stream",
     "text": [
      "CPU times: total: 375 ms\n",
      "Wall time: 487 ms\n"
     ]
    },
    {
     "name": "stderr",
     "output_type": "stream",
     "text": [
      "C:\\Users\\rahuu\\anaconda3\\lib\\site-packages\\neuralforecast\\core.py:214: FutureWarning: In a future version the predictions will have the id as a column. You can set the `NIXTLA_ID_AS_COL` environment variable to adopt the new behavior and to suppress this warning.\n",
      "  warnings.warn(\n"
     ]
    },
    {
     "data": {
      "text/html": [
       "<div>\n",
       "<style scoped>\n",
       "    .dataframe tbody tr th:only-of-type {\n",
       "        vertical-align: middle;\n",
       "    }\n",
       "\n",
       "    .dataframe tbody tr th {\n",
       "        vertical-align: top;\n",
       "    }\n",
       "\n",
       "    .dataframe thead th {\n",
       "        text-align: right;\n",
       "    }\n",
       "</style>\n",
       "<table border=\"1\" class=\"dataframe\">\n",
       "  <thead>\n",
       "    <tr style=\"text-align: right;\">\n",
       "      <th></th>\n",
       "      <th>unique_id</th>\n",
       "      <th>ds</th>\n",
       "      <th>TSMixerx</th>\n",
       "    </tr>\n",
       "  </thead>\n",
       "  <tbody>\n",
       "    <tr>\n",
       "      <th>0</th>\n",
       "      <td>G620_water_level</td>\n",
       "      <td>2024-08-27</td>\n",
       "      <td>6.070319</td>\n",
       "    </tr>\n",
       "    <tr>\n",
       "      <th>1</th>\n",
       "      <td>G620_water_level</td>\n",
       "      <td>2024-08-28</td>\n",
       "      <td>6.075275</td>\n",
       "    </tr>\n",
       "    <tr>\n",
       "      <th>2</th>\n",
       "      <td>G620_water_level</td>\n",
       "      <td>2024-08-29</td>\n",
       "      <td>6.076820</td>\n",
       "    </tr>\n",
       "    <tr>\n",
       "      <th>3</th>\n",
       "      <td>G620_water_level</td>\n",
       "      <td>2024-08-30</td>\n",
       "      <td>6.124698</td>\n",
       "    </tr>\n",
       "    <tr>\n",
       "      <th>4</th>\n",
       "      <td>G620_water_level</td>\n",
       "      <td>2024-08-31</td>\n",
       "      <td>6.130371</td>\n",
       "    </tr>\n",
       "    <tr>\n",
       "      <th>...</th>\n",
       "      <td>...</td>\n",
       "      <td>...</td>\n",
       "      <td>...</td>\n",
       "    </tr>\n",
       "    <tr>\n",
       "      <th>1031</th>\n",
       "      <td>TSH_stage</td>\n",
       "      <td>2024-09-19</td>\n",
       "      <td>2.759140</td>\n",
       "    </tr>\n",
       "    <tr>\n",
       "      <th>1032</th>\n",
       "      <td>TSH_stage</td>\n",
       "      <td>2024-09-20</td>\n",
       "      <td>2.774644</td>\n",
       "    </tr>\n",
       "    <tr>\n",
       "      <th>1033</th>\n",
       "      <td>TSH_stage</td>\n",
       "      <td>2024-09-21</td>\n",
       "      <td>2.773725</td>\n",
       "    </tr>\n",
       "    <tr>\n",
       "      <th>1034</th>\n",
       "      <td>TSH_stage</td>\n",
       "      <td>2024-09-22</td>\n",
       "      <td>2.743713</td>\n",
       "    </tr>\n",
       "    <tr>\n",
       "      <th>1035</th>\n",
       "      <td>TSH_stage</td>\n",
       "      <td>2024-09-23</td>\n",
       "      <td>2.795320</td>\n",
       "    </tr>\n",
       "  </tbody>\n",
       "</table>\n",
       "<p>1036 rows × 3 columns</p>\n",
       "</div>"
      ],
      "text/plain": [
       "             unique_id         ds  TSMixerx\n",
       "0     G620_water_level 2024-08-27  6.070319\n",
       "1     G620_water_level 2024-08-28  6.075275\n",
       "2     G620_water_level 2024-08-29  6.076820\n",
       "3     G620_water_level 2024-08-30  6.124698\n",
       "4     G620_water_level 2024-08-31  6.130371\n",
       "...                ...        ...       ...\n",
       "1031         TSH_stage 2024-09-19  2.759140\n",
       "1032         TSH_stage 2024-09-20  2.774644\n",
       "1033         TSH_stage 2024-09-21  2.773725\n",
       "1034         TSH_stage 2024-09-22  2.743713\n",
       "1035         TSH_stage 2024-09-23  2.795320\n",
       "\n",
       "[1036 rows x 3 columns]"
      ]
     },
     "execution_count": 80,
     "metadata": {},
     "output_type": "execute_result"
    }
   ],
   "source": [
    "%%time\n",
    "forecasts_TSmixerx = nf_TSmixerx.predict(df=Y_df, test_size=test_size) # Reset the index of Y_hat_df to convert 'unique_id' and 'ds' into columns\n",
    "forecasts_TSmixerx = forecasts_TSmixerx.reset_index()\n",
    "forecasts_TSmixerx"
   ]
  },
  {
   "cell_type": "code",
   "execution_count": 81,
   "id": "f8bc48b1",
   "metadata": {},
   "outputs": [
    {
     "name": "stdout",
     "output_type": "stream",
     "text": [
      "======== NP205_stage ========\n",
      "MAE = 0.560453\n",
      "RMSE = 0.841460\n",
      "\n",
      "======== P33_stage ========\n",
      "MAE = 0.293470\n",
      "RMSE = 0.409243\n",
      "\n"
     ]
    }
   ],
   "source": [
    "#n_series=37\n",
    "import numpy as np\n",
    "from sklearn.metrics import mean_absolute_error as mae, mean_squared_error as mse\n",
    "\n",
    "# List of stages to evaluate\n",
    "stages = ['NP205_stage', 'P33_stage']\n",
    "\n",
    "for stage in stages:\n",
    "    # Filter the data for the specific stage\n",
    "    stage_data = Y_hat_df_agg_TSmixerx[Y_hat_df_agg_TSmixerx['unique_id'] == stage]\n",
    "    print(f\"======== {stage} ========\")\n",
    "    \n",
    "    # Extract the actual and predicted values\n",
    "    true = stage_data['y'].values\n",
    "    pred = stage_data['TSMixerx'].values\n",
    "    \n",
    "    # Calculate MAE and RMSE\n",
    "    mae_value = mae(true, pred)\n",
    "    rmse_value = np.sqrt(mse(true, pred))\n",
    "    \n",
    "    # Print the results\n",
    "    print(f'MAE = {mae_value:.6f}')\n",
    "    print(f'RMSE = {rmse_value:.6f}\\n')\n"
   ]
  },
  {
   "cell_type": "code",
   "execution_count": null,
   "id": "d338e459",
   "metadata": {},
   "outputs": [],
   "source": [
    "nf_TSmixerx.save(\"Output/TSMixerx-trained-model\")               \n",
    "Y_hat_df_agg_TSmixerx.to_csv(\"Output/TSMixerx_results.csv\", index=True)                   \n",
    "forecasts_TSmixerx.to_csv(\"Output/TSMixerx_predictions.csv\", index=True)"
   ]
  },
  {
   "cell_type": "code",
   "execution_count": 86,
   "id": "e5d02f0d",
   "metadata": {},
   "outputs": [],
   "source": [
    "#iTransformer\n",
    "from neuralforecast.models import iTransformer"
   ]
  },
  {
   "cell_type": "code",
   "execution_count": 87,
   "id": "07709fe9",
   "metadata": {},
   "outputs": [
    {
     "name": "stderr",
     "output_type": "stream",
     "text": [
      "Seed set to 1\n"
     ]
    }
   ],
   "source": [
    "#learning rate = 0.001 default\n",
    "#optimizer is adam by default\n",
    "iTransformer_model = iTransformer(h=horizon,input_size=100,n_series=37,max_steps=1000,val_check_steps=100,early_stop_patience_steps=100)\n",
    "#Setting n_series=1 means that you are telling the model to treat the entire dataset as one large multivariate time series, rather than multiple separate series. Essentially, it will predict all variables (stations) as one unified prediction."
   ]
  },
  {
   "cell_type": "code",
   "execution_count": 88,
   "id": "41fa349f",
   "metadata": {
    "scrolled": false
   },
   "outputs": [
    {
     "name": "stderr",
     "output_type": "stream",
     "text": [
      "GPU available: False, used: False\n",
      "TPU available: False, using: 0 TPU cores\n",
      "HPU available: False, using: 0 HPUs\n",
      "\n",
      "  | Name          | Type                   | Params | Mode \n",
      "-----------------------------------------------------------------\n",
      "0 | loss          | MAE                    | 0      | train\n",
      "1 | padder        | ConstantPad1d          | 0      | train\n",
      "2 | scaler        | TemporalNorm           | 0      | train\n",
      "3 | enc_embedding | DataEmbedding_inverted | 51.7 K | train\n",
      "4 | encoder       | TransEncoder           | 6.3 M  | train\n",
      "5 | projector     | Linear                 | 14.4 K | train\n",
      "-----------------------------------------------------------------\n",
      "6.4 M     Trainable params\n",
      "0         Non-trainable params\n",
      "6.4 M     Total params\n",
      "25.487    Total estimated model params size (MB)\n",
      "36        Modules in train mode\n",
      "0         Modules in eval mode\n"
     ]
    },
    {
     "data": {
      "application/vnd.jupyter.widget-view+json": {
       "model_id": "",
       "version_major": 2,
       "version_minor": 0
      },
      "text/plain": [
       "Sanity Checking: |                                                                               | 0/? [00:00<…"
      ]
     },
     "metadata": {},
     "output_type": "display_data"
    },
    {
     "data": {
      "application/vnd.jupyter.widget-view+json": {
       "model_id": "6cc40f5b89e1495fac8838c16a1ac22a",
       "version_major": 2,
       "version_minor": 0
      },
      "text/plain": [
       "Training: |                                                                                      | 0/? [00:00<…"
      ]
     },
     "metadata": {},
     "output_type": "display_data"
    },
    {
     "data": {
      "application/vnd.jupyter.widget-view+json": {
       "model_id": "",
       "version_major": 2,
       "version_minor": 0
      },
      "text/plain": [
       "Validation: |                                                                                    | 0/? [00:00<…"
      ]
     },
     "metadata": {},
     "output_type": "display_data"
    },
    {
     "data": {
      "application/vnd.jupyter.widget-view+json": {
       "model_id": "",
       "version_major": 2,
       "version_minor": 0
      },
      "text/plain": [
       "Validation: |                                                                                    | 0/? [00:00<…"
      ]
     },
     "metadata": {},
     "output_type": "display_data"
    },
    {
     "data": {
      "application/vnd.jupyter.widget-view+json": {
       "model_id": "",
       "version_major": 2,
       "version_minor": 0
      },
      "text/plain": [
       "Validation: |                                                                                    | 0/? [00:00<…"
      ]
     },
     "metadata": {},
     "output_type": "display_data"
    },
    {
     "data": {
      "application/vnd.jupyter.widget-view+json": {
       "model_id": "",
       "version_major": 2,
       "version_minor": 0
      },
      "text/plain": [
       "Validation: |                                                                                    | 0/? [00:00<…"
      ]
     },
     "metadata": {},
     "output_type": "display_data"
    },
    {
     "data": {
      "application/vnd.jupyter.widget-view+json": {
       "model_id": "",
       "version_major": 2,
       "version_minor": 0
      },
      "text/plain": [
       "Validation: |                                                                                    | 0/? [00:00<…"
      ]
     },
     "metadata": {},
     "output_type": "display_data"
    },
    {
     "data": {
      "application/vnd.jupyter.widget-view+json": {
       "model_id": "",
       "version_major": 2,
       "version_minor": 0
      },
      "text/plain": [
       "Validation: |                                                                                    | 0/? [00:00<…"
      ]
     },
     "metadata": {},
     "output_type": "display_data"
    },
    {
     "data": {
      "application/vnd.jupyter.widget-view+json": {
       "model_id": "",
       "version_major": 2,
       "version_minor": 0
      },
      "text/plain": [
       "Validation: |                                                                                    | 0/? [00:00<…"
      ]
     },
     "metadata": {},
     "output_type": "display_data"
    },
    {
     "data": {
      "application/vnd.jupyter.widget-view+json": {
       "model_id": "",
       "version_major": 2,
       "version_minor": 0
      },
      "text/plain": [
       "Validation: |                                                                                    | 0/? [00:00<…"
      ]
     },
     "metadata": {},
     "output_type": "display_data"
    },
    {
     "data": {
      "application/vnd.jupyter.widget-view+json": {
       "model_id": "",
       "version_major": 2,
       "version_minor": 0
      },
      "text/plain": [
       "Validation: |                                                                                    | 0/? [00:00<…"
      ]
     },
     "metadata": {},
     "output_type": "display_data"
    },
    {
     "data": {
      "application/vnd.jupyter.widget-view+json": {
       "model_id": "",
       "version_major": 2,
       "version_minor": 0
      },
      "text/plain": [
       "Validation: |                                                                                    | 0/? [00:00<…"
      ]
     },
     "metadata": {},
     "output_type": "display_data"
    },
    {
     "name": "stderr",
     "output_type": "stream",
     "text": [
      "`Trainer.fit` stopped: `max_steps=1000` reached.\n"
     ]
    },
    {
     "name": "stdout",
     "output_type": "stream",
     "text": [
      "CPU times: total: 19min 9s\n",
      "Wall time: 7min 31s\n"
     ]
    }
   ],
   "source": [
    "%%time\n",
    "# Forecasting\n",
    "nf_iTransformer= NeuralForecast(models=[iTransformer_model], freq='D')  \n",
    "nf_iTransformer.fit(df=Y_train_df, val_size=val_size)"
   ]
  },
  {
   "cell_type": "code",
   "execution_count": 89,
   "id": "3114dc52",
   "metadata": {},
   "outputs": [
    {
     "name": "stderr",
     "output_type": "stream",
     "text": [
      "Trainer already configured with model summary callbacks: [<class 'pytorch_lightning.callbacks.model_summary.ModelSummary'>]. Skipping setting a default `ModelSummary` callback.\n",
      "GPU available: False, used: False\n",
      "TPU available: False, using: 0 TPU cores\n",
      "HPU available: False, using: 0 HPUs\n",
      "\n",
      "  | Name          | Type                   | Params | Mode \n",
      "-----------------------------------------------------------------\n",
      "0 | loss          | MAE                    | 0      | train\n",
      "1 | padder        | ConstantPad1d          | 0      | train\n",
      "2 | scaler        | TemporalNorm           | 0      | train\n",
      "3 | enc_embedding | DataEmbedding_inverted | 51.7 K | train\n",
      "4 | encoder       | TransEncoder           | 6.3 M  | train\n",
      "5 | projector     | Linear                 | 14.4 K | train\n",
      "-----------------------------------------------------------------\n",
      "6.4 M     Trainable params\n",
      "0         Non-trainable params\n",
      "6.4 M     Total params\n",
      "25.487    Total estimated model params size (MB)\n",
      "36        Modules in train mode\n",
      "0         Modules in eval mode\n"
     ]
    },
    {
     "data": {
      "application/vnd.jupyter.widget-view+json": {
       "model_id": "",
       "version_major": 2,
       "version_minor": 0
      },
      "text/plain": [
       "Sanity Checking: |                                                                               | 0/? [00:00<…"
      ]
     },
     "metadata": {},
     "output_type": "display_data"
    },
    {
     "data": {
      "application/vnd.jupyter.widget-view+json": {
       "model_id": "ac199c6491f44566b79815304bf2bba6",
       "version_major": 2,
       "version_minor": 0
      },
      "text/plain": [
       "Training: |                                                                                      | 0/? [00:00<…"
      ]
     },
     "metadata": {},
     "output_type": "display_data"
    },
    {
     "data": {
      "application/vnd.jupyter.widget-view+json": {
       "model_id": "",
       "version_major": 2,
       "version_minor": 0
      },
      "text/plain": [
       "Validation: |                                                                                    | 0/? [00:00<…"
      ]
     },
     "metadata": {},
     "output_type": "display_data"
    },
    {
     "data": {
      "application/vnd.jupyter.widget-view+json": {
       "model_id": "",
       "version_major": 2,
       "version_minor": 0
      },
      "text/plain": [
       "Validation: |                                                                                    | 0/? [00:00<…"
      ]
     },
     "metadata": {},
     "output_type": "display_data"
    },
    {
     "data": {
      "application/vnd.jupyter.widget-view+json": {
       "model_id": "",
       "version_major": 2,
       "version_minor": 0
      },
      "text/plain": [
       "Validation: |                                                                                    | 0/? [00:00<…"
      ]
     },
     "metadata": {},
     "output_type": "display_data"
    },
    {
     "data": {
      "application/vnd.jupyter.widget-view+json": {
       "model_id": "",
       "version_major": 2,
       "version_minor": 0
      },
      "text/plain": [
       "Validation: |                                                                                    | 0/? [00:00<…"
      ]
     },
     "metadata": {},
     "output_type": "display_data"
    },
    {
     "data": {
      "application/vnd.jupyter.widget-view+json": {
       "model_id": "",
       "version_major": 2,
       "version_minor": 0
      },
      "text/plain": [
       "Validation: |                                                                                    | 0/? [00:00<…"
      ]
     },
     "metadata": {},
     "output_type": "display_data"
    },
    {
     "data": {
      "application/vnd.jupyter.widget-view+json": {
       "model_id": "",
       "version_major": 2,
       "version_minor": 0
      },
      "text/plain": [
       "Validation: |                                                                                    | 0/? [00:00<…"
      ]
     },
     "metadata": {},
     "output_type": "display_data"
    },
    {
     "data": {
      "application/vnd.jupyter.widget-view+json": {
       "model_id": "",
       "version_major": 2,
       "version_minor": 0
      },
      "text/plain": [
       "Validation: |                                                                                    | 0/? [00:00<…"
      ]
     },
     "metadata": {},
     "output_type": "display_data"
    },
    {
     "data": {
      "application/vnd.jupyter.widget-view+json": {
       "model_id": "",
       "version_major": 2,
       "version_minor": 0
      },
      "text/plain": [
       "Validation: |                                                                                    | 0/? [00:00<…"
      ]
     },
     "metadata": {},
     "output_type": "display_data"
    },
    {
     "data": {
      "application/vnd.jupyter.widget-view+json": {
       "model_id": "",
       "version_major": 2,
       "version_minor": 0
      },
      "text/plain": [
       "Validation: |                                                                                    | 0/? [00:00<…"
      ]
     },
     "metadata": {},
     "output_type": "display_data"
    },
    {
     "data": {
      "application/vnd.jupyter.widget-view+json": {
       "model_id": "",
       "version_major": 2,
       "version_minor": 0
      },
      "text/plain": [
       "Validation: |                                                                                    | 0/? [00:00<…"
      ]
     },
     "metadata": {},
     "output_type": "display_data"
    },
    {
     "name": "stderr",
     "output_type": "stream",
     "text": [
      "`Trainer.fit` stopped: `max_steps=1000` reached.\n",
      "Trainer already configured with model summary callbacks: [<class 'pytorch_lightning.callbacks.model_summary.ModelSummary'>]. Skipping setting a default `ModelSummary` callback.\n",
      "GPU available: False, used: False\n",
      "TPU available: False, using: 0 TPU cores\n",
      "HPU available: False, using: 0 HPUs\n"
     ]
    },
    {
     "data": {
      "application/vnd.jupyter.widget-view+json": {
       "model_id": "ff6a638cb55448e39db3eb987cf165ed",
       "version_major": 2,
       "version_minor": 0
      },
      "text/plain": [
       "Predicting: |                                                                                    | 0/? [00:00<…"
      ]
     },
     "metadata": {},
     "output_type": "display_data"
    },
    {
     "name": "stdout",
     "output_type": "stream",
     "text": [
      "CPU times: total: 19min 6s\n",
      "Wall time: 7min 25s\n"
     ]
    },
    {
     "name": "stderr",
     "output_type": "stream",
     "text": [
      "C:\\Users\\rahuu\\anaconda3\\lib\\site-packages\\neuralforecast\\core.py:214: FutureWarning: In a future version the predictions will have the id as a column. You can set the `NIXTLA_ID_AS_COL` environment variable to adopt the new behavior and to suppress this warning.\n",
      "  warnings.warn(\n"
     ]
    },
    {
     "data": {
      "text/html": [
       "<div>\n",
       "<style scoped>\n",
       "    .dataframe tbody tr th:only-of-type {\n",
       "        vertical-align: middle;\n",
       "    }\n",
       "\n",
       "    .dataframe tbody tr th {\n",
       "        vertical-align: top;\n",
       "    }\n",
       "\n",
       "    .dataframe thead th {\n",
       "        text-align: right;\n",
       "    }\n",
       "</style>\n",
       "<table border=\"1\" class=\"dataframe\">\n",
       "  <thead>\n",
       "    <tr style=\"text-align: right;\">\n",
       "      <th></th>\n",
       "      <th>ds</th>\n",
       "      <th>cutoff</th>\n",
       "      <th>iTransformer</th>\n",
       "      <th>y</th>\n",
       "    </tr>\n",
       "    <tr>\n",
       "      <th>unique_id</th>\n",
       "      <th></th>\n",
       "      <th></th>\n",
       "      <th></th>\n",
       "      <th></th>\n",
       "    </tr>\n",
       "  </thead>\n",
       "  <tbody>\n",
       "    <tr>\n",
       "      <th>G620_water_level</th>\n",
       "      <td>2024-01-29</td>\n",
       "      <td>2024-01-28</td>\n",
       "      <td>6.070791</td>\n",
       "      <td>5.99</td>\n",
       "    </tr>\n",
       "    <tr>\n",
       "      <th>G620_water_level</th>\n",
       "      <td>2024-01-30</td>\n",
       "      <td>2024-01-28</td>\n",
       "      <td>6.078160</td>\n",
       "      <td>5.97</td>\n",
       "    </tr>\n",
       "    <tr>\n",
       "      <th>G620_water_level</th>\n",
       "      <td>2024-01-31</td>\n",
       "      <td>2024-01-28</td>\n",
       "      <td>6.080417</td>\n",
       "      <td>5.96</td>\n",
       "    </tr>\n",
       "    <tr>\n",
       "      <th>G620_water_level</th>\n",
       "      <td>2024-02-01</td>\n",
       "      <td>2024-01-28</td>\n",
       "      <td>6.083028</td>\n",
       "      <td>5.95</td>\n",
       "    </tr>\n",
       "    <tr>\n",
       "      <th>G620_water_level</th>\n",
       "      <td>2024-02-02</td>\n",
       "      <td>2024-01-28</td>\n",
       "      <td>6.080182</td>\n",
       "      <td>5.94</td>\n",
       "    </tr>\n",
       "    <tr>\n",
       "      <th>...</th>\n",
       "      <td>...</td>\n",
       "      <td>...</td>\n",
       "      <td>...</td>\n",
       "      <td>...</td>\n",
       "    </tr>\n",
       "    <tr>\n",
       "      <th>TSH_stage</th>\n",
       "      <td>2024-08-22</td>\n",
       "      <td>2024-07-29</td>\n",
       "      <td>2.656576</td>\n",
       "      <td>2.78</td>\n",
       "    </tr>\n",
       "    <tr>\n",
       "      <th>TSH_stage</th>\n",
       "      <td>2024-08-23</td>\n",
       "      <td>2024-07-29</td>\n",
       "      <td>2.668393</td>\n",
       "      <td>2.81</td>\n",
       "    </tr>\n",
       "    <tr>\n",
       "      <th>TSH_stage</th>\n",
       "      <td>2024-08-24</td>\n",
       "      <td>2024-07-29</td>\n",
       "      <td>2.693008</td>\n",
       "      <td>2.80</td>\n",
       "    </tr>\n",
       "    <tr>\n",
       "      <th>TSH_stage</th>\n",
       "      <td>2024-08-25</td>\n",
       "      <td>2024-07-29</td>\n",
       "      <td>2.716789</td>\n",
       "      <td>2.80</td>\n",
       "    </tr>\n",
       "    <tr>\n",
       "      <th>TSH_stage</th>\n",
       "      <td>2024-08-26</td>\n",
       "      <td>2024-07-29</td>\n",
       "      <td>2.727415</td>\n",
       "      <td>2.80</td>\n",
       "    </tr>\n",
       "  </tbody>\n",
       "</table>\n",
       "<p>190624 rows × 4 columns</p>\n",
       "</div>"
      ],
      "text/plain": [
       "                         ds     cutoff  iTransformer     y\n",
       "unique_id                                                 \n",
       "G620_water_level 2024-01-29 2024-01-28      6.070791  5.99\n",
       "G620_water_level 2024-01-30 2024-01-28      6.078160  5.97\n",
       "G620_water_level 2024-01-31 2024-01-28      6.080417  5.96\n",
       "G620_water_level 2024-02-01 2024-01-28      6.083028  5.95\n",
       "G620_water_level 2024-02-02 2024-01-28      6.080182  5.94\n",
       "...                     ...        ...           ...   ...\n",
       "TSH_stage        2024-08-22 2024-07-29      2.656576  2.78\n",
       "TSH_stage        2024-08-23 2024-07-29      2.668393  2.81\n",
       "TSH_stage        2024-08-24 2024-07-29      2.693008  2.80\n",
       "TSH_stage        2024-08-25 2024-07-29      2.716789  2.80\n",
       "TSH_stage        2024-08-26 2024-07-29      2.727415  2.80\n",
       "\n",
       "[190624 rows x 4 columns]"
      ]
     },
     "execution_count": 89,
     "metadata": {},
     "output_type": "execute_result"
    }
   ],
   "source": [
    "%%time\n",
    "Y_hat_df_iTransformer = nf_iTransformer.cross_validation(df=Y_df,\n",
    "                               val_size=val_size,\n",
    "                               test_size=test_size,\n",
    "                               n_windows=None)\n",
    "Y_hat_df_iTransformer"
   ]
  },
  {
   "cell_type": "code",
   "execution_count": 90,
   "id": "d9770322",
   "metadata": {},
   "outputs": [],
   "source": [
    "Y_hat_df_iTransformer = Y_hat_df_iTransformer.reset_index()"
   ]
  },
  {
   "cell_type": "code",
   "execution_count": 91,
   "id": "53112b31",
   "metadata": {},
   "outputs": [
    {
     "name": "stdout",
     "output_type": "stream",
     "text": [
      "G620_water_level    5152\n",
      "S199                5152\n",
      "S332B               5152\n",
      "S332BN              5152\n",
      "S332C               5152\n",
      "S332D               5152\n",
      "S332DX1             5152\n",
      "S333                5152\n",
      "S333N               5152\n",
      "S333_T              5152\n",
      "S334                5152\n",
      "S334_H              5152\n",
      "S343A               5152\n",
      "S343B               5152\n",
      "S344                5152\n",
      "S356                5152\n",
      "SWEVER4_stage       5152\n",
      "S200                5152\n",
      "S18C_S              5152\n",
      "NESRS1              5152\n",
      "S12D_T              5152\n",
      "NESRS2              5152\n",
      "NP205_PET           5152\n",
      "NP205_rain          5152\n",
      "NP205_stage         5152\n",
      "NP62_stage          5152\n",
      "P33_PET             5152\n",
      "P33_rain            5152\n",
      "P33_stage           5152\n",
      "S12A                5152\n",
      "S12A_T              5152\n",
      "S12B                5152\n",
      "S12B_T              5152\n",
      "S12C                5152\n",
      "S12C_T              5152\n",
      "S12D                5152\n",
      "TSH_stage           5152\n",
      "Name: unique_id, dtype: int64\n"
     ]
    }
   ],
   "source": [
    "#rechecking Unique IDs\n",
    "unique_id_counts_iTransformer = Y_hat_df_iTransformer['unique_id'].value_counts()\n",
    "print(unique_id_counts_iTransformer)\n"
   ]
  },
  {
   "cell_type": "code",
   "execution_count": 92,
   "id": "bf5b6e00",
   "metadata": {},
   "outputs": [
    {
     "data": {
      "text/html": [
       "<div>\n",
       "<style scoped>\n",
       "    .dataframe tbody tr th:only-of-type {\n",
       "        vertical-align: middle;\n",
       "    }\n",
       "\n",
       "    .dataframe tbody tr th {\n",
       "        vertical-align: top;\n",
       "    }\n",
       "\n",
       "    .dataframe thead th {\n",
       "        text-align: right;\n",
       "    }\n",
       "</style>\n",
       "<table border=\"1\" class=\"dataframe\">\n",
       "  <thead>\n",
       "    <tr style=\"text-align: right;\">\n",
       "      <th></th>\n",
       "      <th>unique_id</th>\n",
       "      <th>ds</th>\n",
       "      <th>iTransformer</th>\n",
       "      <th>y</th>\n",
       "    </tr>\n",
       "  </thead>\n",
       "  <tbody>\n",
       "    <tr>\n",
       "      <th>0</th>\n",
       "      <td>G620_water_level</td>\n",
       "      <td>2024-01-29</td>\n",
       "      <td>6.070791</td>\n",
       "      <td>5.99</td>\n",
       "    </tr>\n",
       "    <tr>\n",
       "      <th>1</th>\n",
       "      <td>G620_water_level</td>\n",
       "      <td>2024-01-30</td>\n",
       "      <td>6.077047</td>\n",
       "      <td>5.97</td>\n",
       "    </tr>\n",
       "    <tr>\n",
       "      <th>2</th>\n",
       "      <td>G620_water_level</td>\n",
       "      <td>2024-01-31</td>\n",
       "      <td>6.076143</td>\n",
       "      <td>5.96</td>\n",
       "    </tr>\n",
       "    <tr>\n",
       "      <th>3</th>\n",
       "      <td>G620_water_level</td>\n",
       "      <td>2024-02-01</td>\n",
       "      <td>6.074499</td>\n",
       "      <td>5.95</td>\n",
       "    </tr>\n",
       "    <tr>\n",
       "      <th>4</th>\n",
       "      <td>G620_water_level</td>\n",
       "      <td>2024-02-02</td>\n",
       "      <td>6.065646</td>\n",
       "      <td>5.94</td>\n",
       "    </tr>\n",
       "    <tr>\n",
       "      <th>...</th>\n",
       "      <td>...</td>\n",
       "      <td>...</td>\n",
       "      <td>...</td>\n",
       "      <td>...</td>\n",
       "    </tr>\n",
       "    <tr>\n",
       "      <th>7802</th>\n",
       "      <td>TSH_stage</td>\n",
       "      <td>2024-08-22</td>\n",
       "      <td>2.576495</td>\n",
       "      <td>2.78</td>\n",
       "    </tr>\n",
       "    <tr>\n",
       "      <th>7803</th>\n",
       "      <td>TSH_stage</td>\n",
       "      <td>2024-08-23</td>\n",
       "      <td>2.580112</td>\n",
       "      <td>2.81</td>\n",
       "    </tr>\n",
       "    <tr>\n",
       "      <th>7804</th>\n",
       "      <td>TSH_stage</td>\n",
       "      <td>2024-08-24</td>\n",
       "      <td>2.638836</td>\n",
       "      <td>2.80</td>\n",
       "    </tr>\n",
       "    <tr>\n",
       "      <th>7805</th>\n",
       "      <td>TSH_stage</td>\n",
       "      <td>2024-08-25</td>\n",
       "      <td>2.668186</td>\n",
       "      <td>2.80</td>\n",
       "    </tr>\n",
       "    <tr>\n",
       "      <th>7806</th>\n",
       "      <td>TSH_stage</td>\n",
       "      <td>2024-08-26</td>\n",
       "      <td>2.727415</td>\n",
       "      <td>2.80</td>\n",
       "    </tr>\n",
       "  </tbody>\n",
       "</table>\n",
       "<p>7807 rows × 4 columns</p>\n",
       "</div>"
      ],
      "text/plain": [
       "             unique_id         ds  iTransformer     y\n",
       "0     G620_water_level 2024-01-29      6.070791  5.99\n",
       "1     G620_water_level 2024-01-30      6.077047  5.97\n",
       "2     G620_water_level 2024-01-31      6.076143  5.96\n",
       "3     G620_water_level 2024-02-01      6.074499  5.95\n",
       "4     G620_water_level 2024-02-02      6.065646  5.94\n",
       "...                ...        ...           ...   ...\n",
       "7802         TSH_stage 2024-08-22      2.576495  2.78\n",
       "7803         TSH_stage 2024-08-23      2.580112  2.81\n",
       "7804         TSH_stage 2024-08-24      2.638836  2.80\n",
       "7805         TSH_stage 2024-08-25      2.668186  2.80\n",
       "7806         TSH_stage 2024-08-26      2.727415  2.80\n",
       "\n",
       "[7807 rows x 4 columns]"
      ]
     },
     "execution_count": 92,
     "metadata": {},
     "output_type": "execute_result"
    }
   ],
   "source": [
    "Y_hat_df_agg_iTransformer = Y_hat_df_iTransformer.groupby(['unique_id', 'ds']).agg({'iTransformer': 'mean', 'y': 'mean'}).reset_index()\n",
    "Y_hat_df_agg_iTransformer"
   ]
  },
  {
   "cell_type": "code",
   "execution_count": 93,
   "id": "933b6339",
   "metadata": {},
   "outputs": [
    {
     "name": "stderr",
     "output_type": "stream",
     "text": [
      "Trainer already configured with model summary callbacks: [<class 'pytorch_lightning.callbacks.model_summary.ModelSummary'>]. Skipping setting a default `ModelSummary` callback.\n",
      "GPU available: False, used: False\n",
      "TPU available: False, using: 0 TPU cores\n",
      "HPU available: False, using: 0 HPUs\n"
     ]
    },
    {
     "data": {
      "application/vnd.jupyter.widget-view+json": {
       "model_id": "1c555b148de04eafaff97b1de1dcda14",
       "version_major": 2,
       "version_minor": 0
      },
      "text/plain": [
       "Predicting: |                                                                                    | 0/? [00:00<…"
      ]
     },
     "metadata": {},
     "output_type": "display_data"
    },
    {
     "name": "stdout",
     "output_type": "stream",
     "text": [
      "CPU times: total: 406 ms\n",
      "Wall time: 405 ms\n"
     ]
    },
    {
     "name": "stderr",
     "output_type": "stream",
     "text": [
      "C:\\Users\\rahuu\\anaconda3\\lib\\site-packages\\neuralforecast\\core.py:214: FutureWarning: In a future version the predictions will have the id as a column. You can set the `NIXTLA_ID_AS_COL` environment variable to adopt the new behavior and to suppress this warning.\n",
      "  warnings.warn(\n"
     ]
    },
    {
     "data": {
      "text/html": [
       "<div>\n",
       "<style scoped>\n",
       "    .dataframe tbody tr th:only-of-type {\n",
       "        vertical-align: middle;\n",
       "    }\n",
       "\n",
       "    .dataframe tbody tr th {\n",
       "        vertical-align: top;\n",
       "    }\n",
       "\n",
       "    .dataframe thead th {\n",
       "        text-align: right;\n",
       "    }\n",
       "</style>\n",
       "<table border=\"1\" class=\"dataframe\">\n",
       "  <thead>\n",
       "    <tr style=\"text-align: right;\">\n",
       "      <th></th>\n",
       "      <th>unique_id</th>\n",
       "      <th>ds</th>\n",
       "      <th>iTransformer</th>\n",
       "    </tr>\n",
       "  </thead>\n",
       "  <tbody>\n",
       "    <tr>\n",
       "      <th>0</th>\n",
       "      <td>G620_water_level</td>\n",
       "      <td>2024-08-27</td>\n",
       "      <td>6.127718</td>\n",
       "    </tr>\n",
       "    <tr>\n",
       "      <th>1</th>\n",
       "      <td>G620_water_level</td>\n",
       "      <td>2024-08-28</td>\n",
       "      <td>6.119737</td>\n",
       "    </tr>\n",
       "    <tr>\n",
       "      <th>2</th>\n",
       "      <td>G620_water_level</td>\n",
       "      <td>2024-08-29</td>\n",
       "      <td>6.099162</td>\n",
       "    </tr>\n",
       "    <tr>\n",
       "      <th>3</th>\n",
       "      <td>G620_water_level</td>\n",
       "      <td>2024-08-30</td>\n",
       "      <td>6.070424</td>\n",
       "    </tr>\n",
       "    <tr>\n",
       "      <th>4</th>\n",
       "      <td>G620_water_level</td>\n",
       "      <td>2024-08-31</td>\n",
       "      <td>6.078243</td>\n",
       "    </tr>\n",
       "    <tr>\n",
       "      <th>...</th>\n",
       "      <td>...</td>\n",
       "      <td>...</td>\n",
       "      <td>...</td>\n",
       "    </tr>\n",
       "    <tr>\n",
       "      <th>1031</th>\n",
       "      <td>TSH_stage</td>\n",
       "      <td>2024-09-19</td>\n",
       "      <td>2.550802</td>\n",
       "    </tr>\n",
       "    <tr>\n",
       "      <th>1032</th>\n",
       "      <td>TSH_stage</td>\n",
       "      <td>2024-09-20</td>\n",
       "      <td>2.566163</td>\n",
       "    </tr>\n",
       "    <tr>\n",
       "      <th>1033</th>\n",
       "      <td>TSH_stage</td>\n",
       "      <td>2024-09-21</td>\n",
       "      <td>2.544565</td>\n",
       "    </tr>\n",
       "    <tr>\n",
       "      <th>1034</th>\n",
       "      <td>TSH_stage</td>\n",
       "      <td>2024-09-22</td>\n",
       "      <td>2.532632</td>\n",
       "    </tr>\n",
       "    <tr>\n",
       "      <th>1035</th>\n",
       "      <td>TSH_stage</td>\n",
       "      <td>2024-09-23</td>\n",
       "      <td>2.518835</td>\n",
       "    </tr>\n",
       "  </tbody>\n",
       "</table>\n",
       "<p>1036 rows × 3 columns</p>\n",
       "</div>"
      ],
      "text/plain": [
       "             unique_id         ds  iTransformer\n",
       "0     G620_water_level 2024-08-27      6.127718\n",
       "1     G620_water_level 2024-08-28      6.119737\n",
       "2     G620_water_level 2024-08-29      6.099162\n",
       "3     G620_water_level 2024-08-30      6.070424\n",
       "4     G620_water_level 2024-08-31      6.078243\n",
       "...                ...        ...           ...\n",
       "1031         TSH_stage 2024-09-19      2.550802\n",
       "1032         TSH_stage 2024-09-20      2.566163\n",
       "1033         TSH_stage 2024-09-21      2.544565\n",
       "1034         TSH_stage 2024-09-22      2.532632\n",
       "1035         TSH_stage 2024-09-23      2.518835\n",
       "\n",
       "[1036 rows x 3 columns]"
      ]
     },
     "execution_count": 93,
     "metadata": {},
     "output_type": "execute_result"
    }
   ],
   "source": [
    "%%time\n",
    "forecasts_iTransformer = nf_iTransformer.predict(df=Y_df, test_size=test_size) # Reset the index of Y_hat_df to convert 'unique_id' and 'ds' into columns\n",
    "forecasts_iTransformer = forecasts_iTransformer.reset_index()\n",
    "forecasts_iTransformer"
   ]
  },
  {
   "cell_type": "code",
   "execution_count": 94,
   "id": "af3302b6",
   "metadata": {},
   "outputs": [
    {
     "name": "stdout",
     "output_type": "stream",
     "text": [
      "======== NP205_stage ========\n",
      "MAE = 0.335203\n",
      "RMSE = 0.503018\n",
      "\n",
      "======== P33_stage ========\n",
      "MAE = 0.156059\n",
      "RMSE = 0.206108\n",
      "\n"
     ]
    }
   ],
   "source": [
    "#n_series=37\n",
    "import numpy as np\n",
    "from sklearn.metrics import mean_absolute_error as mae, mean_squared_error as mse\n",
    "\n",
    "# List of stages to evaluate\n",
    "stages = ['NP205_stage', 'P33_stage']\n",
    "\n",
    "for stage in stages:\n",
    "    # Filter the data for the specific stage\n",
    "    stage_data = Y_hat_df_agg_iTransformer[Y_hat_df_agg_iTransformer['unique_id'] == stage]\n",
    "    print(f\"======== {stage} ========\")\n",
    "    \n",
    "    # Extract the actual and predicted values\n",
    "    true = stage_data['y'].values\n",
    "    pred = stage_data['iTransformer'].values\n",
    "    \n",
    "    # Calculate MAE and RMSE\n",
    "    mae_value = mae(true, pred)\n",
    "    rmse_value = np.sqrt(mse(true, pred))\n",
    "    \n",
    "    # Print the results\n",
    "    print(f'MAE = {mae_value:.6f}')\n",
    "    print(f'RMSE = {rmse_value:.6f}\\n')"
   ]
  },
  {
   "cell_type": "code",
   "execution_count": null,
   "id": "f31f23c9",
   "metadata": {},
   "outputs": [],
   "source": [
    "nf_iTransformer.save(\"Output/iTransformer-trained-model\")               \n",
    "Y_hat_df_agg_iTransformer.to_csv(\"Output/iTransformer_results.csv\", index=True)                   \n",
    "forecasts_iTransformer.to_csv(\"Output/iTransformer_predictions.csv\", index=True)"
   ]
  },
  {
   "cell_type": "code",
   "execution_count": 99,
   "id": "d55ba0de",
   "metadata": {},
   "outputs": [],
   "source": [
    "#RMoK\n",
    "from neuralforecast.models import RMoK"
   ]
  },
  {
   "cell_type": "code",
   "execution_count": 100,
   "id": "b44f1728",
   "metadata": {},
   "outputs": [
    {
     "name": "stderr",
     "output_type": "stream",
     "text": [
      "Seed set to 1\n"
     ]
    }
   ],
   "source": [
    "#learning rate = 0.001 default\n",
    "#optimizer is adam by default\n",
    "RMoK_model = RMoK(h=horizon,input_size=100,n_series=37,max_steps=1000,val_check_steps=100,early_stop_patience_steps=50)\n",
    "#Setting n_series=1 means that you are telling the model to treat the entire dataset as one large multivariate time series, rather than multiple separate series. Essentially, it will predict all variables (stations) as one unified prediction."
   ]
  },
  {
   "cell_type": "code",
   "execution_count": 101,
   "id": "f76f8cb8",
   "metadata": {},
   "outputs": [
    {
     "name": "stderr",
     "output_type": "stream",
     "text": [
      "GPU available: False, used: False\n",
      "TPU available: False, using: 0 TPU cores\n",
      "HPU available: False, using: 0 HPUs\n",
      "\n",
      "  | Name    | Type          | Params | Mode \n",
      "--------------------------------------------------\n",
      "0 | loss    | MAE           | 0      | train\n",
      "1 | padder  | ConstantPad1d | 0      | train\n",
      "2 | scaler  | TemporalNorm  | 0      | train\n",
      "3 | dropout | Dropout       | 0      | train\n",
      "4 | experts | ModuleList    | 42.1 K | train\n",
      "5 | gate    | Linear        | 404    | train\n",
      "6 | softmax | Softmax       | 0      | train\n",
      "7 | rev     | RevIN         | 74     | train\n",
      "--------------------------------------------------\n",
      "42.6 K    Trainable params\n",
      "0         Non-trainable params\n",
      "42.6 K    Total params\n",
      "0.170     Total estimated model params size (MB)\n",
      "14        Modules in train mode\n",
      "0         Modules in eval mode\n"
     ]
    },
    {
     "data": {
      "application/vnd.jupyter.widget-view+json": {
       "model_id": "",
       "version_major": 2,
       "version_minor": 0
      },
      "text/plain": [
       "Sanity Checking: |                                                                               | 0/? [00:00<…"
      ]
     },
     "metadata": {},
     "output_type": "display_data"
    },
    {
     "data": {
      "application/vnd.jupyter.widget-view+json": {
       "model_id": "9991064349dd4846ac3a005b42d49ff9",
       "version_major": 2,
       "version_minor": 0
      },
      "text/plain": [
       "Training: |                                                                                      | 0/? [00:00<…"
      ]
     },
     "metadata": {},
     "output_type": "display_data"
    },
    {
     "data": {
      "application/vnd.jupyter.widget-view+json": {
       "model_id": "",
       "version_major": 2,
       "version_minor": 0
      },
      "text/plain": [
       "Validation: |                                                                                    | 0/? [00:00<…"
      ]
     },
     "metadata": {},
     "output_type": "display_data"
    },
    {
     "data": {
      "application/vnd.jupyter.widget-view+json": {
       "model_id": "",
       "version_major": 2,
       "version_minor": 0
      },
      "text/plain": [
       "Validation: |                                                                                    | 0/? [00:00<…"
      ]
     },
     "metadata": {},
     "output_type": "display_data"
    },
    {
     "data": {
      "application/vnd.jupyter.widget-view+json": {
       "model_id": "",
       "version_major": 2,
       "version_minor": 0
      },
      "text/plain": [
       "Validation: |                                                                                    | 0/? [00:00<…"
      ]
     },
     "metadata": {},
     "output_type": "display_data"
    },
    {
     "data": {
      "application/vnd.jupyter.widget-view+json": {
       "model_id": "",
       "version_major": 2,
       "version_minor": 0
      },
      "text/plain": [
       "Validation: |                                                                                    | 0/? [00:00<…"
      ]
     },
     "metadata": {},
     "output_type": "display_data"
    },
    {
     "data": {
      "application/vnd.jupyter.widget-view+json": {
       "model_id": "",
       "version_major": 2,
       "version_minor": 0
      },
      "text/plain": [
       "Validation: |                                                                                    | 0/? [00:00<…"
      ]
     },
     "metadata": {},
     "output_type": "display_data"
    },
    {
     "data": {
      "application/vnd.jupyter.widget-view+json": {
       "model_id": "",
       "version_major": 2,
       "version_minor": 0
      },
      "text/plain": [
       "Validation: |                                                                                    | 0/? [00:00<…"
      ]
     },
     "metadata": {},
     "output_type": "display_data"
    },
    {
     "data": {
      "application/vnd.jupyter.widget-view+json": {
       "model_id": "",
       "version_major": 2,
       "version_minor": 0
      },
      "text/plain": [
       "Validation: |                                                                                    | 0/? [00:00<…"
      ]
     },
     "metadata": {},
     "output_type": "display_data"
    },
    {
     "data": {
      "application/vnd.jupyter.widget-view+json": {
       "model_id": "",
       "version_major": 2,
       "version_minor": 0
      },
      "text/plain": [
       "Validation: |                                                                                    | 0/? [00:00<…"
      ]
     },
     "metadata": {},
     "output_type": "display_data"
    },
    {
     "data": {
      "application/vnd.jupyter.widget-view+json": {
       "model_id": "",
       "version_major": 2,
       "version_minor": 0
      },
      "text/plain": [
       "Validation: |                                                                                    | 0/? [00:00<…"
      ]
     },
     "metadata": {},
     "output_type": "display_data"
    },
    {
     "data": {
      "application/vnd.jupyter.widget-view+json": {
       "model_id": "",
       "version_major": 2,
       "version_minor": 0
      },
      "text/plain": [
       "Validation: |                                                                                    | 0/? [00:00<…"
      ]
     },
     "metadata": {},
     "output_type": "display_data"
    },
    {
     "name": "stderr",
     "output_type": "stream",
     "text": [
      "`Trainer.fit` stopped: `max_steps=1000` reached.\n"
     ]
    },
    {
     "name": "stdout",
     "output_type": "stream",
     "text": [
      "CPU times: total: 6min 38s\n",
      "Wall time: 2min 59s\n"
     ]
    }
   ],
   "source": [
    "%%time\n",
    "# Forecasting\n",
    "nf_RMoK = NeuralForecast(models=[RMoK_model], freq='D')  \n",
    "nf_RMoK.fit(df=Y_train_df, val_size=val_size)  "
   ]
  },
  {
   "cell_type": "code",
   "execution_count": 102,
   "id": "e00bdce6",
   "metadata": {},
   "outputs": [
    {
     "name": "stderr",
     "output_type": "stream",
     "text": [
      "Trainer already configured with model summary callbacks: [<class 'pytorch_lightning.callbacks.model_summary.ModelSummary'>]. Skipping setting a default `ModelSummary` callback.\n",
      "GPU available: False, used: False\n",
      "TPU available: False, using: 0 TPU cores\n",
      "HPU available: False, using: 0 HPUs\n",
      "\n",
      "  | Name    | Type          | Params | Mode \n",
      "--------------------------------------------------\n",
      "0 | loss    | MAE           | 0      | train\n",
      "1 | padder  | ConstantPad1d | 0      | train\n",
      "2 | scaler  | TemporalNorm  | 0      | train\n",
      "3 | dropout | Dropout       | 0      | train\n",
      "4 | experts | ModuleList    | 42.1 K | train\n",
      "5 | gate    | Linear        | 404    | train\n",
      "6 | softmax | Softmax       | 0      | train\n",
      "7 | rev     | RevIN         | 74     | train\n",
      "--------------------------------------------------\n",
      "42.6 K    Trainable params\n",
      "0         Non-trainable params\n",
      "42.6 K    Total params\n",
      "0.170     Total estimated model params size (MB)\n",
      "14        Modules in train mode\n",
      "0         Modules in eval mode\n"
     ]
    },
    {
     "data": {
      "application/vnd.jupyter.widget-view+json": {
       "model_id": "",
       "version_major": 2,
       "version_minor": 0
      },
      "text/plain": [
       "Sanity Checking: |                                                                               | 0/? [00:00<…"
      ]
     },
     "metadata": {},
     "output_type": "display_data"
    },
    {
     "data": {
      "application/vnd.jupyter.widget-view+json": {
       "model_id": "403c0c72daf946cdae77b9db012485cb",
       "version_major": 2,
       "version_minor": 0
      },
      "text/plain": [
       "Training: |                                                                                      | 0/? [00:00<…"
      ]
     },
     "metadata": {},
     "output_type": "display_data"
    },
    {
     "data": {
      "application/vnd.jupyter.widget-view+json": {
       "model_id": "",
       "version_major": 2,
       "version_minor": 0
      },
      "text/plain": [
       "Validation: |                                                                                    | 0/? [00:00<…"
      ]
     },
     "metadata": {},
     "output_type": "display_data"
    },
    {
     "data": {
      "application/vnd.jupyter.widget-view+json": {
       "model_id": "",
       "version_major": 2,
       "version_minor": 0
      },
      "text/plain": [
       "Validation: |                                                                                    | 0/? [00:00<…"
      ]
     },
     "metadata": {},
     "output_type": "display_data"
    },
    {
     "data": {
      "application/vnd.jupyter.widget-view+json": {
       "model_id": "",
       "version_major": 2,
       "version_minor": 0
      },
      "text/plain": [
       "Validation: |                                                                                    | 0/? [00:00<…"
      ]
     },
     "metadata": {},
     "output_type": "display_data"
    },
    {
     "data": {
      "application/vnd.jupyter.widget-view+json": {
       "model_id": "",
       "version_major": 2,
       "version_minor": 0
      },
      "text/plain": [
       "Validation: |                                                                                    | 0/? [00:00<…"
      ]
     },
     "metadata": {},
     "output_type": "display_data"
    },
    {
     "data": {
      "application/vnd.jupyter.widget-view+json": {
       "model_id": "",
       "version_major": 2,
       "version_minor": 0
      },
      "text/plain": [
       "Validation: |                                                                                    | 0/? [00:00<…"
      ]
     },
     "metadata": {},
     "output_type": "display_data"
    },
    {
     "data": {
      "application/vnd.jupyter.widget-view+json": {
       "model_id": "",
       "version_major": 2,
       "version_minor": 0
      },
      "text/plain": [
       "Validation: |                                                                                    | 0/? [00:00<…"
      ]
     },
     "metadata": {},
     "output_type": "display_data"
    },
    {
     "data": {
      "application/vnd.jupyter.widget-view+json": {
       "model_id": "",
       "version_major": 2,
       "version_minor": 0
      },
      "text/plain": [
       "Validation: |                                                                                    | 0/? [00:00<…"
      ]
     },
     "metadata": {},
     "output_type": "display_data"
    },
    {
     "data": {
      "application/vnd.jupyter.widget-view+json": {
       "model_id": "",
       "version_major": 2,
       "version_minor": 0
      },
      "text/plain": [
       "Validation: |                                                                                    | 0/? [00:00<…"
      ]
     },
     "metadata": {},
     "output_type": "display_data"
    },
    {
     "data": {
      "application/vnd.jupyter.widget-view+json": {
       "model_id": "",
       "version_major": 2,
       "version_minor": 0
      },
      "text/plain": [
       "Validation: |                                                                                    | 0/? [00:00<…"
      ]
     },
     "metadata": {},
     "output_type": "display_data"
    },
    {
     "data": {
      "application/vnd.jupyter.widget-view+json": {
       "model_id": "",
       "version_major": 2,
       "version_minor": 0
      },
      "text/plain": [
       "Validation: |                                                                                    | 0/? [00:00<…"
      ]
     },
     "metadata": {},
     "output_type": "display_data"
    },
    {
     "name": "stderr",
     "output_type": "stream",
     "text": [
      "`Trainer.fit` stopped: `max_steps=1000` reached.\n",
      "Trainer already configured with model summary callbacks: [<class 'pytorch_lightning.callbacks.model_summary.ModelSummary'>]. Skipping setting a default `ModelSummary` callback.\n",
      "GPU available: False, used: False\n",
      "TPU available: False, using: 0 TPU cores\n",
      "HPU available: False, using: 0 HPUs\n"
     ]
    },
    {
     "data": {
      "application/vnd.jupyter.widget-view+json": {
       "model_id": "25d9aa171a744da6810cd0c7dc09cdc9",
       "version_major": 2,
       "version_minor": 0
      },
      "text/plain": [
       "Predicting: |                                                                                    | 0/? [00:00<…"
      ]
     },
     "metadata": {},
     "output_type": "display_data"
    },
    {
     "name": "stdout",
     "output_type": "stream",
     "text": [
      "CPU times: total: 6min 42s\n",
      "Wall time: 2min 58s\n"
     ]
    },
    {
     "name": "stderr",
     "output_type": "stream",
     "text": [
      "C:\\Users\\rahuu\\anaconda3\\lib\\site-packages\\neuralforecast\\core.py:214: FutureWarning: In a future version the predictions will have the id as a column. You can set the `NIXTLA_ID_AS_COL` environment variable to adopt the new behavior and to suppress this warning.\n",
      "  warnings.warn(\n"
     ]
    },
    {
     "data": {
      "text/html": [
       "<div>\n",
       "<style scoped>\n",
       "    .dataframe tbody tr th:only-of-type {\n",
       "        vertical-align: middle;\n",
       "    }\n",
       "\n",
       "    .dataframe tbody tr th {\n",
       "        vertical-align: top;\n",
       "    }\n",
       "\n",
       "    .dataframe thead th {\n",
       "        text-align: right;\n",
       "    }\n",
       "</style>\n",
       "<table border=\"1\" class=\"dataframe\">\n",
       "  <thead>\n",
       "    <tr style=\"text-align: right;\">\n",
       "      <th></th>\n",
       "      <th>ds</th>\n",
       "      <th>cutoff</th>\n",
       "      <th>RMoK</th>\n",
       "      <th>y</th>\n",
       "    </tr>\n",
       "    <tr>\n",
       "      <th>unique_id</th>\n",
       "      <th></th>\n",
       "      <th></th>\n",
       "      <th></th>\n",
       "      <th></th>\n",
       "    </tr>\n",
       "  </thead>\n",
       "  <tbody>\n",
       "    <tr>\n",
       "      <th>G620_water_level</th>\n",
       "      <td>2024-01-29</td>\n",
       "      <td>2024-01-28</td>\n",
       "      <td>6.037122</td>\n",
       "      <td>5.99</td>\n",
       "    </tr>\n",
       "    <tr>\n",
       "      <th>G620_water_level</th>\n",
       "      <td>2024-01-30</td>\n",
       "      <td>2024-01-28</td>\n",
       "      <td>6.035746</td>\n",
       "      <td>5.97</td>\n",
       "    </tr>\n",
       "    <tr>\n",
       "      <th>G620_water_level</th>\n",
       "      <td>2024-01-31</td>\n",
       "      <td>2024-01-28</td>\n",
       "      <td>6.050985</td>\n",
       "      <td>5.96</td>\n",
       "    </tr>\n",
       "    <tr>\n",
       "      <th>G620_water_level</th>\n",
       "      <td>2024-02-01</td>\n",
       "      <td>2024-01-28</td>\n",
       "      <td>6.036576</td>\n",
       "      <td>5.95</td>\n",
       "    </tr>\n",
       "    <tr>\n",
       "      <th>G620_water_level</th>\n",
       "      <td>2024-02-02</td>\n",
       "      <td>2024-01-28</td>\n",
       "      <td>6.047365</td>\n",
       "      <td>5.94</td>\n",
       "    </tr>\n",
       "    <tr>\n",
       "      <th>...</th>\n",
       "      <td>...</td>\n",
       "      <td>...</td>\n",
       "      <td>...</td>\n",
       "      <td>...</td>\n",
       "    </tr>\n",
       "    <tr>\n",
       "      <th>TSH_stage</th>\n",
       "      <td>2024-08-22</td>\n",
       "      <td>2024-07-29</td>\n",
       "      <td>2.550818</td>\n",
       "      <td>2.78</td>\n",
       "    </tr>\n",
       "    <tr>\n",
       "      <th>TSH_stage</th>\n",
       "      <td>2024-08-23</td>\n",
       "      <td>2024-07-29</td>\n",
       "      <td>2.535457</td>\n",
       "      <td>2.81</td>\n",
       "    </tr>\n",
       "    <tr>\n",
       "      <th>TSH_stage</th>\n",
       "      <td>2024-08-24</td>\n",
       "      <td>2024-07-29</td>\n",
       "      <td>2.555892</td>\n",
       "      <td>2.80</td>\n",
       "    </tr>\n",
       "    <tr>\n",
       "      <th>TSH_stage</th>\n",
       "      <td>2024-08-25</td>\n",
       "      <td>2024-07-29</td>\n",
       "      <td>2.543458</td>\n",
       "      <td>2.80</td>\n",
       "    </tr>\n",
       "    <tr>\n",
       "      <th>TSH_stage</th>\n",
       "      <td>2024-08-26</td>\n",
       "      <td>2024-07-29</td>\n",
       "      <td>2.521523</td>\n",
       "      <td>2.80</td>\n",
       "    </tr>\n",
       "  </tbody>\n",
       "</table>\n",
       "<p>190624 rows × 4 columns</p>\n",
       "</div>"
      ],
      "text/plain": [
       "                         ds     cutoff      RMoK     y\n",
       "unique_id                                             \n",
       "G620_water_level 2024-01-29 2024-01-28  6.037122  5.99\n",
       "G620_water_level 2024-01-30 2024-01-28  6.035746  5.97\n",
       "G620_water_level 2024-01-31 2024-01-28  6.050985  5.96\n",
       "G620_water_level 2024-02-01 2024-01-28  6.036576  5.95\n",
       "G620_water_level 2024-02-02 2024-01-28  6.047365  5.94\n",
       "...                     ...        ...       ...   ...\n",
       "TSH_stage        2024-08-22 2024-07-29  2.550818  2.78\n",
       "TSH_stage        2024-08-23 2024-07-29  2.535457  2.81\n",
       "TSH_stage        2024-08-24 2024-07-29  2.555892  2.80\n",
       "TSH_stage        2024-08-25 2024-07-29  2.543458  2.80\n",
       "TSH_stage        2024-08-26 2024-07-29  2.521523  2.80\n",
       "\n",
       "[190624 rows x 4 columns]"
      ]
     },
     "execution_count": 102,
     "metadata": {},
     "output_type": "execute_result"
    }
   ],
   "source": [
    "%%time\n",
    "Y_hat_df_RMoK = nf_RMoK.cross_validation(df=Y_df,\n",
    "                               val_size=val_size,\n",
    "                               test_size=test_size,\n",
    "                               n_windows=None)\n",
    "Y_hat_df_RMoK"
   ]
  },
  {
   "cell_type": "code",
   "execution_count": 103,
   "id": "f8fd6254",
   "metadata": {},
   "outputs": [
    {
     "name": "stdout",
     "output_type": "stream",
     "text": [
      "G620_water_level    5152\n",
      "S199                5152\n",
      "S332B               5152\n",
      "S332BN              5152\n",
      "S332C               5152\n",
      "S332D               5152\n",
      "S332DX1             5152\n",
      "S333                5152\n",
      "S333N               5152\n",
      "S333_T              5152\n",
      "S334                5152\n",
      "S334_H              5152\n",
      "S343A               5152\n",
      "S343B               5152\n",
      "S344                5152\n",
      "S356                5152\n",
      "SWEVER4_stage       5152\n",
      "S200                5152\n",
      "S18C_S              5152\n",
      "NESRS1              5152\n",
      "S12D_T              5152\n",
      "NESRS2              5152\n",
      "NP205_PET           5152\n",
      "NP205_rain          5152\n",
      "NP205_stage         5152\n",
      "NP62_stage          5152\n",
      "P33_PET             5152\n",
      "P33_rain            5152\n",
      "P33_stage           5152\n",
      "S12A                5152\n",
      "S12A_T              5152\n",
      "S12B                5152\n",
      "S12B_T              5152\n",
      "S12C                5152\n",
      "S12C_T              5152\n",
      "S12D                5152\n",
      "TSH_stage           5152\n",
      "Name: unique_id, dtype: int64\n"
     ]
    }
   ],
   "source": [
    "Y_hat_df_RMoK = Y_hat_df_RMoK.reset_index()\n",
    "#rechecking Unique IDs\n",
    "unique_id_counts_RMoK = Y_hat_df_RMoK['unique_id'].value_counts()\n",
    "print(unique_id_counts_RMoK)"
   ]
  },
  {
   "cell_type": "code",
   "execution_count": 104,
   "id": "71cd1e39",
   "metadata": {},
   "outputs": [
    {
     "data": {
      "text/html": [
       "<div>\n",
       "<style scoped>\n",
       "    .dataframe tbody tr th:only-of-type {\n",
       "        vertical-align: middle;\n",
       "    }\n",
       "\n",
       "    .dataframe tbody tr th {\n",
       "        vertical-align: top;\n",
       "    }\n",
       "\n",
       "    .dataframe thead th {\n",
       "        text-align: right;\n",
       "    }\n",
       "</style>\n",
       "<table border=\"1\" class=\"dataframe\">\n",
       "  <thead>\n",
       "    <tr style=\"text-align: right;\">\n",
       "      <th></th>\n",
       "      <th>unique_id</th>\n",
       "      <th>ds</th>\n",
       "      <th>RMoK</th>\n",
       "      <th>y</th>\n",
       "    </tr>\n",
       "  </thead>\n",
       "  <tbody>\n",
       "    <tr>\n",
       "      <th>0</th>\n",
       "      <td>G620_water_level</td>\n",
       "      <td>2024-01-29</td>\n",
       "      <td>6.037122</td>\n",
       "      <td>5.99</td>\n",
       "    </tr>\n",
       "    <tr>\n",
       "      <th>1</th>\n",
       "      <td>G620_water_level</td>\n",
       "      <td>2024-01-30</td>\n",
       "      <td>6.034708</td>\n",
       "      <td>5.97</td>\n",
       "    </tr>\n",
       "    <tr>\n",
       "      <th>2</th>\n",
       "      <td>G620_water_level</td>\n",
       "      <td>2024-01-31</td>\n",
       "      <td>6.032871</td>\n",
       "      <td>5.96</td>\n",
       "    </tr>\n",
       "    <tr>\n",
       "      <th>3</th>\n",
       "      <td>G620_water_level</td>\n",
       "      <td>2024-02-01</td>\n",
       "      <td>6.023985</td>\n",
       "      <td>5.95</td>\n",
       "    </tr>\n",
       "    <tr>\n",
       "      <th>4</th>\n",
       "      <td>G620_water_level</td>\n",
       "      <td>2024-02-02</td>\n",
       "      <td>6.014345</td>\n",
       "      <td>5.94</td>\n",
       "    </tr>\n",
       "    <tr>\n",
       "      <th>...</th>\n",
       "      <td>...</td>\n",
       "      <td>...</td>\n",
       "      <td>...</td>\n",
       "      <td>...</td>\n",
       "    </tr>\n",
       "    <tr>\n",
       "      <th>7802</th>\n",
       "      <td>TSH_stage</td>\n",
       "      <td>2024-08-22</td>\n",
       "      <td>2.541839</td>\n",
       "      <td>2.78</td>\n",
       "    </tr>\n",
       "    <tr>\n",
       "      <th>7803</th>\n",
       "      <td>TSH_stage</td>\n",
       "      <td>2024-08-23</td>\n",
       "      <td>2.540648</td>\n",
       "      <td>2.81</td>\n",
       "    </tr>\n",
       "    <tr>\n",
       "      <th>7804</th>\n",
       "      <td>TSH_stage</td>\n",
       "      <td>2024-08-24</td>\n",
       "      <td>2.534780</td>\n",
       "      <td>2.80</td>\n",
       "    </tr>\n",
       "    <tr>\n",
       "      <th>7805</th>\n",
       "      <td>TSH_stage</td>\n",
       "      <td>2024-08-25</td>\n",
       "      <td>2.519340</td>\n",
       "      <td>2.80</td>\n",
       "    </tr>\n",
       "    <tr>\n",
       "      <th>7806</th>\n",
       "      <td>TSH_stage</td>\n",
       "      <td>2024-08-26</td>\n",
       "      <td>2.521523</td>\n",
       "      <td>2.80</td>\n",
       "    </tr>\n",
       "  </tbody>\n",
       "</table>\n",
       "<p>7807 rows × 4 columns</p>\n",
       "</div>"
      ],
      "text/plain": [
       "             unique_id         ds      RMoK     y\n",
       "0     G620_water_level 2024-01-29  6.037122  5.99\n",
       "1     G620_water_level 2024-01-30  6.034708  5.97\n",
       "2     G620_water_level 2024-01-31  6.032871  5.96\n",
       "3     G620_water_level 2024-02-01  6.023985  5.95\n",
       "4     G620_water_level 2024-02-02  6.014345  5.94\n",
       "...                ...        ...       ...   ...\n",
       "7802         TSH_stage 2024-08-22  2.541839  2.78\n",
       "7803         TSH_stage 2024-08-23  2.540648  2.81\n",
       "7804         TSH_stage 2024-08-24  2.534780  2.80\n",
       "7805         TSH_stage 2024-08-25  2.519340  2.80\n",
       "7806         TSH_stage 2024-08-26  2.521523  2.80\n",
       "\n",
       "[7807 rows x 4 columns]"
      ]
     },
     "execution_count": 104,
     "metadata": {},
     "output_type": "execute_result"
    }
   ],
   "source": [
    "Y_hat_df_agg_RMoK = Y_hat_df_RMoK.groupby(['unique_id', 'ds']).agg({'RMoK': 'mean', 'y': 'mean'}).reset_index()\n",
    "Y_hat_df_agg_RMoK"
   ]
  },
  {
   "cell_type": "code",
   "execution_count": 105,
   "id": "43e0e94d",
   "metadata": {},
   "outputs": [
    {
     "name": "stderr",
     "output_type": "stream",
     "text": [
      "Trainer already configured with model summary callbacks: [<class 'pytorch_lightning.callbacks.model_summary.ModelSummary'>]. Skipping setting a default `ModelSummary` callback.\n",
      "GPU available: False, used: False\n",
      "TPU available: False, using: 0 TPU cores\n",
      "HPU available: False, using: 0 HPUs\n"
     ]
    },
    {
     "data": {
      "application/vnd.jupyter.widget-view+json": {
       "model_id": "406f08871c854f418175f58187bb1706",
       "version_major": 2,
       "version_minor": 0
      },
      "text/plain": [
       "Predicting: |                                                                                    | 0/? [00:00<…"
      ]
     },
     "metadata": {},
     "output_type": "display_data"
    },
    {
     "name": "stdout",
     "output_type": "stream",
     "text": [
      "CPU times: total: 438 ms\n",
      "Wall time: 369 ms\n"
     ]
    },
    {
     "name": "stderr",
     "output_type": "stream",
     "text": [
      "C:\\Users\\rahuu\\anaconda3\\lib\\site-packages\\neuralforecast\\core.py:214: FutureWarning: In a future version the predictions will have the id as a column. You can set the `NIXTLA_ID_AS_COL` environment variable to adopt the new behavior and to suppress this warning.\n",
      "  warnings.warn(\n"
     ]
    },
    {
     "data": {
      "text/html": [
       "<div>\n",
       "<style scoped>\n",
       "    .dataframe tbody tr th:only-of-type {\n",
       "        vertical-align: middle;\n",
       "    }\n",
       "\n",
       "    .dataframe tbody tr th {\n",
       "        vertical-align: top;\n",
       "    }\n",
       "\n",
       "    .dataframe thead th {\n",
       "        text-align: right;\n",
       "    }\n",
       "</style>\n",
       "<table border=\"1\" class=\"dataframe\">\n",
       "  <thead>\n",
       "    <tr style=\"text-align: right;\">\n",
       "      <th></th>\n",
       "      <th>unique_id</th>\n",
       "      <th>ds</th>\n",
       "      <th>RMoK</th>\n",
       "    </tr>\n",
       "  </thead>\n",
       "  <tbody>\n",
       "    <tr>\n",
       "      <th>0</th>\n",
       "      <td>G620_water_level</td>\n",
       "      <td>2024-08-27</td>\n",
       "      <td>6.108591</td>\n",
       "    </tr>\n",
       "    <tr>\n",
       "      <th>1</th>\n",
       "      <td>G620_water_level</td>\n",
       "      <td>2024-08-28</td>\n",
       "      <td>6.123792</td>\n",
       "    </tr>\n",
       "    <tr>\n",
       "      <th>2</th>\n",
       "      <td>G620_water_level</td>\n",
       "      <td>2024-08-29</td>\n",
       "      <td>6.113090</td>\n",
       "    </tr>\n",
       "    <tr>\n",
       "      <th>3</th>\n",
       "      <td>G620_water_level</td>\n",
       "      <td>2024-08-30</td>\n",
       "      <td>6.106661</td>\n",
       "    </tr>\n",
       "    <tr>\n",
       "      <th>4</th>\n",
       "      <td>G620_water_level</td>\n",
       "      <td>2024-08-31</td>\n",
       "      <td>6.127345</td>\n",
       "    </tr>\n",
       "    <tr>\n",
       "      <th>...</th>\n",
       "      <td>...</td>\n",
       "      <td>...</td>\n",
       "      <td>...</td>\n",
       "    </tr>\n",
       "    <tr>\n",
       "      <th>1031</th>\n",
       "      <td>TSH_stage</td>\n",
       "      <td>2024-09-19</td>\n",
       "      <td>2.689951</td>\n",
       "    </tr>\n",
       "    <tr>\n",
       "      <th>1032</th>\n",
       "      <td>TSH_stage</td>\n",
       "      <td>2024-09-20</td>\n",
       "      <td>2.679902</td>\n",
       "    </tr>\n",
       "    <tr>\n",
       "      <th>1033</th>\n",
       "      <td>TSH_stage</td>\n",
       "      <td>2024-09-21</td>\n",
       "      <td>2.674364</td>\n",
       "    </tr>\n",
       "    <tr>\n",
       "      <th>1034</th>\n",
       "      <td>TSH_stage</td>\n",
       "      <td>2024-09-22</td>\n",
       "      <td>2.672550</td>\n",
       "    </tr>\n",
       "    <tr>\n",
       "      <th>1035</th>\n",
       "      <td>TSH_stage</td>\n",
       "      <td>2024-09-23</td>\n",
       "      <td>2.666070</td>\n",
       "    </tr>\n",
       "  </tbody>\n",
       "</table>\n",
       "<p>1036 rows × 3 columns</p>\n",
       "</div>"
      ],
      "text/plain": [
       "             unique_id         ds      RMoK\n",
       "0     G620_water_level 2024-08-27  6.108591\n",
       "1     G620_water_level 2024-08-28  6.123792\n",
       "2     G620_water_level 2024-08-29  6.113090\n",
       "3     G620_water_level 2024-08-30  6.106661\n",
       "4     G620_water_level 2024-08-31  6.127345\n",
       "...                ...        ...       ...\n",
       "1031         TSH_stage 2024-09-19  2.689951\n",
       "1032         TSH_stage 2024-09-20  2.679902\n",
       "1033         TSH_stage 2024-09-21  2.674364\n",
       "1034         TSH_stage 2024-09-22  2.672550\n",
       "1035         TSH_stage 2024-09-23  2.666070\n",
       "\n",
       "[1036 rows x 3 columns]"
      ]
     },
     "execution_count": 105,
     "metadata": {},
     "output_type": "execute_result"
    }
   ],
   "source": [
    "%%time\n",
    "forecasts_RMoK = nf_RMoK.predict(df=Y_df, test_size=test_size) # Reset the index of Y_hat_df to convert 'unique_id' and 'ds' into columns\n",
    "forecasts_RMoK = forecasts_RMoK.reset_index()\n",
    "forecasts_RMoK"
   ]
  },
  {
   "cell_type": "code",
   "execution_count": 106,
   "id": "88c1c7ef",
   "metadata": {},
   "outputs": [
    {
     "name": "stdout",
     "output_type": "stream",
     "text": [
      "======== NP205_stage ========\n",
      "MAE = 0.336862\n",
      "RMSE = 0.482965\n",
      "\n",
      "======== P33_stage ========\n",
      "MAE = 0.153282\n",
      "RMSE = 0.201651\n",
      "\n"
     ]
    }
   ],
   "source": [
    "#n_series=37\n",
    "# List of stages to evaluate\n",
    "stages = ['NP205_stage', 'P33_stage']\n",
    "\n",
    "for stage in stages:\n",
    "    # Filter the data for the specific stage\n",
    "    stage_data = Y_hat_df_agg_RMoK[Y_hat_df_agg_RMoK['unique_id'] == stage]\n",
    "    print(f\"======== {stage} ========\")\n",
    "    \n",
    "    # Extract the actual and predicted values\n",
    "    true = stage_data['y'].values\n",
    "    pred = stage_data['RMoK'].values\n",
    "    \n",
    "    # Calculate MAE and RMSE\n",
    "    mae_value = mae(true, pred)\n",
    "    rmse_value = np.sqrt(mse(true, pred))\n",
    "    \n",
    "    # Print the results\n",
    "    print(f'MAE = {mae_value:.6f}')\n",
    "    print(f'RMSE = {rmse_value:.6f}\\n')"
   ]
  },
  {
   "cell_type": "code",
   "execution_count": null,
   "id": "d25697b4",
   "metadata": {},
   "outputs": [],
   "source": [
    "nf_RMoK.save(\"Output/RMoK-trained-model\")               \n",
    "Y_hat_df_agg_RMoK.to_csv(\"Output/RMoK_results.csv\", index=True)                   \n",
    "forecasts_RMoK.to_csv(\"Output/RMoK_predictions.csv\", index=True)"
   ]
  },
  {
   "cell_type": "code",
   "execution_count": 110,
   "id": "2e7f9c5b",
   "metadata": {},
   "outputs": [],
   "source": [
    "#Nlinear"
   ]
  },
  {
   "cell_type": "code",
   "execution_count": 111,
   "id": "9f0626d5",
   "metadata": {},
   "outputs": [],
   "source": [
    "from neuralforecast.models import NLinear"
   ]
  },
  {
   "cell_type": "code",
   "execution_count": 112,
   "id": "3c1d2675",
   "metadata": {},
   "outputs": [
    {
     "name": "stderr",
     "output_type": "stream",
     "text": [
      "Seed set to 1\n"
     ]
    }
   ],
   "source": [
    "#learning rate = 0.001 default\n",
    "#optimizer is adam by default\n",
    "Nlinear_model =  NLinear(h=horizon,input_size=100,max_steps=1000,val_check_steps=100,early_stop_patience_steps=50)"
   ]
  },
  {
   "cell_type": "code",
   "execution_count": 113,
   "id": "ca2b4b60",
   "metadata": {},
   "outputs": [
    {
     "name": "stderr",
     "output_type": "stream",
     "text": [
      "GPU available: False, used: False\n",
      "TPU available: False, using: 0 TPU cores\n",
      "HPU available: False, using: 0 HPUs\n",
      "\n",
      "  | Name         | Type          | Params | Mode \n",
      "-------------------------------------------------------\n",
      "0 | loss         | MAE           | 0      | train\n",
      "1 | padder_train | ConstantPad1d | 0      | train\n",
      "2 | scaler       | TemporalNorm  | 0      | train\n",
      "3 | linear       | Linear        | 2.8 K  | train\n",
      "-------------------------------------------------------\n",
      "2.8 K     Trainable params\n",
      "0         Non-trainable params\n",
      "2.8 K     Total params\n",
      "0.011     Total estimated model params size (MB)\n",
      "4         Modules in train mode\n",
      "0         Modules in eval mode\n"
     ]
    },
    {
     "data": {
      "application/vnd.jupyter.widget-view+json": {
       "model_id": "",
       "version_major": 2,
       "version_minor": 0
      },
      "text/plain": [
       "Sanity Checking: |                                                                               | 0/? [00:00<…"
      ]
     },
     "metadata": {},
     "output_type": "display_data"
    },
    {
     "data": {
      "application/vnd.jupyter.widget-view+json": {
       "model_id": "62b848b63599435db5e302b4443a5503",
       "version_major": 2,
       "version_minor": 0
      },
      "text/plain": [
       "Training: |                                                                                      | 0/? [00:00<…"
      ]
     },
     "metadata": {},
     "output_type": "display_data"
    },
    {
     "data": {
      "application/vnd.jupyter.widget-view+json": {
       "model_id": "",
       "version_major": 2,
       "version_minor": 0
      },
      "text/plain": [
       "Validation: |                                                                                    | 0/? [00:00<…"
      ]
     },
     "metadata": {},
     "output_type": "display_data"
    },
    {
     "data": {
      "application/vnd.jupyter.widget-view+json": {
       "model_id": "",
       "version_major": 2,
       "version_minor": 0
      },
      "text/plain": [
       "Validation: |                                                                                    | 0/? [00:00<…"
      ]
     },
     "metadata": {},
     "output_type": "display_data"
    },
    {
     "data": {
      "application/vnd.jupyter.widget-view+json": {
       "model_id": "",
       "version_major": 2,
       "version_minor": 0
      },
      "text/plain": [
       "Validation: |                                                                                    | 0/? [00:00<…"
      ]
     },
     "metadata": {},
     "output_type": "display_data"
    },
    {
     "data": {
      "application/vnd.jupyter.widget-view+json": {
       "model_id": "",
       "version_major": 2,
       "version_minor": 0
      },
      "text/plain": [
       "Validation: |                                                                                    | 0/? [00:00<…"
      ]
     },
     "metadata": {},
     "output_type": "display_data"
    },
    {
     "data": {
      "application/vnd.jupyter.widget-view+json": {
       "model_id": "",
       "version_major": 2,
       "version_minor": 0
      },
      "text/plain": [
       "Validation: |                                                                                    | 0/? [00:00<…"
      ]
     },
     "metadata": {},
     "output_type": "display_data"
    },
    {
     "data": {
      "application/vnd.jupyter.widget-view+json": {
       "model_id": "",
       "version_major": 2,
       "version_minor": 0
      },
      "text/plain": [
       "Validation: |                                                                                    | 0/? [00:00<…"
      ]
     },
     "metadata": {},
     "output_type": "display_data"
    },
    {
     "data": {
      "application/vnd.jupyter.widget-view+json": {
       "model_id": "",
       "version_major": 2,
       "version_minor": 0
      },
      "text/plain": [
       "Validation: |                                                                                    | 0/? [00:00<…"
      ]
     },
     "metadata": {},
     "output_type": "display_data"
    },
    {
     "data": {
      "application/vnd.jupyter.widget-view+json": {
       "model_id": "",
       "version_major": 2,
       "version_minor": 0
      },
      "text/plain": [
       "Validation: |                                                                                    | 0/? [00:00<…"
      ]
     },
     "metadata": {},
     "output_type": "display_data"
    },
    {
     "data": {
      "application/vnd.jupyter.widget-view+json": {
       "model_id": "",
       "version_major": 2,
       "version_minor": 0
      },
      "text/plain": [
       "Validation: |                                                                                    | 0/? [00:00<…"
      ]
     },
     "metadata": {},
     "output_type": "display_data"
    },
    {
     "data": {
      "application/vnd.jupyter.widget-view+json": {
       "model_id": "",
       "version_major": 2,
       "version_minor": 0
      },
      "text/plain": [
       "Validation: |                                                                                    | 0/? [00:00<…"
      ]
     },
     "metadata": {},
     "output_type": "display_data"
    },
    {
     "name": "stderr",
     "output_type": "stream",
     "text": [
      "`Trainer.fit` stopped: `max_steps=1000` reached.\n"
     ]
    },
    {
     "name": "stdout",
     "output_type": "stream",
     "text": [
      "CPU times: total: 48.3 s\n",
      "Wall time: 35.7 s\n"
     ]
    }
   ],
   "source": [
    "%%time\n",
    "# Forecasting\n",
    "nf_Nlinear = NeuralForecast(models=[Nlinear_model], freq='D')  \n",
    "nf_Nlinear.fit(df=Y_train_df, val_size=val_size)  "
   ]
  },
  {
   "cell_type": "code",
   "execution_count": 114,
   "id": "93b095f2",
   "metadata": {},
   "outputs": [
    {
     "name": "stderr",
     "output_type": "stream",
     "text": [
      "Trainer already configured with model summary callbacks: [<class 'pytorch_lightning.callbacks.model_summary.ModelSummary'>]. Skipping setting a default `ModelSummary` callback.\n",
      "GPU available: False, used: False\n",
      "TPU available: False, using: 0 TPU cores\n",
      "HPU available: False, using: 0 HPUs\n",
      "\n",
      "  | Name         | Type          | Params | Mode \n",
      "-------------------------------------------------------\n",
      "0 | loss         | MAE           | 0      | train\n",
      "1 | padder_train | ConstantPad1d | 0      | train\n",
      "2 | scaler       | TemporalNorm  | 0      | train\n",
      "3 | linear       | Linear        | 2.8 K  | train\n",
      "-------------------------------------------------------\n",
      "2.8 K     Trainable params\n",
      "0         Non-trainable params\n",
      "2.8 K     Total params\n",
      "0.011     Total estimated model params size (MB)\n",
      "4         Modules in train mode\n",
      "0         Modules in eval mode\n"
     ]
    },
    {
     "data": {
      "application/vnd.jupyter.widget-view+json": {
       "model_id": "",
       "version_major": 2,
       "version_minor": 0
      },
      "text/plain": [
       "Sanity Checking: |                                                                               | 0/? [00:00<…"
      ]
     },
     "metadata": {},
     "output_type": "display_data"
    },
    {
     "data": {
      "application/vnd.jupyter.widget-view+json": {
       "model_id": "996cd6bcafb149d1915e46fc7d8d6f18",
       "version_major": 2,
       "version_minor": 0
      },
      "text/plain": [
       "Training: |                                                                                      | 0/? [00:00<…"
      ]
     },
     "metadata": {},
     "output_type": "display_data"
    },
    {
     "data": {
      "application/vnd.jupyter.widget-view+json": {
       "model_id": "",
       "version_major": 2,
       "version_minor": 0
      },
      "text/plain": [
       "Validation: |                                                                                    | 0/? [00:00<…"
      ]
     },
     "metadata": {},
     "output_type": "display_data"
    },
    {
     "data": {
      "application/vnd.jupyter.widget-view+json": {
       "model_id": "",
       "version_major": 2,
       "version_minor": 0
      },
      "text/plain": [
       "Validation: |                                                                                    | 0/? [00:00<…"
      ]
     },
     "metadata": {},
     "output_type": "display_data"
    },
    {
     "data": {
      "application/vnd.jupyter.widget-view+json": {
       "model_id": "",
       "version_major": 2,
       "version_minor": 0
      },
      "text/plain": [
       "Validation: |                                                                                    | 0/? [00:00<…"
      ]
     },
     "metadata": {},
     "output_type": "display_data"
    },
    {
     "data": {
      "application/vnd.jupyter.widget-view+json": {
       "model_id": "",
       "version_major": 2,
       "version_minor": 0
      },
      "text/plain": [
       "Validation: |                                                                                    | 0/? [00:00<…"
      ]
     },
     "metadata": {},
     "output_type": "display_data"
    },
    {
     "data": {
      "application/vnd.jupyter.widget-view+json": {
       "model_id": "",
       "version_major": 2,
       "version_minor": 0
      },
      "text/plain": [
       "Validation: |                                                                                    | 0/? [00:00<…"
      ]
     },
     "metadata": {},
     "output_type": "display_data"
    },
    {
     "data": {
      "application/vnd.jupyter.widget-view+json": {
       "model_id": "",
       "version_major": 2,
       "version_minor": 0
      },
      "text/plain": [
       "Validation: |                                                                                    | 0/? [00:00<…"
      ]
     },
     "metadata": {},
     "output_type": "display_data"
    },
    {
     "data": {
      "application/vnd.jupyter.widget-view+json": {
       "model_id": "",
       "version_major": 2,
       "version_minor": 0
      },
      "text/plain": [
       "Validation: |                                                                                    | 0/? [00:00<…"
      ]
     },
     "metadata": {},
     "output_type": "display_data"
    },
    {
     "data": {
      "application/vnd.jupyter.widget-view+json": {
       "model_id": "",
       "version_major": 2,
       "version_minor": 0
      },
      "text/plain": [
       "Validation: |                                                                                    | 0/? [00:00<…"
      ]
     },
     "metadata": {},
     "output_type": "display_data"
    },
    {
     "data": {
      "application/vnd.jupyter.widget-view+json": {
       "model_id": "",
       "version_major": 2,
       "version_minor": 0
      },
      "text/plain": [
       "Validation: |                                                                                    | 0/? [00:00<…"
      ]
     },
     "metadata": {},
     "output_type": "display_data"
    },
    {
     "data": {
      "application/vnd.jupyter.widget-view+json": {
       "model_id": "",
       "version_major": 2,
       "version_minor": 0
      },
      "text/plain": [
       "Validation: |                                                                                    | 0/? [00:00<…"
      ]
     },
     "metadata": {},
     "output_type": "display_data"
    },
    {
     "name": "stderr",
     "output_type": "stream",
     "text": [
      "`Trainer.fit` stopped: `max_steps=1000` reached.\n",
      "Trainer already configured with model summary callbacks: [<class 'pytorch_lightning.callbacks.model_summary.ModelSummary'>]. Skipping setting a default `ModelSummary` callback.\n",
      "GPU available: False, used: False\n",
      "TPU available: False, using: 0 TPU cores\n",
      "HPU available: False, using: 0 HPUs\n"
     ]
    },
    {
     "data": {
      "application/vnd.jupyter.widget-view+json": {
       "model_id": "a0ff5bdf659c4a39b7dfb8801eb17688",
       "version_major": 2,
       "version_minor": 0
      },
      "text/plain": [
       "Predicting: |                                                                                    | 0/? [00:00<…"
      ]
     },
     "metadata": {},
     "output_type": "display_data"
    },
    {
     "name": "stdout",
     "output_type": "stream",
     "text": [
      "CPU times: total: 54.8 s\n",
      "Wall time: 36.4 s\n"
     ]
    },
    {
     "name": "stderr",
     "output_type": "stream",
     "text": [
      "C:\\Users\\rahuu\\anaconda3\\lib\\site-packages\\neuralforecast\\core.py:214: FutureWarning: In a future version the predictions will have the id as a column. You can set the `NIXTLA_ID_AS_COL` environment variable to adopt the new behavior and to suppress this warning.\n",
      "  warnings.warn(\n"
     ]
    },
    {
     "data": {
      "text/html": [
       "<div>\n",
       "<style scoped>\n",
       "    .dataframe tbody tr th:only-of-type {\n",
       "        vertical-align: middle;\n",
       "    }\n",
       "\n",
       "    .dataframe tbody tr th {\n",
       "        vertical-align: top;\n",
       "    }\n",
       "\n",
       "    .dataframe thead th {\n",
       "        text-align: right;\n",
       "    }\n",
       "</style>\n",
       "<table border=\"1\" class=\"dataframe\">\n",
       "  <thead>\n",
       "    <tr style=\"text-align: right;\">\n",
       "      <th></th>\n",
       "      <th>ds</th>\n",
       "      <th>cutoff</th>\n",
       "      <th>NLinear</th>\n",
       "      <th>y</th>\n",
       "    </tr>\n",
       "    <tr>\n",
       "      <th>unique_id</th>\n",
       "      <th></th>\n",
       "      <th></th>\n",
       "      <th></th>\n",
       "      <th></th>\n",
       "    </tr>\n",
       "  </thead>\n",
       "  <tbody>\n",
       "    <tr>\n",
       "      <th>G620_water_level</th>\n",
       "      <td>2024-01-29</td>\n",
       "      <td>2024-01-28</td>\n",
       "      <td>6.007359</td>\n",
       "      <td>5.99</td>\n",
       "    </tr>\n",
       "    <tr>\n",
       "      <th>G620_water_level</th>\n",
       "      <td>2024-01-30</td>\n",
       "      <td>2024-01-28</td>\n",
       "      <td>5.984550</td>\n",
       "      <td>5.97</td>\n",
       "    </tr>\n",
       "    <tr>\n",
       "      <th>G620_water_level</th>\n",
       "      <td>2024-01-31</td>\n",
       "      <td>2024-01-28</td>\n",
       "      <td>6.022395</td>\n",
       "      <td>5.96</td>\n",
       "    </tr>\n",
       "    <tr>\n",
       "      <th>G620_water_level</th>\n",
       "      <td>2024-02-01</td>\n",
       "      <td>2024-01-28</td>\n",
       "      <td>5.987703</td>\n",
       "      <td>5.95</td>\n",
       "    </tr>\n",
       "    <tr>\n",
       "      <th>G620_water_level</th>\n",
       "      <td>2024-02-02</td>\n",
       "      <td>2024-01-28</td>\n",
       "      <td>5.969746</td>\n",
       "      <td>5.94</td>\n",
       "    </tr>\n",
       "    <tr>\n",
       "      <th>...</th>\n",
       "      <td>...</td>\n",
       "      <td>...</td>\n",
       "      <td>...</td>\n",
       "      <td>...</td>\n",
       "    </tr>\n",
       "    <tr>\n",
       "      <th>TSH_stage</th>\n",
       "      <td>2024-08-22</td>\n",
       "      <td>2024-07-29</td>\n",
       "      <td>2.692722</td>\n",
       "      <td>2.78</td>\n",
       "    </tr>\n",
       "    <tr>\n",
       "      <th>TSH_stage</th>\n",
       "      <td>2024-08-23</td>\n",
       "      <td>2024-07-29</td>\n",
       "      <td>2.707762</td>\n",
       "      <td>2.81</td>\n",
       "    </tr>\n",
       "    <tr>\n",
       "      <th>TSH_stage</th>\n",
       "      <td>2024-08-24</td>\n",
       "      <td>2024-07-29</td>\n",
       "      <td>2.671351</td>\n",
       "      <td>2.80</td>\n",
       "    </tr>\n",
       "    <tr>\n",
       "      <th>TSH_stage</th>\n",
       "      <td>2024-08-25</td>\n",
       "      <td>2024-07-29</td>\n",
       "      <td>2.647806</td>\n",
       "      <td>2.80</td>\n",
       "    </tr>\n",
       "    <tr>\n",
       "      <th>TSH_stage</th>\n",
       "      <td>2024-08-26</td>\n",
       "      <td>2024-07-29</td>\n",
       "      <td>2.638371</td>\n",
       "      <td>2.80</td>\n",
       "    </tr>\n",
       "  </tbody>\n",
       "</table>\n",
       "<p>190624 rows × 4 columns</p>\n",
       "</div>"
      ],
      "text/plain": [
       "                         ds     cutoff   NLinear     y\n",
       "unique_id                                             \n",
       "G620_water_level 2024-01-29 2024-01-28  6.007359  5.99\n",
       "G620_water_level 2024-01-30 2024-01-28  5.984550  5.97\n",
       "G620_water_level 2024-01-31 2024-01-28  6.022395  5.96\n",
       "G620_water_level 2024-02-01 2024-01-28  5.987703  5.95\n",
       "G620_water_level 2024-02-02 2024-01-28  5.969746  5.94\n",
       "...                     ...        ...       ...   ...\n",
       "TSH_stage        2024-08-22 2024-07-29  2.692722  2.78\n",
       "TSH_stage        2024-08-23 2024-07-29  2.707762  2.81\n",
       "TSH_stage        2024-08-24 2024-07-29  2.671351  2.80\n",
       "TSH_stage        2024-08-25 2024-07-29  2.647806  2.80\n",
       "TSH_stage        2024-08-26 2024-07-29  2.638371  2.80\n",
       "\n",
       "[190624 rows x 4 columns]"
      ]
     },
     "execution_count": 114,
     "metadata": {},
     "output_type": "execute_result"
    }
   ],
   "source": [
    "%%time\n",
    "Y_hat_df_Nlinear = nf_Nlinear.cross_validation(df=Y_df,\n",
    "                               val_size=val_size,\n",
    "                               test_size=test_size,\n",
    "                               n_windows=None)\n",
    "Y_hat_df_Nlinear"
   ]
  },
  {
   "cell_type": "code",
   "execution_count": 115,
   "id": "5c2caf18",
   "metadata": {},
   "outputs": [
    {
     "name": "stdout",
     "output_type": "stream",
     "text": [
      "G620_water_level    5152\n",
      "S199                5152\n",
      "S332B               5152\n",
      "S332BN              5152\n",
      "S332C               5152\n",
      "S332D               5152\n",
      "S332DX1             5152\n",
      "S333                5152\n",
      "S333N               5152\n",
      "S333_T              5152\n",
      "S334                5152\n",
      "S334_H              5152\n",
      "S343A               5152\n",
      "S343B               5152\n",
      "S344                5152\n",
      "S356                5152\n",
      "SWEVER4_stage       5152\n",
      "S200                5152\n",
      "S18C_S              5152\n",
      "NESRS1              5152\n",
      "S12D_T              5152\n",
      "NESRS2              5152\n",
      "NP205_PET           5152\n",
      "NP205_rain          5152\n",
      "NP205_stage         5152\n",
      "NP62_stage          5152\n",
      "P33_PET             5152\n",
      "P33_rain            5152\n",
      "P33_stage           5152\n",
      "S12A                5152\n",
      "S12A_T              5152\n",
      "S12B                5152\n",
      "S12B_T              5152\n",
      "S12C                5152\n",
      "S12C_T              5152\n",
      "S12D                5152\n",
      "TSH_stage           5152\n",
      "Name: unique_id, dtype: int64\n"
     ]
    }
   ],
   "source": [
    "Y_hat_df_Nlinear = Y_hat_df_Nlinear.reset_index()\n",
    "#rechecking Unique IDs\n",
    "unique_id_counts_Nlinear= Y_hat_df_Nlinear['unique_id'].value_counts()\n",
    "print(unique_id_counts_Nlinear)"
   ]
  },
  {
   "cell_type": "code",
   "execution_count": 116,
   "id": "07a06767",
   "metadata": {},
   "outputs": [
    {
     "data": {
      "text/html": [
       "<div>\n",
       "<style scoped>\n",
       "    .dataframe tbody tr th:only-of-type {\n",
       "        vertical-align: middle;\n",
       "    }\n",
       "\n",
       "    .dataframe tbody tr th {\n",
       "        vertical-align: top;\n",
       "    }\n",
       "\n",
       "    .dataframe thead th {\n",
       "        text-align: right;\n",
       "    }\n",
       "</style>\n",
       "<table border=\"1\" class=\"dataframe\">\n",
       "  <thead>\n",
       "    <tr style=\"text-align: right;\">\n",
       "      <th></th>\n",
       "      <th>unique_id</th>\n",
       "      <th>ds</th>\n",
       "      <th>NLinear</th>\n",
       "      <th>y</th>\n",
       "    </tr>\n",
       "  </thead>\n",
       "  <tbody>\n",
       "    <tr>\n",
       "      <th>0</th>\n",
       "      <td>G620_water_level</td>\n",
       "      <td>2024-01-29</td>\n",
       "      <td>6.007359</td>\n",
       "      <td>5.99</td>\n",
       "    </tr>\n",
       "    <tr>\n",
       "      <th>1</th>\n",
       "      <td>G620_water_level</td>\n",
       "      <td>2024-01-30</td>\n",
       "      <td>5.990021</td>\n",
       "      <td>5.97</td>\n",
       "    </tr>\n",
       "    <tr>\n",
       "      <th>2</th>\n",
       "      <td>G620_water_level</td>\n",
       "      <td>2024-01-31</td>\n",
       "      <td>5.983725</td>\n",
       "      <td>5.96</td>\n",
       "    </tr>\n",
       "    <tr>\n",
       "      <th>3</th>\n",
       "      <td>G620_water_level</td>\n",
       "      <td>2024-02-01</td>\n",
       "      <td>5.977330</td>\n",
       "      <td>5.95</td>\n",
       "    </tr>\n",
       "    <tr>\n",
       "      <th>4</th>\n",
       "      <td>G620_water_level</td>\n",
       "      <td>2024-02-02</td>\n",
       "      <td>5.966733</td>\n",
       "      <td>5.94</td>\n",
       "    </tr>\n",
       "    <tr>\n",
       "      <th>...</th>\n",
       "      <td>...</td>\n",
       "      <td>...</td>\n",
       "      <td>...</td>\n",
       "      <td>...</td>\n",
       "    </tr>\n",
       "    <tr>\n",
       "      <th>7802</th>\n",
       "      <td>TSH_stage</td>\n",
       "      <td>2024-08-22</td>\n",
       "      <td>2.660874</td>\n",
       "      <td>2.78</td>\n",
       "    </tr>\n",
       "    <tr>\n",
       "      <th>7803</th>\n",
       "      <td>TSH_stage</td>\n",
       "      <td>2024-08-23</td>\n",
       "      <td>2.645612</td>\n",
       "      <td>2.81</td>\n",
       "    </tr>\n",
       "    <tr>\n",
       "      <th>7804</th>\n",
       "      <td>TSH_stage</td>\n",
       "      <td>2024-08-24</td>\n",
       "      <td>2.631954</td>\n",
       "      <td>2.80</td>\n",
       "    </tr>\n",
       "    <tr>\n",
       "      <th>7805</th>\n",
       "      <td>TSH_stage</td>\n",
       "      <td>2024-08-25</td>\n",
       "      <td>2.626816</td>\n",
       "      <td>2.80</td>\n",
       "    </tr>\n",
       "    <tr>\n",
       "      <th>7806</th>\n",
       "      <td>TSH_stage</td>\n",
       "      <td>2024-08-26</td>\n",
       "      <td>2.638371</td>\n",
       "      <td>2.80</td>\n",
       "    </tr>\n",
       "  </tbody>\n",
       "</table>\n",
       "<p>7807 rows × 4 columns</p>\n",
       "</div>"
      ],
      "text/plain": [
       "             unique_id         ds   NLinear     y\n",
       "0     G620_water_level 2024-01-29  6.007359  5.99\n",
       "1     G620_water_level 2024-01-30  5.990021  5.97\n",
       "2     G620_water_level 2024-01-31  5.983725  5.96\n",
       "3     G620_water_level 2024-02-01  5.977330  5.95\n",
       "4     G620_water_level 2024-02-02  5.966733  5.94\n",
       "...                ...        ...       ...   ...\n",
       "7802         TSH_stage 2024-08-22  2.660874  2.78\n",
       "7803         TSH_stage 2024-08-23  2.645612  2.81\n",
       "7804         TSH_stage 2024-08-24  2.631954  2.80\n",
       "7805         TSH_stage 2024-08-25  2.626816  2.80\n",
       "7806         TSH_stage 2024-08-26  2.638371  2.80\n",
       "\n",
       "[7807 rows x 4 columns]"
      ]
     },
     "execution_count": 116,
     "metadata": {},
     "output_type": "execute_result"
    }
   ],
   "source": [
    "Y_hat_df_agg_Nlinear = Y_hat_df_Nlinear.groupby(['unique_id', 'ds']).agg({'NLinear': 'mean', 'y': 'mean'}).reset_index()\n",
    "Y_hat_df_agg_Nlinear"
   ]
  },
  {
   "cell_type": "code",
   "execution_count": 117,
   "id": "4baddda7",
   "metadata": {},
   "outputs": [
    {
     "name": "stderr",
     "output_type": "stream",
     "text": [
      "Trainer already configured with model summary callbacks: [<class 'pytorch_lightning.callbacks.model_summary.ModelSummary'>]. Skipping setting a default `ModelSummary` callback.\n",
      "GPU available: False, used: False\n",
      "TPU available: False, using: 0 TPU cores\n",
      "HPU available: False, using: 0 HPUs\n"
     ]
    },
    {
     "data": {
      "application/vnd.jupyter.widget-view+json": {
       "model_id": "a3f413c99d2b40d18d599e7d32dfa84a",
       "version_major": 2,
       "version_minor": 0
      },
      "text/plain": [
       "Predicting: |                                                                                    | 0/? [00:00<…"
      ]
     },
     "metadata": {},
     "output_type": "display_data"
    },
    {
     "name": "stdout",
     "output_type": "stream",
     "text": [
      "CPU times: total: 422 ms\n",
      "Wall time: 567 ms\n"
     ]
    },
    {
     "name": "stderr",
     "output_type": "stream",
     "text": [
      "C:\\Users\\rahuu\\anaconda3\\lib\\site-packages\\neuralforecast\\core.py:214: FutureWarning: In a future version the predictions will have the id as a column. You can set the `NIXTLA_ID_AS_COL` environment variable to adopt the new behavior and to suppress this warning.\n",
      "  warnings.warn(\n"
     ]
    },
    {
     "data": {
      "text/html": [
       "<div>\n",
       "<style scoped>\n",
       "    .dataframe tbody tr th:only-of-type {\n",
       "        vertical-align: middle;\n",
       "    }\n",
       "\n",
       "    .dataframe tbody tr th {\n",
       "        vertical-align: top;\n",
       "    }\n",
       "\n",
       "    .dataframe thead th {\n",
       "        text-align: right;\n",
       "    }\n",
       "</style>\n",
       "<table border=\"1\" class=\"dataframe\">\n",
       "  <thead>\n",
       "    <tr style=\"text-align: right;\">\n",
       "      <th></th>\n",
       "      <th>unique_id</th>\n",
       "      <th>ds</th>\n",
       "      <th>NLinear</th>\n",
       "    </tr>\n",
       "  </thead>\n",
       "  <tbody>\n",
       "    <tr>\n",
       "      <th>0</th>\n",
       "      <td>G620_water_level</td>\n",
       "      <td>2024-08-27</td>\n",
       "      <td>6.210245</td>\n",
       "    </tr>\n",
       "    <tr>\n",
       "      <th>1</th>\n",
       "      <td>G620_water_level</td>\n",
       "      <td>2024-08-28</td>\n",
       "      <td>6.168468</td>\n",
       "    </tr>\n",
       "    <tr>\n",
       "      <th>2</th>\n",
       "      <td>G620_water_level</td>\n",
       "      <td>2024-08-29</td>\n",
       "      <td>6.192311</td>\n",
       "    </tr>\n",
       "    <tr>\n",
       "      <th>3</th>\n",
       "      <td>G620_water_level</td>\n",
       "      <td>2024-08-30</td>\n",
       "      <td>6.174291</td>\n",
       "    </tr>\n",
       "    <tr>\n",
       "      <th>4</th>\n",
       "      <td>G620_water_level</td>\n",
       "      <td>2024-08-31</td>\n",
       "      <td>6.184120</td>\n",
       "    </tr>\n",
       "    <tr>\n",
       "      <th>...</th>\n",
       "      <td>...</td>\n",
       "      <td>...</td>\n",
       "      <td>...</td>\n",
       "    </tr>\n",
       "    <tr>\n",
       "      <th>1031</th>\n",
       "      <td>TSH_stage</td>\n",
       "      <td>2024-09-19</td>\n",
       "      <td>2.752092</td>\n",
       "    </tr>\n",
       "    <tr>\n",
       "      <th>1032</th>\n",
       "      <td>TSH_stage</td>\n",
       "      <td>2024-09-20</td>\n",
       "      <td>2.755655</td>\n",
       "    </tr>\n",
       "    <tr>\n",
       "      <th>1033</th>\n",
       "      <td>TSH_stage</td>\n",
       "      <td>2024-09-21</td>\n",
       "      <td>2.727498</td>\n",
       "    </tr>\n",
       "    <tr>\n",
       "      <th>1034</th>\n",
       "      <td>TSH_stage</td>\n",
       "      <td>2024-09-22</td>\n",
       "      <td>2.766196</td>\n",
       "    </tr>\n",
       "    <tr>\n",
       "      <th>1035</th>\n",
       "      <td>TSH_stage</td>\n",
       "      <td>2024-09-23</td>\n",
       "      <td>2.753450</td>\n",
       "    </tr>\n",
       "  </tbody>\n",
       "</table>\n",
       "<p>1036 rows × 3 columns</p>\n",
       "</div>"
      ],
      "text/plain": [
       "             unique_id         ds   NLinear\n",
       "0     G620_water_level 2024-08-27  6.210245\n",
       "1     G620_water_level 2024-08-28  6.168468\n",
       "2     G620_water_level 2024-08-29  6.192311\n",
       "3     G620_water_level 2024-08-30  6.174291\n",
       "4     G620_water_level 2024-08-31  6.184120\n",
       "...                ...        ...       ...\n",
       "1031         TSH_stage 2024-09-19  2.752092\n",
       "1032         TSH_stage 2024-09-20  2.755655\n",
       "1033         TSH_stage 2024-09-21  2.727498\n",
       "1034         TSH_stage 2024-09-22  2.766196\n",
       "1035         TSH_stage 2024-09-23  2.753450\n",
       "\n",
       "[1036 rows x 3 columns]"
      ]
     },
     "execution_count": 117,
     "metadata": {},
     "output_type": "execute_result"
    }
   ],
   "source": [
    "%%time\n",
    "forecasts_Nlinear = nf_Nlinear.predict(df=Y_df, test_size=test_size) # Reset the index of Y_hat_df to convert 'unique_id' and 'ds' into columns\n",
    "forecasts_Nlinear = forecasts_Nlinear.reset_index()\n",
    "forecasts_Nlinear"
   ]
  },
  {
   "cell_type": "code",
   "execution_count": 118,
   "id": "a28d5bd7",
   "metadata": {},
   "outputs": [
    {
     "name": "stdout",
     "output_type": "stream",
     "text": [
      "======== NP205_stage ========\n",
      "MAE = 0.322780\n",
      "RMSE = 0.448174\n",
      "\n",
      "======== P33_stage ========\n",
      "MAE = 0.150630\n",
      "RMSE = 0.188626\n",
      "\n"
     ]
    }
   ],
   "source": [
    "#n_series=37\n",
    "# List of stages to evaluate\n",
    "stages = ['NP205_stage', 'P33_stage']\n",
    "\n",
    "for stage in stages:\n",
    "    # Filter the data for the specific stage\n",
    "    stage_data = Y_hat_df_agg_Nlinear[Y_hat_df_agg_Nlinear['unique_id'] == stage]\n",
    "    print(f\"======== {stage} ========\")\n",
    "    \n",
    "    # Extract the actual and predicted values\n",
    "    true = stage_data['y'].values\n",
    "    pred = stage_data['NLinear'].values\n",
    "    \n",
    "    # Calculate MAE and RMSE\n",
    "    mae_value = mae(true, pred)\n",
    "    rmse_value = np.sqrt(mse(true, pred))\n",
    "    \n",
    "    # Print the results\n",
    "    print(f'MAE = {mae_value:.6f}')\n",
    "    print(f'RMSE = {rmse_value:.6f}\\n')"
   ]
  },
  {
   "cell_type": "code",
   "execution_count": null,
   "id": "a20ccdd5",
   "metadata": {},
   "outputs": [],
   "source": [
    "nf_Nlinear.save(\"Output/Nlinear-trained-model\")               \n",
    "Y_hat_df_agg_Nlinear.to_csv(\"Output/Nlinear_results.csv\", index=True)                   \n",
    "forecasts_Nlinear.to_csv(\"Output/Nlinear_predictions.csv\", index=True)"
   ]
  },
  {
   "cell_type": "code",
   "execution_count": null,
   "id": "c744b999",
   "metadata": {},
   "outputs": [
    {
     "data": {
      "text/html": [
       "<div>\n",
       "<style scoped>\n",
       "    .dataframe tbody tr th:only-of-type {\n",
       "        vertical-align: middle;\n",
       "    }\n",
       "\n",
       "    .dataframe tbody tr th {\n",
       "        vertical-align: top;\n",
       "    }\n",
       "\n",
       "    .dataframe thead th {\n",
       "        text-align: right;\n",
       "    }\n",
       "</style>\n",
       "<table border=\"1\" class=\"dataframe\">\n",
       "  <thead>\n",
       "    <tr style=\"text-align: right;\">\n",
       "      <th></th>\n",
       "      <th>Unnamed: 0</th>\n",
       "      <th>unique_id</th>\n",
       "      <th>ds</th>\n",
       "      <th>y</th>\n",
       "      <th>NBEATS</th>\n",
       "      <th>Informer</th>\n",
       "      <th>Autoformer</th>\n",
       "      <th>PatchTST</th>\n",
       "      <th>iTransformer</th>\n",
       "      <th>NLinear</th>\n",
       "      <th>RMoK</th>\n",
       "      <th>TimeMixer</th>\n",
       "      <th>TSMixer</th>\n",
       "      <th>TSMixerx</th>\n",
       "    </tr>\n",
       "  </thead>\n",
       "  <tbody>\n",
       "    <tr>\n",
       "      <th>0</th>\n",
       "      <td>0</td>\n",
       "      <td>G620_water_level</td>\n",
       "      <td>2024-01-29</td>\n",
       "      <td>5.99</td>\n",
       "      <td>5.990283</td>\n",
       "      <td>6.289072</td>\n",
       "      <td>10.357516</td>\n",
       "      <td>5.999596</td>\n",
       "      <td>6.070791</td>\n",
       "      <td>6.007359</td>\n",
       "      <td>6.037122</td>\n",
       "      <td>5.991134</td>\n",
       "      <td>6.003157</td>\n",
       "      <td>6.264428</td>\n",
       "    </tr>\n",
       "    <tr>\n",
       "      <th>1</th>\n",
       "      <td>1</td>\n",
       "      <td>G620_water_level</td>\n",
       "      <td>2024-01-30</td>\n",
       "      <td>5.97</td>\n",
       "      <td>5.980088</td>\n",
       "      <td>6.299329</td>\n",
       "      <td>11.011190</td>\n",
       "      <td>5.993426</td>\n",
       "      <td>6.077047</td>\n",
       "      <td>5.990021</td>\n",
       "      <td>6.034707</td>\n",
       "      <td>5.986139</td>\n",
       "      <td>5.998189</td>\n",
       "      <td>6.231063</td>\n",
       "    </tr>\n",
       "    <tr>\n",
       "      <th>2</th>\n",
       "      <td>2</td>\n",
       "      <td>G620_water_level</td>\n",
       "      <td>2024-01-31</td>\n",
       "      <td>5.96</td>\n",
       "      <td>5.970243</td>\n",
       "      <td>6.206570</td>\n",
       "      <td>11.191124</td>\n",
       "      <td>5.985068</td>\n",
       "      <td>6.076143</td>\n",
       "      <td>5.983725</td>\n",
       "      <td>6.032871</td>\n",
       "      <td>5.986710</td>\n",
       "      <td>5.991814</td>\n",
       "      <td>6.217189</td>\n",
       "    </tr>\n",
       "    <tr>\n",
       "      <th>3</th>\n",
       "      <td>3</td>\n",
       "      <td>G620_water_level</td>\n",
       "      <td>2024-02-01</td>\n",
       "      <td>5.95</td>\n",
       "      <td>5.970322</td>\n",
       "      <td>6.193393</td>\n",
       "      <td>10.648573</td>\n",
       "      <td>5.977842</td>\n",
       "      <td>6.074499</td>\n",
       "      <td>5.977330</td>\n",
       "      <td>6.023985</td>\n",
       "      <td>5.983805</td>\n",
       "      <td>5.985024</td>\n",
       "      <td>6.204739</td>\n",
       "    </tr>\n",
       "    <tr>\n",
       "      <th>4</th>\n",
       "      <td>4</td>\n",
       "      <td>G620_water_level</td>\n",
       "      <td>2024-02-02</td>\n",
       "      <td>5.94</td>\n",
       "      <td>5.967651</td>\n",
       "      <td>6.069048</td>\n",
       "      <td>9.353334</td>\n",
       "      <td>5.971125</td>\n",
       "      <td>6.065646</td>\n",
       "      <td>5.966732</td>\n",
       "      <td>6.014345</td>\n",
       "      <td>5.985395</td>\n",
       "      <td>5.978159</td>\n",
       "      <td>6.196633</td>\n",
       "    </tr>\n",
       "    <tr>\n",
       "      <th>...</th>\n",
       "      <td>...</td>\n",
       "      <td>...</td>\n",
       "      <td>...</td>\n",
       "      <td>...</td>\n",
       "      <td>...</td>\n",
       "      <td>...</td>\n",
       "      <td>...</td>\n",
       "      <td>...</td>\n",
       "      <td>...</td>\n",
       "      <td>...</td>\n",
       "      <td>...</td>\n",
       "      <td>...</td>\n",
       "      <td>...</td>\n",
       "      <td>...</td>\n",
       "    </tr>\n",
       "    <tr>\n",
       "      <th>7802</th>\n",
       "      <td>7802</td>\n",
       "      <td>TSH_stage</td>\n",
       "      <td>2024-08-22</td>\n",
       "      <td>2.78</td>\n",
       "      <td>2.705861</td>\n",
       "      <td>2.667645</td>\n",
       "      <td>6.848316</td>\n",
       "      <td>2.604910</td>\n",
       "      <td>2.576495</td>\n",
       "      <td>2.660874</td>\n",
       "      <td>2.541839</td>\n",
       "      <td>2.474700</td>\n",
       "      <td>2.664950</td>\n",
       "      <td>2.742459</td>\n",
       "    </tr>\n",
       "    <tr>\n",
       "      <th>7803</th>\n",
       "      <td>7803</td>\n",
       "      <td>TSH_stage</td>\n",
       "      <td>2024-08-23</td>\n",
       "      <td>2.81</td>\n",
       "      <td>2.686831</td>\n",
       "      <td>2.626756</td>\n",
       "      <td>3.509356</td>\n",
       "      <td>2.603642</td>\n",
       "      <td>2.580112</td>\n",
       "      <td>2.645612</td>\n",
       "      <td>2.540648</td>\n",
       "      <td>2.459051</td>\n",
       "      <td>2.658326</td>\n",
       "      <td>2.751494</td>\n",
       "    </tr>\n",
       "    <tr>\n",
       "      <th>7804</th>\n",
       "      <td>7804</td>\n",
       "      <td>TSH_stage</td>\n",
       "      <td>2024-08-24</td>\n",
       "      <td>2.80</td>\n",
       "      <td>2.663762</td>\n",
       "      <td>2.590511</td>\n",
       "      <td>-0.471451</td>\n",
       "      <td>2.600448</td>\n",
       "      <td>2.638836</td>\n",
       "      <td>2.631954</td>\n",
       "      <td>2.534780</td>\n",
       "      <td>2.439607</td>\n",
       "      <td>2.649858</td>\n",
       "      <td>2.751780</td>\n",
       "    </tr>\n",
       "    <tr>\n",
       "      <th>7805</th>\n",
       "      <td>7805</td>\n",
       "      <td>TSH_stage</td>\n",
       "      <td>2024-08-25</td>\n",
       "      <td>2.80</td>\n",
       "      <td>2.652651</td>\n",
       "      <td>2.558795</td>\n",
       "      <td>-5.177432</td>\n",
       "      <td>2.604291</td>\n",
       "      <td>2.668186</td>\n",
       "      <td>2.626816</td>\n",
       "      <td>2.519340</td>\n",
       "      <td>2.414936</td>\n",
       "      <td>2.645275</td>\n",
       "      <td>2.754015</td>\n",
       "    </tr>\n",
       "    <tr>\n",
       "      <th>7806</th>\n",
       "      <td>7806</td>\n",
       "      <td>TSH_stage</td>\n",
       "      <td>2024-08-26</td>\n",
       "      <td>2.80</td>\n",
       "      <td>2.670222</td>\n",
       "      <td>2.538811</td>\n",
       "      <td>-9.057331</td>\n",
       "      <td>2.617953</td>\n",
       "      <td>2.727415</td>\n",
       "      <td>2.638371</td>\n",
       "      <td>2.521523</td>\n",
       "      <td>2.394792</td>\n",
       "      <td>2.646476</td>\n",
       "      <td>2.811199</td>\n",
       "    </tr>\n",
       "  </tbody>\n",
       "</table>\n",
       "<p>7807 rows × 14 columns</p>\n",
       "</div>"
      ],
      "text/plain": [
       "      Unnamed: 0         unique_id         ds     y    NBEATS  Informer  \\\n",
       "0              0  G620_water_level 2024-01-29  5.99  5.990283  6.289072   \n",
       "1              1  G620_water_level 2024-01-30  5.97  5.980088  6.299329   \n",
       "2              2  G620_water_level 2024-01-31  5.96  5.970243  6.206570   \n",
       "3              3  G620_water_level 2024-02-01  5.95  5.970322  6.193393   \n",
       "4              4  G620_water_level 2024-02-02  5.94  5.967651  6.069048   \n",
       "...          ...               ...        ...   ...       ...       ...   \n",
       "7802        7802         TSH_stage 2024-08-22  2.78  2.705861  2.667645   \n",
       "7803        7803         TSH_stage 2024-08-23  2.81  2.686831  2.626756   \n",
       "7804        7804         TSH_stage 2024-08-24  2.80  2.663762  2.590511   \n",
       "7805        7805         TSH_stage 2024-08-25  2.80  2.652651  2.558795   \n",
       "7806        7806         TSH_stage 2024-08-26  2.80  2.670222  2.538811   \n",
       "\n",
       "      Autoformer  PatchTST  iTransformer   NLinear      RMoK  TimeMixer  \\\n",
       "0      10.357516  5.999596      6.070791  6.007359  6.037122   5.991134   \n",
       "1      11.011190  5.993426      6.077047  5.990021  6.034707   5.986139   \n",
       "2      11.191124  5.985068      6.076143  5.983725  6.032871   5.986710   \n",
       "3      10.648573  5.977842      6.074499  5.977330  6.023985   5.983805   \n",
       "4       9.353334  5.971125      6.065646  5.966732  6.014345   5.985395   \n",
       "...          ...       ...           ...       ...       ...        ...   \n",
       "7802    6.848316  2.604910      2.576495  2.660874  2.541839   2.474700   \n",
       "7803    3.509356  2.603642      2.580112  2.645612  2.540648   2.459051   \n",
       "7804   -0.471451  2.600448      2.638836  2.631954  2.534780   2.439607   \n",
       "7805   -5.177432  2.604291      2.668186  2.626816  2.519340   2.414936   \n",
       "7806   -9.057331  2.617953      2.727415  2.638371  2.521523   2.394792   \n",
       "\n",
       "       TSMixer  TSMixerx  \n",
       "0     6.003157  6.264428  \n",
       "1     5.998189  6.231063  \n",
       "2     5.991814  6.217189  \n",
       "3     5.985024  6.204739  \n",
       "4     5.978159  6.196633  \n",
       "...        ...       ...  \n",
       "7802  2.664950  2.742459  \n",
       "7803  2.658326  2.751494  \n",
       "7804  2.649858  2.751780  \n",
       "7805  2.645275  2.754015  \n",
       "7806  2.646476  2.811199  \n",
       "\n",
       "[7807 rows x 14 columns]"
      ]
     },
     "execution_count": 122,
     "metadata": {},
     "output_type": "execute_result"
    }
   ],
   "source": [
    "result_data=pd.read_excel(\"data/Results-28days-final.xlsx\")\n",
    "result_data"
   ]
  },
  {
   "cell_type": "code",
   "execution_count": 123,
   "id": "c8a93b78",
   "metadata": {},
   "outputs": [
    {
     "data": {
      "text/html": [
       "<div>\n",
       "<style scoped>\n",
       "    .dataframe tbody tr th:only-of-type {\n",
       "        vertical-align: middle;\n",
       "    }\n",
       "\n",
       "    .dataframe tbody tr th {\n",
       "        vertical-align: top;\n",
       "    }\n",
       "\n",
       "    .dataframe thead th {\n",
       "        text-align: right;\n",
       "    }\n",
       "</style>\n",
       "<table border=\"1\" class=\"dataframe\">\n",
       "  <thead>\n",
       "    <tr style=\"text-align: right;\">\n",
       "      <th></th>\n",
       "      <th>unique_id</th>\n",
       "      <th>ds</th>\n",
       "      <th>y</th>\n",
       "      <th>NBEATS</th>\n",
       "      <th>Informer</th>\n",
       "      <th>Autoformer</th>\n",
       "      <th>PatchTST</th>\n",
       "      <th>iTransformer</th>\n",
       "      <th>NLinear</th>\n",
       "      <th>RMoK</th>\n",
       "      <th>TimeMixer</th>\n",
       "      <th>TSMixer</th>\n",
       "      <th>TSMixerx</th>\n",
       "    </tr>\n",
       "  </thead>\n",
       "  <tbody>\n",
       "    <tr>\n",
       "      <th>0</th>\n",
       "      <td>G620_water_level</td>\n",
       "      <td>2024-01-29</td>\n",
       "      <td>5.99</td>\n",
       "      <td>5.990283</td>\n",
       "      <td>6.289072</td>\n",
       "      <td>10.357516</td>\n",
       "      <td>5.999596</td>\n",
       "      <td>6.070791</td>\n",
       "      <td>6.007359</td>\n",
       "      <td>6.037122</td>\n",
       "      <td>5.991134</td>\n",
       "      <td>6.003157</td>\n",
       "      <td>6.264428</td>\n",
       "    </tr>\n",
       "    <tr>\n",
       "      <th>1</th>\n",
       "      <td>G620_water_level</td>\n",
       "      <td>2024-01-30</td>\n",
       "      <td>5.97</td>\n",
       "      <td>5.980088</td>\n",
       "      <td>6.299329</td>\n",
       "      <td>11.011190</td>\n",
       "      <td>5.993426</td>\n",
       "      <td>6.077047</td>\n",
       "      <td>5.990021</td>\n",
       "      <td>6.034707</td>\n",
       "      <td>5.986139</td>\n",
       "      <td>5.998189</td>\n",
       "      <td>6.231063</td>\n",
       "    </tr>\n",
       "    <tr>\n",
       "      <th>2</th>\n",
       "      <td>G620_water_level</td>\n",
       "      <td>2024-01-31</td>\n",
       "      <td>5.96</td>\n",
       "      <td>5.970243</td>\n",
       "      <td>6.206570</td>\n",
       "      <td>11.191124</td>\n",
       "      <td>5.985068</td>\n",
       "      <td>6.076143</td>\n",
       "      <td>5.983725</td>\n",
       "      <td>6.032871</td>\n",
       "      <td>5.986710</td>\n",
       "      <td>5.991814</td>\n",
       "      <td>6.217189</td>\n",
       "    </tr>\n",
       "    <tr>\n",
       "      <th>3</th>\n",
       "      <td>G620_water_level</td>\n",
       "      <td>2024-02-01</td>\n",
       "      <td>5.95</td>\n",
       "      <td>5.970322</td>\n",
       "      <td>6.193393</td>\n",
       "      <td>10.648573</td>\n",
       "      <td>5.977842</td>\n",
       "      <td>6.074499</td>\n",
       "      <td>5.977330</td>\n",
       "      <td>6.023985</td>\n",
       "      <td>5.983805</td>\n",
       "      <td>5.985024</td>\n",
       "      <td>6.204739</td>\n",
       "    </tr>\n",
       "    <tr>\n",
       "      <th>4</th>\n",
       "      <td>G620_water_level</td>\n",
       "      <td>2024-02-02</td>\n",
       "      <td>5.94</td>\n",
       "      <td>5.967651</td>\n",
       "      <td>6.069048</td>\n",
       "      <td>9.353334</td>\n",
       "      <td>5.971125</td>\n",
       "      <td>6.065646</td>\n",
       "      <td>5.966732</td>\n",
       "      <td>6.014345</td>\n",
       "      <td>5.985395</td>\n",
       "      <td>5.978159</td>\n",
       "      <td>6.196633</td>\n",
       "    </tr>\n",
       "    <tr>\n",
       "      <th>...</th>\n",
       "      <td>...</td>\n",
       "      <td>...</td>\n",
       "      <td>...</td>\n",
       "      <td>...</td>\n",
       "      <td>...</td>\n",
       "      <td>...</td>\n",
       "      <td>...</td>\n",
       "      <td>...</td>\n",
       "      <td>...</td>\n",
       "      <td>...</td>\n",
       "      <td>...</td>\n",
       "      <td>...</td>\n",
       "      <td>...</td>\n",
       "    </tr>\n",
       "    <tr>\n",
       "      <th>7802</th>\n",
       "      <td>TSH_stage</td>\n",
       "      <td>2024-08-22</td>\n",
       "      <td>2.78</td>\n",
       "      <td>2.705861</td>\n",
       "      <td>2.667645</td>\n",
       "      <td>6.848316</td>\n",
       "      <td>2.604910</td>\n",
       "      <td>2.576495</td>\n",
       "      <td>2.660874</td>\n",
       "      <td>2.541839</td>\n",
       "      <td>2.474700</td>\n",
       "      <td>2.664950</td>\n",
       "      <td>2.742459</td>\n",
       "    </tr>\n",
       "    <tr>\n",
       "      <th>7803</th>\n",
       "      <td>TSH_stage</td>\n",
       "      <td>2024-08-23</td>\n",
       "      <td>2.81</td>\n",
       "      <td>2.686831</td>\n",
       "      <td>2.626756</td>\n",
       "      <td>3.509356</td>\n",
       "      <td>2.603642</td>\n",
       "      <td>2.580112</td>\n",
       "      <td>2.645612</td>\n",
       "      <td>2.540648</td>\n",
       "      <td>2.459051</td>\n",
       "      <td>2.658326</td>\n",
       "      <td>2.751494</td>\n",
       "    </tr>\n",
       "    <tr>\n",
       "      <th>7804</th>\n",
       "      <td>TSH_stage</td>\n",
       "      <td>2024-08-24</td>\n",
       "      <td>2.80</td>\n",
       "      <td>2.663762</td>\n",
       "      <td>2.590511</td>\n",
       "      <td>-0.471451</td>\n",
       "      <td>2.600448</td>\n",
       "      <td>2.638836</td>\n",
       "      <td>2.631954</td>\n",
       "      <td>2.534780</td>\n",
       "      <td>2.439607</td>\n",
       "      <td>2.649858</td>\n",
       "      <td>2.751780</td>\n",
       "    </tr>\n",
       "    <tr>\n",
       "      <th>7805</th>\n",
       "      <td>TSH_stage</td>\n",
       "      <td>2024-08-25</td>\n",
       "      <td>2.80</td>\n",
       "      <td>2.652651</td>\n",
       "      <td>2.558795</td>\n",
       "      <td>-5.177432</td>\n",
       "      <td>2.604291</td>\n",
       "      <td>2.668186</td>\n",
       "      <td>2.626816</td>\n",
       "      <td>2.519340</td>\n",
       "      <td>2.414936</td>\n",
       "      <td>2.645275</td>\n",
       "      <td>2.754015</td>\n",
       "    </tr>\n",
       "    <tr>\n",
       "      <th>7806</th>\n",
       "      <td>TSH_stage</td>\n",
       "      <td>2024-08-26</td>\n",
       "      <td>2.80</td>\n",
       "      <td>2.670222</td>\n",
       "      <td>2.538811</td>\n",
       "      <td>-9.057331</td>\n",
       "      <td>2.617953</td>\n",
       "      <td>2.727415</td>\n",
       "      <td>2.638371</td>\n",
       "      <td>2.521523</td>\n",
       "      <td>2.394792</td>\n",
       "      <td>2.646476</td>\n",
       "      <td>2.811199</td>\n",
       "    </tr>\n",
       "  </tbody>\n",
       "</table>\n",
       "<p>7807 rows × 13 columns</p>\n",
       "</div>"
      ],
      "text/plain": [
       "             unique_id         ds     y    NBEATS  Informer  Autoformer  \\\n",
       "0     G620_water_level 2024-01-29  5.99  5.990283  6.289072   10.357516   \n",
       "1     G620_water_level 2024-01-30  5.97  5.980088  6.299329   11.011190   \n",
       "2     G620_water_level 2024-01-31  5.96  5.970243  6.206570   11.191124   \n",
       "3     G620_water_level 2024-02-01  5.95  5.970322  6.193393   10.648573   \n",
       "4     G620_water_level 2024-02-02  5.94  5.967651  6.069048    9.353334   \n",
       "...                ...        ...   ...       ...       ...         ...   \n",
       "7802         TSH_stage 2024-08-22  2.78  2.705861  2.667645    6.848316   \n",
       "7803         TSH_stage 2024-08-23  2.81  2.686831  2.626756    3.509356   \n",
       "7804         TSH_stage 2024-08-24  2.80  2.663762  2.590511   -0.471451   \n",
       "7805         TSH_stage 2024-08-25  2.80  2.652651  2.558795   -5.177432   \n",
       "7806         TSH_stage 2024-08-26  2.80  2.670222  2.538811   -9.057331   \n",
       "\n",
       "      PatchTST  iTransformer   NLinear      RMoK  TimeMixer   TSMixer  \\\n",
       "0     5.999596      6.070791  6.007359  6.037122   5.991134  6.003157   \n",
       "1     5.993426      6.077047  5.990021  6.034707   5.986139  5.998189   \n",
       "2     5.985068      6.076143  5.983725  6.032871   5.986710  5.991814   \n",
       "3     5.977842      6.074499  5.977330  6.023985   5.983805  5.985024   \n",
       "4     5.971125      6.065646  5.966732  6.014345   5.985395  5.978159   \n",
       "...        ...           ...       ...       ...        ...       ...   \n",
       "7802  2.604910      2.576495  2.660874  2.541839   2.474700  2.664950   \n",
       "7803  2.603642      2.580112  2.645612  2.540648   2.459051  2.658326   \n",
       "7804  2.600448      2.638836  2.631954  2.534780   2.439607  2.649858   \n",
       "7805  2.604291      2.668186  2.626816  2.519340   2.414936  2.645275   \n",
       "7806  2.617953      2.727415  2.638371  2.521523   2.394792  2.646476   \n",
       "\n",
       "      TSMixerx  \n",
       "0     6.264428  \n",
       "1     6.231063  \n",
       "2     6.217189  \n",
       "3     6.204739  \n",
       "4     6.196633  \n",
       "...        ...  \n",
       "7802  2.742459  \n",
       "7803  2.751494  \n",
       "7804  2.751780  \n",
       "7805  2.754015  \n",
       "7806  2.811199  \n",
       "\n",
       "[7807 rows x 13 columns]"
      ]
     },
     "execution_count": 123,
     "metadata": {},
     "output_type": "execute_result"
    }
   ],
   "source": [
    "# Drop the 'formatted_date' column if not needed\n",
    "result_data = result_data.drop(columns=['Unnamed: 0'])\n",
    "result_data"
   ]
  },
  {
   "cell_type": "code",
   "execution_count": 126,
   "id": "8b96c9bb",
   "metadata": {},
   "outputs": [
    {
     "name": "stdout",
     "output_type": "stream",
     "text": [
      "======== NP205_stage ========\n",
      "NBEATS - MAE = 0.319, RMSE = 0.468\n",
      "Informer - MAE = 0.498, RMSE = 0.588\n",
      "Autoformer - MAE = 4.291, RMSE = 5.275\n",
      "PatchTST - MAE = 0.350, RMSE = 0.480\n",
      "TimeMixer - MAE = 0.622, RMSE = 0.807\n",
      "TSMixer - MAE = 0.339, RMSE = 0.465\n",
      "RMoK - MAE = 0.337, RMSE = 0.483\n",
      "iTransformer - MAE = 0.335, RMSE = 0.503\n",
      "TSMixerx - MAE = 0.560, RMSE = 0.841\n",
      "NLinear - MAE = 0.323, RMSE = 0.448\n",
      "\n",
      "\n",
      "======== P33_stage ========\n",
      "NBEATS - MAE = 0.139, RMSE = 0.198\n",
      "Informer - MAE = 0.344, RMSE = 0.411\n",
      "Autoformer - MAE = 3.046, RMSE = 3.725\n",
      "PatchTST - MAE = 0.155, RMSE = 0.197\n",
      "TimeMixer - MAE = 0.228, RMSE = 0.287\n",
      "TSMixer - MAE = 0.153, RMSE = 0.200\n",
      "RMoK - MAE = 0.153, RMSE = 0.202\n",
      "iTransformer - MAE = 0.156, RMSE = 0.206\n",
      "TSMixerx - MAE = 0.293, RMSE = 0.409\n",
      "NLinear - MAE = 0.151, RMSE = 0.189\n",
      "\n",
      "\n",
      "======== G620_water_level ========\n",
      "NBEATS - MAE = 0.150, RMSE = 0.227\n",
      "Informer - MAE = 0.267, RMSE = 0.318\n",
      "Autoformer - MAE = 2.908, RMSE = 3.489\n",
      "PatchTST - MAE = 0.191, RMSE = 0.239\n",
      "TimeMixer - MAE = 0.269, RMSE = 0.350\n",
      "TSMixer - MAE = 0.185, RMSE = 0.243\n",
      "RMoK - MAE = 0.185, RMSE = 0.250\n",
      "iTransformer - MAE = 0.193, RMSE = 0.263\n",
      "TSMixerx - MAE = 0.350, RMSE = 0.492\n",
      "NLinear - MAE = 0.183, RMSE = 0.226\n",
      "\n",
      "\n",
      "======== NESRS1 ========\n",
      "NBEATS - MAE = 0.136, RMSE = 0.201\n",
      "Informer - MAE = 0.530, RMSE = 0.573\n",
      "Autoformer - MAE = 1.787, RMSE = 2.133\n",
      "PatchTST - MAE = 0.140, RMSE = 0.188\n",
      "TimeMixer - MAE = 0.232, RMSE = 0.287\n",
      "TSMixer - MAE = 0.130, RMSE = 0.179\n",
      "RMoK - MAE = 0.143, RMSE = 0.194\n",
      "iTransformer - MAE = 0.160, RMSE = 0.215\n",
      "TSMixerx - MAE = 0.312, RMSE = 0.431\n",
      "NLinear - MAE = 0.138, RMSE = 0.182\n",
      "\n",
      "\n",
      "======== NESRS2 ========\n",
      "NBEATS - MAE = 0.133, RMSE = 0.203\n",
      "Informer - MAE = 0.536, RMSE = 0.575\n",
      "Autoformer - MAE = 2.749, RMSE = 3.290\n",
      "PatchTST - MAE = 0.129, RMSE = 0.184\n",
      "TimeMixer - MAE = 0.208, RMSE = 0.266\n",
      "TSMixer - MAE = 0.122, RMSE = 0.173\n",
      "RMoK - MAE = 0.134, RMSE = 0.185\n",
      "iTransformer - MAE = 0.144, RMSE = 0.201\n",
      "TSMixerx - MAE = 0.275, RMSE = 0.368\n",
      "NLinear - MAE = 0.127, RMSE = 0.179\n",
      "\n",
      "\n"
     ]
    }
   ],
   "source": [
    "import numpy as np\n",
    "from sklearn.metrics import mean_absolute_error as mae, mean_squared_error as mse\n",
    "\n",
    "# List of stages to evaluate\n",
    "stages = ['NP205_stage', 'P33_stage', 'G620_water_level', 'NESRS1', 'NESRS2']\n",
    "\n",
    "# List of models (these correspond to column names in the DataFrame)\n",
    "models = ['NBEATS', 'Informer', 'Autoformer', 'PatchTST', 'TimeMixer', \n",
    "          'TSMixer', 'RMoK', 'iTransformer', 'TSMixerx', 'NLinear']\n",
    "\n",
    "# Iterate through each stage\n",
    "for stage in stages:\n",
    "    # Filter the data for the specific stage\n",
    "    stage_data = result_data[result_data['unique_id'] == stage]\n",
    "    print(f\"======== {stage} ========\")\n",
    "    \n",
    "    # Extract the actual values\n",
    "    true = stage_data['y'].values\n",
    "    \n",
    "    # Iterate through each model\n",
    "    for model in models:\n",
    "        # Extract the predicted values for the model\n",
    "        pred = stage_data[model].values\n",
    "        \n",
    "        # Calculate MAE and RMSE\n",
    "        mae_value = mae(true, pred)\n",
    "        rmse_value = np.sqrt(mse(true, pred))\n",
    "        \n",
    "        # Print the results for the model\n",
    "        print(f\"{model} - MAE = {mae_value:.3f}, RMSE = {rmse_value:.3f}\")\n",
    "    print(\"\\n\")"
   ]
  },
  {
   "cell_type": "code",
   "execution_count": 125,
   "id": "adc98f95",
   "metadata": {},
   "outputs": [
    {
     "name": "stdout",
     "output_type": "stream",
     "text": [
      "Overall MAE for each model (only for selected stages):\n",
      "NBEATS: MAE = 0.1755\n",
      "Informer: MAE = 0.4350\n",
      "Autoformer: MAE = 2.9562\n",
      "PatchTST: MAE = 0.1930\n",
      "TimeMixer: MAE = 0.3118\n",
      "TSMixer: MAE = 0.1857\n",
      "RMoK: MAE = 0.1907\n",
      "iTransformer: MAE = 0.1976\n",
      "TSMixerx: MAE = 0.3583\n",
      "NLinear: MAE = 0.1845\n",
      "\n",
      "Overall RMSE for each model (only for selected stages):\n",
      "NBEATS: RMSE = 0.2594\n",
      "Informer: RMSE = 0.4928\n",
      "Autoformer: RMSE = 3.5828\n",
      "PatchTST: RMSE = 0.2576\n",
      "TimeMixer: RMSE = 0.3993\n",
      "TSMixer: RMSE = 0.2520\n",
      "RMoK: RMSE = 0.2628\n",
      "iTransformer: RMSE = 0.2776\n",
      "TSMixerx: RMSE = 0.5084\n",
      "NLinear: RMSE = 0.2447\n"
     ]
    }
   ],
   "source": [
    "import numpy as np\n",
    "from sklearn.metrics import mean_absolute_error as mae, mean_squared_error as mse\n",
    "\n",
    "# List of stages to evaluate\n",
    "stages = ['NP205_stage', 'P33_stage', 'G620_water_level', 'NESRS1', 'NESRS2']\n",
    "\n",
    "# List of models (these correspond to column names in the DataFrame)\n",
    "models = ['NBEATS', 'Informer', 'Autoformer', 'PatchTST', 'TimeMixer', \n",
    "          'TSMixer', 'RMoK', 'iTransformer', 'TSMixerx', 'NLinear']\n",
    "\n",
    "# Dictionary to store overall MAE and RMSE for each model\n",
    "overall_mae = {model: [] for model in models}\n",
    "overall_rmse = {model: [] for model in models}\n",
    "\n",
    "# Iterate through each stage\n",
    "for stage in stages:\n",
    "    # Filter the data for the specific stage\n",
    "    stage_data = result_data[result_data['unique_id'] == stage]\n",
    "    \n",
    "    # Check if data for the stage exists\n",
    "    if stage_data.empty:\n",
    "        print(f\"No data found for {stage}. Skipping...\\n\")\n",
    "        continue\n",
    "    \n",
    "    # Extract the actual values\n",
    "    true = stage_data['y'].values\n",
    "    \n",
    "    # Iterate through each model\n",
    "    for model in models:\n",
    "        # Extract the predicted values for the model\n",
    "        pred = stage_data[model].values\n",
    "        \n",
    "        # Calculate MAE and RMSE, then append to the corresponding model's list\n",
    "        model_mae = mae(true, pred)\n",
    "        model_rmse = np.sqrt(mse(true, pred))\n",
    "        \n",
    "        overall_mae[model].append(model_mae)\n",
    "        overall_rmse[model].append(model_rmse)\n",
    "\n",
    "# Calculate the overall MAE and RMSE (mean of MAEs and RMSEs across the 5 stations) for each model\n",
    "final_overall_mae = {model: np.mean(maes) for model, maes in overall_mae.items()}\n",
    "final_overall_rmse = {model: np.mean(rmses) for model, rmses in overall_rmse.items()}\n",
    "\n",
    "# Print the overall MAE and RMSE for each model\n",
    "print(\"Overall MAE for each model (only for selected stages):\")\n",
    "for model, mae_value in final_overall_mae.items():\n",
    "    print(f\"{model}: MAE = {mae_value:.4f}\")\n",
    "\n",
    "print(\"\\nOverall RMSE for each model (only for selected stages):\")\n",
    "for model, rmse_value in final_overall_rmse.items():\n",
    "    print(f\"{model}: RMSE = {rmse_value:.4f}\")\n"
   ]
  },
  {
   "cell_type": "code",
   "execution_count": 17,
   "id": "3ac63e46",
   "metadata": {},
   "outputs": [],
   "source": [
    "# DLinear ###\n",
    "from neuralforecast import NeuralForecast\n",
    "from neuralforecast.models import DLinear"
   ]
  },
  {
   "cell_type": "code",
   "execution_count": 18,
   "id": "49b4b305",
   "metadata": {},
   "outputs": [
    {
     "name": "stderr",
     "output_type": "stream",
     "text": [
      "Seed set to 1\n"
     ]
    }
   ],
   "source": [
    "horizon=28\n",
    "#learning rate = 0.001 default\n",
    "#optimizer is adam by default\n",
    "Dlinear_model =  DLinear(h=horizon,input_size=100,max_steps=1000,val_check_steps=100,early_stop_patience_steps=50)"
   ]
  },
  {
   "cell_type": "code",
   "execution_count": 19,
   "id": "cacd90e8",
   "metadata": {},
   "outputs": [
    {
     "name": "stderr",
     "output_type": "stream",
     "text": [
      "GPU available: False, used: False\n",
      "TPU available: False, using: 0 TPU cores\n",
      "HPU available: False, using: 0 HPUs\n",
      "\n",
      "  | Name          | Type          | Params | Mode \n",
      "--------------------------------------------------------\n",
      "0 | loss          | MAE           | 0      | train\n",
      "1 | padder_train  | ConstantPad1d | 0      | train\n",
      "2 | scaler        | TemporalNorm  | 0      | train\n",
      "3 | decomp        | SeriesDecomp  | 0      | train\n",
      "4 | linear_trend  | Linear        | 2.8 K  | train\n",
      "5 | linear_season | Linear        | 2.8 K  | train\n",
      "--------------------------------------------------------\n",
      "5.7 K     Trainable params\n",
      "0         Non-trainable params\n",
      "5.7 K     Total params\n",
      "0.023     Total estimated model params size (MB)\n",
      "8         Modules in train mode\n",
      "0         Modules in eval mode\n"
     ]
    },
    {
     "data": {
      "application/vnd.jupyter.widget-view+json": {
       "model_id": "",
       "version_major": 2,
       "version_minor": 0
      },
      "text/plain": [
       "Sanity Checking: |                                                                               | 0/? [00:00<…"
      ]
     },
     "metadata": {},
     "output_type": "display_data"
    },
    {
     "data": {
      "application/vnd.jupyter.widget-view+json": {
       "model_id": "ec40bb92cc4c42878f13c751b9062bc6",
       "version_major": 2,
       "version_minor": 0
      },
      "text/plain": [
       "Training: |                                                                                      | 0/? [00:00<…"
      ]
     },
     "metadata": {},
     "output_type": "display_data"
    },
    {
     "data": {
      "application/vnd.jupyter.widget-view+json": {
       "model_id": "",
       "version_major": 2,
       "version_minor": 0
      },
      "text/plain": [
       "Validation: |                                                                                    | 0/? [00:00<…"
      ]
     },
     "metadata": {},
     "output_type": "display_data"
    },
    {
     "data": {
      "application/vnd.jupyter.widget-view+json": {
       "model_id": "",
       "version_major": 2,
       "version_minor": 0
      },
      "text/plain": [
       "Validation: |                                                                                    | 0/? [00:00<…"
      ]
     },
     "metadata": {},
     "output_type": "display_data"
    },
    {
     "data": {
      "application/vnd.jupyter.widget-view+json": {
       "model_id": "",
       "version_major": 2,
       "version_minor": 0
      },
      "text/plain": [
       "Validation: |                                                                                    | 0/? [00:00<…"
      ]
     },
     "metadata": {},
     "output_type": "display_data"
    },
    {
     "data": {
      "application/vnd.jupyter.widget-view+json": {
       "model_id": "",
       "version_major": 2,
       "version_minor": 0
      },
      "text/plain": [
       "Validation: |                                                                                    | 0/? [00:00<…"
      ]
     },
     "metadata": {},
     "output_type": "display_data"
    },
    {
     "data": {
      "application/vnd.jupyter.widget-view+json": {
       "model_id": "",
       "version_major": 2,
       "version_minor": 0
      },
      "text/plain": [
       "Validation: |                                                                                    | 0/? [00:00<…"
      ]
     },
     "metadata": {},
     "output_type": "display_data"
    },
    {
     "data": {
      "application/vnd.jupyter.widget-view+json": {
       "model_id": "",
       "version_major": 2,
       "version_minor": 0
      },
      "text/plain": [
       "Validation: |                                                                                    | 0/? [00:00<…"
      ]
     },
     "metadata": {},
     "output_type": "display_data"
    },
    {
     "data": {
      "application/vnd.jupyter.widget-view+json": {
       "model_id": "",
       "version_major": 2,
       "version_minor": 0
      },
      "text/plain": [
       "Validation: |                                                                                    | 0/? [00:00<…"
      ]
     },
     "metadata": {},
     "output_type": "display_data"
    },
    {
     "data": {
      "application/vnd.jupyter.widget-view+json": {
       "model_id": "",
       "version_major": 2,
       "version_minor": 0
      },
      "text/plain": [
       "Validation: |                                                                                    | 0/? [00:00<…"
      ]
     },
     "metadata": {},
     "output_type": "display_data"
    },
    {
     "data": {
      "application/vnd.jupyter.widget-view+json": {
       "model_id": "",
       "version_major": 2,
       "version_minor": 0
      },
      "text/plain": [
       "Validation: |                                                                                    | 0/? [00:00<…"
      ]
     },
     "metadata": {},
     "output_type": "display_data"
    },
    {
     "data": {
      "application/vnd.jupyter.widget-view+json": {
       "model_id": "",
       "version_major": 2,
       "version_minor": 0
      },
      "text/plain": [
       "Validation: |                                                                                    | 0/? [00:00<…"
      ]
     },
     "metadata": {},
     "output_type": "display_data"
    },
    {
     "name": "stderr",
     "output_type": "stream",
     "text": [
      "`Trainer.fit` stopped: `max_steps=1000` reached.\n"
     ]
    },
    {
     "name": "stdout",
     "output_type": "stream",
     "text": [
      "CPU times: total: 45.3 s\n",
      "Wall time: 33.2 s\n"
     ]
    }
   ],
   "source": [
    "%%time\n",
    "# Forecasting\n",
    "nf_Dlinear = NeuralForecast(models=[Dlinear_model], freq='D')  \n",
    "nf_Dlinear.fit(df=Y_train_df, val_size=val_size) "
   ]
  },
  {
   "cell_type": "code",
   "execution_count": 20,
   "id": "c433d087",
   "metadata": {},
   "outputs": [
    {
     "name": "stderr",
     "output_type": "stream",
     "text": [
      "Trainer already configured with model summary callbacks: [<class 'pytorch_lightning.callbacks.model_summary.ModelSummary'>]. Skipping setting a default `ModelSummary` callback.\n",
      "GPU available: False, used: False\n",
      "TPU available: False, using: 0 TPU cores\n",
      "HPU available: False, using: 0 HPUs\n",
      "\n",
      "  | Name          | Type          | Params | Mode \n",
      "--------------------------------------------------------\n",
      "0 | loss          | MAE           | 0      | train\n",
      "1 | padder_train  | ConstantPad1d | 0      | train\n",
      "2 | scaler        | TemporalNorm  | 0      | train\n",
      "3 | decomp        | SeriesDecomp  | 0      | train\n",
      "4 | linear_trend  | Linear        | 2.8 K  | train\n",
      "5 | linear_season | Linear        | 2.8 K  | train\n",
      "--------------------------------------------------------\n",
      "5.7 K     Trainable params\n",
      "0         Non-trainable params\n",
      "5.7 K     Total params\n",
      "0.023     Total estimated model params size (MB)\n",
      "8         Modules in train mode\n",
      "0         Modules in eval mode\n"
     ]
    },
    {
     "data": {
      "application/vnd.jupyter.widget-view+json": {
       "model_id": "",
       "version_major": 2,
       "version_minor": 0
      },
      "text/plain": [
       "Sanity Checking: |                                                                               | 0/? [00:00<…"
      ]
     },
     "metadata": {},
     "output_type": "display_data"
    },
    {
     "data": {
      "application/vnd.jupyter.widget-view+json": {
       "model_id": "03b2b4567a4c4d3180aacd23e1b2dd1b",
       "version_major": 2,
       "version_minor": 0
      },
      "text/plain": [
       "Training: |                                                                                      | 0/? [00:00<…"
      ]
     },
     "metadata": {},
     "output_type": "display_data"
    },
    {
     "data": {
      "application/vnd.jupyter.widget-view+json": {
       "model_id": "",
       "version_major": 2,
       "version_minor": 0
      },
      "text/plain": [
       "Validation: |                                                                                    | 0/? [00:00<…"
      ]
     },
     "metadata": {},
     "output_type": "display_data"
    },
    {
     "data": {
      "application/vnd.jupyter.widget-view+json": {
       "model_id": "",
       "version_major": 2,
       "version_minor": 0
      },
      "text/plain": [
       "Validation: |                                                                                    | 0/? [00:00<…"
      ]
     },
     "metadata": {},
     "output_type": "display_data"
    },
    {
     "data": {
      "application/vnd.jupyter.widget-view+json": {
       "model_id": "",
       "version_major": 2,
       "version_minor": 0
      },
      "text/plain": [
       "Validation: |                                                                                    | 0/? [00:00<…"
      ]
     },
     "metadata": {},
     "output_type": "display_data"
    },
    {
     "data": {
      "application/vnd.jupyter.widget-view+json": {
       "model_id": "",
       "version_major": 2,
       "version_minor": 0
      },
      "text/plain": [
       "Validation: |                                                                                    | 0/? [00:00<…"
      ]
     },
     "metadata": {},
     "output_type": "display_data"
    },
    {
     "data": {
      "application/vnd.jupyter.widget-view+json": {
       "model_id": "",
       "version_major": 2,
       "version_minor": 0
      },
      "text/plain": [
       "Validation: |                                                                                    | 0/? [00:00<…"
      ]
     },
     "metadata": {},
     "output_type": "display_data"
    },
    {
     "data": {
      "application/vnd.jupyter.widget-view+json": {
       "model_id": "",
       "version_major": 2,
       "version_minor": 0
      },
      "text/plain": [
       "Validation: |                                                                                    | 0/? [00:00<…"
      ]
     },
     "metadata": {},
     "output_type": "display_data"
    },
    {
     "data": {
      "application/vnd.jupyter.widget-view+json": {
       "model_id": "",
       "version_major": 2,
       "version_minor": 0
      },
      "text/plain": [
       "Validation: |                                                                                    | 0/? [00:00<…"
      ]
     },
     "metadata": {},
     "output_type": "display_data"
    },
    {
     "data": {
      "application/vnd.jupyter.widget-view+json": {
       "model_id": "",
       "version_major": 2,
       "version_minor": 0
      },
      "text/plain": [
       "Validation: |                                                                                    | 0/? [00:00<…"
      ]
     },
     "metadata": {},
     "output_type": "display_data"
    },
    {
     "data": {
      "application/vnd.jupyter.widget-view+json": {
       "model_id": "",
       "version_major": 2,
       "version_minor": 0
      },
      "text/plain": [
       "Validation: |                                                                                    | 0/? [00:00<…"
      ]
     },
     "metadata": {},
     "output_type": "display_data"
    },
    {
     "data": {
      "application/vnd.jupyter.widget-view+json": {
       "model_id": "",
       "version_major": 2,
       "version_minor": 0
      },
      "text/plain": [
       "Validation: |                                                                                    | 0/? [00:00<…"
      ]
     },
     "metadata": {},
     "output_type": "display_data"
    },
    {
     "name": "stderr",
     "output_type": "stream",
     "text": [
      "`Trainer.fit` stopped: `max_steps=1000` reached.\n",
      "Trainer already configured with model summary callbacks: [<class 'pytorch_lightning.callbacks.model_summary.ModelSummary'>]. Skipping setting a default `ModelSummary` callback.\n",
      "GPU available: False, used: False\n",
      "TPU available: False, using: 0 TPU cores\n",
      "HPU available: False, using: 0 HPUs\n"
     ]
    },
    {
     "data": {
      "application/vnd.jupyter.widget-view+json": {
       "model_id": "a14a14a99022410d9a21a60c2eedacdc",
       "version_major": 2,
       "version_minor": 0
      },
      "text/plain": [
       "Predicting: |                                                                                    | 0/? [00:00<…"
      ]
     },
     "metadata": {},
     "output_type": "display_data"
    },
    {
     "name": "stderr",
     "output_type": "stream",
     "text": [
      "C:\\Users\\rahuu\\anaconda3\\lib\\site-packages\\neuralforecast\\core.py:214: FutureWarning: In a future version the predictions will have the id as a column. You can set the `NIXTLA_ID_AS_COL` environment variable to adopt the new behavior and to suppress this warning.\n",
      "  warnings.warn(\n"
     ]
    },
    {
     "name": "stdout",
     "output_type": "stream",
     "text": [
      "CPU times: total: 44.3 s\n",
      "Wall time: 30.2 s\n"
     ]
    },
    {
     "data": {
      "text/html": [
       "<div>\n",
       "<style scoped>\n",
       "    .dataframe tbody tr th:only-of-type {\n",
       "        vertical-align: middle;\n",
       "    }\n",
       "\n",
       "    .dataframe tbody tr th {\n",
       "        vertical-align: top;\n",
       "    }\n",
       "\n",
       "    .dataframe thead th {\n",
       "        text-align: right;\n",
       "    }\n",
       "</style>\n",
       "<table border=\"1\" class=\"dataframe\">\n",
       "  <thead>\n",
       "    <tr style=\"text-align: right;\">\n",
       "      <th></th>\n",
       "      <th>ds</th>\n",
       "      <th>cutoff</th>\n",
       "      <th>DLinear</th>\n",
       "      <th>y</th>\n",
       "    </tr>\n",
       "    <tr>\n",
       "      <th>unique_id</th>\n",
       "      <th></th>\n",
       "      <th></th>\n",
       "      <th></th>\n",
       "      <th></th>\n",
       "    </tr>\n",
       "  </thead>\n",
       "  <tbody>\n",
       "    <tr>\n",
       "      <th>G620_water_level</th>\n",
       "      <td>2024-01-29</td>\n",
       "      <td>2024-01-28</td>\n",
       "      <td>6.009546</td>\n",
       "      <td>5.99</td>\n",
       "    </tr>\n",
       "    <tr>\n",
       "      <th>G620_water_level</th>\n",
       "      <td>2024-01-30</td>\n",
       "      <td>2024-01-28</td>\n",
       "      <td>6.028564</td>\n",
       "      <td>5.97</td>\n",
       "    </tr>\n",
       "    <tr>\n",
       "      <th>G620_water_level</th>\n",
       "      <td>2024-01-31</td>\n",
       "      <td>2024-01-28</td>\n",
       "      <td>6.075247</td>\n",
       "      <td>5.96</td>\n",
       "    </tr>\n",
       "    <tr>\n",
       "      <th>G620_water_level</th>\n",
       "      <td>2024-02-01</td>\n",
       "      <td>2024-01-28</td>\n",
       "      <td>6.005193</td>\n",
       "      <td>5.95</td>\n",
       "    </tr>\n",
       "    <tr>\n",
       "      <th>G620_water_level</th>\n",
       "      <td>2024-02-02</td>\n",
       "      <td>2024-01-28</td>\n",
       "      <td>6.095683</td>\n",
       "      <td>5.94</td>\n",
       "    </tr>\n",
       "    <tr>\n",
       "      <th>...</th>\n",
       "      <td>...</td>\n",
       "      <td>...</td>\n",
       "      <td>...</td>\n",
       "      <td>...</td>\n",
       "    </tr>\n",
       "    <tr>\n",
       "      <th>TSH_stage</th>\n",
       "      <td>2024-08-22</td>\n",
       "      <td>2024-07-29</td>\n",
       "      <td>2.667193</td>\n",
       "      <td>2.78</td>\n",
       "    </tr>\n",
       "    <tr>\n",
       "      <th>TSH_stage</th>\n",
       "      <td>2024-08-23</td>\n",
       "      <td>2024-07-29</td>\n",
       "      <td>2.578453</td>\n",
       "      <td>2.81</td>\n",
       "    </tr>\n",
       "    <tr>\n",
       "      <th>TSH_stage</th>\n",
       "      <td>2024-08-24</td>\n",
       "      <td>2024-07-29</td>\n",
       "      <td>2.497169</td>\n",
       "      <td>2.80</td>\n",
       "    </tr>\n",
       "    <tr>\n",
       "      <th>TSH_stage</th>\n",
       "      <td>2024-08-25</td>\n",
       "      <td>2024-07-29</td>\n",
       "      <td>2.608567</td>\n",
       "      <td>2.80</td>\n",
       "    </tr>\n",
       "    <tr>\n",
       "      <th>TSH_stage</th>\n",
       "      <td>2024-08-26</td>\n",
       "      <td>2024-07-29</td>\n",
       "      <td>2.579090</td>\n",
       "      <td>2.80</td>\n",
       "    </tr>\n",
       "  </tbody>\n",
       "</table>\n",
       "<p>190624 rows × 4 columns</p>\n",
       "</div>"
      ],
      "text/plain": [
       "                         ds     cutoff   DLinear     y\n",
       "unique_id                                             \n",
       "G620_water_level 2024-01-29 2024-01-28  6.009546  5.99\n",
       "G620_water_level 2024-01-30 2024-01-28  6.028564  5.97\n",
       "G620_water_level 2024-01-31 2024-01-28  6.075247  5.96\n",
       "G620_water_level 2024-02-01 2024-01-28  6.005193  5.95\n",
       "G620_water_level 2024-02-02 2024-01-28  6.095683  5.94\n",
       "...                     ...        ...       ...   ...\n",
       "TSH_stage        2024-08-22 2024-07-29  2.667193  2.78\n",
       "TSH_stage        2024-08-23 2024-07-29  2.578453  2.81\n",
       "TSH_stage        2024-08-24 2024-07-29  2.497169  2.80\n",
       "TSH_stage        2024-08-25 2024-07-29  2.608567  2.80\n",
       "TSH_stage        2024-08-26 2024-07-29  2.579090  2.80\n",
       "\n",
       "[190624 rows x 4 columns]"
      ]
     },
     "execution_count": 20,
     "metadata": {},
     "output_type": "execute_result"
    }
   ],
   "source": [
    "%%time\n",
    "Y_hat_df_Dlinear = nf_Dlinear.cross_validation(df=Y_df,\n",
    "                               val_size=val_size,\n",
    "                               test_size=test_size,\n",
    "                               n_windows=None)\n",
    "Y_hat_df_Dlinear"
   ]
  },
  {
   "cell_type": "code",
   "execution_count": 21,
   "id": "dc95f5ba",
   "metadata": {},
   "outputs": [
    {
     "name": "stdout",
     "output_type": "stream",
     "text": [
      "G620_water_level    5152\n",
      "S199                5152\n",
      "S332B               5152\n",
      "S332BN              5152\n",
      "S332C               5152\n",
      "S332D               5152\n",
      "S332DX1             5152\n",
      "S333                5152\n",
      "S333N               5152\n",
      "S333_T              5152\n",
      "S334                5152\n",
      "S334_H              5152\n",
      "S343A               5152\n",
      "S343B               5152\n",
      "S344                5152\n",
      "S356                5152\n",
      "SWEVER4_stage       5152\n",
      "S200                5152\n",
      "S18C_S              5152\n",
      "NESRS1              5152\n",
      "S12D_T              5152\n",
      "NESRS2              5152\n",
      "NP205_PET           5152\n",
      "NP205_rain          5152\n",
      "NP205_stage         5152\n",
      "NP62_stage          5152\n",
      "P33_PET             5152\n",
      "P33_rain            5152\n",
      "P33_stage           5152\n",
      "S12A                5152\n",
      "S12A_T              5152\n",
      "S12B                5152\n",
      "S12B_T              5152\n",
      "S12C                5152\n",
      "S12C_T              5152\n",
      "S12D                5152\n",
      "TSH_stage           5152\n",
      "Name: unique_id, dtype: int64\n"
     ]
    }
   ],
   "source": [
    "Y_hat_df_Dlinear = Y_hat_df_Dlinear.reset_index()\n",
    "#rechecking Unique IDs\n",
    "unique_id_counts_Dlinear= Y_hat_df_Dlinear['unique_id'].value_counts()\n",
    "print(unique_id_counts_Dlinear)"
   ]
  },
  {
   "cell_type": "code",
   "execution_count": 22,
   "id": "9af5c7ff",
   "metadata": {},
   "outputs": [
    {
     "data": {
      "text/html": [
       "<div>\n",
       "<style scoped>\n",
       "    .dataframe tbody tr th:only-of-type {\n",
       "        vertical-align: middle;\n",
       "    }\n",
       "\n",
       "    .dataframe tbody tr th {\n",
       "        vertical-align: top;\n",
       "    }\n",
       "\n",
       "    .dataframe thead th {\n",
       "        text-align: right;\n",
       "    }\n",
       "</style>\n",
       "<table border=\"1\" class=\"dataframe\">\n",
       "  <thead>\n",
       "    <tr style=\"text-align: right;\">\n",
       "      <th></th>\n",
       "      <th>unique_id</th>\n",
       "      <th>ds</th>\n",
       "      <th>DLinear</th>\n",
       "      <th>y</th>\n",
       "    </tr>\n",
       "  </thead>\n",
       "  <tbody>\n",
       "    <tr>\n",
       "      <th>0</th>\n",
       "      <td>G620_water_level</td>\n",
       "      <td>2024-01-29</td>\n",
       "      <td>6.009546</td>\n",
       "      <td>5.99</td>\n",
       "    </tr>\n",
       "    <tr>\n",
       "      <th>1</th>\n",
       "      <td>G620_water_level</td>\n",
       "      <td>2024-01-30</td>\n",
       "      <td>6.016413</td>\n",
       "      <td>5.97</td>\n",
       "    </tr>\n",
       "    <tr>\n",
       "      <th>2</th>\n",
       "      <td>G620_water_level</td>\n",
       "      <td>2024-01-31</td>\n",
       "      <td>6.026046</td>\n",
       "      <td>5.96</td>\n",
       "    </tr>\n",
       "    <tr>\n",
       "      <th>3</th>\n",
       "      <td>G620_water_level</td>\n",
       "      <td>2024-02-01</td>\n",
       "      <td>6.014894</td>\n",
       "      <td>5.95</td>\n",
       "    </tr>\n",
       "    <tr>\n",
       "      <th>4</th>\n",
       "      <td>G620_water_level</td>\n",
       "      <td>2024-02-02</td>\n",
       "      <td>6.016383</td>\n",
       "      <td>5.94</td>\n",
       "    </tr>\n",
       "    <tr>\n",
       "      <th>...</th>\n",
       "      <td>...</td>\n",
       "      <td>...</td>\n",
       "      <td>...</td>\n",
       "      <td>...</td>\n",
       "    </tr>\n",
       "    <tr>\n",
       "      <th>7802</th>\n",
       "      <td>TSH_stage</td>\n",
       "      <td>2024-08-22</td>\n",
       "      <td>2.601946</td>\n",
       "      <td>2.78</td>\n",
       "    </tr>\n",
       "    <tr>\n",
       "      <th>7803</th>\n",
       "      <td>TSH_stage</td>\n",
       "      <td>2024-08-23</td>\n",
       "      <td>2.573833</td>\n",
       "      <td>2.81</td>\n",
       "    </tr>\n",
       "    <tr>\n",
       "      <th>7804</th>\n",
       "      <td>TSH_stage</td>\n",
       "      <td>2024-08-24</td>\n",
       "      <td>2.560354</td>\n",
       "      <td>2.80</td>\n",
       "    </tr>\n",
       "    <tr>\n",
       "      <th>7805</th>\n",
       "      <td>TSH_stage</td>\n",
       "      <td>2024-08-25</td>\n",
       "      <td>2.580595</td>\n",
       "      <td>2.80</td>\n",
       "    </tr>\n",
       "    <tr>\n",
       "      <th>7806</th>\n",
       "      <td>TSH_stage</td>\n",
       "      <td>2024-08-26</td>\n",
       "      <td>2.579090</td>\n",
       "      <td>2.80</td>\n",
       "    </tr>\n",
       "  </tbody>\n",
       "</table>\n",
       "<p>7807 rows × 4 columns</p>\n",
       "</div>"
      ],
      "text/plain": [
       "             unique_id         ds   DLinear     y\n",
       "0     G620_water_level 2024-01-29  6.009546  5.99\n",
       "1     G620_water_level 2024-01-30  6.016413  5.97\n",
       "2     G620_water_level 2024-01-31  6.026046  5.96\n",
       "3     G620_water_level 2024-02-01  6.014894  5.95\n",
       "4     G620_water_level 2024-02-02  6.016383  5.94\n",
       "...                ...        ...       ...   ...\n",
       "7802         TSH_stage 2024-08-22  2.601946  2.78\n",
       "7803         TSH_stage 2024-08-23  2.573833  2.81\n",
       "7804         TSH_stage 2024-08-24  2.560354  2.80\n",
       "7805         TSH_stage 2024-08-25  2.580595  2.80\n",
       "7806         TSH_stage 2024-08-26  2.579090  2.80\n",
       "\n",
       "[7807 rows x 4 columns]"
      ]
     },
     "execution_count": 22,
     "metadata": {},
     "output_type": "execute_result"
    }
   ],
   "source": [
    "Y_hat_df_agg_Dlinear = Y_hat_df_Dlinear.groupby(['unique_id', 'ds']).agg({'DLinear': 'mean', 'y': 'mean'}).reset_index()\n",
    "Y_hat_df_agg_Dlinear"
   ]
  },
  {
   "cell_type": "code",
   "execution_count": 23,
   "id": "6c9eaf9a",
   "metadata": {},
   "outputs": [
    {
     "name": "stderr",
     "output_type": "stream",
     "text": [
      "Trainer already configured with model summary callbacks: [<class 'pytorch_lightning.callbacks.model_summary.ModelSummary'>]. Skipping setting a default `ModelSummary` callback.\n",
      "GPU available: False, used: False\n",
      "TPU available: False, using: 0 TPU cores\n",
      "HPU available: False, using: 0 HPUs\n"
     ]
    },
    {
     "data": {
      "application/vnd.jupyter.widget-view+json": {
       "model_id": "f3fcf7a7f102429e824b96bbb5c47984",
       "version_major": 2,
       "version_minor": 0
      },
      "text/plain": [
       "Predicting: |                                                                                    | 0/? [00:00<…"
      ]
     },
     "metadata": {},
     "output_type": "display_data"
    },
    {
     "name": "stdout",
     "output_type": "stream",
     "text": [
      "CPU times: total: 297 ms\n",
      "Wall time: 399 ms\n"
     ]
    },
    {
     "name": "stderr",
     "output_type": "stream",
     "text": [
      "C:\\Users\\rahuu\\anaconda3\\lib\\site-packages\\neuralforecast\\core.py:214: FutureWarning: In a future version the predictions will have the id as a column. You can set the `NIXTLA_ID_AS_COL` environment variable to adopt the new behavior and to suppress this warning.\n",
      "  warnings.warn(\n"
     ]
    },
    {
     "data": {
      "text/html": [
       "<div>\n",
       "<style scoped>\n",
       "    .dataframe tbody tr th:only-of-type {\n",
       "        vertical-align: middle;\n",
       "    }\n",
       "\n",
       "    .dataframe tbody tr th {\n",
       "        vertical-align: top;\n",
       "    }\n",
       "\n",
       "    .dataframe thead th {\n",
       "        text-align: right;\n",
       "    }\n",
       "</style>\n",
       "<table border=\"1\" class=\"dataframe\">\n",
       "  <thead>\n",
       "    <tr style=\"text-align: right;\">\n",
       "      <th></th>\n",
       "      <th>ds</th>\n",
       "      <th>DLinear</th>\n",
       "    </tr>\n",
       "    <tr>\n",
       "      <th>unique_id</th>\n",
       "      <th></th>\n",
       "      <th></th>\n",
       "    </tr>\n",
       "  </thead>\n",
       "  <tbody>\n",
       "    <tr>\n",
       "      <th>G620_water_level</th>\n",
       "      <td>2024-08-27</td>\n",
       "      <td>6.189280</td>\n",
       "    </tr>\n",
       "    <tr>\n",
       "      <th>G620_water_level</th>\n",
       "      <td>2024-08-28</td>\n",
       "      <td>6.204041</td>\n",
       "    </tr>\n",
       "    <tr>\n",
       "      <th>G620_water_level</th>\n",
       "      <td>2024-08-29</td>\n",
       "      <td>6.227364</td>\n",
       "    </tr>\n",
       "    <tr>\n",
       "      <th>G620_water_level</th>\n",
       "      <td>2024-08-30</td>\n",
       "      <td>6.196549</td>\n",
       "    </tr>\n",
       "    <tr>\n",
       "      <th>G620_water_level</th>\n",
       "      <td>2024-08-31</td>\n",
       "      <td>6.263871</td>\n",
       "    </tr>\n",
       "    <tr>\n",
       "      <th>...</th>\n",
       "      <td>...</td>\n",
       "      <td>...</td>\n",
       "    </tr>\n",
       "    <tr>\n",
       "      <th>TSH_stage</th>\n",
       "      <td>2024-09-19</td>\n",
       "      <td>2.754558</td>\n",
       "    </tr>\n",
       "    <tr>\n",
       "      <th>TSH_stage</th>\n",
       "      <td>2024-09-20</td>\n",
       "      <td>2.671059</td>\n",
       "    </tr>\n",
       "    <tr>\n",
       "      <th>TSH_stage</th>\n",
       "      <td>2024-09-21</td>\n",
       "      <td>2.560032</td>\n",
       "    </tr>\n",
       "    <tr>\n",
       "      <th>TSH_stage</th>\n",
       "      <td>2024-09-22</td>\n",
       "      <td>2.690864</td>\n",
       "    </tr>\n",
       "    <tr>\n",
       "      <th>TSH_stage</th>\n",
       "      <td>2024-09-23</td>\n",
       "      <td>2.607584</td>\n",
       "    </tr>\n",
       "  </tbody>\n",
       "</table>\n",
       "<p>1036 rows × 2 columns</p>\n",
       "</div>"
      ],
      "text/plain": [
       "                         ds   DLinear\n",
       "unique_id                            \n",
       "G620_water_level 2024-08-27  6.189280\n",
       "G620_water_level 2024-08-28  6.204041\n",
       "G620_water_level 2024-08-29  6.227364\n",
       "G620_water_level 2024-08-30  6.196549\n",
       "G620_water_level 2024-08-31  6.263871\n",
       "...                     ...       ...\n",
       "TSH_stage        2024-09-19  2.754558\n",
       "TSH_stage        2024-09-20  2.671059\n",
       "TSH_stage        2024-09-21  2.560032\n",
       "TSH_stage        2024-09-22  2.690864\n",
       "TSH_stage        2024-09-23  2.607584\n",
       "\n",
       "[1036 rows x 2 columns]"
      ]
     },
     "execution_count": 23,
     "metadata": {},
     "output_type": "execute_result"
    }
   ],
   "source": [
    "%%time\n",
    "forecasts_Dlinear = nf_Dlinear.predict(df=Y_df, test_size=test_size) # Reset the index of Y_hat_df to convert 'unique_id' and 'ds' into columnsforecasts_Dlinear = forecasts_Dlinear.reset_index()\n",
    "forecasts_Dlinear"
   ]
  },
  {
   "cell_type": "code",
   "execution_count": null,
   "id": "738f16c4",
   "metadata": {},
   "outputs": [],
   "source": [
    "nf_Dlinear.save(\"Output/Dlinear-trained-model\")               \n",
    "Y_hat_df_agg_Dlinear.to_csv(\"Output/Dlinear_results.csv\", index=True)                   \n",
    "forecasts_Dlinear.to_csv(\"Output/Dlinear_predictions.csv\", index=True)"
   ]
  },
  {
   "cell_type": "code",
   "execution_count": 25,
   "id": "8cf1656b",
   "metadata": {},
   "outputs": [
    {
     "name": "stdout",
     "output_type": "stream",
     "text": [
      "======== NP205_stage ========\n",
      "MAE = 0.474\n",
      "RMSE = 0.598\n",
      "\n",
      "======== P33_stage ========\n",
      "MAE = 0.360\n",
      "RMSE = 0.444\n",
      "\n",
      "======== G620_water_level ========\n",
      "MAE = 0.278\n",
      "RMSE = 0.367\n",
      "\n",
      "======== NESRS1 ========\n",
      "MAE = 0.425\n",
      "RMSE = 0.500\n",
      "\n",
      "======== NESRS2 ========\n",
      "MAE = 0.424\n",
      "RMSE = 0.498\n",
      "\n"
     ]
    }
   ],
   "source": [
    "import numpy as np\n",
    "from sklearn.metrics import mean_absolute_error as mae, mean_squared_error as mse\n",
    "\n",
    "# List of stages to evaluate\n",
    "stages = ['NP205_stage', 'P33_stage', 'G620_water_level', 'NESRS1', 'NESRS2']\n",
    "\n",
    "for stage in stages:\n",
    "    # Filter the data for the specific stage\n",
    "    stage_data = Y_hat_df_agg_Dlinear[Y_hat_df_agg_Dlinear['unique_id'] == stage]\n",
    "    print(f\"======== {stage} ========\")\n",
    "    \n",
    "    # Extract the actual and predicted values\n",
    "    true = stage_data['y'].values\n",
    "    pred = stage_data['DLinear'].values\n",
    "    \n",
    "    # Calculate MAE and RMSE\n",
    "    mae_value = mae(true, pred)\n",
    "    rmse_value = np.sqrt(mse(true, pred))\n",
    "    \n",
    "    # Print the results\n",
    "    print(f'MAE = {mae_value:.3f}')\n",
    "    print(f'RMSE = {rmse_value:.3f}\\n')"
   ]
  },
  {
   "cell_type": "code",
   "execution_count": 26,
   "id": "67013fa1",
   "metadata": {},
   "outputs": [
    {
     "name": "stdout",
     "output_type": "stream",
     "text": [
      "Overall MAE for DLinear(only for selected stages):\n",
      "DLinear: MAE = 0.392\n",
      "\n",
      "Overall RMSE for DLinear (only for selected stages):\n",
      "DLinear: RMSE = 0.482\n"
     ]
    }
   ],
   "source": [
    "import numpy as np\n",
    "from sklearn.metrics import mean_absolute_error as mae, mean_squared_error as mse\n",
    "\n",
    "# List of stages to evaluate\n",
    "stages = ['NP205_stage', 'P33_stage', 'G620_water_level', 'NESRS1', 'NESRS2']\n",
    "\n",
    "# List of models (these correspond to column names in the DataFrame)\n",
    "models = ['DLinear']\n",
    "\n",
    "# Dictionary to store overall MAE and RMSE for each model\n",
    "overall_mae = {model: [] for model in models}\n",
    "overall_rmse = {model: [] for model in models}\n",
    "\n",
    "# Iterate through each stage\n",
    "for stage in stages:\n",
    "    # Filter the data for the specific stage\n",
    "    stage_data = Y_hat_df_agg_Dlinear[Y_hat_df_agg_Dlinear['unique_id'] == stage]\n",
    "    \n",
    "    # Check if data for the stage exists\n",
    "    if stage_data.empty:\n",
    "        print(f\"No data found for {stage}. Skipping...\\n\")\n",
    "        continue\n",
    "    \n",
    "    # Extract the actual values\n",
    "    true = stage_data['y'].values\n",
    "    \n",
    "    # Iterate through each model\n",
    "    for model in models:\n",
    "        # Extract the predicted values for the model\n",
    "        pred = stage_data[model].values\n",
    "        \n",
    "        # Calculate MAE and RMSE, then append to the corresponding model's list\n",
    "        model_mae = mae(true, pred)\n",
    "        model_rmse = np.sqrt(mse(true, pred))\n",
    "        \n",
    "        overall_mae[model].append(model_mae)\n",
    "        overall_rmse[model].append(model_rmse)\n",
    "\n",
    "# Calculate the overall MAE and RMSE (mean of MAEs and RMSEs across the 5 stations) for each model\n",
    "final_overall_mae = {model: np.mean(maes) for model, maes in overall_mae.items()}\n",
    "final_overall_rmse = {model: np.mean(rmses) for model, rmses in overall_rmse.items()}\n",
    "\n",
    "# Print the overall MAE and RMSE for each model\n",
    "print(\"Overall MAE for DLinear(only for selected stages):\")\n",
    "for model, mae_value in final_overall_mae.items():\n",
    "    print(f\"{model}: MAE = {mae_value:.3f}\")\n",
    "\n",
    "print(\"\\nOverall RMSE for DLinear (only for selected stages):\")\n",
    "for model, rmse_value in final_overall_rmse.items():\n",
    "    print(f\"{model}: RMSE = {rmse_value:.3f}\")\n"
   ]
  },
  {
   "cell_type": "code",
   "execution_count": 27,
   "id": "9ece77a6",
   "metadata": {},
   "outputs": [],
   "source": [
    "########## KAN #############\n",
    "from neuralforecast.models import KAN"
   ]
  },
  {
   "cell_type": "code",
   "execution_count": 28,
   "id": "e35efd9c",
   "metadata": {},
   "outputs": [
    {
     "name": "stderr",
     "output_type": "stream",
     "text": [
      "Seed set to 1\n"
     ]
    }
   ],
   "source": [
    "horizon=28\n",
    "#learning rate = 0.001 default\n",
    "#optimizer is adam by default\n",
    "KAN_model = KAN(h=horizon,input_size=100,max_steps=1000,val_check_steps=100,early_stop_patience_steps=50)"
   ]
  },
  {
   "cell_type": "code",
   "execution_count": 29,
   "id": "4946f27e",
   "metadata": {},
   "outputs": [
    {
     "name": "stderr",
     "output_type": "stream",
     "text": [
      "GPU available: False, used: False\n",
      "TPU available: False, using: 0 TPU cores\n",
      "HPU available: False, using: 0 HPUs\n",
      "\n",
      "  | Name         | Type          | Params | Mode \n",
      "-------------------------------------------------------\n",
      "0 | loss         | MAE           | 0      | train\n",
      "1 | padder_train | ConstantPad1d | 0      | train\n",
      "2 | scaler       | TemporalNorm  | 0      | train\n",
      "3 | layers       | ModuleList    | 655 K  | train\n",
      "-------------------------------------------------------\n",
      "655 K     Trainable params\n",
      "0         Non-trainable params\n",
      "655 K     Total params\n",
      "2.621     Total estimated model params size (MB)\n",
      "8         Modules in train mode\n",
      "0         Modules in eval mode\n"
     ]
    },
    {
     "data": {
      "application/vnd.jupyter.widget-view+json": {
       "model_id": "",
       "version_major": 2,
       "version_minor": 0
      },
      "text/plain": [
       "Sanity Checking: |                                                                               | 0/? [00:00<…"
      ]
     },
     "metadata": {},
     "output_type": "display_data"
    },
    {
     "data": {
      "application/vnd.jupyter.widget-view+json": {
       "model_id": "bad08ad604a24c469c9af6b964fb69af",
       "version_major": 2,
       "version_minor": 0
      },
      "text/plain": [
       "Training: |                                                                                      | 0/? [00:00<…"
      ]
     },
     "metadata": {},
     "output_type": "display_data"
    },
    {
     "data": {
      "application/vnd.jupyter.widget-view+json": {
       "model_id": "",
       "version_major": 2,
       "version_minor": 0
      },
      "text/plain": [
       "Validation: |                                                                                    | 0/? [00:00<…"
      ]
     },
     "metadata": {},
     "output_type": "display_data"
    },
    {
     "data": {
      "application/vnd.jupyter.widget-view+json": {
       "model_id": "",
       "version_major": 2,
       "version_minor": 0
      },
      "text/plain": [
       "Validation: |                                                                                    | 0/? [00:00<…"
      ]
     },
     "metadata": {},
     "output_type": "display_data"
    },
    {
     "data": {
      "application/vnd.jupyter.widget-view+json": {
       "model_id": "",
       "version_major": 2,
       "version_minor": 0
      },
      "text/plain": [
       "Validation: |                                                                                    | 0/? [00:00<…"
      ]
     },
     "metadata": {},
     "output_type": "display_data"
    },
    {
     "data": {
      "application/vnd.jupyter.widget-view+json": {
       "model_id": "",
       "version_major": 2,
       "version_minor": 0
      },
      "text/plain": [
       "Validation: |                                                                                    | 0/? [00:00<…"
      ]
     },
     "metadata": {},
     "output_type": "display_data"
    },
    {
     "data": {
      "application/vnd.jupyter.widget-view+json": {
       "model_id": "",
       "version_major": 2,
       "version_minor": 0
      },
      "text/plain": [
       "Validation: |                                                                                    | 0/? [00:00<…"
      ]
     },
     "metadata": {},
     "output_type": "display_data"
    },
    {
     "data": {
      "application/vnd.jupyter.widget-view+json": {
       "model_id": "",
       "version_major": 2,
       "version_minor": 0
      },
      "text/plain": [
       "Validation: |                                                                                    | 0/? [00:00<…"
      ]
     },
     "metadata": {},
     "output_type": "display_data"
    },
    {
     "data": {
      "application/vnd.jupyter.widget-view+json": {
       "model_id": "",
       "version_major": 2,
       "version_minor": 0
      },
      "text/plain": [
       "Validation: |                                                                                    | 0/? [00:00<…"
      ]
     },
     "metadata": {},
     "output_type": "display_data"
    },
    {
     "data": {
      "application/vnd.jupyter.widget-view+json": {
       "model_id": "",
       "version_major": 2,
       "version_minor": 0
      },
      "text/plain": [
       "Validation: |                                                                                    | 0/? [00:00<…"
      ]
     },
     "metadata": {},
     "output_type": "display_data"
    },
    {
     "data": {
      "application/vnd.jupyter.widget-view+json": {
       "model_id": "",
       "version_major": 2,
       "version_minor": 0
      },
      "text/plain": [
       "Validation: |                                                                                    | 0/? [00:00<…"
      ]
     },
     "metadata": {},
     "output_type": "display_data"
    },
    {
     "data": {
      "application/vnd.jupyter.widget-view+json": {
       "model_id": "",
       "version_major": 2,
       "version_minor": 0
      },
      "text/plain": [
       "Validation: |                                                                                    | 0/? [00:00<…"
      ]
     },
     "metadata": {},
     "output_type": "display_data"
    },
    {
     "name": "stderr",
     "output_type": "stream",
     "text": [
      "`Trainer.fit` stopped: `max_steps=1000` reached.\n"
     ]
    },
    {
     "name": "stdout",
     "output_type": "stream",
     "text": [
      "CPU times: total: 36min 31s\n",
      "Wall time: 17min 19s\n"
     ]
    }
   ],
   "source": [
    "%%time\n",
    "# Forecasting\n",
    "nf_KAN = NeuralForecast(models=[KAN_model], freq='D')  \n",
    "nf_KAN.fit(df=Y_train_df, val_size=val_size)"
   ]
  },
  {
   "cell_type": "code",
   "execution_count": 36,
   "id": "e0f61686",
   "metadata": {},
   "outputs": [
    {
     "name": "stderr",
     "output_type": "stream",
     "text": [
      "Trainer already configured with model summary callbacks: [<class 'pytorch_lightning.callbacks.model_summary.ModelSummary'>]. Skipping setting a default `ModelSummary` callback.\n",
      "GPU available: False, used: False\n",
      "TPU available: False, using: 0 TPU cores\n",
      "HPU available: False, using: 0 HPUs\n",
      "\n",
      "  | Name         | Type          | Params | Mode \n",
      "-------------------------------------------------------\n",
      "0 | loss         | MAE           | 0      | train\n",
      "1 | padder_train | ConstantPad1d | 0      | train\n",
      "2 | scaler       | TemporalNorm  | 0      | train\n",
      "3 | layers       | ModuleList    | 655 K  | train\n",
      "-------------------------------------------------------\n",
      "655 K     Trainable params\n",
      "0         Non-trainable params\n",
      "655 K     Total params\n",
      "2.621     Total estimated model params size (MB)\n",
      "8         Modules in train mode\n",
      "0         Modules in eval mode\n"
     ]
    },
    {
     "data": {
      "application/vnd.jupyter.widget-view+json": {
       "model_id": "",
       "version_major": 2,
       "version_minor": 0
      },
      "text/plain": [
       "Sanity Checking: |                                                                               | 0/? [00:00<…"
      ]
     },
     "metadata": {},
     "output_type": "display_data"
    },
    {
     "data": {
      "application/vnd.jupyter.widget-view+json": {
       "model_id": "8b72c8fff5dd48b2894befd32bda76de",
       "version_major": 2,
       "version_minor": 0
      },
      "text/plain": [
       "Training: |                                                                                      | 0/? [00:00<…"
      ]
     },
     "metadata": {},
     "output_type": "display_data"
    },
    {
     "data": {
      "application/vnd.jupyter.widget-view+json": {
       "model_id": "",
       "version_major": 2,
       "version_minor": 0
      },
      "text/plain": [
       "Validation: |                                                                                    | 0/? [00:00<…"
      ]
     },
     "metadata": {},
     "output_type": "display_data"
    },
    {
     "data": {
      "application/vnd.jupyter.widget-view+json": {
       "model_id": "",
       "version_major": 2,
       "version_minor": 0
      },
      "text/plain": [
       "Validation: |                                                                                    | 0/? [00:00<…"
      ]
     },
     "metadata": {},
     "output_type": "display_data"
    },
    {
     "data": {
      "application/vnd.jupyter.widget-view+json": {
       "model_id": "",
       "version_major": 2,
       "version_minor": 0
      },
      "text/plain": [
       "Validation: |                                                                                    | 0/? [00:00<…"
      ]
     },
     "metadata": {},
     "output_type": "display_data"
    },
    {
     "data": {
      "application/vnd.jupyter.widget-view+json": {
       "model_id": "",
       "version_major": 2,
       "version_minor": 0
      },
      "text/plain": [
       "Validation: |                                                                                    | 0/? [00:00<…"
      ]
     },
     "metadata": {},
     "output_type": "display_data"
    },
    {
     "data": {
      "application/vnd.jupyter.widget-view+json": {
       "model_id": "",
       "version_major": 2,
       "version_minor": 0
      },
      "text/plain": [
       "Validation: |                                                                                    | 0/? [00:00<…"
      ]
     },
     "metadata": {},
     "output_type": "display_data"
    },
    {
     "data": {
      "application/vnd.jupyter.widget-view+json": {
       "model_id": "",
       "version_major": 2,
       "version_minor": 0
      },
      "text/plain": [
       "Validation: |                                                                                    | 0/? [00:00<…"
      ]
     },
     "metadata": {},
     "output_type": "display_data"
    },
    {
     "data": {
      "application/vnd.jupyter.widget-view+json": {
       "model_id": "",
       "version_major": 2,
       "version_minor": 0
      },
      "text/plain": [
       "Validation: |                                                                                    | 0/? [00:00<…"
      ]
     },
     "metadata": {},
     "output_type": "display_data"
    },
    {
     "data": {
      "application/vnd.jupyter.widget-view+json": {
       "model_id": "",
       "version_major": 2,
       "version_minor": 0
      },
      "text/plain": [
       "Validation: |                                                                                    | 0/? [00:00<…"
      ]
     },
     "metadata": {},
     "output_type": "display_data"
    },
    {
     "data": {
      "application/vnd.jupyter.widget-view+json": {
       "model_id": "",
       "version_major": 2,
       "version_minor": 0
      },
      "text/plain": [
       "Validation: |                                                                                    | 0/? [00:00<…"
      ]
     },
     "metadata": {},
     "output_type": "display_data"
    },
    {
     "data": {
      "application/vnd.jupyter.widget-view+json": {
       "model_id": "",
       "version_major": 2,
       "version_minor": 0
      },
      "text/plain": [
       "Validation: |                                                                                    | 0/? [00:00<…"
      ]
     },
     "metadata": {},
     "output_type": "display_data"
    },
    {
     "name": "stderr",
     "output_type": "stream",
     "text": [
      "`Trainer.fit` stopped: `max_steps=1000` reached.\n",
      "Trainer already configured with model summary callbacks: [<class 'pytorch_lightning.callbacks.model_summary.ModelSummary'>]. Skipping setting a default `ModelSummary` callback.\n",
      "GPU available: False, used: False\n",
      "TPU available: False, using: 0 TPU cores\n",
      "HPU available: False, using: 0 HPUs\n"
     ]
    },
    {
     "data": {
      "application/vnd.jupyter.widget-view+json": {
       "model_id": "aac5408b77824d12abf824829f595027",
       "version_major": 2,
       "version_minor": 0
      },
      "text/plain": [
       "Predicting: |                                                                                    | 0/? [00:00<…"
      ]
     },
     "metadata": {},
     "output_type": "display_data"
    },
    {
     "name": "stdout",
     "output_type": "stream",
     "text": [
      "CPU times: total: 16min 23s\n",
      "Wall time: 7min 41s\n"
     ]
    },
    {
     "name": "stderr",
     "output_type": "stream",
     "text": [
      "C:\\Users\\rahuu\\anaconda3\\lib\\site-packages\\neuralforecast\\core.py:214: FutureWarning: In a future version the predictions will have the id as a column. You can set the `NIXTLA_ID_AS_COL` environment variable to adopt the new behavior and to suppress this warning.\n",
      "  warnings.warn(\n"
     ]
    },
    {
     "data": {
      "text/html": [
       "<div>\n",
       "<style scoped>\n",
       "    .dataframe tbody tr th:only-of-type {\n",
       "        vertical-align: middle;\n",
       "    }\n",
       "\n",
       "    .dataframe tbody tr th {\n",
       "        vertical-align: top;\n",
       "    }\n",
       "\n",
       "    .dataframe thead th {\n",
       "        text-align: right;\n",
       "    }\n",
       "</style>\n",
       "<table border=\"1\" class=\"dataframe\">\n",
       "  <thead>\n",
       "    <tr style=\"text-align: right;\">\n",
       "      <th></th>\n",
       "      <th>ds</th>\n",
       "      <th>cutoff</th>\n",
       "      <th>KAN</th>\n",
       "      <th>y</th>\n",
       "    </tr>\n",
       "    <tr>\n",
       "      <th>unique_id</th>\n",
       "      <th></th>\n",
       "      <th></th>\n",
       "      <th></th>\n",
       "      <th></th>\n",
       "    </tr>\n",
       "  </thead>\n",
       "  <tbody>\n",
       "    <tr>\n",
       "      <th>G620_water_level</th>\n",
       "      <td>2024-01-29</td>\n",
       "      <td>2024-01-28</td>\n",
       "      <td>5.974059</td>\n",
       "      <td>5.99</td>\n",
       "    </tr>\n",
       "    <tr>\n",
       "      <th>G620_water_level</th>\n",
       "      <td>2024-01-30</td>\n",
       "      <td>2024-01-28</td>\n",
       "      <td>5.964621</td>\n",
       "      <td>5.97</td>\n",
       "    </tr>\n",
       "    <tr>\n",
       "      <th>G620_water_level</th>\n",
       "      <td>2024-01-31</td>\n",
       "      <td>2024-01-28</td>\n",
       "      <td>5.999916</td>\n",
       "      <td>5.96</td>\n",
       "    </tr>\n",
       "    <tr>\n",
       "      <th>G620_water_level</th>\n",
       "      <td>2024-02-01</td>\n",
       "      <td>2024-01-28</td>\n",
       "      <td>5.961655</td>\n",
       "      <td>5.95</td>\n",
       "    </tr>\n",
       "    <tr>\n",
       "      <th>G620_water_level</th>\n",
       "      <td>2024-02-02</td>\n",
       "      <td>2024-01-28</td>\n",
       "      <td>6.000655</td>\n",
       "      <td>5.94</td>\n",
       "    </tr>\n",
       "    <tr>\n",
       "      <th>...</th>\n",
       "      <td>...</td>\n",
       "      <td>...</td>\n",
       "      <td>...</td>\n",
       "      <td>...</td>\n",
       "    </tr>\n",
       "    <tr>\n",
       "      <th>TSH_stage</th>\n",
       "      <td>2024-08-22</td>\n",
       "      <td>2024-07-29</td>\n",
       "      <td>2.422094</td>\n",
       "      <td>2.78</td>\n",
       "    </tr>\n",
       "    <tr>\n",
       "      <th>TSH_stage</th>\n",
       "      <td>2024-08-23</td>\n",
       "      <td>2024-07-29</td>\n",
       "      <td>2.343352</td>\n",
       "      <td>2.81</td>\n",
       "    </tr>\n",
       "    <tr>\n",
       "      <th>TSH_stage</th>\n",
       "      <td>2024-08-24</td>\n",
       "      <td>2024-07-29</td>\n",
       "      <td>2.432114</td>\n",
       "      <td>2.80</td>\n",
       "    </tr>\n",
       "    <tr>\n",
       "      <th>TSH_stage</th>\n",
       "      <td>2024-08-25</td>\n",
       "      <td>2024-07-29</td>\n",
       "      <td>2.422734</td>\n",
       "      <td>2.80</td>\n",
       "    </tr>\n",
       "    <tr>\n",
       "      <th>TSH_stage</th>\n",
       "      <td>2024-08-26</td>\n",
       "      <td>2024-07-29</td>\n",
       "      <td>2.361202</td>\n",
       "      <td>2.80</td>\n",
       "    </tr>\n",
       "  </tbody>\n",
       "</table>\n",
       "<p>190624 rows × 4 columns</p>\n",
       "</div>"
      ],
      "text/plain": [
       "                         ds     cutoff       KAN     y\n",
       "unique_id                                             \n",
       "G620_water_level 2024-01-29 2024-01-28  5.974059  5.99\n",
       "G620_water_level 2024-01-30 2024-01-28  5.964621  5.97\n",
       "G620_water_level 2024-01-31 2024-01-28  5.999916  5.96\n",
       "G620_water_level 2024-02-01 2024-01-28  5.961655  5.95\n",
       "G620_water_level 2024-02-02 2024-01-28  6.000655  5.94\n",
       "...                     ...        ...       ...   ...\n",
       "TSH_stage        2024-08-22 2024-07-29  2.422094  2.78\n",
       "TSH_stage        2024-08-23 2024-07-29  2.343352  2.81\n",
       "TSH_stage        2024-08-24 2024-07-29  2.432114  2.80\n",
       "TSH_stage        2024-08-25 2024-07-29  2.422734  2.80\n",
       "TSH_stage        2024-08-26 2024-07-29  2.361202  2.80\n",
       "\n",
       "[190624 rows x 4 columns]"
      ]
     },
     "execution_count": 36,
     "metadata": {},
     "output_type": "execute_result"
    }
   ],
   "source": [
    "%%time\n",
    "Y_hat_df_KAN = nf_KAN.cross_validation(df=Y_df,\n",
    "                               val_size=val_size,\n",
    "                               test_size=test_size,\n",
    "                               n_windows=None)\n",
    "Y_hat_df_KAN"
   ]
  },
  {
   "cell_type": "code",
   "execution_count": 37,
   "id": "2585f638",
   "metadata": {},
   "outputs": [
    {
     "name": "stdout",
     "output_type": "stream",
     "text": [
      "G620_water_level    5152\n",
      "S199                5152\n",
      "S332B               5152\n",
      "S332BN              5152\n",
      "S332C               5152\n",
      "S332D               5152\n",
      "S332DX1             5152\n",
      "S333                5152\n",
      "S333N               5152\n",
      "S333_T              5152\n",
      "S334                5152\n",
      "S334_H              5152\n",
      "S343A               5152\n",
      "S343B               5152\n",
      "S344                5152\n",
      "S356                5152\n",
      "SWEVER4_stage       5152\n",
      "S200                5152\n",
      "S18C_S              5152\n",
      "NESRS1              5152\n",
      "S12D_T              5152\n",
      "NESRS2              5152\n",
      "NP205_PET           5152\n",
      "NP205_rain          5152\n",
      "NP205_stage         5152\n",
      "NP62_stage          5152\n",
      "P33_PET             5152\n",
      "P33_rain            5152\n",
      "P33_stage           5152\n",
      "S12A                5152\n",
      "S12A_T              5152\n",
      "S12B                5152\n",
      "S12B_T              5152\n",
      "S12C                5152\n",
      "S12C_T              5152\n",
      "S12D                5152\n",
      "TSH_stage           5152\n",
      "Name: unique_id, dtype: int64\n"
     ]
    }
   ],
   "source": [
    "Y_hat_df_KAN = Y_hat_df_KAN.reset_index()\n",
    "#rechecking Unique IDs\n",
    "unique_id_counts_KAN = Y_hat_df_KAN['unique_id'].value_counts()\n",
    "print(unique_id_counts_KAN)"
   ]
  },
  {
   "cell_type": "code",
   "execution_count": 38,
   "id": "568ec4e3",
   "metadata": {},
   "outputs": [
    {
     "data": {
      "text/html": [
       "<div>\n",
       "<style scoped>\n",
       "    .dataframe tbody tr th:only-of-type {\n",
       "        vertical-align: middle;\n",
       "    }\n",
       "\n",
       "    .dataframe tbody tr th {\n",
       "        vertical-align: top;\n",
       "    }\n",
       "\n",
       "    .dataframe thead th {\n",
       "        text-align: right;\n",
       "    }\n",
       "</style>\n",
       "<table border=\"1\" class=\"dataframe\">\n",
       "  <thead>\n",
       "    <tr style=\"text-align: right;\">\n",
       "      <th></th>\n",
       "      <th>unique_id</th>\n",
       "      <th>ds</th>\n",
       "      <th>KAN</th>\n",
       "      <th>y</th>\n",
       "    </tr>\n",
       "  </thead>\n",
       "  <tbody>\n",
       "    <tr>\n",
       "      <th>0</th>\n",
       "      <td>G620_water_level</td>\n",
       "      <td>2024-01-29</td>\n",
       "      <td>5.974059</td>\n",
       "      <td>5.99</td>\n",
       "    </tr>\n",
       "    <tr>\n",
       "      <th>1</th>\n",
       "      <td>G620_water_level</td>\n",
       "      <td>2024-01-30</td>\n",
       "      <td>5.963257</td>\n",
       "      <td>5.97</td>\n",
       "    </tr>\n",
       "    <tr>\n",
       "      <th>2</th>\n",
       "      <td>G620_water_level</td>\n",
       "      <td>2024-01-31</td>\n",
       "      <td>5.963891</td>\n",
       "      <td>5.96</td>\n",
       "    </tr>\n",
       "    <tr>\n",
       "      <th>3</th>\n",
       "      <td>G620_water_level</td>\n",
       "      <td>2024-02-01</td>\n",
       "      <td>5.950393</td>\n",
       "      <td>5.95</td>\n",
       "    </tr>\n",
       "    <tr>\n",
       "      <th>4</th>\n",
       "      <td>G620_water_level</td>\n",
       "      <td>2024-02-02</td>\n",
       "      <td>5.949824</td>\n",
       "      <td>5.94</td>\n",
       "    </tr>\n",
       "    <tr>\n",
       "      <th>...</th>\n",
       "      <td>...</td>\n",
       "      <td>...</td>\n",
       "      <td>...</td>\n",
       "      <td>...</td>\n",
       "    </tr>\n",
       "    <tr>\n",
       "      <th>7802</th>\n",
       "      <td>TSH_stage</td>\n",
       "      <td>2024-08-22</td>\n",
       "      <td>2.428840</td>\n",
       "      <td>2.78</td>\n",
       "    </tr>\n",
       "    <tr>\n",
       "      <th>7803</th>\n",
       "      <td>TSH_stage</td>\n",
       "      <td>2024-08-23</td>\n",
       "      <td>2.403879</td>\n",
       "      <td>2.81</td>\n",
       "    </tr>\n",
       "    <tr>\n",
       "      <th>7804</th>\n",
       "      <td>TSH_stage</td>\n",
       "      <td>2024-08-24</td>\n",
       "      <td>2.411847</td>\n",
       "      <td>2.80</td>\n",
       "    </tr>\n",
       "    <tr>\n",
       "      <th>7805</th>\n",
       "      <td>TSH_stage</td>\n",
       "      <td>2024-08-25</td>\n",
       "      <td>2.391036</td>\n",
       "      <td>2.80</td>\n",
       "    </tr>\n",
       "    <tr>\n",
       "      <th>7806</th>\n",
       "      <td>TSH_stage</td>\n",
       "      <td>2024-08-26</td>\n",
       "      <td>2.361202</td>\n",
       "      <td>2.80</td>\n",
       "    </tr>\n",
       "  </tbody>\n",
       "</table>\n",
       "<p>7807 rows × 4 columns</p>\n",
       "</div>"
      ],
      "text/plain": [
       "             unique_id         ds       KAN     y\n",
       "0     G620_water_level 2024-01-29  5.974059  5.99\n",
       "1     G620_water_level 2024-01-30  5.963257  5.97\n",
       "2     G620_water_level 2024-01-31  5.963891  5.96\n",
       "3     G620_water_level 2024-02-01  5.950393  5.95\n",
       "4     G620_water_level 2024-02-02  5.949824  5.94\n",
       "...                ...        ...       ...   ...\n",
       "7802         TSH_stage 2024-08-22  2.428840  2.78\n",
       "7803         TSH_stage 2024-08-23  2.403879  2.81\n",
       "7804         TSH_stage 2024-08-24  2.411847  2.80\n",
       "7805         TSH_stage 2024-08-25  2.391036  2.80\n",
       "7806         TSH_stage 2024-08-26  2.361202  2.80\n",
       "\n",
       "[7807 rows x 4 columns]"
      ]
     },
     "execution_count": 38,
     "metadata": {},
     "output_type": "execute_result"
    }
   ],
   "source": [
    "Y_hat_df_agg_KAN = Y_hat_df_KAN.groupby(['unique_id', 'ds']).agg({'KAN': 'mean', 'y': 'mean'}).reset_index()\n",
    "Y_hat_df_agg_KAN"
   ]
  },
  {
   "cell_type": "code",
   "execution_count": 39,
   "id": "aaf59514",
   "metadata": {},
   "outputs": [
    {
     "name": "stderr",
     "output_type": "stream",
     "text": [
      "Trainer already configured with model summary callbacks: [<class 'pytorch_lightning.callbacks.model_summary.ModelSummary'>]. Skipping setting a default `ModelSummary` callback.\n",
      "GPU available: False, used: False\n",
      "TPU available: False, using: 0 TPU cores\n",
      "HPU available: False, using: 0 HPUs\n"
     ]
    },
    {
     "data": {
      "application/vnd.jupyter.widget-view+json": {
       "model_id": "c3f35323063f4d8992dcdfeeee330d5b",
       "version_major": 2,
       "version_minor": 0
      },
      "text/plain": [
       "Predicting: |                                                                                    | 0/? [00:00<…"
      ]
     },
     "metadata": {},
     "output_type": "display_data"
    },
    {
     "name": "stdout",
     "output_type": "stream",
     "text": [
      "CPU times: total: 328 ms\n",
      "Wall time: 385 ms\n"
     ]
    },
    {
     "name": "stderr",
     "output_type": "stream",
     "text": [
      "C:\\Users\\rahuu\\anaconda3\\lib\\site-packages\\neuralforecast\\core.py:214: FutureWarning: In a future version the predictions will have the id as a column. You can set the `NIXTLA_ID_AS_COL` environment variable to adopt the new behavior and to suppress this warning.\n",
      "  warnings.warn(\n"
     ]
    }
   ],
   "source": [
    "%%time\n",
    "forecasts_KAN = nf_KAN.predict(df=Y_df, test_size=test_size) # Reset the index of Y_hat_df to convert 'unique_id' and 'ds' into columns\n"
   ]
  },
  {
   "cell_type": "code",
   "execution_count": 40,
   "id": "d813fc86",
   "metadata": {},
   "outputs": [
    {
     "data": {
      "text/html": [
       "<div>\n",
       "<style scoped>\n",
       "    .dataframe tbody tr th:only-of-type {\n",
       "        vertical-align: middle;\n",
       "    }\n",
       "\n",
       "    .dataframe tbody tr th {\n",
       "        vertical-align: top;\n",
       "    }\n",
       "\n",
       "    .dataframe thead th {\n",
       "        text-align: right;\n",
       "    }\n",
       "</style>\n",
       "<table border=\"1\" class=\"dataframe\">\n",
       "  <thead>\n",
       "    <tr style=\"text-align: right;\">\n",
       "      <th></th>\n",
       "      <th>unique_id</th>\n",
       "      <th>ds</th>\n",
       "      <th>KAN</th>\n",
       "    </tr>\n",
       "  </thead>\n",
       "  <tbody>\n",
       "    <tr>\n",
       "      <th>0</th>\n",
       "      <td>G620_water_level</td>\n",
       "      <td>2024-08-27</td>\n",
       "      <td>6.066842</td>\n",
       "    </tr>\n",
       "    <tr>\n",
       "      <th>1</th>\n",
       "      <td>G620_water_level</td>\n",
       "      <td>2024-08-28</td>\n",
       "      <td>6.052400</td>\n",
       "    </tr>\n",
       "    <tr>\n",
       "      <th>2</th>\n",
       "      <td>G620_water_level</td>\n",
       "      <td>2024-08-29</td>\n",
       "      <td>6.079697</td>\n",
       "    </tr>\n",
       "    <tr>\n",
       "      <th>3</th>\n",
       "      <td>G620_water_level</td>\n",
       "      <td>2024-08-30</td>\n",
       "      <td>6.096851</td>\n",
       "    </tr>\n",
       "    <tr>\n",
       "      <th>4</th>\n",
       "      <td>G620_water_level</td>\n",
       "      <td>2024-08-31</td>\n",
       "      <td>6.145924</td>\n",
       "    </tr>\n",
       "    <tr>\n",
       "      <th>...</th>\n",
       "      <td>...</td>\n",
       "      <td>...</td>\n",
       "      <td>...</td>\n",
       "    </tr>\n",
       "    <tr>\n",
       "      <th>1031</th>\n",
       "      <td>TSH_stage</td>\n",
       "      <td>2024-09-19</td>\n",
       "      <td>2.771271</td>\n",
       "    </tr>\n",
       "    <tr>\n",
       "      <th>1032</th>\n",
       "      <td>TSH_stage</td>\n",
       "      <td>2024-09-20</td>\n",
       "      <td>2.713884</td>\n",
       "    </tr>\n",
       "    <tr>\n",
       "      <th>1033</th>\n",
       "      <td>TSH_stage</td>\n",
       "      <td>2024-09-21</td>\n",
       "      <td>2.781216</td>\n",
       "    </tr>\n",
       "    <tr>\n",
       "      <th>1034</th>\n",
       "      <td>TSH_stage</td>\n",
       "      <td>2024-09-22</td>\n",
       "      <td>2.773498</td>\n",
       "    </tr>\n",
       "    <tr>\n",
       "      <th>1035</th>\n",
       "      <td>TSH_stage</td>\n",
       "      <td>2024-09-23</td>\n",
       "      <td>2.731869</td>\n",
       "    </tr>\n",
       "  </tbody>\n",
       "</table>\n",
       "<p>1036 rows × 3 columns</p>\n",
       "</div>"
      ],
      "text/plain": [
       "             unique_id         ds       KAN\n",
       "0     G620_water_level 2024-08-27  6.066842\n",
       "1     G620_water_level 2024-08-28  6.052400\n",
       "2     G620_water_level 2024-08-29  6.079697\n",
       "3     G620_water_level 2024-08-30  6.096851\n",
       "4     G620_water_level 2024-08-31  6.145924\n",
       "...                ...        ...       ...\n",
       "1031         TSH_stage 2024-09-19  2.771271\n",
       "1032         TSH_stage 2024-09-20  2.713884\n",
       "1033         TSH_stage 2024-09-21  2.781216\n",
       "1034         TSH_stage 2024-09-22  2.773498\n",
       "1035         TSH_stage 2024-09-23  2.731869\n",
       "\n",
       "[1036 rows x 3 columns]"
      ]
     },
     "execution_count": 40,
     "metadata": {},
     "output_type": "execute_result"
    }
   ],
   "source": [
    "forecasts_KAN = forecasts_KAN.reset_index()\n",
    "forecasts_KAN"
   ]
  },
  {
   "cell_type": "code",
   "execution_count": 41,
   "id": "8e879f47",
   "metadata": {},
   "outputs": [
    {
     "name": "stdout",
     "output_type": "stream",
     "text": [
      "======== NP205_stage ========\n",
      "MAE = 0.357\n",
      "RMSE = 0.502\n",
      "\n",
      "======== P33_stage ========\n",
      "MAE = 0.165\n",
      "RMSE = 0.216\n",
      "\n",
      "======== G620_water_level ========\n",
      "MAE = 0.188\n",
      "RMSE = 0.258\n",
      "\n",
      "======== NESRS1 ========\n",
      "MAE = 0.185\n",
      "RMSE = 0.243\n",
      "\n",
      "======== NESRS2 ========\n",
      "MAE = 0.178\n",
      "RMSE = 0.240\n",
      "\n"
     ]
    }
   ],
   "source": [
    "stages = ['NP205_stage', 'P33_stage', 'G620_water_level', 'NESRS1', 'NESRS2']\n",
    "\n",
    "for stage in stages:\n",
    "    # Filter the data for the specific stage\n",
    "    stage_data = Y_hat_df_agg_KAN[Y_hat_df_agg_KAN['unique_id'] == stage]\n",
    "    print(f\"======== {stage} ========\")\n",
    "    \n",
    "    # Extract the actual and predicted values\n",
    "    true = stage_data['y'].values\n",
    "    pred = stage_data['KAN'].values\n",
    "    \n",
    "    # Calculate MAE and RMSE\n",
    "    mae_value = mae(true, pred)\n",
    "    rmse_value = np.sqrt(mse(true, pred))\n",
    "    \n",
    "    # Print the results\n",
    "    print(f'MAE = {mae_value:.3f}')\n",
    "    print(f'RMSE = {rmse_value:.3f}\\n')"
   ]
  },
  {
   "cell_type": "code",
   "execution_count": 42,
   "id": "aa029e08",
   "metadata": {},
   "outputs": [
    {
     "name": "stdout",
     "output_type": "stream",
     "text": [
      "Overall MAE for KAN(only for selected stages):\n",
      "KAN: MAE = 0.214\n",
      "\n",
      "Overall RMSE for KAN(only for selected stages):\n",
      "KAN: RMSE = 0.292\n"
     ]
    }
   ],
   "source": [
    "import numpy as np\n",
    "from sklearn.metrics import mean_absolute_error as mae, mean_squared_error as mse\n",
    "\n",
    "# List of stages to evaluate\n",
    "stages = ['NP205_stage', 'P33_stage', 'G620_water_level', 'NESRS1', 'NESRS2']\n",
    "\n",
    "# List of models (these correspond to column names in the DataFrame)\n",
    "models = ['KAN']\n",
    "\n",
    "# Dictionary to store overall MAE and RMSE for each model\n",
    "overall_mae = {model: [] for model in models}\n",
    "overall_rmse = {model: [] for model in models}\n",
    "\n",
    "# Iterate through each stage\n",
    "for stage in stages:\n",
    "    # Filter the data for the specific stage\n",
    "    stage_data = Y_hat_df_agg_KAN[Y_hat_df_agg_KAN['unique_id'] == stage]\n",
    "    \n",
    "    # Check if data for the stage exists\n",
    "    if stage_data.empty:\n",
    "        print(f\"No data found for {stage}. Skipping...\\n\")\n",
    "        continue\n",
    "    \n",
    "    # Extract the actual values\n",
    "    true = stage_data['y'].values\n",
    "    \n",
    "    # Iterate through each model\n",
    "    for model in models:\n",
    "        # Extract the predicted values for the model\n",
    "        pred = stage_data[model].values\n",
    "        \n",
    "        # Calculate MAE and RMSE, then append to the corresponding model's list\n",
    "        model_mae = mae(true, pred)\n",
    "        model_rmse = np.sqrt(mse(true, pred))\n",
    "        \n",
    "        overall_mae[model].append(model_mae)\n",
    "        overall_rmse[model].append(model_rmse)\n",
    "\n",
    "# Calculate the overall MAE and RMSE (mean of MAEs and RMSEs across the 5 stations) for each model\n",
    "final_overall_mae = {model: np.mean(maes) for model, maes in overall_mae.items()}\n",
    "final_overall_rmse = {model: np.mean(rmses) for model, rmses in overall_rmse.items()}\n",
    "\n",
    "# Print the overall MAE and RMSE for each model\n",
    "print(\"Overall MAE for KAN(only for selected stages):\")\n",
    "for model, mae_value in final_overall_mae.items():\n",
    "    print(f\"{model}: MAE = {mae_value:.3f}\")\n",
    "\n",
    "print(\"\\nOverall RMSE for KAN(only for selected stages):\")\n",
    "for model, rmse_value in final_overall_rmse.items():\n",
    "    print(f\"{model}: RMSE = {rmse_value:.3f}\")\n"
   ]
  },
  {
   "cell_type": "code",
   "execution_count": null,
   "id": "cf194481",
   "metadata": {},
   "outputs": [],
   "source": [
    "nf_KAN.save(\"Output/KAN-trained-model\")               \n",
    "Y_hat_df_agg_KAN.to_csv(\"Output/KAN_results.csv\", index=True)                   \n",
    "forecasts_KAN.to_csv(\"Output/KAN_predictions.csv\", index=True)"
   ]
  }
 ],
 "metadata": {
  "kernelspec": {
   "display_name": "Python 3 (ipykernel)",
   "language": "python",
   "name": "python3"
  },
  "language_info": {
   "codemirror_mode": {
    "name": "ipython",
    "version": 3
   },
   "file_extension": ".py",
   "mimetype": "text/x-python",
   "name": "python",
   "nbconvert_exporter": "python",
   "pygments_lexer": "ipython3",
   "version": "3.9.12"
  }
 },
 "nbformat": 4,
 "nbformat_minor": 5
}
